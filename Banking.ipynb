{
 "cells": [
  {
   "cell_type": "code",
   "execution_count": 33,
   "id": "f27b8f36",
   "metadata": {},
   "outputs": [],
   "source": [
    "import pandas as pd\n",
    "import numpy as np\n",
    "from tqdm.notebook import tqdm\n",
    "\n",
    "pd.options.display.max_columns = 40\n",
    "pd.options.display.max_rows = 85\n",
    "\n",
    "import warnings\n",
    "warnings.simplefilter(action='ignore', category=FutureWarning)"
   ]
  },
  {
   "cell_type": "code",
   "execution_count": 34,
   "id": "2c67870e",
   "metadata": {},
   "outputs": [
    {
     "data": {
      "text/html": [
       "<div>\n",
       "<style scoped>\n",
       "    .dataframe tbody tr th:only-of-type {\n",
       "        vertical-align: middle;\n",
       "    }\n",
       "\n",
       "    .dataframe tbody tr th {\n",
       "        vertical-align: top;\n",
       "    }\n",
       "\n",
       "    .dataframe thead th {\n",
       "        text-align: right;\n",
       "    }\n",
       "</style>\n",
       "<table border=\"1\" class=\"dataframe\">\n",
       "  <thead>\n",
       "    <tr style=\"text-align: right;\">\n",
       "      <th></th>\n",
       "      <th>ID</th>\n",
       "      <th>Age</th>\n",
       "      <th>Ind_Household</th>\n",
       "      <th>Age_group</th>\n",
       "      <th>District</th>\n",
       "      <th>Region</th>\n",
       "      <th>Lifetime</th>\n",
       "      <th>Income</th>\n",
       "      <th>Segment</th>\n",
       "      <th>Ind_deposit</th>\n",
       "      <th>Ind_email</th>\n",
       "      <th>Ind_phone</th>\n",
       "      <th>Ind_salary</th>\n",
       "      <th>trans_6_month</th>\n",
       "      <th>trans_9_month</th>\n",
       "      <th>trans_12_month</th>\n",
       "      <th>amont_trans</th>\n",
       "      <th>amont_day_from</th>\n",
       "      <th>trans_3_month</th>\n",
       "      <th>Gender</th>\n",
       "      <th>Target1</th>\n",
       "      <th>Target2</th>\n",
       "    </tr>\n",
       "  </thead>\n",
       "  <tbody>\n",
       "    <tr>\n",
       "      <th>0</th>\n",
       "      <td>1200000001</td>\n",
       "      <td>51.0</td>\n",
       "      <td>No</td>\n",
       "      <td>middle</td>\n",
       "      <td>02</td>\n",
       "      <td>Midlands</td>\n",
       "      <td>3.0</td>\n",
       "      <td>53</td>\n",
       "      <td>Platinum</td>\n",
       "      <td>No</td>\n",
       "      <td>Yes</td>\n",
       "      <td>Yes</td>\n",
       "      <td>No</td>\n",
       "      <td>2026.27</td>\n",
       "      <td>2964.23</td>\n",
       "      <td>4140.91</td>\n",
       "      <td>3</td>\n",
       "      <td>21</td>\n",
       "      <td>910.02</td>\n",
       "      <td>F</td>\n",
       "      <td>No</td>\n",
       "      <td>No</td>\n",
       "    </tr>\n",
       "    <tr>\n",
       "      <th>1</th>\n",
       "      <td>1200000002</td>\n",
       "      <td>47.0</td>\n",
       "      <td>No</td>\n",
       "      <td>middle</td>\n",
       "      <td>34</td>\n",
       "      <td>Midlands</td>\n",
       "      <td>2.0</td>\n",
       "      <td>51</td>\n",
       "      <td>Gold</td>\n",
       "      <td>No</td>\n",
       "      <td>Yes</td>\n",
       "      <td>Yes</td>\n",
       "      <td>No</td>\n",
       "      <td>2033.14</td>\n",
       "      <td>2969.30</td>\n",
       "      <td>4202.63</td>\n",
       "      <td>5</td>\n",
       "      <td>14</td>\n",
       "      <td>977.80</td>\n",
       "      <td>U</td>\n",
       "      <td>No</td>\n",
       "      <td>No</td>\n",
       "    </tr>\n",
       "    <tr>\n",
       "      <th>2</th>\n",
       "      <td>1200000003</td>\n",
       "      <td>45.0</td>\n",
       "      <td>No</td>\n",
       "      <td>middle</td>\n",
       "      <td>17</td>\n",
       "      <td>North</td>\n",
       "      <td>6.0</td>\n",
       "      <td>50</td>\n",
       "      <td>Silver</td>\n",
       "      <td>No</td>\n",
       "      <td>Yes</td>\n",
       "      <td>Yes</td>\n",
       "      <td>No</td>\n",
       "      <td>2085.68</td>\n",
       "      <td>3080.13</td>\n",
       "      <td>4277.45</td>\n",
       "      <td>11</td>\n",
       "      <td>16</td>\n",
       "      <td>1001.54</td>\n",
       "      <td>M</td>\n",
       "      <td>No</td>\n",
       "      <td>No</td>\n",
       "    </tr>\n",
       "    <tr>\n",
       "      <th>3</th>\n",
       "      <td>1200000004</td>\n",
       "      <td>78.0</td>\n",
       "      <td>No</td>\n",
       "      <td>senior</td>\n",
       "      <td>49</td>\n",
       "      <td>Midlands</td>\n",
       "      <td>12.0</td>\n",
       "      <td>52</td>\n",
       "      <td>Platinum</td>\n",
       "      <td>Yes</td>\n",
       "      <td>Yes</td>\n",
       "      <td>Yes</td>\n",
       "      <td>No</td>\n",
       "      <td>2026.58</td>\n",
       "      <td>3001.34</td>\n",
       "      <td>4105.54</td>\n",
       "      <td>3</td>\n",
       "      <td>15</td>\n",
       "      <td>980.78</td>\n",
       "      <td>F</td>\n",
       "      <td>No</td>\n",
       "      <td>No</td>\n",
       "    </tr>\n",
       "    <tr>\n",
       "      <th>4</th>\n",
       "      <td>1200000005</td>\n",
       "      <td>57.0</td>\n",
       "      <td>No</td>\n",
       "      <td>middle</td>\n",
       "      <td>19</td>\n",
       "      <td>South East</td>\n",
       "      <td>8.0</td>\n",
       "      <td>52</td>\n",
       "      <td>Silver</td>\n",
       "      <td>Yes</td>\n",
       "      <td>Yes</td>\n",
       "      <td>Yes</td>\n",
       "      <td>No</td>\n",
       "      <td>2142.23</td>\n",
       "      <td>3188.19</td>\n",
       "      <td>4401.98</td>\n",
       "      <td>2</td>\n",
       "      <td>26</td>\n",
       "      <td>1003.68</td>\n",
       "      <td>F</td>\n",
       "      <td>Yes</td>\n",
       "      <td>No</td>\n",
       "    </tr>\n",
       "    <tr>\n",
       "      <th>...</th>\n",
       "      <td>...</td>\n",
       "      <td>...</td>\n",
       "      <td>...</td>\n",
       "      <td>...</td>\n",
       "      <td>...</td>\n",
       "      <td>...</td>\n",
       "      <td>...</td>\n",
       "      <td>...</td>\n",
       "      <td>...</td>\n",
       "      <td>...</td>\n",
       "      <td>...</td>\n",
       "      <td>...</td>\n",
       "      <td>...</td>\n",
       "      <td>...</td>\n",
       "      <td>...</td>\n",
       "      <td>...</td>\n",
       "      <td>...</td>\n",
       "      <td>...</td>\n",
       "      <td>...</td>\n",
       "      <td>...</td>\n",
       "      <td>...</td>\n",
       "      <td>...</td>\n",
       "    </tr>\n",
       "    <tr>\n",
       "      <th>985472</th>\n",
       "      <td>1201048571</td>\n",
       "      <td>NaN</td>\n",
       "      <td>No</td>\n",
       "      <td>unknown</td>\n",
       "      <td>12</td>\n",
       "      <td>South East</td>\n",
       "      <td>6.0</td>\n",
       "      <td>42</td>\n",
       "      <td>Silver</td>\n",
       "      <td>Yes</td>\n",
       "      <td>Yes</td>\n",
       "      <td>Yes</td>\n",
       "      <td>No</td>\n",
       "      <td>2139.03</td>\n",
       "      <td>3155.41</td>\n",
       "      <td>4291.97</td>\n",
       "      <td>10</td>\n",
       "      <td>14</td>\n",
       "      <td>989.90</td>\n",
       "      <td>F</td>\n",
       "      <td>No</td>\n",
       "      <td>No</td>\n",
       "    </tr>\n",
       "    <tr>\n",
       "      <th>985473</th>\n",
       "      <td>1201048572</td>\n",
       "      <td>63.0</td>\n",
       "      <td>No</td>\n",
       "      <td>senior</td>\n",
       "      <td>33</td>\n",
       "      <td>South East</td>\n",
       "      <td>9.0</td>\n",
       "      <td>51</td>\n",
       "      <td>Tin</td>\n",
       "      <td>No</td>\n",
       "      <td>Yes</td>\n",
       "      <td>Yes</td>\n",
       "      <td>No</td>\n",
       "      <td>1916.91</td>\n",
       "      <td>3000.02</td>\n",
       "      <td>4045.15</td>\n",
       "      <td>11</td>\n",
       "      <td>30</td>\n",
       "      <td>884.63</td>\n",
       "      <td>F</td>\n",
       "      <td>No</td>\n",
       "      <td>No</td>\n",
       "    </tr>\n",
       "    <tr>\n",
       "      <th>985474</th>\n",
       "      <td>1201048573</td>\n",
       "      <td>68.0</td>\n",
       "      <td>No</td>\n",
       "      <td>senior</td>\n",
       "      <td>51</td>\n",
       "      <td>North</td>\n",
       "      <td>3.0</td>\n",
       "      <td>56</td>\n",
       "      <td>Gold</td>\n",
       "      <td>Yes</td>\n",
       "      <td>Yes</td>\n",
       "      <td>Yes</td>\n",
       "      <td>No</td>\n",
       "      <td>2053.00</td>\n",
       "      <td>3112.87</td>\n",
       "      <td>4292.20</td>\n",
       "      <td>8</td>\n",
       "      <td>16</td>\n",
       "      <td>922.66</td>\n",
       "      <td>M</td>\n",
       "      <td>No</td>\n",
       "      <td>No</td>\n",
       "    </tr>\n",
       "    <tr>\n",
       "      <th>985475</th>\n",
       "      <td>1201048574</td>\n",
       "      <td>45.0</td>\n",
       "      <td>No</td>\n",
       "      <td>middle</td>\n",
       "      <td>45</td>\n",
       "      <td>Midlands</td>\n",
       "      <td>1.0</td>\n",
       "      <td>54</td>\n",
       "      <td>Gold</td>\n",
       "      <td>Yes</td>\n",
       "      <td>Yes</td>\n",
       "      <td>Yes</td>\n",
       "      <td>No</td>\n",
       "      <td>2082.85</td>\n",
       "      <td>3143.77</td>\n",
       "      <td>4207.48</td>\n",
       "      <td>8</td>\n",
       "      <td>15</td>\n",
       "      <td>951.42</td>\n",
       "      <td>M</td>\n",
       "      <td>No</td>\n",
       "      <td>No</td>\n",
       "    </tr>\n",
       "    <tr>\n",
       "      <th>985476</th>\n",
       "      <td>1201048575</td>\n",
       "      <td>71.0</td>\n",
       "      <td>Yes</td>\n",
       "      <td>senior</td>\n",
       "      <td>07</td>\n",
       "      <td>South East</td>\n",
       "      <td>8.0</td>\n",
       "      <td>41</td>\n",
       "      <td>Silver</td>\n",
       "      <td>Yes</td>\n",
       "      <td>Yes</td>\n",
       "      <td>Yes</td>\n",
       "      <td>No</td>\n",
       "      <td>2139.16</td>\n",
       "      <td>3211.02</td>\n",
       "      <td>4391.40</td>\n",
       "      <td>10</td>\n",
       "      <td>15</td>\n",
       "      <td>1046.10</td>\n",
       "      <td>M</td>\n",
       "      <td>No</td>\n",
       "      <td>No</td>\n",
       "    </tr>\n",
       "  </tbody>\n",
       "</table>\n",
       "<p>985477 rows × 22 columns</p>\n",
       "</div>"
      ],
      "text/plain": [
       "                ID   Age Ind_Household Age_group District      Region  \\\n",
       "0       1200000001  51.0            No    middle       02    Midlands   \n",
       "1       1200000002  47.0            No    middle       34    Midlands   \n",
       "2       1200000003  45.0            No    middle       17       North   \n",
       "3       1200000004  78.0            No    senior       49    Midlands   \n",
       "4       1200000005  57.0            No    middle       19  South East   \n",
       "...            ...   ...           ...       ...      ...         ...   \n",
       "985472  1201048571   NaN            No   unknown       12  South East   \n",
       "985473  1201048572  63.0            No    senior       33  South East   \n",
       "985474  1201048573  68.0            No    senior       51       North   \n",
       "985475  1201048574  45.0            No    middle       45    Midlands   \n",
       "985476  1201048575  71.0           Yes    senior       07  South East   \n",
       "\n",
       "        Lifetime  Income   Segment Ind_deposit Ind_email Ind_phone Ind_salary  \\\n",
       "0            3.0      53  Platinum          No       Yes       Yes         No   \n",
       "1            2.0      51      Gold          No       Yes       Yes         No   \n",
       "2            6.0      50    Silver          No       Yes       Yes         No   \n",
       "3           12.0      52  Platinum         Yes       Yes       Yes         No   \n",
       "4            8.0      52    Silver         Yes       Yes       Yes         No   \n",
       "...          ...     ...       ...         ...       ...       ...        ...   \n",
       "985472       6.0      42    Silver         Yes       Yes       Yes         No   \n",
       "985473       9.0      51       Tin          No       Yes       Yes         No   \n",
       "985474       3.0      56      Gold         Yes       Yes       Yes         No   \n",
       "985475       1.0      54      Gold         Yes       Yes       Yes         No   \n",
       "985476       8.0      41    Silver         Yes       Yes       Yes         No   \n",
       "\n",
       "        trans_6_month  trans_9_month  trans_12_month  amont_trans  \\\n",
       "0             2026.27        2964.23         4140.91            3   \n",
       "1             2033.14        2969.30         4202.63            5   \n",
       "2             2085.68        3080.13         4277.45           11   \n",
       "3             2026.58        3001.34         4105.54            3   \n",
       "4             2142.23        3188.19         4401.98            2   \n",
       "...               ...            ...             ...          ...   \n",
       "985472        2139.03        3155.41         4291.97           10   \n",
       "985473        1916.91        3000.02         4045.15           11   \n",
       "985474        2053.00        3112.87         4292.20            8   \n",
       "985475        2082.85        3143.77         4207.48            8   \n",
       "985476        2139.16        3211.02         4391.40           10   \n",
       "\n",
       "        amont_day_from  trans_3_month Gender Target1 Target2  \n",
       "0                   21         910.02      F      No      No  \n",
       "1                   14         977.80      U      No      No  \n",
       "2                   16        1001.54      M      No      No  \n",
       "3                   15         980.78      F      No      No  \n",
       "4                   26        1003.68      F     Yes      No  \n",
       "...                ...            ...    ...     ...     ...  \n",
       "985472              14         989.90      F      No      No  \n",
       "985473              30         884.63      F      No      No  \n",
       "985474              16         922.66      M      No      No  \n",
       "985475              15         951.42      M      No      No  \n",
       "985476              15        1046.10      M      No      No  \n",
       "\n",
       "[985477 rows x 22 columns]"
      ]
     },
     "execution_count": 34,
     "metadata": {},
     "output_type": "execute_result"
    }
   ],
   "source": [
    "df_train = pd.read_csv('WORK_bank_data_train.csv', sep=';')\n",
    "df_train"
   ]
  },
  {
   "cell_type": "code",
   "execution_count": 35,
   "id": "0d760050",
   "metadata": {},
   "outputs": [
    {
     "data": {
      "text/html": [
       "<div>\n",
       "<style scoped>\n",
       "    .dataframe tbody tr th:only-of-type {\n",
       "        vertical-align: middle;\n",
       "    }\n",
       "\n",
       "    .dataframe tbody tr th {\n",
       "        vertical-align: top;\n",
       "    }\n",
       "\n",
       "    .dataframe thead th {\n",
       "        text-align: right;\n",
       "    }\n",
       "</style>\n",
       "<table border=\"1\" class=\"dataframe\">\n",
       "  <thead>\n",
       "    <tr style=\"text-align: right;\">\n",
       "      <th></th>\n",
       "      <th>ID</th>\n",
       "      <th>Age</th>\n",
       "      <th>Ind_House_hold</th>\n",
       "      <th>Age_group</th>\n",
       "      <th>District</th>\n",
       "      <th>Region</th>\n",
       "      <th>Lifetime</th>\n",
       "      <th>Income</th>\n",
       "      <th>Segment</th>\n",
       "      <th>Ind_deposit</th>\n",
       "      <th>Ind_salary</th>\n",
       "      <th>trans_6_month</th>\n",
       "      <th>trans_9_month</th>\n",
       "      <th>trans_12_month</th>\n",
       "      <th>amont_trans</th>\n",
       "      <th>amont_day_from</th>\n",
       "      <th>trans_3_month</th>\n",
       "      <th>Gender</th>\n",
       "    </tr>\n",
       "  </thead>\n",
       "  <tbody>\n",
       "    <tr>\n",
       "      <th>0</th>\n",
       "      <td>1200000027</td>\n",
       "      <td>50.0</td>\n",
       "      <td>No</td>\n",
       "      <td>middle</td>\n",
       "      <td>22</td>\n",
       "      <td>South East</td>\n",
       "      <td>5.0</td>\n",
       "      <td>47</td>\n",
       "      <td>Tin</td>\n",
       "      <td>Yes</td>\n",
       "      <td>No</td>\n",
       "      <td>2062.32</td>\n",
       "      <td>2978.92</td>\n",
       "      <td>4054.13</td>\n",
       "      <td>7</td>\n",
       "      <td>17</td>\n",
       "      <td>950.45</td>\n",
       "      <td>M</td>\n",
       "    </tr>\n",
       "    <tr>\n",
       "      <th>1</th>\n",
       "      <td>1200000040</td>\n",
       "      <td>34.0</td>\n",
       "      <td>No</td>\n",
       "      <td>middle</td>\n",
       "      <td>47</td>\n",
       "      <td>South East</td>\n",
       "      <td>5.0</td>\n",
       "      <td>54</td>\n",
       "      <td>Tin</td>\n",
       "      <td>No</td>\n",
       "      <td>No</td>\n",
       "      <td>2000.73</td>\n",
       "      <td>3111.23</td>\n",
       "      <td>4265.02</td>\n",
       "      <td>5</td>\n",
       "      <td>17</td>\n",
       "      <td>982.29</td>\n",
       "      <td>F</td>\n",
       "    </tr>\n",
       "    <tr>\n",
       "      <th>2</th>\n",
       "      <td>1200000041</td>\n",
       "      <td>NaN</td>\n",
       "      <td>Yes</td>\n",
       "      <td>unknown</td>\n",
       "      <td>14</td>\n",
       "      <td>South East</td>\n",
       "      <td>28.0</td>\n",
       "      <td>52</td>\n",
       "      <td>Gold</td>\n",
       "      <td>Yes</td>\n",
       "      <td>No</td>\n",
       "      <td>1991.05</td>\n",
       "      <td>2990.26</td>\n",
       "      <td>4193.14</td>\n",
       "      <td>9</td>\n",
       "      <td>33</td>\n",
       "      <td>909.27</td>\n",
       "      <td>F</td>\n",
       "    </tr>\n",
       "    <tr>\n",
       "      <th>3</th>\n",
       "      <td>1200000071</td>\n",
       "      <td>61.0</td>\n",
       "      <td>No</td>\n",
       "      <td>senior</td>\n",
       "      <td>23</td>\n",
       "      <td>Midlands</td>\n",
       "      <td>3.0</td>\n",
       "      <td>54</td>\n",
       "      <td>Silver</td>\n",
       "      <td>Yes</td>\n",
       "      <td>No</td>\n",
       "      <td>2094.12</td>\n",
       "      <td>3089.97</td>\n",
       "      <td>4167.11</td>\n",
       "      <td>5</td>\n",
       "      <td>17</td>\n",
       "      <td>933.91</td>\n",
       "      <td>F</td>\n",
       "    </tr>\n",
       "    <tr>\n",
       "      <th>4</th>\n",
       "      <td>1200000080</td>\n",
       "      <td>44.0</td>\n",
       "      <td>No</td>\n",
       "      <td>middle</td>\n",
       "      <td>51</td>\n",
       "      <td>North</td>\n",
       "      <td>8.0</td>\n",
       "      <td>43</td>\n",
       "      <td>Silver</td>\n",
       "      <td>Yes</td>\n",
       "      <td>No</td>\n",
       "      <td>2034.41</td>\n",
       "      <td>2972.27</td>\n",
       "      <td>4165.87</td>\n",
       "      <td>5</td>\n",
       "      <td>17</td>\n",
       "      <td>917.13</td>\n",
       "      <td>F</td>\n",
       "    </tr>\n",
       "    <tr>\n",
       "      <th>...</th>\n",
       "      <td>...</td>\n",
       "      <td>...</td>\n",
       "      <td>...</td>\n",
       "      <td>...</td>\n",
       "      <td>...</td>\n",
       "      <td>...</td>\n",
       "      <td>...</td>\n",
       "      <td>...</td>\n",
       "      <td>...</td>\n",
       "      <td>...</td>\n",
       "      <td>...</td>\n",
       "      <td>...</td>\n",
       "      <td>...</td>\n",
       "      <td>...</td>\n",
       "      <td>...</td>\n",
       "      <td>...</td>\n",
       "      <td>...</td>\n",
       "      <td>...</td>\n",
       "    </tr>\n",
       "    <tr>\n",
       "      <th>63093</th>\n",
       "      <td>1201048525</td>\n",
       "      <td>67.0</td>\n",
       "      <td>Yes</td>\n",
       "      <td>senior</td>\n",
       "      <td>45</td>\n",
       "      <td>Midlands</td>\n",
       "      <td>1.0</td>\n",
       "      <td>48</td>\n",
       "      <td>Silver</td>\n",
       "      <td>Yes</td>\n",
       "      <td>No</td>\n",
       "      <td>2037.32</td>\n",
       "      <td>3084.48</td>\n",
       "      <td>4236.37</td>\n",
       "      <td>12</td>\n",
       "      <td>33</td>\n",
       "      <td>904.46</td>\n",
       "      <td>M</td>\n",
       "    </tr>\n",
       "    <tr>\n",
       "      <th>63094</th>\n",
       "      <td>1201048529</td>\n",
       "      <td>75.0</td>\n",
       "      <td>No</td>\n",
       "      <td>senior</td>\n",
       "      <td>14</td>\n",
       "      <td>Midlands</td>\n",
       "      <td>9.0</td>\n",
       "      <td>46</td>\n",
       "      <td>Tin</td>\n",
       "      <td>Yes</td>\n",
       "      <td>No</td>\n",
       "      <td>2048.42</td>\n",
       "      <td>3072.78</td>\n",
       "      <td>4203.52</td>\n",
       "      <td>7</td>\n",
       "      <td>17</td>\n",
       "      <td>1026.79</td>\n",
       "      <td>F</td>\n",
       "    </tr>\n",
       "    <tr>\n",
       "      <th>63095</th>\n",
       "      <td>1201048544</td>\n",
       "      <td>54.0</td>\n",
       "      <td>No</td>\n",
       "      <td>middle</td>\n",
       "      <td>04</td>\n",
       "      <td>Midlands</td>\n",
       "      <td>2.0</td>\n",
       "      <td>53</td>\n",
       "      <td>Gold</td>\n",
       "      <td>Yes</td>\n",
       "      <td>No</td>\n",
       "      <td>2120.81</td>\n",
       "      <td>3167.97</td>\n",
       "      <td>4343.64</td>\n",
       "      <td>16</td>\n",
       "      <td>17</td>\n",
       "      <td>1017.48</td>\n",
       "      <td>U</td>\n",
       "    </tr>\n",
       "    <tr>\n",
       "      <th>63096</th>\n",
       "      <td>1201048557</td>\n",
       "      <td>41.0</td>\n",
       "      <td>Yes</td>\n",
       "      <td>middle</td>\n",
       "      <td>27</td>\n",
       "      <td>South West</td>\n",
       "      <td>13.0</td>\n",
       "      <td>44</td>\n",
       "      <td>Tin</td>\n",
       "      <td>Yes</td>\n",
       "      <td>No</td>\n",
       "      <td>2133.01</td>\n",
       "      <td>3201.82</td>\n",
       "      <td>4284.59</td>\n",
       "      <td>12</td>\n",
       "      <td>17</td>\n",
       "      <td>979.36</td>\n",
       "      <td>F</td>\n",
       "    </tr>\n",
       "    <tr>\n",
       "      <th>63097</th>\n",
       "      <td>1201048563</td>\n",
       "      <td>27.0</td>\n",
       "      <td>No</td>\n",
       "      <td>young</td>\n",
       "      <td>52</td>\n",
       "      <td>Midlands</td>\n",
       "      <td>5.0</td>\n",
       "      <td>45</td>\n",
       "      <td>Tin</td>\n",
       "      <td>Yes</td>\n",
       "      <td>No</td>\n",
       "      <td>2081.36</td>\n",
       "      <td>3043.83</td>\n",
       "      <td>4211.46</td>\n",
       "      <td>5</td>\n",
       "      <td>17</td>\n",
       "      <td>965.48</td>\n",
       "      <td>M</td>\n",
       "    </tr>\n",
       "  </tbody>\n",
       "</table>\n",
       "<p>63098 rows × 18 columns</p>\n",
       "</div>"
      ],
      "text/plain": [
       "               ID   Age Ind_House_hold Age_group District      Region  \\\n",
       "0      1200000027  50.0             No    middle       22  South East   \n",
       "1      1200000040  34.0             No    middle       47  South East   \n",
       "2      1200000041   NaN            Yes   unknown       14  South East   \n",
       "3      1200000071  61.0             No    senior       23    Midlands   \n",
       "4      1200000080  44.0             No    middle       51       North   \n",
       "...           ...   ...            ...       ...      ...         ...   \n",
       "63093  1201048525  67.0            Yes    senior       45    Midlands   \n",
       "63094  1201048529  75.0             No    senior       14    Midlands   \n",
       "63095  1201048544  54.0             No    middle       04    Midlands   \n",
       "63096  1201048557  41.0            Yes    middle       27  South West   \n",
       "63097  1201048563  27.0             No     young       52    Midlands   \n",
       "\n",
       "       Lifetime  Income Segment Ind_deposit Ind_salary  trans_6_month  \\\n",
       "0           5.0      47     Tin         Yes         No        2062.32   \n",
       "1           5.0      54     Tin          No         No        2000.73   \n",
       "2          28.0      52    Gold         Yes         No        1991.05   \n",
       "3           3.0      54  Silver         Yes         No        2094.12   \n",
       "4           8.0      43  Silver         Yes         No        2034.41   \n",
       "...         ...     ...     ...         ...        ...            ...   \n",
       "63093       1.0      48  Silver         Yes         No        2037.32   \n",
       "63094       9.0      46     Tin         Yes         No        2048.42   \n",
       "63095       2.0      53    Gold         Yes         No        2120.81   \n",
       "63096      13.0      44     Tin         Yes         No        2133.01   \n",
       "63097       5.0      45     Tin         Yes         No        2081.36   \n",
       "\n",
       "       trans_9_month  trans_12_month  amont_trans  amont_day_from  \\\n",
       "0            2978.92         4054.13            7              17   \n",
       "1            3111.23         4265.02            5              17   \n",
       "2            2990.26         4193.14            9              33   \n",
       "3            3089.97         4167.11            5              17   \n",
       "4            2972.27         4165.87            5              17   \n",
       "...              ...             ...          ...             ...   \n",
       "63093        3084.48         4236.37           12              33   \n",
       "63094        3072.78         4203.52            7              17   \n",
       "63095        3167.97         4343.64           16              17   \n",
       "63096        3201.82         4284.59           12              17   \n",
       "63097        3043.83         4211.46            5              17   \n",
       "\n",
       "       trans_3_month Gender  \n",
       "0             950.45      M  \n",
       "1             982.29      F  \n",
       "2             909.27      F  \n",
       "3             933.91      F  \n",
       "4             917.13      F  \n",
       "...              ...    ...  \n",
       "63093         904.46      M  \n",
       "63094        1026.79      F  \n",
       "63095        1017.48      U  \n",
       "63096         979.36      F  \n",
       "63097         965.48      M  \n",
       "\n",
       "[63098 rows x 18 columns]"
      ]
     },
     "execution_count": 35,
     "metadata": {},
     "output_type": "execute_result"
    }
   ],
   "source": [
    "df_test = pd.read_csv('WORK_WORK_BANK_DATA_test_sample.csv', sep=';')\n",
    "df_test"
   ]
  },
  {
   "cell_type": "code",
   "execution_count": 36,
   "id": "5f7ad750",
   "metadata": {},
   "outputs": [],
   "source": [
    "columns = df_train.columns\n",
    "columns_no_id = columns[1:]"
   ]
  },
  {
   "cell_type": "code",
   "execution_count": 37,
   "id": "1913dc81",
   "metadata": {},
   "outputs": [
    {
     "name": "stdout",
     "output_type": "stream",
     "text": [
      "Index(['ID', 'Age', 'Ind_Household', 'Age_group', 'District', 'Region',\n",
      "       'Lifetime', 'Income', 'Segment', 'Ind_deposit', 'Ind_email',\n",
      "       'Ind_phone', 'Ind_salary', 'trans_6_month', 'trans_9_month',\n",
      "       'trans_12_month', 'amont_trans', 'amont_day_from', 'trans_3_month',\n",
      "       'Gender', 'Target1', 'Target2'],\n",
      "      dtype='object')\n"
     ]
    }
   ],
   "source": [
    "print(columns)"
   ]
  },
  {
   "cell_type": "code",
   "execution_count": 38,
   "id": "dab65a4c",
   "metadata": {},
   "outputs": [
    {
     "name": "stdout",
     "output_type": "stream",
     "text": [
      "count    918519.000000\n",
      "mean         53.792106\n",
      "std          13.196993\n",
      "min          18.000000\n",
      "25%          44.000000\n",
      "50%          54.000000\n",
      "75%          64.000000\n",
      "max          79.000000\n",
      "Name: Age, dtype: float64\n",
      "count     985477\n",
      "unique         2\n",
      "top           No\n",
      "freq      640250\n",
      "Name: Ind_Household, dtype: object\n",
      "count     985477\n",
      "unique         4\n",
      "top       middle\n",
      "freq      578936\n",
      "Name: Age_group, dtype: object\n",
      "count     985477\n",
      "unique        56\n",
      "top           52\n",
      "freq       53206\n",
      "Name: District, dtype: object\n",
      "count         985477\n",
      "unique             6\n",
      "top       South East\n",
      "freq          382905\n",
      "Name: Region, dtype: object\n",
      "count    972869.000000\n",
      "mean          6.562314\n",
      "std           4.655215\n",
      "min           0.000000\n",
      "25%           4.000000\n",
      "50%           5.000000\n",
      "75%           8.000000\n",
      "max          39.000000\n",
      "Name: Lifetime, dtype: float64\n",
      "count    985477.000000\n",
      "mean         50.356128\n",
      "std           5.440736\n",
      "min          25.000000\n",
      "25%          47.000000\n",
      "50%          50.000000\n",
      "75%          54.000000\n",
      "max          75.000000\n",
      "Name: Income, dtype: float64\n",
      "count     985477\n",
      "unique         4\n",
      "top       Silver\n",
      "freq      379739\n",
      "Name: Segment, dtype: object\n",
      "count     985477\n",
      "unique         2\n",
      "top          Yes\n",
      "freq      797999\n",
      "Name: Ind_deposit, dtype: object\n",
      "count     985477\n",
      "unique         2\n",
      "top          Yes\n",
      "freq      965956\n",
      "Name: Ind_email, dtype: object\n",
      "count     985477\n",
      "unique         2\n",
      "top          Yes\n",
      "freq      961490\n",
      "Name: Ind_phone, dtype: object\n",
      "count     985477\n",
      "unique         2\n",
      "top           No\n",
      "freq      916207\n",
      "Name: Ind_salary, dtype: object\n",
      "count    985477.000000\n",
      "mean       2049.942713\n",
      "std          70.712709\n",
      "min        1668.770000\n",
      "25%        2002.260000\n",
      "50%        2050.020000\n",
      "75%        2097.610000\n",
      "max        2370.870000\n",
      "Name: trans_6_month, dtype: float64\n",
      "count    985477.000000\n",
      "mean       3069.964536\n",
      "std          86.610431\n",
      "min        2624.090000\n",
      "25%        3011.540000\n",
      "50%        3069.910000\n",
      "75%        3128.470000\n",
      "max        3468.300000\n",
      "Name: trans_9_month, dtype: float64\n",
      "count    985477.000000\n",
      "mean       4189.979401\n",
      "std         100.020678\n",
      "min        3698.920000\n",
      "25%        4122.480000\n",
      "50%        4190.000000\n",
      "75%        4257.490000\n",
      "max        4684.880000\n",
      "Name: trans_12_month, dtype: float64\n",
      "count    985477.000000\n",
      "mean          7.240207\n",
      "std           3.034947\n",
      "min           1.000000\n",
      "25%           5.000000\n",
      "50%           7.000000\n",
      "75%           9.000000\n",
      "max          49.000000\n",
      "Name: amont_trans, dtype: float64\n",
      "count    985477.000000\n",
      "mean         19.741893\n",
      "std           7.014321\n",
      "min          10.000000\n",
      "25%          15.000000\n",
      "50%          16.000000\n",
      "75%          25.000000\n",
      "max          42.000000\n",
      "Name: amont_day_from, dtype: float64\n",
      "count    985477.000000\n",
      "mean        952.514236\n",
      "std          48.247139\n",
      "min         716.490000\n",
      "25%         920.520000\n",
      "50%         952.020000\n",
      "75%         984.530000\n",
      "max        1174.030000\n",
      "Name: trans_3_month, dtype: float64\n",
      "count     985477\n",
      "unique         3\n",
      "top            F\n",
      "freq      538741\n",
      "Name: Gender, dtype: object\n",
      "count     985477\n",
      "unique         2\n",
      "top           No\n",
      "freq      741971\n",
      "Name: Target1, dtype: object\n",
      "count     985477\n",
      "unique         2\n",
      "top           No\n",
      "freq      901093\n",
      "Name: Target2, dtype: object\n"
     ]
    }
   ],
   "source": [
    "for col in columns_no_id:\n",
    "    print(df_train[col].describe())"
   ]
  },
  {
   "cell_type": "code",
   "execution_count": 22,
   "id": "da52bc75",
   "metadata": {},
   "outputs": [
    {
     "name": "stdout",
     "output_type": "stream",
     "text": [
      "Age: [51.         47.         45.         78.         57.         33.\n",
      " 60.         59.         40.         65.         54.         58.\n",
      " 66.         36.         46.         31.         64.         34.\n",
      " 56.         49.         75.         39.         68.         69.\n",
      " 55.         53.79210555 62.         42.         50.         38.\n",
      " 72.         48.         25.         52.         37.         76.\n",
      " 61.         67.         43.         63.         79.         53.\n",
      " 20.         73.         71.         70.         41.         35.\n",
      " 74.         77.         28.         32.         44.         22.\n",
      " 27.         24.         29.         30.         26.         23.\n",
      " 18.         19.         21.        ]\n",
      "Ind_Household: [0 1]\n",
      "Lifetime: [ 3.          2.          6.         12.          8.          4.\n",
      "  5.          7.          9.         15.         10.         11.\n",
      " 18.          1.          0.          6.56231415 16.         13.\n",
      " 19.         36.         30.         26.         17.         31.\n",
      " 27.         14.         29.         21.         28.         20.\n",
      " 25.         38.         32.         22.         23.         24.\n",
      " 33.         35.         39.         34.        ]\n",
      "Income: [53 51 50 52 46 56 62 37 59 48 47 42 49 55 36 44 54 45 43 60 57 40 58 63\n",
      " 61 64 41 39 74 38 35 73 65 71 68 70 67 75 66 69 72 34 33 31 32 29 28 27\n",
      " 30 26 25]\n",
      "Ind_deposit: [0 1]\n",
      "Ind_salary: [0 1]\n",
      "trans_6_month: [2026.27 2033.14 2085.68 ... 1825.09 2265.97 1875.17]\n",
      "trans_9_month: [2964.23 2969.3  3080.13 ... 3250.3  2841.32 3345.69]\n",
      "trans_12_month: [4140.91 4202.63 4277.45 ... 4523.59 3906.63 3998.98]\n",
      "amont_trans: [ 3  5 11  2  7 10  6  9  8 24  4 12 13 15 14 19 16 18 20 17 22 26 21 25\n",
      "  1 23 31 28 35 32 27 39 49 33 29 30 37 34 41 44 36 42 40 38]\n",
      "amont_day_from: [21 14 16 15 26 30 18 32 25 28 27 23 20 24 31 19 34 13 22 35 37 38 36 29\n",
      " 39 12 11 40 41 42 10]\n",
      "trans_3_month: [ 910.02        977.8        1001.54       ...  938.13689653  881.3722809\n",
      "  914.27685518]\n",
      "Target1: [0 1]\n",
      "Target2: [0 1]\n",
      "Segment_Gold: [0 1]\n",
      "Segment_Platinum: [1 0]\n",
      "Segment_Silver: [0 1]\n",
      "Segment_Tin: [0 1]\n",
      "Region_Midlands: [1 0]\n",
      "Region_North: [0 1]\n",
      "Region_Scottish: [0 1]\n",
      "Region_South East: [0 1]\n",
      "Region_South West: [0 1]\n",
      "Region_Unknown: [0 1]\n",
      "District_01: [0 1]\n",
      "District_02: [1 0]\n",
      "District_03: [0 1]\n",
      "District_04: [0 1]\n",
      "District_05: [0 1]\n",
      "District_06: [0 1]\n",
      "District_07: [0 1]\n",
      "District_08: [0 1]\n",
      "District_09: [0 1]\n",
      "District_10: [0 1]\n",
      "District_11: [0 1]\n",
      "District_12: [0 1]\n",
      "District_13: [0 1]\n",
      "District_14: [0 1]\n",
      "District_15: [0 1]\n",
      "District_16: [0 1]\n",
      "District_17: [0 1]\n",
      "District_18: [0 1]\n",
      "District_19: [0 1]\n",
      "District_20: [0 1]\n",
      "District_21: [0 1]\n",
      "District_22: [0 1]\n",
      "District_23: [0 1]\n",
      "District_24: [0 1]\n",
      "District_25: [0 1]\n",
      "District_26: [0 1]\n",
      "District_27: [0 1]\n",
      "District_28: [0 1]\n",
      "District_29: [0 1]\n",
      "District_30: [0 1]\n",
      "District_31: [0 1]\n",
      "District_32: [0 1]\n",
      "District_33: [0 1]\n",
      "District_34: [0 1]\n",
      "District_35: [0 1]\n",
      "District_36: [0 1]\n",
      "District_37: [0 1]\n",
      "District_38: [0 1]\n",
      "District_39: [0 1]\n",
      "District_40: [0 1]\n",
      "District_41: [0 1]\n",
      "District_42: [0 1]\n",
      "District_43: [0 1]\n",
      "District_44: [0 1]\n",
      "District_45: [0 1]\n",
      "District_46: [0 1]\n",
      "District_47: [0 1]\n",
      "District_48: [0 1]\n",
      "District_49: [0 1]\n",
      "District_50: [0 1]\n",
      "District_51: [0 1]\n",
      "District_52: [0 1]\n",
      "District_53: [0 1]\n",
      "District_54: [0 1]\n",
      "District_55: [0 1]\n",
      "District_U: [0 1]\n",
      "Age_group_middle: [1 0]\n",
      "Age_group_senior: [0 1]\n",
      "Age_group_unknown: [0 1]\n",
      "Age_group_young: [0 1]\n",
      "Gender_F: [1 0]\n",
      "Gender_M: [0 1]\n",
      "Gender_U: [0 1]\n"
     ]
    }
   ],
   "source": [
    "for col in columns_no_id:\n",
    "    print(f'{col}: {pd.unique(df_train[col])}')"
   ]
  },
  {
   "cell_type": "code",
   "execution_count": 39,
   "id": "5c56cc7f",
   "metadata": {},
   "outputs": [
    {
     "data": {
      "text/plain": [
       "No     741971\n",
       "Yes    243506\n",
       "Name: Target1, dtype: int64"
      ]
     },
     "execution_count": 39,
     "metadata": {},
     "output_type": "execute_result"
    }
   ],
   "source": [
    "df_train['Target1'].value_counts()"
   ]
  },
  {
   "cell_type": "code",
   "execution_count": null,
   "id": "91e26cdf",
   "metadata": {},
   "outputs": [],
   "source": [
    "# Всего 243 506 клиентов откликнулись на email"
   ]
  },
  {
   "cell_type": "code",
   "execution_count": 40,
   "id": "b47f73c5",
   "metadata": {},
   "outputs": [
    {
     "data": {
      "text/plain": [
       "No     901093\n",
       "Yes     84384\n",
       "Name: Target2, dtype: int64"
      ]
     },
     "execution_count": 40,
     "metadata": {},
     "output_type": "execute_result"
    }
   ],
   "source": [
    "df_train['Target2'].value_counts()"
   ]
  },
  {
   "cell_type": "code",
   "execution_count": null,
   "id": "a90f1438",
   "metadata": {},
   "outputs": [],
   "source": [
    "# Тогда как на смс откликнулись 84 384 клиента"
   ]
  },
  {
   "cell_type": "code",
   "execution_count": 41,
   "id": "2e53231d",
   "metadata": {},
   "outputs": [
    {
     "data": {
      "text/plain": [
       "count    918519.000000\n",
       "mean         53.792106\n",
       "std          13.196993\n",
       "min          18.000000\n",
       "25%          44.000000\n",
       "50%          54.000000\n",
       "75%          64.000000\n",
       "max          79.000000\n",
       "Name: Age, dtype: float64"
      ]
     },
     "execution_count": 41,
     "metadata": {},
     "output_type": "execute_result"
    }
   ],
   "source": [
    "df_train['Age'].describe()"
   ]
  },
  {
   "cell_type": "code",
   "execution_count": null,
   "id": "32f12ac9",
   "metadata": {},
   "outputs": [],
   "source": [
    "# Средний возраст клиентов 54 года"
   ]
  },
  {
   "cell_type": "code",
   "execution_count": 42,
   "id": "a44504bf",
   "metadata": {},
   "outputs": [
    {
     "name": "stdout",
     "output_type": "stream",
     "text": [
      "29190\n",
      "[25. 20. 28. 22. 27. 24. 29. 30. 26. 23. 18. 19. 21.]\n",
      "30.0    7450\n",
      "29.0    5454\n",
      "28.0    4560\n",
      "27.0    3392\n",
      "26.0    2094\n",
      "25.0    2063\n",
      "23.0     992\n",
      "24.0     923\n",
      "22.0     783\n",
      "19.0     465\n",
      "20.0     453\n",
      "21.0     355\n",
      "18.0     206\n",
      "Name: Age, dtype: int64\n",
      "count    29190.000000\n",
      "mean        27.345015\n",
      "std          2.779323\n",
      "min         18.000000\n",
      "25%         26.000000\n",
      "50%         28.000000\n",
      "75%         30.000000\n",
      "max         30.000000\n",
      "Name: Age, dtype: float64\n"
     ]
    }
   ],
   "source": [
    "young = df_train[(df_train['Age_group'] == 'young')]\n",
    "print(len(young))\n",
    "print(young['Age'].unique())\n",
    "print(young['Age'].value_counts())\n",
    "print(young['Age'].describe())"
   ]
  },
  {
   "cell_type": "code",
   "execution_count": 43,
   "id": "4736482e",
   "metadata": {},
   "outputs": [
    {
     "name": "stdout",
     "output_type": "stream",
     "text": [
      "578936\n",
      "[51. 47. 45. 57. 33. 60. 59. 40. 54. 58. 36. 46. 31. 34. 56. 49. 39. 55.\n",
      " 42. 50. 38. 48. 52. 37. 43. 53. 41. 35. 32. 44.]\n",
      "51.0    26914\n",
      "50.0    26436\n",
      "52.0    23987\n",
      "53.0    23934\n",
      "47.0    23559\n",
      "48.0    23465\n",
      "60.0    23276\n",
      "54.0    22800\n",
      "59.0    22667\n",
      "49.0    22588\n",
      "55.0    22402\n",
      "58.0    21581\n",
      "57.0    20847\n",
      "46.0    20526\n",
      "45.0    20100\n",
      "44.0    20021\n",
      "56.0    19854\n",
      "43.0    19257\n",
      "37.0    18010\n",
      "41.0    17453\n",
      "42.0    16869\n",
      "40.0    16782\n",
      "39.0    15381\n",
      "35.0    15338\n",
      "36.0    14793\n",
      "38.0    14647\n",
      "33.0    12915\n",
      "34.0    12706\n",
      "32.0    10488\n",
      "31.0     9340\n",
      "Name: Age, dtype: int64\n",
      "count    578936.000000\n",
      "mean         47.204249\n",
      "std           8.115964\n",
      "min          31.000000\n",
      "25%          41.000000\n",
      "50%          48.000000\n",
      "75%          54.000000\n",
      "max          60.000000\n",
      "Name: Age, dtype: float64\n"
     ]
    }
   ],
   "source": [
    "middle = df_train[(df_train['Age_group'] == 'middle')]\n",
    "print(len(middle))\n",
    "print(middle['Age'].unique())\n",
    "print(middle['Age'].value_counts())\n",
    "print(middle['Age'].describe())"
   ]
  },
  {
   "cell_type": "code",
   "execution_count": 44,
   "id": "3f41beee",
   "metadata": {},
   "outputs": [
    {
     "name": "stdout",
     "output_type": "stream",
     "text": [
      "310393\n",
      "[78. 65. 66. 64. 75. 68. 69. 62. 72. 76. 61. 67. 63. 79. 73. 71. 70. 74.\n",
      " 77.]\n",
      "63.0    22714\n",
      "61.0    21700\n",
      "65.0    21434\n",
      "66.0    20696\n",
      "62.0    20486\n",
      "64.0    20426\n",
      "67.0    19521\n",
      "68.0    18517\n",
      "69.0    16887\n",
      "70.0    16693\n",
      "71.0    15660\n",
      "72.0    14439\n",
      "74.0    14356\n",
      "73.0    14287\n",
      "76.0    13389\n",
      "77.0    11976\n",
      "75.0    11633\n",
      "78.0     9064\n",
      "79.0     6515\n",
      "Name: Age, dtype: int64\n",
      "count    310393.000000\n",
      "mean         68.566723\n",
      "std           5.174934\n",
      "min          61.000000\n",
      "25%          64.000000\n",
      "50%          68.000000\n",
      "75%          73.000000\n",
      "max          79.000000\n",
      "Name: Age, dtype: float64\n"
     ]
    }
   ],
   "source": [
    "senior = df_train[(df_train['Age_group'] == 'senior')]\n",
    "print(len(senior))\n",
    "print(senior['Age'].unique())\n",
    "print(senior['Age'].value_counts())\n",
    "print(senior['Age'].describe())"
   ]
  },
  {
   "cell_type": "code",
   "execution_count": 45,
   "id": "91ceaf79",
   "metadata": {},
   "outputs": [
    {
     "name": "stdout",
     "output_type": "stream",
     "text": [
      "66958\n",
      "[nan]\n",
      "Series([], Name: Age, dtype: int64)\n",
      "count    0.0\n",
      "mean     NaN\n",
      "std      NaN\n",
      "min      NaN\n",
      "25%      NaN\n",
      "50%      NaN\n",
      "75%      NaN\n",
      "max      NaN\n",
      "Name: Age, dtype: float64\n"
     ]
    }
   ],
   "source": [
    "unknown_agegroup = df_train[(df_train['Age_group'] == 'unknown')]\n",
    "print(len(unknown_agegroup))\n",
    "print(unknown_agegroup['Age'].unique())\n",
    "print(unknown_agegroup['Age'].value_counts())\n",
    "print(unknown_agegroup['Age'].describe())"
   ]
  },
  {
   "cell_type": "code",
   "execution_count": 46,
   "id": "db8bbfc4",
   "metadata": {},
   "outputs": [
    {
     "name": "stdout",
     "output_type": "stream",
     "text": [
      "Yes    16847\n",
      "No     12343\n",
      "Name: Target1, dtype: int64\n",
      "No     23237\n",
      "Yes     5953\n",
      "Name: Target2, dtype: int64\n"
     ]
    }
   ],
   "source": [
    "print(young['Target1'].value_counts())\n",
    "print(young['Target2'].value_counts())"
   ]
  },
  {
   "cell_type": "code",
   "execution_count": 47,
   "id": "c7ea4ac1",
   "metadata": {},
   "outputs": [
    {
     "name": "stdout",
     "output_type": "stream",
     "text": [
      "No     416862\n",
      "Yes    162074\n",
      "Name: Target1, dtype: int64\n",
      "No     522840\n",
      "Yes     56096\n",
      "Name: Target2, dtype: int64\n"
     ]
    }
   ],
   "source": [
    "print(middle['Target1'].value_counts())\n",
    "print(middle['Target2'].value_counts())"
   ]
  },
  {
   "cell_type": "code",
   "execution_count": 48,
   "id": "82757ad7",
   "metadata": {},
   "outputs": [
    {
     "name": "stdout",
     "output_type": "stream",
     "text": [
      "No     263657\n",
      "Yes     46736\n",
      "Name: Target1, dtype: int64\n",
      "No     294330\n",
      "Yes     16063\n",
      "Name: Target2, dtype: int64\n"
     ]
    }
   ],
   "source": [
    "print(senior['Target1'].value_counts())\n",
    "print(senior['Target2'].value_counts())"
   ]
  },
  {
   "cell_type": "code",
   "execution_count": null,
   "id": "c377f7fe",
   "metadata": {},
   "outputs": [],
   "source": [
    "# Больше всего откликов было от клиентов среднего возраста. Меньше всего откликались молодые клиенты"
   ]
  },
  {
   "cell_type": "code",
   "execution_count": 49,
   "id": "8c135a90",
   "metadata": {},
   "outputs": [
    {
     "name": "stdout",
     "output_type": "stream",
     "text": [
      "No     49109\n",
      "Yes    17849\n",
      "Name: Target1, dtype: int64\n",
      "No     60686\n",
      "Yes     6272\n",
      "Name: Target2, dtype: int64\n"
     ]
    }
   ],
   "source": [
    "print(unknown_agegroup['Target1'].value_counts())\n",
    "print(unknown_agegroup['Target2'].value_counts())"
   ]
  },
  {
   "cell_type": "code",
   "execution_count": null,
   "id": "857e0aad",
   "metadata": {},
   "outputs": [],
   "source": [
    "# По 66 958 клиентам отсутствуют данные по возрасту"
   ]
  },
  {
   "cell_type": "code",
   "execution_count": 50,
   "id": "66e2661c",
   "metadata": {},
   "outputs": [],
   "source": [
    "genders = df_train['Gender'].unique()"
   ]
  },
  {
   "cell_type": "code",
   "execution_count": 51,
   "id": "8256fa35",
   "metadata": {},
   "outputs": [
    {
     "name": "stdout",
     "output_type": "stream",
     "text": [
      "F = 538741\n",
      "U = 189123\n",
      "M = 257613\n"
     ]
    },
    {
     "data": {
      "text/plain": [
       "19"
      ]
     },
     "execution_count": 51,
     "metadata": {},
     "output_type": "execute_result"
    }
   ],
   "source": [
    "for gender in genders:\n",
    "    print(f'{gender} = {len(df_train[df_train[\"Gender\"] == gender])}')\n",
    "    \n",
    "int(len(df_train[df_train[\"Gender\"] == 'U'])/len(df_train[\"Gender\"])*100)"
   ]
  },
  {
   "cell_type": "code",
   "execution_count": null,
   "id": "d113f7cb",
   "metadata": {},
   "outputs": [],
   "source": [
    "# Больше половины клиентов женского пола (538 741 чел.) По 189 123 клиентам отсутствуют данные о поле, что составляет 19% от общего числа клиентов."
   ]
  },
  {
   "cell_type": "code",
   "execution_count": 52,
   "id": "4d5894ab",
   "metadata": {},
   "outputs": [
    {
     "name": "stdout",
     "output_type": "stream",
     "text": [
      "186115 клиентов F пола откликнулись по email\n",
      "14778 клиентов U пола откликнулись по email\n",
      "42613 клиентов M пола откликнулись по email\n"
     ]
    }
   ],
   "source": [
    "for gender in genders:\n",
    "    print(f'{len(df_train[(df_train[\"Gender\"] == gender) & (df_train[\"Target1\"] == \"Yes\")])} клиентов {gender} пола откликнулись по email')"
   ]
  },
  {
   "cell_type": "code",
   "execution_count": 53,
   "id": "6d9751fd",
   "metadata": {},
   "outputs": [
    {
     "name": "stdout",
     "output_type": "stream",
     "text": [
      "64410 клиентов F пола откликнулись по телефону\n",
      "5148 клиентов U пола откликнулись по телефону\n",
      "14826 клиентов M пола откликнулись по телефону\n"
     ]
    }
   ],
   "source": [
    "for gender in genders:\n",
    "    print(f'{len(df_train[(df_train[\"Gender\"] == gender) & (df_train[\"Target2\"] == \"Yes\")])} клиентов {gender} пола откликнулись по телефону')"
   ]
  },
  {
   "cell_type": "code",
   "execution_count": 54,
   "id": "4bb8fb87",
   "metadata": {},
   "outputs": [
    {
     "name": "stdout",
     "output_type": "stream",
     "text": [
      "Platinum = 37144, что составляет 3% от общего числа клиентов\n",
      "Gold = 280975, что составляет 28% от общего числа клиентов\n",
      "Silver = 379739, что составляет 38% от общего числа клиентов\n",
      "Tin = 287619, что составляет 29% от общего числа клиентов\n"
     ]
    }
   ],
   "source": [
    "segments = df_train['Segment'].unique()\n",
    "for segment in segments:\n",
    "    segment_num = len(df_train[df_train[\"Segment\"] == segment])\n",
    "    percentage = int(len(df_train[df_train[\"Segment\"] == segment])/len(df_train[\"Segment\"])*100)\n",
    "    print(f'{segment} = {segment_num}, что составляет {percentage}% от общего числа клиентов')"
   ]
  },
  {
   "cell_type": "code",
   "execution_count": 55,
   "id": "5551657a",
   "metadata": {},
   "outputs": [
    {
     "name": "stdout",
     "output_type": "stream",
     "text": [
      "5621 клиентов со статусом Platinum откликнулись по email\n",
      "54742 клиентов со статусом Gold откликнулись по email\n",
      "93410 клиентов со статусом Silver откликнулись по email\n",
      "89733 клиентов со статусом Tin откликнулись по email\n"
     ]
    }
   ],
   "source": [
    "for segment in segments:\n",
    "    print(f'{len(df_train[(df_train[\"Segment\"] == segment) & (df_train[\"Target1\"] == \"Yes\")])} клиентов со статусом {segment} откликнулись по email')    "
   ]
  },
  {
   "cell_type": "code",
   "execution_count": 56,
   "id": "394a62df",
   "metadata": {},
   "outputs": [
    {
     "name": "stdout",
     "output_type": "stream",
     "text": [
      "1949 клиентов со статусом Platinum откликнулись по телефону\n",
      "19006 клиентов со статусом Gold откликнулись по телефону\n",
      "32340 клиентов со статусом Silver откликнулись по телефону\n",
      "31089 клиентов со статусом Tin откликнулись по телефону\n"
     ]
    }
   ],
   "source": [
    "for segment in segments:\n",
    "    print(f'{len(df_train[(df_train[\"Segment\"] == segment) & (df_train[\"Target2\"] == \"Yes\")])} клиентов со статусом {segment} откликнулись по телефону')   "
   ]
  },
  {
   "cell_type": "code",
   "execution_count": 57,
   "id": "8c60c749",
   "metadata": {},
   "outputs": [
    {
     "name": "stdout",
     "output_type": "stream",
     "text": [
      "Yes = 965956, что составляет 98% от общего числа клиентов\n",
      "No = 19521, что составляет 1% от общего числа клиентов\n"
     ]
    }
   ],
   "source": [
    "ind_email = df_train['Ind_email'].unique()\n",
    "for i in ind_email:\n",
    "    num = len(df_train[df_train[\"Ind_email\"] == i])\n",
    "    percentage = int(len(df_train[df_train[\"Ind_email\"] == i])/len(df_train[\"Ind_email\"])*100)\n",
    "    print(f'{i} = {num}, что составляет {percentage}% от общего числа клиентов')"
   ]
  },
  {
   "cell_type": "code",
   "execution_count": 58,
   "id": "62243429",
   "metadata": {},
   "outputs": [
    {
     "name": "stdout",
     "output_type": "stream",
     "text": [
      "Yes = 961490, что составляет 97% от общего числа клиентов\n",
      "No = 23987, что составляет 2% от общего числа клиентов\n"
     ]
    }
   ],
   "source": [
    "ind_phone = df_train['Ind_phone'].unique()\n",
    "for i in ind_phone:\n",
    "    num = len(df_train[df_train[\"Ind_phone\"] == i])\n",
    "    percentage = int(len(df_train[df_train[\"Ind_phone\"] == i])/len(df_train[\"Ind_phone\"])*100)\n",
    "    print(f'{i} = {num}, что составляет {percentage}% от общего числа клиентов')"
   ]
  },
  {
   "cell_type": "code",
   "execution_count": 59,
   "id": "2db1b741",
   "metadata": {},
   "outputs": [
    {
     "name": "stdout",
     "output_type": "stream",
     "text": [
      "241120 клиентов имеющих email откликнулись по email\n"
     ]
    }
   ],
   "source": [
    "print(f'{len(df_train[(df_train[\"Ind_email\"] == \"Yes\") & (df_train[\"Target1\"] == \"Yes\")])} клиентов имеющих email откликнулись по email')"
   ]
  },
  {
   "cell_type": "code",
   "execution_count": 60,
   "id": "99ad8356",
   "metadata": {},
   "outputs": [
    {
     "name": "stdout",
     "output_type": "stream",
     "text": [
      "2386 клиентов НЕ имеющих email откликнулись по email\n"
     ]
    }
   ],
   "source": [
    "print(f'{len(df_train[(df_train[\"Ind_email\"] == \"No\") & (df_train[\"Target1\"] == \"Yes\")])} клиентов НЕ имеющих email откликнулись по email')"
   ]
  },
  {
   "cell_type": "code",
   "execution_count": 61,
   "id": "5a57d27a",
   "metadata": {},
   "outputs": [
    {
     "name": "stdout",
     "output_type": "stream",
     "text": [
      "83081 клиентов имеющих телефон откликнулись по телефону\n"
     ]
    }
   ],
   "source": [
    "print(f'{len(df_train[(df_train[\"Ind_phone\"] == \"Yes\") & (df_train[\"Target2\"] == \"Yes\")])} клиентов имеющих телефон откликнулись по телефону')"
   ]
  },
  {
   "cell_type": "code",
   "execution_count": 62,
   "id": "cf176793",
   "metadata": {},
   "outputs": [
    {
     "name": "stdout",
     "output_type": "stream",
     "text": [
      "1303 клиентов НЕ имеющих телефон откликнулись по телефону\n"
     ]
    }
   ],
   "source": [
    "print(f'{len(df_train[(df_train[\"Ind_phone\"] == \"No\") & (df_train[\"Target2\"] == \"Yes\")])} клиентов НЕ имеющих телефон откликнулись по телефону')"
   ]
  },
  {
   "cell_type": "code",
   "execution_count": 63,
   "id": "a0682538",
   "metadata": {},
   "outputs": [
    {
     "name": "stdout",
     "output_type": "stream",
     "text": [
      "пустые ячейки в Age = 66958\n",
      "пустые ячейки в Lifetime = 12608\n"
     ]
    }
   ],
   "source": [
    "for col in columns:\n",
    "    if len(df_train[df_train[col].isnull()]) > 0:\n",
    "        print(f'пустые ячейки в {col} = {len(df_train[df_train[col].isnull()])}')"
   ]
  },
  {
   "cell_type": "code",
   "execution_count": 64,
   "id": "ddcd70e4",
   "metadata": {},
   "outputs": [
    {
     "name": "stdout",
     "output_type": "stream",
     "text": [
      "ячейки с неправильными значениями в Age_group = 66958\n",
      "ячейки с неправильными значениями в District = 29752\n",
      "ячейки с неправильными значениями в Region = 20510\n",
      "ячейки с неправильными значениями в Gender = 189123\n"
     ]
    }
   ],
   "source": [
    "for col in columns:\n",
    "    if len(df_train[(df_train[col] == 'Unknown') | (df_train[col] == 'unknown') | (df_train[col] == 'U')]) > 0:\n",
    "        print(f'ячейки с неправильными значениями в {col} = {len(df_train[(df_train[col] == \"Unknown\") | (df_train[col] == \"unknown\") | (df_train[col] == \"U\")])}')"
   ]
  },
  {
   "cell_type": "code",
   "execution_count": null,
   "id": "281e8196",
   "metadata": {},
   "outputs": [],
   "source": [
    "#Отсутствующие значения в столбце Age можно заполнить средним значением, что составляет 54 года. После этого значения Unknown в столбце Age_group можно заменить соответствующей возрастной группой."
   ]
  },
  {
   "cell_type": "code",
   "execution_count": 65,
   "id": "753c11c3",
   "metadata": {},
   "outputs": [],
   "source": [
    "df_train['Age'] = df_train['Age'].fillna(float('54'))"
   ]
  },
  {
   "cell_type": "code",
   "execution_count": 66,
   "id": "70067b88",
   "metadata": {},
   "outputs": [
    {
     "data": {
      "text/plain": [
       "0"
      ]
     },
     "execution_count": 66,
     "metadata": {},
     "output_type": "execute_result"
    }
   ],
   "source": [
    "len(df_train[df_train['Age'].isnull()])"
   ]
  },
  {
   "cell_type": "code",
   "execution_count": 67,
   "id": "95ac71d1",
   "metadata": {},
   "outputs": [],
   "source": [
    "df_train[\"Age_group\"].replace(\"unknown\", \"middle\", inplace=True)"
   ]
  },
  {
   "cell_type": "code",
   "execution_count": 68,
   "id": "62882d9b",
   "metadata": {},
   "outputs": [
    {
     "data": {
      "text/html": [
       "<div>\n",
       "<style scoped>\n",
       "    .dataframe tbody tr th:only-of-type {\n",
       "        vertical-align: middle;\n",
       "    }\n",
       "\n",
       "    .dataframe tbody tr th {\n",
       "        vertical-align: top;\n",
       "    }\n",
       "\n",
       "    .dataframe thead th {\n",
       "        text-align: right;\n",
       "    }\n",
       "</style>\n",
       "<table border=\"1\" class=\"dataframe\">\n",
       "  <thead>\n",
       "    <tr style=\"text-align: right;\">\n",
       "      <th></th>\n",
       "      <th>ID</th>\n",
       "      <th>Age</th>\n",
       "      <th>Ind_Household</th>\n",
       "      <th>Age_group</th>\n",
       "      <th>District</th>\n",
       "      <th>Region</th>\n",
       "      <th>Lifetime</th>\n",
       "      <th>Income</th>\n",
       "      <th>Segment</th>\n",
       "      <th>Ind_deposit</th>\n",
       "      <th>Ind_email</th>\n",
       "      <th>Ind_phone</th>\n",
       "      <th>Ind_salary</th>\n",
       "      <th>trans_6_month</th>\n",
       "      <th>trans_9_month</th>\n",
       "      <th>trans_12_month</th>\n",
       "      <th>amont_trans</th>\n",
       "      <th>amont_day_from</th>\n",
       "      <th>trans_3_month</th>\n",
       "      <th>Gender</th>\n",
       "      <th>Target1</th>\n",
       "      <th>Target2</th>\n",
       "    </tr>\n",
       "  </thead>\n",
       "  <tbody>\n",
       "  </tbody>\n",
       "</table>\n",
       "</div>"
      ],
      "text/plain": [
       "Empty DataFrame\n",
       "Columns: [ID, Age, Ind_Household, Age_group, District, Region, Lifetime, Income, Segment, Ind_deposit, Ind_email, Ind_phone, Ind_salary, trans_6_month, trans_9_month, trans_12_month, amont_trans, amont_day_from, trans_3_month, Gender, Target1, Target2]\n",
       "Index: []"
      ]
     },
     "execution_count": 68,
     "metadata": {},
     "output_type": "execute_result"
    }
   ],
   "source": [
    "\n",
    "(df_train[df_train['Age_group'] == \"unknown\"])"
   ]
  },
  {
   "cell_type": "code",
   "execution_count": 69,
   "id": "f3038f93",
   "metadata": {},
   "outputs": [],
   "source": [
    "regions = df_train[\"Region\"].unique()"
   ]
  },
  {
   "cell_type": "code",
   "execution_count": 70,
   "id": "4c5dbda4",
   "metadata": {},
   "outputs": [
    {
     "name": "stdout",
     "output_type": "stream",
     "text": [
      "Midlands = 298286\n",
      "North = 192434\n",
      "South East = 382905\n",
      "South West = 30607\n",
      "Scottish = 60735\n",
      "Unknown = 20510\n"
     ]
    }
   ],
   "source": [
    "for region in regions:\n",
    "    print(f'{region} = {len(df_train[df_train[\"Region\"] == region])}')"
   ]
  },
  {
   "cell_type": "code",
   "execution_count": null,
   "id": "2ef0912f",
   "metadata": {},
   "outputs": [],
   "source": [
    "# Клиентов больше всего из South East и ячейки со значением Unknown в столбце Region заменим значением South East"
   ]
  },
  {
   "cell_type": "code",
   "execution_count": 71,
   "id": "5a0bf9c2",
   "metadata": {},
   "outputs": [],
   "source": [
    "df_train[\"Region\"].replace(\"Unknown\", \"South East\", inplace=True)"
   ]
  },
  {
   "cell_type": "code",
   "execution_count": 72,
   "id": "3e658eab",
   "metadata": {},
   "outputs": [
    {
     "name": "stdout",
     "output_type": "stream",
     "text": [
      "Midlands = 298286\n",
      "North = 192434\n",
      "South East = 403415\n",
      "South West = 30607\n",
      "Scottish = 60735\n"
     ]
    }
   ],
   "source": [
    "regions_all_known = df_train[\"Region\"].unique()\n",
    "for region in regions_all_known:\n",
    "    print(f'{region} = {len(df_train[df_train[\"Region\"] == region])}')"
   ]
  },
  {
   "cell_type": "code",
   "execution_count": 73,
   "id": "cb7a8877",
   "metadata": {},
   "outputs": [
    {
     "data": {
      "text/plain": [
       "ID                    0\n",
       "Age                   0\n",
       "Ind_Household         0\n",
       "Age_group             0\n",
       "District              0\n",
       "Region                0\n",
       "Lifetime          12608\n",
       "Income                0\n",
       "Segment               0\n",
       "Ind_deposit           0\n",
       "Ind_email             0\n",
       "Ind_phone             0\n",
       "Ind_salary            0\n",
       "trans_6_month         0\n",
       "trans_9_month         0\n",
       "trans_12_month        0\n",
       "amont_trans           0\n",
       "amont_day_from        0\n",
       "trans_3_month         0\n",
       "Gender                0\n",
       "Target1               0\n",
       "Target2               0\n",
       "dtype: int64"
      ]
     },
     "execution_count": 73,
     "metadata": {},
     "output_type": "execute_result"
    }
   ],
   "source": [
    "df_train.isna().sum()"
   ]
  },
  {
   "cell_type": "code",
   "execution_count": 74,
   "id": "9db05bf3",
   "metadata": {},
   "outputs": [],
   "source": [
    "import matplotlib.pyplot as plt\n",
    "import seaborn as sns\n",
    "\n",
    "def build_displots_without_nan(data, columns, n_col=1, name='displots'):\n",
    "    if len(columns) == 1:\n",
    "        fig, ax = plt.subplots(1, 1, figsize=(20, 16))\n",
    "        fig.suptitle(name)\n",
    "        fig.tight_layout(pad=3.0)\n",
    "        cur_data = data[~data[columns[0]].isna()][columns[0]]\n",
    "        try:\n",
    "            try:\n",
    "                sns_plot = sns.distplot(cur_data, ax=ax, color='blue')\n",
    "            except:\n",
    "                sns_plot = sns.distplot(cur_data, ax=ax, color='red', kde_kws={'bw': 0.1})\n",
    "        except:\n",
    "            sns_plot = cur_data.hist(ax=axes[0], color='green')\n",
    "        ax.set_title(columns[0])\n",
    "        plt.show()\n",
    "    elif n_col >= len(columns):\n",
    "        fig, axes = plt.subplots(1, n_col, figsize=(20, 16 // n_col))\n",
    "        fig.suptitle(name)\n",
    "        fig.tight_layout(pad=3.0)\n",
    "        for idx in range(len(columns)):\n",
    "            cur_data = data[~data[columns[idx]].isna()][columns[idx]]\n",
    "            try:\n",
    "                try:\n",
    "                    sns_plot = sns.distplot(cur_data, ax=axes[idx], color='blue')\n",
    "                except:\n",
    "                    sns_plot = sns.distplot(cur_data, ax=axes[idx], kde_kws={'bw': 0.1}, color='red')\n",
    "            except:\n",
    "                sns_plot = cur_data.hist(ax=axes[idx], color='green')\n",
    "            axes[idx].set_title(columns[idx])\n",
    "        plt.show()\n",
    "    else:\n",
    "        m = n_col\n",
    "        n = (len(columns) + m - 1) // m\n",
    "        fig, axes = plt.subplots(n, m, figsize=(20, n * (16 // m)))\n",
    "        fig.suptitle(name)\n",
    "        fig.tight_layout(pad=3.0)\n",
    "        for idx in range(len(columns)):\n",
    "            cur_data = data[~data[columns[idx]].isna()][columns[idx]]\n",
    "            i, j = idx // m, idx % m\n",
    "            try:\n",
    "                try:\n",
    "                    sns_plot = sns.distplot(cur_data, ax=axes[i, j], color='blue')\n",
    "                except:\n",
    "                    sns_plot = sns.distplot(cur_data, ax=axes[i, j], kde_kws={'bw': 0.1}, color='red')\n",
    "            except:\n",
    "                sns_plot = cur_data.hist(ax=axes[i, j], color='green')\n",
    "            axes[i, j].set_title(columns[idx])\n",
    "        plt.show()\n",
    "    return"
   ]
  },
  {
   "cell_type": "code",
   "execution_count": 75,
   "id": "8f71acc9",
   "metadata": {},
   "outputs": [
    {
     "data": {
      "image/png": "[encoded data removed]",
      "text/plain": [
       "<Figure size 1440x1728 with 24 Axes>"
      ]
     },
     "metadata": {
      "needs_background": "light"
     },
     "output_type": "display_data"
    }
   ],
   "source": [
    "build_displots_without_nan(df_train, columns=df_train.columns, n_col=4, name='displots')"
   ]
  },
  {
   "cell_type": "code",
   "execution_count": 76,
   "id": "4628fe58",
   "metadata": {},
   "outputs": [
    {
     "name": "stdout",
     "output_type": "stream",
     "text": [
      "group: middle\n",
      "count: 645894\n",
      "nan: 0 (0.0%)\n",
      "displot:  31.0 - 60.0\n",
      "--------------------\n",
      "group: senior\n",
      "count: 310393\n",
      "nan: 0 (0.0%)\n",
      "displot:  61.0 - 79.0\n",
      "--------------------\n",
      "group: young\n",
      "count: 29190\n",
      "nan: 0 (0.0%)\n",
      "displot:  18.0 - 30.0\n",
      "--------------------\n"
     ]
    }
   ],
   "source": [
    "for age_group in df_train['Age_group'].unique():\n",
    "    print('group:', age_group)\n",
    "    print('count:', df_train[df_train['Age_group'] == age_group].shape[0])\n",
    "    print('nan: ', df_train[df_train['Age_group'] == age_group]['Age'].isna().sum(), ' (',\n",
    "          round(df_train[df_train['Age_group'] == age_group]['Age'].isna().sum() / \n",
    "                df_train[df_train['Age_group'] == age_group].shape[0] * 100, 2), '%)', sep='')\n",
    "    print('displot: ', df_train[df_train['Age_group'] == age_group]['Age'].min(), '-', \n",
    "          df_train[df_train['Age_group'] == age_group]['Age'].max())\n",
    "    print('-' * 20)"
   ]
  },
  {
   "cell_type": "code",
   "execution_count": 77,
   "id": "2a6166cb",
   "metadata": {},
   "outputs": [
    {
     "name": "stdout",
     "output_type": "stream",
     "text": [
      "num of zero transactions for 12 months = 0\n",
      "num of zero transactions for  9 months = 0\n",
      "num of zero transactions for  6 months = 0\n",
      "num of zero transactions for  3 months = 0\n"
     ]
    }
   ],
   "source": [
    "print('num of zero transactions for 12 months =',\n",
    "      df_train[df_train['trans_12_month'] == 0].shape[0])\n",
    "print('num of zero transactions for  9 months =',\n",
    "      df_train[df_train['trans_9_month'] == 0].shape[0])\n",
    "print('num of zero transactions for  6 months =',\n",
    "      df_train[df_train['trans_6_month'] == 0].shape[0])\n",
    "print('num of zero transactions for  3 months =',\n",
    "      df_train[df_train['trans_3_month'] == 0].shape[0])"
   ]
  },
  {
   "cell_type": "code",
   "execution_count": 78,
   "id": "252aaab7",
   "metadata": {},
   "outputs": [
    {
     "name": "stdout",
     "output_type": "stream",
     "text": [
      "9-12 : 0\n",
      "6-9  : 0\n",
      "3-6  : 0\n"
     ]
    }
   ],
   "source": [
    "print('9-12 :', df_train[df_train['trans_12_month'] == df_train['trans_9_month']].shape[0])\n",
    "print('6-9  :', df_train[df_train['trans_9_month'] == df_train['trans_6_month']].shape[0])\n",
    "print('3-6  :', df_train[df_train['trans_6_month'] == df_train['trans_3_month']].shape[0])"
   ]
  },
  {
   "cell_type": "code",
   "execution_count": 79,
   "id": "f6128e37",
   "metadata": {},
   "outputs": [
    {
     "data": {
      "text/plain": [
       "ID                   0\n",
       "Age               4369\n",
       "Ind_House_hold       0\n",
       "Age_group            0\n",
       "District             0\n",
       "Region               0\n",
       "Lifetime           787\n",
       "Income               0\n",
       "Segment              0\n",
       "Ind_deposit          0\n",
       "Ind_salary           0\n",
       "trans_6_month        0\n",
       "trans_9_month        0\n",
       "trans_12_month       0\n",
       "amont_trans          0\n",
       "amont_day_from       0\n",
       "trans_3_month        0\n",
       "Gender               0\n",
       "dtype: int64"
      ]
     },
     "execution_count": 79,
     "metadata": {},
     "output_type": "execute_result"
    }
   ],
   "source": [
    "df_test.isna().sum()"
   ]
  },
  {
   "cell_type": "code",
   "execution_count": 80,
   "id": "570410ac",
   "metadata": {},
   "outputs": [
    {
     "data": {
      "image/png": "[encoded data removed]",
      "text/plain": [
       "<Figure size 1440x1440 with 20 Axes>"
      ]
     },
     "metadata": {
      "needs_background": "light"
     },
     "output_type": "display_data"
    }
   ],
   "source": [
    "build_displots_without_nan(df_test, columns=df_test.columns, n_col=4, name='displots')"
   ]
  },
  {
   "cell_type": "code",
   "execution_count": 81,
   "id": "06b949da",
   "metadata": {},
   "outputs": [
    {
     "data": {
      "text/plain": [
       "array([17, 33], dtype=int64)"
      ]
     },
     "execution_count": 81,
     "metadata": {},
     "output_type": "execute_result"
    }
   ],
   "source": [
    "df_test['amont_day_from'].unique()"
   ]
  },
  {
   "cell_type": "code",
   "execution_count": 82,
   "id": "a5d4bf39",
   "metadata": {},
   "outputs": [
    {
     "data": {
      "text/plain": [
       "array([21, 14, 16, 15, 26, 30, 18, 32, 25, 28, 27, 23, 20, 24, 31, 19, 34,\n",
       "       13, 22, 35, 37, 38, 36, 29, 39, 12, 11, 40, 41, 42, 10],\n",
       "      dtype=int64)"
      ]
     },
     "execution_count": 82,
     "metadata": {},
     "output_type": "execute_result"
    }
   ],
   "source": [
    "df_train['amont_day_from'].unique()"
   ]
  },
  {
   "cell_type": "code",
   "execution_count": 83,
   "id": "cc9ead2a",
   "metadata": {},
   "outputs": [],
   "source": [
    "AGE_MEAN = df_train['Age'].mean()\n",
    "LIFETIME_MEAN = df_train['Lifetime'].mean()"
   ]
  },
  {
   "cell_type": "code",
   "execution_count": 84,
   "id": "3aeec326",
   "metadata": {},
   "outputs": [],
   "source": [
    "def do_one_hot_encoding(data, columns):\n",
    "    for column in columns:\n",
    "        tmp = pd.get_dummies(data[column], prefix=column)\n",
    "        data = data.drop(columns=[column])\n",
    "        data = data.join(tmp)\n",
    "    return data\n",
    "\n",
    "def transformation_yes_no_to_1_0(data, columns):\n",
    "    for column in columns:\n",
    "        data[column] = 1 * (data[column] == 'Yes')\n",
    "    return data\n",
    "\n",
    "def prepare_data(df, is_train=True):\n",
    "    df['Age'].fillna(AGE_MEAN, inplace=True)\n",
    "    df['Lifetime'].fillna(LIFETIME_MEAN, inplace=True)\n",
    "    \n",
    "    if not is_train:\n",
    "        df.rename(columns={\n",
    "            'Ind_House_hold' : 'Ind_Household'\n",
    "        }, inplace=True)\n",
    "    \n",
    "    columns_to_delete = [\n",
    "        'Ind_email',\n",
    "        'Ind_phone'\n",
    "    ]\n",
    "    \n",
    "    columns_to_label_encoding = [\n",
    "        'Ind_Household',\n",
    "        'Ind_deposit',                \n",
    "        'Ind_salary'\n",
    "    ]\n",
    "\n",
    "    if is_train:\n",
    "        df.drop(columns=columns_to_delete, inplace=True)\n",
    "        columns_to_label_encoding += ['Target1', 'Target2']\n",
    "\n",
    "    df = transformation_yes_no_to_1_0(df, columns=columns_to_label_encoding)\n",
    "    \n",
    "    columns_to_one_hot_encoding = [\n",
    "        'Segment', \n",
    "        'Region', \n",
    "        'District', \n",
    "        'Age_group', \n",
    "        'Gender'\n",
    "    ]\n",
    "    \n",
    "    df = do_one_hot_encoding(df, columns=columns_to_one_hot_encoding)\n",
    "    \n",
    "    return df"
   ]
  },
  {
   "cell_type": "code",
   "execution_count": 85,
   "id": "365b06c9",
   "metadata": {},
   "outputs": [],
   "source": [
    "df_train = prepare_data(df_train)\n",
    "df_test = prepare_data(df_test, False)"
   ]
  },
  {
   "cell_type": "code",
   "execution_count": 86,
   "id": "328c31b4",
   "metadata": {},
   "outputs": [],
   "source": [
    "from sklearn.model_selection import train_test_split\n",
    "\n",
    "X, y0, y1 = (df_train.drop(columns=['Target1', 'Target2']),\n",
    "             df_train.loc[:, ['Target1']],\n",
    "             df_train.loc[:, ['Target2']])"
   ]
  },
  {
   "cell_type": "code",
   "execution_count": 89,
   "id": "3bea4911",
   "metadata": {},
   "outputs": [],
   "source": [
    "columns_0_to_drop = [\n",
    "    'ID', 'trans_6_month', 'trans_9_month', 'trans_12_month',\n",
    "    'trans_3_month', 'Region_Scottish', 'Region_South West', 'District_01', 'District_02', 'District_03',\n",
    "    'District_04', 'District_05', 'District_06', 'District_07',\n",
    "    'District_08', 'District_09', 'District_10', 'District_11',\n",
    "    'District_12', 'District_13', 'District_14', 'District_15',\n",
    "    'District_16', 'District_17', 'District_18', 'District_19',\n",
    "    'District_20', 'District_21', 'District_22', 'District_23',\n",
    "    'District_24', 'District_25', 'District_26', 'District_27',\n",
    "    'District_28', 'District_29', 'District_30', 'District_31',\n",
    "    'District_32', 'District_33', 'District_34', 'District_35',\n",
    "    'District_36', 'District_37', 'District_38', 'District_39',\n",
    "    'District_40', 'District_41', 'District_42', 'District_43',\n",
    "    'District_44', 'District_45', 'District_46', 'District_47',\n",
    "    'District_48', 'District_49', 'District_50', 'District_51',\n",
    "    'District_52', 'District_53', 'District_54', 'District_55',\n",
    "    'District_U'\n",
    "]\n",
    "\n",
    "columns_1_to_drop = [\n",
    "    'ID', 'Ind_salary', 'trans_6_month', 'trans_9_month', 'trans_12_month',\n",
    "    'trans_3_month', 'Segment_Platinum', 'Region_Scottish',\n",
    "    'Region_South West', 'District_01', 'District_02',\n",
    "    'District_03', 'District_04', 'District_05', 'District_06',\n",
    "    'District_07', 'District_08', 'District_09', 'District_10',\n",
    "    'District_11', 'District_12', 'District_13', 'District_14',\n",
    "    'District_15', 'District_16', 'District_17', 'District_18',\n",
    "    'District_19', 'District_20', 'District_21', 'District_22',\n",
    "    'District_23', 'District_24', 'District_25', 'District_26',\n",
    "    'District_27', 'District_28', 'District_29', 'District_30',\n",
    "    'District_31', 'District_32', 'District_33', 'District_34',\n",
    "    'District_35', 'District_36', 'District_37', 'District_38',\n",
    "    'District_39', 'District_40', 'District_41', 'District_42',\n",
    "    'District_43', 'District_44', 'District_45', 'District_46',\n",
    "    'District_47', 'District_48', 'District_49', 'District_50',\n",
    "    'District_51', 'District_52', 'District_53', 'District_54',\n",
    "    'District_55', 'District_U',\n",
    "]"
   ]
  },
  {
   "cell_type": "code",
   "execution_count": 90,
   "id": "92216982",
   "metadata": {},
   "outputs": [],
   "source": [
    "X0 = X.copy()\n",
    "X1 = X.copy()\n",
    "X0.drop(columns=columns_0_to_drop)\n",
    "X1.drop(columns=columns_1_to_drop)\n",
    "\n",
    "X0_train, X0_test, y0_train, y0_test = train_test_split(X0, y0, test_size=0.3, random_state=1)\n",
    "X1_train, X1_test, y1_train, y1_test = train_test_split(X1, y1, test_size=0.3, random_state=1)"
   ]
  },
  {
   "cell_type": "code",
   "execution_count": 91,
   "id": "00de1b2a",
   "metadata": {},
   "outputs": [],
   "source": [
    "assert X0_train.shape[0] == y0_train.shape[0], 'incorrect train shapes for 1 model'\n",
    "assert X0_test.shape[0] == y0_test.shape[0], 'incorrect test shapes for 1 model'\n",
    "assert X1_train.shape[0] == y1_train.shape[0], 'incorrect train shapes for 2 model'\n",
    "assert X1_test.shape[0] == y1_test.shape[0], 'incorrect test shapes for 2 model'"
   ]
  },
  {
   "cell_type": "code",
   "execution_count": 93,
   "id": "dd428328",
   "metadata": {},
   "outputs": [
    {
     "name": "stdout",
     "output_type": "stream",
     "text": [
      "Collecting hyperoptNote: you may need to restart the kernel to use updated packages.\n",
      "\n",
      "  Downloading hyperopt-0.2.7-py2.py3-none-any.whl (1.6 MB)\n",
      "Requirement already satisfied: numpy in c:\\programdata\\anaconda3\\lib\\site-packages (from hyperopt) (1.20.1)\n",
      "Requirement already satisfied: tqdm in c:\\programdata\\anaconda3\\lib\\site-packages (from hyperopt) (4.59.0)\n",
      "Requirement already satisfied: networkx>=2.2 in c:\\programdata\\anaconda3\\lib\\site-packages (from hyperopt) (2.5)\n",
      "Requirement already satisfied: six in c:\\programdata\\anaconda3\\lib\\site-packages (from hyperopt) (1.15.0)\n",
      "Collecting py4j\n",
      "  Downloading py4j-0.10.9.5-py2.py3-none-any.whl (199 kB)\n",
      "Requirement already satisfied: cloudpickle in c:\\programdata\\anaconda3\\lib\\site-packages (from hyperopt) (1.6.0)\n",
      "Requirement already satisfied: future in c:\\programdata\\anaconda3\\lib\\site-packages (from hyperopt) (0.18.2)\n",
      "Requirement already satisfied: scipy in c:\\programdata\\anaconda3\\lib\\site-packages (from hyperopt) (1.6.2)\n",
      "Requirement already satisfied: decorator>=4.3.0 in c:\\programdata\\anaconda3\\lib\\site-packages (from networkx>=2.2->hyperopt) (5.0.6)\n",
      "Installing collected packages: py4j, hyperopt\n",
      "Successfully installed hyperopt-0.2.7 py4j-0.10.9.5\n"
     ]
    }
   ],
   "source": [
    "# pip install hyperopt"
   ]
  },
  {
   "cell_type": "markdown",
   "id": "03181ee2",
   "metadata": {},
   "source": [
    "# Модели"
   ]
  },
  {
   "cell_type": "code",
   "execution_count": 94,
   "id": "91a32f77",
   "metadata": {},
   "outputs": [],
   "source": [
    "from datetime import datetime\n",
    "from matplotlib import pyplot as plt\n",
    "\n",
    "from sklearn.metrics import roc_curve, roc_auc_score, f1_score\n",
    "from sklearn.tree import DecisionTreeClassifier\n",
    "from sklearn.ensemble import RandomForestClassifier\n",
    "from sklearn.linear_model import LogisticRegression\n",
    "import xgboost\n",
    "\n",
    "from sklearn.model_selection import RandomizedSearchCV\n",
    "from sklearn.model_selection import GridSearchCV\n",
    "from hyperopt import hp, Trials, fmin, tpe, STATUS_OK"
   ]
  },
  {
   "cell_type": "code",
   "execution_count": 95,
   "id": "bbe2ac6a",
   "metadata": {},
   "outputs": [],
   "source": [
    "results = pd.DataFrame(\n",
    "    index=[\n",
    "        ['Target1', 'Target1', 'Target1', 'Target1',\n",
    "         'Target2', 'Target2', 'Target2', 'Target2'],\n",
    "        ['f1 test', 'f1 train', 'AUC-ROC test', 'AUC-ROC train',\n",
    "         'f1 test', 'f1 train', 'AUC-ROC test', 'AUC-ROC train']\n",
    "    ],\n",
    "    columns=[\n",
    "        'Decision tree', 'Random forest', \n",
    "        'Logistic regression', 'XGBoost'\n",
    "    ]\n",
    ")"
   ]
  },
  {
   "cell_type": "code",
   "execution_count": 96,
   "id": "8c71f9b8",
   "metadata": {},
   "outputs": [],
   "source": [
    "def timer(start_time=None):\n",
    "    if not start_time:\n",
    "        start_time = datetime.now()\n",
    "        return start_time\n",
    "    elif start_time:\n",
    "        thour, temp_sec = divmod(\n",
    "            (datetime.now() - start_time).total_seconds(), 3600\n",
    "        )\n",
    "        tmin, tsec = divmod(temp_sec,60)"
   ]
  },
  {
   "cell_type": "markdown",
   "id": "e68db646",
   "metadata": {},
   "source": [
    "# Tar2\n",
    "# Дерево решений"
   ]
  },
  {
   "cell_type": "code",
   "execution_count": 97,
   "id": "7997a74f",
   "metadata": {},
   "outputs": [
    {
     "name": "stdout",
     "output_type": "stream",
     "text": [
      "Fitting 3 folds for each of 100 candidates, totalling 300 fits\n",
      "[CV 1/3] END criterion=gini, max_depth=6, max_features=log2, min_samples_leaf=1, min_samples_split=6, splitter=best; total time=   7.2s\n",
      "[CV 2/3] END criterion=gini, max_depth=6, max_features=log2, min_samples_leaf=1, min_samples_split=6, splitter=best; total time=   4.5s\n",
      "[CV 3/3] END criterion=gini, max_depth=6, max_features=log2, min_samples_leaf=1, min_samples_split=6, splitter=best; total time=   2.9s\n",
      "[CV 1/3] END criterion=gini, max_depth=4, max_features=auto, min_samples_leaf=7, min_samples_split=4, splitter=best; total time=   4.4s\n",
      "[CV 2/3] END criterion=gini, max_depth=4, max_features=auto, min_samples_leaf=7, min_samples_split=4, splitter=best; total time=   3.3s\n",
      "[CV 3/3] END criterion=gini, max_depth=4, max_features=auto, min_samples_leaf=7, min_samples_split=4, splitter=best; total time=   3.3s\n",
      "[CV 1/3] END criterion=gini, max_depth=2, max_features=auto, min_samples_leaf=1, min_samples_split=8, splitter=best; total time=   3.9s\n",
      "[CV 2/3] END criterion=gini, max_depth=2, max_features=auto, min_samples_leaf=1, min_samples_split=8, splitter=best; total time=   3.8s\n",
      "[CV 3/3] END criterion=gini, max_depth=2, max_features=auto, min_samples_leaf=1, min_samples_split=8, splitter=best; total time=   2.1s\n",
      "[CV 1/3] END criterion=gini, max_depth=1, max_features=None, min_samples_leaf=3, min_samples_split=4, splitter=random; total time=   2.7s\n",
      "[CV 2/3] END criterion=gini, max_depth=1, max_features=None, min_samples_leaf=3, min_samples_split=4, splitter=random; total time=   3.6s\n",
      "[CV 3/3] END criterion=gini, max_depth=1, max_features=None, min_samples_leaf=3, min_samples_split=4, splitter=random; total time=   4.0s\n",
      "[CV 1/3] END criterion=entropy, max_depth=1, max_features=None, min_samples_leaf=3, min_samples_split=6, splitter=random; total time=   2.7s\n",
      "[CV 2/3] END criterion=entropy, max_depth=1, max_features=None, min_samples_leaf=3, min_samples_split=6, splitter=random; total time=   5.6s\n",
      "[CV 3/3] END criterion=entropy, max_depth=1, max_features=None, min_samples_leaf=3, min_samples_split=6, splitter=random; total time=   4.9s\n",
      "[CV 1/3] END criterion=entropy, max_depth=8, max_features=sqrt, min_samples_leaf=5, min_samples_split=4, splitter=best; total time=   5.1s\n",
      "[CV 2/3] END criterion=entropy, max_depth=8, max_features=sqrt, min_samples_leaf=5, min_samples_split=4, splitter=best; total time=   4.0s\n",
      "[CV 3/3] END criterion=entropy, max_depth=8, max_features=sqrt, min_samples_leaf=5, min_samples_split=4, splitter=best; total time=   4.7s\n",
      "[CV 1/3] END criterion=entropy, max_depth=4, max_features=None, min_samples_leaf=3, min_samples_split=2, splitter=random; total time=   4.9s\n",
      "[CV 2/3] END criterion=entropy, max_depth=4, max_features=None, min_samples_leaf=3, min_samples_split=2, splitter=random; total time=   4.9s\n",
      "[CV 3/3] END criterion=entropy, max_depth=4, max_features=None, min_samples_leaf=3, min_samples_split=2, splitter=random; total time=   5.0s\n",
      "[CV 1/3] END criterion=gini, max_depth=2, max_features=log2, min_samples_leaf=7, min_samples_split=6, splitter=random; total time=   2.5s\n",
      "[CV 2/3] END criterion=gini, max_depth=2, max_features=log2, min_samples_leaf=7, min_samples_split=6, splitter=random; total time=   2.2s\n",
      "[CV 3/3] END criterion=gini, max_depth=2, max_features=log2, min_samples_leaf=7, min_samples_split=6, splitter=random; total time=   3.5s\n",
      "[CV 1/3] END criterion=gini, max_depth=4, max_features=None, min_samples_leaf=7, min_samples_split=8, splitter=best; total time=   7.4s\n",
      "[CV 2/3] END criterion=gini, max_depth=4, max_features=None, min_samples_leaf=7, min_samples_split=8, splitter=best; total time=   7.3s\n",
      "[CV 3/3] END criterion=gini, max_depth=4, max_features=None, min_samples_leaf=7, min_samples_split=8, splitter=best; total time=   8.0s\n"
     ]
    },
    {
     "name": "stderr",
     "output_type": "stream",
     "text": [
      "C:\\ProgramData\\Anaconda3\\lib\\site-packages\\sklearn\\model_selection\\_validation.py:610: FitFailedWarning: Estimator fit failed. The score on this train-test partition for these parameters will be set to nan. Details: \n",
      "Traceback (most recent call last):\n",
      "  File \"C:\\ProgramData\\Anaconda3\\lib\\site-packages\\sklearn\\model_selection\\_validation.py\", line 593, in _fit_and_score\n",
      "    estimator.fit(X_train, y_train, **fit_params)\n",
      "  File \"C:\\ProgramData\\Anaconda3\\lib\\site-packages\\sklearn\\tree\\_classes.py\", line 898, in fit\n",
      "    super().fit(\n",
      "  File \"C:\\ProgramData\\Anaconda3\\lib\\site-packages\\sklearn\\tree\\_classes.py\", line 237, in fit\n",
      "    raise ValueError(\"min_samples_split must be an integer \"\n",
      "ValueError: min_samples_split must be an integer greater than 1 or a float in (0.0, 1.0]; got the integer 1\n",
      "\n",
      "  warnings.warn(\"Estimator fit failed. The score on this train-test\"\n"
     ]
    },
    {
     "name": "stdout",
     "output_type": "stream",
     "text": [
      "[CV 1/3] END criterion=gini, max_depth=8, max_features=auto, min_samples_leaf=3, min_samples_split=1, splitter=best; total time=   1.5s\n"
     ]
    },
    {
     "name": "stderr",
     "output_type": "stream",
     "text": [
      "C:\\ProgramData\\Anaconda3\\lib\\site-packages\\sklearn\\model_selection\\_validation.py:610: FitFailedWarning: Estimator fit failed. The score on this train-test partition for these parameters will be set to nan. Details: \n",
      "Traceback (most recent call last):\n",
      "  File \"C:\\ProgramData\\Anaconda3\\lib\\site-packages\\sklearn\\model_selection\\_validation.py\", line 593, in _fit_and_score\n",
      "    estimator.fit(X_train, y_train, **fit_params)\n",
      "  File \"C:\\ProgramData\\Anaconda3\\lib\\site-packages\\sklearn\\tree\\_classes.py\", line 898, in fit\n",
      "    super().fit(\n",
      "  File \"C:\\ProgramData\\Anaconda3\\lib\\site-packages\\sklearn\\tree\\_classes.py\", line 237, in fit\n",
      "    raise ValueError(\"min_samples_split must be an integer \"\n",
      "ValueError: min_samples_split must be an integer greater than 1 or a float in (0.0, 1.0]; got the integer 1\n",
      "\n",
      "  warnings.warn(\"Estimator fit failed. The score on this train-test\"\n"
     ]
    },
    {
     "name": "stdout",
     "output_type": "stream",
     "text": [
      "[CV 2/3] END criterion=gini, max_depth=8, max_features=auto, min_samples_leaf=3, min_samples_split=1, splitter=best; total time=   1.7s\n"
     ]
    },
    {
     "name": "stderr",
     "output_type": "stream",
     "text": [
      "C:\\ProgramData\\Anaconda3\\lib\\site-packages\\sklearn\\model_selection\\_validation.py:610: FitFailedWarning: Estimator fit failed. The score on this train-test partition for these parameters will be set to nan. Details: \n",
      "Traceback (most recent call last):\n",
      "  File \"C:\\ProgramData\\Anaconda3\\lib\\site-packages\\sklearn\\model_selection\\_validation.py\", line 593, in _fit_and_score\n",
      "    estimator.fit(X_train, y_train, **fit_params)\n",
      "  File \"C:\\ProgramData\\Anaconda3\\lib\\site-packages\\sklearn\\tree\\_classes.py\", line 898, in fit\n",
      "    super().fit(\n",
      "  File \"C:\\ProgramData\\Anaconda3\\lib\\site-packages\\sklearn\\tree\\_classes.py\", line 237, in fit\n",
      "    raise ValueError(\"min_samples_split must be an integer \"\n",
      "ValueError: min_samples_split must be an integer greater than 1 or a float in (0.0, 1.0]; got the integer 1\n",
      "\n",
      "  warnings.warn(\"Estimator fit failed. The score on this train-test\"\n"
     ]
    },
    {
     "name": "stdout",
     "output_type": "stream",
     "text": [
      "[CV 3/3] END criterion=gini, max_depth=8, max_features=auto, min_samples_leaf=3, min_samples_split=1, splitter=best; total time=   2.2s\n",
      "[CV 1/3] END criterion=gini, max_depth=6, max_features=auto, min_samples_leaf=7, min_samples_split=4, splitter=best; total time=   3.8s\n",
      "[CV 2/3] END criterion=gini, max_depth=6, max_features=auto, min_samples_leaf=7, min_samples_split=4, splitter=best; total time=   2.4s\n",
      "[CV 3/3] END criterion=gini, max_depth=6, max_features=auto, min_samples_leaf=7, min_samples_split=4, splitter=best; total time=   3.4s\n",
      "[CV 1/3] END criterion=entropy, max_depth=2, max_features=None, min_samples_leaf=5, min_samples_split=2, splitter=random; total time=   2.6s\n",
      "[CV 2/3] END criterion=entropy, max_depth=2, max_features=None, min_samples_leaf=5, min_samples_split=2, splitter=random; total time=   3.2s\n",
      "[CV 3/3] END criterion=entropy, max_depth=2, max_features=None, min_samples_leaf=5, min_samples_split=2, splitter=random; total time=   3.5s\n",
      "[CV 1/3] END criterion=entropy, max_depth=2, max_features=auto, min_samples_leaf=1, min_samples_split=8, splitter=best; total time=   2.1s\n",
      "[CV 2/3] END criterion=entropy, max_depth=2, max_features=auto, min_samples_leaf=1, min_samples_split=8, splitter=best; total time=   2.4s\n",
      "[CV 3/3] END criterion=entropy, max_depth=2, max_features=auto, min_samples_leaf=1, min_samples_split=8, splitter=best; total time=   1.6s\n",
      "[CV 1/3] END criterion=entropy, max_depth=8, max_features=None, min_samples_leaf=1, min_samples_split=8, splitter=random; total time=   8.1s\n",
      "[CV 2/3] END criterion=entropy, max_depth=8, max_features=None, min_samples_leaf=1, min_samples_split=8, splitter=random; total time=   8.5s\n",
      "[CV 3/3] END criterion=entropy, max_depth=8, max_features=None, min_samples_leaf=1, min_samples_split=8, splitter=random; total time=   9.3s\n",
      "[CV 1/3] END criterion=gini, max_depth=6, max_features=sqrt, min_samples_leaf=5, min_samples_split=4, splitter=best; total time=   3.1s\n",
      "[CV 2/3] END criterion=gini, max_depth=6, max_features=sqrt, min_samples_leaf=5, min_samples_split=4, splitter=best; total time=   4.6s\n",
      "[CV 3/3] END criterion=gini, max_depth=6, max_features=sqrt, min_samples_leaf=5, min_samples_split=4, splitter=best; total time=   3.9s\n",
      "[CV 1/3] END criterion=gini, max_depth=1, max_features=log2, min_samples_leaf=5, min_samples_split=4, splitter=random; total time=   1.8s\n",
      "[CV 2/3] END criterion=gini, max_depth=1, max_features=log2, min_samples_leaf=5, min_samples_split=4, splitter=random; total time=   2.3s\n",
      "[CV 3/3] END criterion=gini, max_depth=1, max_features=log2, min_samples_leaf=5, min_samples_split=4, splitter=random; total time=   2.3s\n"
     ]
    },
    {
     "name": "stderr",
     "output_type": "stream",
     "text": [
      "C:\\ProgramData\\Anaconda3\\lib\\site-packages\\sklearn\\model_selection\\_validation.py:610: FitFailedWarning: Estimator fit failed. The score on this train-test partition for these parameters will be set to nan. Details: \n",
      "Traceback (most recent call last):\n",
      "  File \"C:\\ProgramData\\Anaconda3\\lib\\site-packages\\sklearn\\model_selection\\_validation.py\", line 593, in _fit_and_score\n",
      "    estimator.fit(X_train, y_train, **fit_params)\n",
      "  File \"C:\\ProgramData\\Anaconda3\\lib\\site-packages\\sklearn\\tree\\_classes.py\", line 898, in fit\n",
      "    super().fit(\n",
      "  File \"C:\\ProgramData\\Anaconda3\\lib\\site-packages\\sklearn\\tree\\_classes.py\", line 237, in fit\n",
      "    raise ValueError(\"min_samples_split must be an integer \"\n",
      "ValueError: min_samples_split must be an integer greater than 1 or a float in (0.0, 1.0]; got the integer 1\n",
      "\n",
      "  warnings.warn(\"Estimator fit failed. The score on this train-test\"\n"
     ]
    },
    {
     "name": "stdout",
     "output_type": "stream",
     "text": [
      "[CV 1/3] END criterion=gini, max_depth=1, max_features=auto, min_samples_leaf=7, min_samples_split=1, splitter=best; total time=   1.9s\n"
     ]
    },
    {
     "name": "stderr",
     "output_type": "stream",
     "text": [
      "C:\\ProgramData\\Anaconda3\\lib\\site-packages\\sklearn\\model_selection\\_validation.py:610: FitFailedWarning: Estimator fit failed. The score on this train-test partition for these parameters will be set to nan. Details: \n",
      "Traceback (most recent call last):\n",
      "  File \"C:\\ProgramData\\Anaconda3\\lib\\site-packages\\sklearn\\model_selection\\_validation.py\", line 593, in _fit_and_score\n",
      "    estimator.fit(X_train, y_train, **fit_params)\n",
      "  File \"C:\\ProgramData\\Anaconda3\\lib\\site-packages\\sklearn\\tree\\_classes.py\", line 898, in fit\n",
      "    super().fit(\n",
      "  File \"C:\\ProgramData\\Anaconda3\\lib\\site-packages\\sklearn\\tree\\_classes.py\", line 237, in fit\n",
      "    raise ValueError(\"min_samples_split must be an integer \"\n",
      "ValueError: min_samples_split must be an integer greater than 1 or a float in (0.0, 1.0]; got the integer 1\n",
      "\n",
      "  warnings.warn(\"Estimator fit failed. The score on this train-test\"\n"
     ]
    },
    {
     "name": "stdout",
     "output_type": "stream",
     "text": [
      "[CV 2/3] END criterion=gini, max_depth=1, max_features=auto, min_samples_leaf=7, min_samples_split=1, splitter=best; total time=   1.6s\n"
     ]
    },
    {
     "name": "stderr",
     "output_type": "stream",
     "text": [
      "C:\\ProgramData\\Anaconda3\\lib\\site-packages\\sklearn\\model_selection\\_validation.py:610: FitFailedWarning: Estimator fit failed. The score on this train-test partition for these parameters will be set to nan. Details: \n",
      "Traceback (most recent call last):\n",
      "  File \"C:\\ProgramData\\Anaconda3\\lib\\site-packages\\sklearn\\model_selection\\_validation.py\", line 593, in _fit_and_score\n",
      "    estimator.fit(X_train, y_train, **fit_params)\n",
      "  File \"C:\\ProgramData\\Anaconda3\\lib\\site-packages\\sklearn\\tree\\_classes.py\", line 898, in fit\n",
      "    super().fit(\n",
      "  File \"C:\\ProgramData\\Anaconda3\\lib\\site-packages\\sklearn\\tree\\_classes.py\", line 237, in fit\n",
      "    raise ValueError(\"min_samples_split must be an integer \"\n",
      "ValueError: min_samples_split must be an integer greater than 1 or a float in (0.0, 1.0]; got the integer 1\n",
      "\n",
      "  warnings.warn(\"Estimator fit failed. The score on this train-test\"\n"
     ]
    },
    {
     "name": "stdout",
     "output_type": "stream",
     "text": [
      "[CV 3/3] END criterion=gini, max_depth=1, max_features=auto, min_samples_leaf=7, min_samples_split=1, splitter=best; total time=   1.5s\n",
      "[CV 1/3] END criterion=entropy, max_depth=1, max_features=sqrt, min_samples_leaf=5, min_samples_split=4, splitter=best; total time=   2.5s\n",
      "[CV 2/3] END criterion=entropy, max_depth=1, max_features=sqrt, min_samples_leaf=5, min_samples_split=4, splitter=best; total time=   2.9s\n",
      "[CV 3/3] END criterion=entropy, max_depth=1, max_features=sqrt, min_samples_leaf=5, min_samples_split=4, splitter=best; total time=   2.0s\n",
      "[CV 1/3] END criterion=gini, max_depth=4, max_features=log2, min_samples_leaf=1, min_samples_split=6, splitter=random; total time=   2.5s\n",
      "[CV 2/3] END criterion=gini, max_depth=4, max_features=log2, min_samples_leaf=1, min_samples_split=6, splitter=random; total time=   4.0s\n",
      "[CV 3/3] END criterion=gini, max_depth=4, max_features=log2, min_samples_leaf=1, min_samples_split=6, splitter=random; total time=   2.2s\n",
      "[CV 1/3] END criterion=entropy, max_depth=4, max_features=auto, min_samples_leaf=3, min_samples_split=4, splitter=best; total time=   2.3s\n",
      "[CV 2/3] END criterion=entropy, max_depth=4, max_features=auto, min_samples_leaf=3, min_samples_split=4, splitter=best; total time=   1.8s\n",
      "[CV 3/3] END criterion=entropy, max_depth=4, max_features=auto, min_samples_leaf=3, min_samples_split=4, splitter=best; total time=   2.7s\n",
      "[CV 1/3] END criterion=entropy, max_depth=8, max_features=log2, min_samples_leaf=1, min_samples_split=6, splitter=random; total time=   2.9s\n",
      "[CV 2/3] END criterion=entropy, max_depth=8, max_features=log2, min_samples_leaf=1, min_samples_split=6, splitter=random; total time=   2.7s\n",
      "[CV 3/3] END criterion=entropy, max_depth=8, max_features=log2, min_samples_leaf=1, min_samples_split=6, splitter=random; total time=   2.0s\n",
      "[CV 1/3] END criterion=gini, max_depth=6, max_features=auto, min_samples_leaf=1, min_samples_split=4, splitter=random; total time=   3.1s\n",
      "[CV 2/3] END criterion=gini, max_depth=6, max_features=auto, min_samples_leaf=1, min_samples_split=4, splitter=random; total time=   2.0s\n",
      "[CV 3/3] END criterion=gini, max_depth=6, max_features=auto, min_samples_leaf=1, min_samples_split=4, splitter=random; total time=   2.7s\n",
      "[CV 1/3] END criterion=entropy, max_depth=8, max_features=sqrt, min_samples_leaf=5, min_samples_split=8, splitter=best; total time=   3.1s\n",
      "[CV 2/3] END criterion=entropy, max_depth=8, max_features=sqrt, min_samples_leaf=5, min_samples_split=8, splitter=best; total time=   3.3s\n",
      "[CV 3/3] END criterion=entropy, max_depth=8, max_features=sqrt, min_samples_leaf=5, min_samples_split=8, splitter=best; total time=   3.7s\n",
      "[CV 1/3] END criterion=gini, max_depth=4, max_features=log2, min_samples_leaf=3, min_samples_split=4, splitter=best; total time=   3.7s\n",
      "[CV 2/3] END criterion=gini, max_depth=4, max_features=log2, min_samples_leaf=3, min_samples_split=4, splitter=best; total time=   3.8s\n",
      "[CV 3/3] END criterion=gini, max_depth=4, max_features=log2, min_samples_leaf=3, min_samples_split=4, splitter=best; total time=   4.0s\n",
      "[CV 1/3] END criterion=gini, max_depth=1, max_features=auto, min_samples_leaf=5, min_samples_split=8, splitter=random; total time=   1.6s\n",
      "[CV 2/3] END criterion=gini, max_depth=1, max_features=auto, min_samples_leaf=5, min_samples_split=8, splitter=random; total time=   2.6s\n",
      "[CV 3/3] END criterion=gini, max_depth=1, max_features=auto, min_samples_leaf=5, min_samples_split=8, splitter=random; total time=   2.5s\n",
      "[CV 1/3] END criterion=entropy, max_depth=4, max_features=auto, min_samples_leaf=5, min_samples_split=2, splitter=best; total time=   3.3s\n",
      "[CV 2/3] END criterion=entropy, max_depth=4, max_features=auto, min_samples_leaf=5, min_samples_split=2, splitter=best; total time=   2.5s\n",
      "[CV 3/3] END criterion=entropy, max_depth=4, max_features=auto, min_samples_leaf=5, min_samples_split=2, splitter=best; total time=   2.5s\n",
      "[CV 1/3] END criterion=entropy, max_depth=1, max_features=None, min_samples_leaf=7, min_samples_split=8, splitter=best; total time=   3.4s\n",
      "[CV 2/3] END criterion=entropy, max_depth=1, max_features=None, min_samples_leaf=7, min_samples_split=8, splitter=best; total time=   4.8s\n",
      "[CV 3/3] END criterion=entropy, max_depth=1, max_features=None, min_samples_leaf=7, min_samples_split=8, splitter=best; total time=   3.7s\n",
      "[CV 1/3] END criterion=entropy, max_depth=8, max_features=auto, min_samples_leaf=5, min_samples_split=6, splitter=best; total time=   5.7s\n",
      "[CV 2/3] END criterion=entropy, max_depth=8, max_features=auto, min_samples_leaf=5, min_samples_split=6, splitter=best; total time=   4.4s\n",
      "[CV 3/3] END criterion=entropy, max_depth=8, max_features=auto, min_samples_leaf=5, min_samples_split=6, splitter=best; total time=   5.7s\n",
      "[CV 1/3] END criterion=gini, max_depth=4, max_features=auto, min_samples_leaf=3, min_samples_split=2, splitter=best; total time=   3.7s\n",
      "[CV 2/3] END criterion=gini, max_depth=4, max_features=auto, min_samples_leaf=3, min_samples_split=2, splitter=best; total time=   3.4s\n",
      "[CV 3/3] END criterion=gini, max_depth=4, max_features=auto, min_samples_leaf=3, min_samples_split=2, splitter=best; total time=   5.9s\n",
      "[CV 1/3] END criterion=gini, max_depth=8, max_features=log2, min_samples_leaf=7, min_samples_split=2, splitter=best; total time=   3.1s\n",
      "[CV 2/3] END criterion=gini, max_depth=8, max_features=log2, min_samples_leaf=7, min_samples_split=2, splitter=best; total time=   4.1s\n",
      "[CV 3/3] END criterion=gini, max_depth=8, max_features=log2, min_samples_leaf=7, min_samples_split=2, splitter=best; total time=   3.2s\n"
     ]
    },
    {
     "name": "stderr",
     "output_type": "stream",
     "text": [
      "C:\\ProgramData\\Anaconda3\\lib\\site-packages\\sklearn\\model_selection\\_validation.py:610: FitFailedWarning: Estimator fit failed. The score on this train-test partition for these parameters will be set to nan. Details: \n",
      "Traceback (most recent call last):\n",
      "  File \"C:\\ProgramData\\Anaconda3\\lib\\site-packages\\sklearn\\model_selection\\_validation.py\", line 593, in _fit_and_score\n",
      "    estimator.fit(X_train, y_train, **fit_params)\n",
      "  File \"C:\\ProgramData\\Anaconda3\\lib\\site-packages\\sklearn\\tree\\_classes.py\", line 898, in fit\n",
      "    super().fit(\n",
      "  File \"C:\\ProgramData\\Anaconda3\\lib\\site-packages\\sklearn\\tree\\_classes.py\", line 237, in fit\n",
      "    raise ValueError(\"min_samples_split must be an integer \"\n",
      "ValueError: min_samples_split must be an integer greater than 1 or a float in (0.0, 1.0]; got the integer 1\n",
      "\n",
      "  warnings.warn(\"Estimator fit failed. The score on this train-test\"\n"
     ]
    },
    {
     "name": "stdout",
     "output_type": "stream",
     "text": [
      "[CV 1/3] END criterion=gini, max_depth=1, max_features=log2, min_samples_leaf=7, min_samples_split=1, splitter=best; total time=   2.9s\n"
     ]
    },
    {
     "name": "stderr",
     "output_type": "stream",
     "text": [
      "C:\\ProgramData\\Anaconda3\\lib\\site-packages\\sklearn\\model_selection\\_validation.py:610: FitFailedWarning: Estimator fit failed. The score on this train-test partition for these parameters will be set to nan. Details: \n",
      "Traceback (most recent call last):\n",
      "  File \"C:\\ProgramData\\Anaconda3\\lib\\site-packages\\sklearn\\model_selection\\_validation.py\", line 593, in _fit_and_score\n",
      "    estimator.fit(X_train, y_train, **fit_params)\n",
      "  File \"C:\\ProgramData\\Anaconda3\\lib\\site-packages\\sklearn\\tree\\_classes.py\", line 898, in fit\n",
      "    super().fit(\n",
      "  File \"C:\\ProgramData\\Anaconda3\\lib\\site-packages\\sklearn\\tree\\_classes.py\", line 237, in fit\n",
      "    raise ValueError(\"min_samples_split must be an integer \"\n",
      "ValueError: min_samples_split must be an integer greater than 1 or a float in (0.0, 1.0]; got the integer 1\n",
      "\n",
      "  warnings.warn(\"Estimator fit failed. The score on this train-test\"\n"
     ]
    },
    {
     "name": "stdout",
     "output_type": "stream",
     "text": [
      "[CV 2/3] END criterion=gini, max_depth=1, max_features=log2, min_samples_leaf=7, min_samples_split=1, splitter=best; total time=   1.9s\n"
     ]
    },
    {
     "name": "stderr",
     "output_type": "stream",
     "text": [
      "C:\\ProgramData\\Anaconda3\\lib\\site-packages\\sklearn\\model_selection\\_validation.py:610: FitFailedWarning: Estimator fit failed. The score on this train-test partition for these parameters will be set to nan. Details: \n",
      "Traceback (most recent call last):\n",
      "  File \"C:\\ProgramData\\Anaconda3\\lib\\site-packages\\sklearn\\model_selection\\_validation.py\", line 593, in _fit_and_score\n",
      "    estimator.fit(X_train, y_train, **fit_params)\n",
      "  File \"C:\\ProgramData\\Anaconda3\\lib\\site-packages\\sklearn\\tree\\_classes.py\", line 898, in fit\n",
      "    super().fit(\n",
      "  File \"C:\\ProgramData\\Anaconda3\\lib\\site-packages\\sklearn\\tree\\_classes.py\", line 237, in fit\n",
      "    raise ValueError(\"min_samples_split must be an integer \"\n",
      "ValueError: min_samples_split must be an integer greater than 1 or a float in (0.0, 1.0]; got the integer 1\n",
      "\n",
      "  warnings.warn(\"Estimator fit failed. The score on this train-test\"\n"
     ]
    },
    {
     "name": "stdout",
     "output_type": "stream",
     "text": [
      "[CV 3/3] END criterion=gini, max_depth=1, max_features=log2, min_samples_leaf=7, min_samples_split=1, splitter=best; total time=   2.1s\n",
      "[CV 1/3] END criterion=gini, max_depth=2, max_features=None, min_samples_leaf=1, min_samples_split=8, splitter=random; total time=   4.1s\n",
      "[CV 2/3] END criterion=gini, max_depth=2, max_features=None, min_samples_leaf=1, min_samples_split=8, splitter=random; total time=   3.5s\n",
      "[CV 3/3] END criterion=gini, max_depth=2, max_features=None, min_samples_leaf=1, min_samples_split=8, splitter=random; total time=   2.7s\n",
      "[CV 1/3] END criterion=entropy, max_depth=2, max_features=auto, min_samples_leaf=5, min_samples_split=6, splitter=random; total time=   2.1s\n",
      "[CV 2/3] END criterion=entropy, max_depth=2, max_features=auto, min_samples_leaf=5, min_samples_split=6, splitter=random; total time=   1.5s\n",
      "[CV 3/3] END criterion=entropy, max_depth=2, max_features=auto, min_samples_leaf=5, min_samples_split=6, splitter=random; total time=   1.1s\n",
      "[CV 1/3] END criterion=entropy, max_depth=8, max_features=sqrt, min_samples_leaf=1, min_samples_split=6, splitter=best; total time=   3.8s\n",
      "[CV 2/3] END criterion=entropy, max_depth=8, max_features=sqrt, min_samples_leaf=1, min_samples_split=6, splitter=best; total time=   2.9s\n",
      "[CV 3/3] END criterion=entropy, max_depth=8, max_features=sqrt, min_samples_leaf=1, min_samples_split=6, splitter=best; total time=   3.4s\n",
      "[CV 1/3] END criterion=gini, max_depth=4, max_features=sqrt, min_samples_leaf=3, min_samples_split=6, splitter=best; total time=   3.0s\n",
      "[CV 2/3] END criterion=gini, max_depth=4, max_features=sqrt, min_samples_leaf=3, min_samples_split=6, splitter=best; total time=   4.0s\n",
      "[CV 3/3] END criterion=gini, max_depth=4, max_features=sqrt, min_samples_leaf=3, min_samples_split=6, splitter=best; total time=   3.1s\n",
      "[CV 1/3] END criterion=entropy, max_depth=2, max_features=None, min_samples_leaf=1, min_samples_split=6, splitter=random; total time=   5.3s\n",
      "[CV 2/3] END criterion=entropy, max_depth=2, max_features=None, min_samples_leaf=1, min_samples_split=6, splitter=random; total time=   4.1s\n",
      "[CV 3/3] END criterion=entropy, max_depth=2, max_features=None, min_samples_leaf=1, min_samples_split=6, splitter=random; total time=   6.0s\n",
      "[CV 1/3] END criterion=gini, max_depth=4, max_features=auto, min_samples_leaf=1, min_samples_split=4, splitter=best; total time=   3.1s\n",
      "[CV 2/3] END criterion=gini, max_depth=4, max_features=auto, min_samples_leaf=1, min_samples_split=4, splitter=best; total time=   4.3s\n",
      "[CV 3/3] END criterion=gini, max_depth=4, max_features=auto, min_samples_leaf=1, min_samples_split=4, splitter=best; total time=   2.2s\n",
      "[CV 1/3] END criterion=gini, max_depth=6, max_features=None, min_samples_leaf=3, min_samples_split=6, splitter=random; total time=   7.4s\n",
      "[CV 2/3] END criterion=gini, max_depth=6, max_features=None, min_samples_leaf=3, min_samples_split=6, splitter=random; total time=   6.3s\n",
      "[CV 3/3] END criterion=gini, max_depth=6, max_features=None, min_samples_leaf=3, min_samples_split=6, splitter=random; total time=   7.8s\n"
     ]
    },
    {
     "name": "stderr",
     "output_type": "stream",
     "text": [
      "C:\\ProgramData\\Anaconda3\\lib\\site-packages\\sklearn\\model_selection\\_validation.py:610: FitFailedWarning: Estimator fit failed. The score on this train-test partition for these parameters will be set to nan. Details: \n",
      "Traceback (most recent call last):\n",
      "  File \"C:\\ProgramData\\Anaconda3\\lib\\site-packages\\sklearn\\model_selection\\_validation.py\", line 593, in _fit_and_score\n",
      "    estimator.fit(X_train, y_train, **fit_params)\n",
      "  File \"C:\\ProgramData\\Anaconda3\\lib\\site-packages\\sklearn\\tree\\_classes.py\", line 898, in fit\n",
      "    super().fit(\n",
      "  File \"C:\\ProgramData\\Anaconda3\\lib\\site-packages\\sklearn\\tree\\_classes.py\", line 237, in fit\n",
      "    raise ValueError(\"min_samples_split must be an integer \"\n",
      "ValueError: min_samples_split must be an integer greater than 1 or a float in (0.0, 1.0]; got the integer 1\n",
      "\n",
      "  warnings.warn(\"Estimator fit failed. The score on this train-test\"\n"
     ]
    },
    {
     "name": "stdout",
     "output_type": "stream",
     "text": [
      "[CV 1/3] END criterion=gini, max_depth=4, max_features=log2, min_samples_leaf=5, min_samples_split=1, splitter=best; total time=   1.9s\n"
     ]
    },
    {
     "name": "stderr",
     "output_type": "stream",
     "text": [
      "C:\\ProgramData\\Anaconda3\\lib\\site-packages\\sklearn\\model_selection\\_validation.py:610: FitFailedWarning: Estimator fit failed. The score on this train-test partition for these parameters will be set to nan. Details: \n",
      "Traceback (most recent call last):\n",
      "  File \"C:\\ProgramData\\Anaconda3\\lib\\site-packages\\sklearn\\model_selection\\_validation.py\", line 593, in _fit_and_score\n",
      "    estimator.fit(X_train, y_train, **fit_params)\n",
      "  File \"C:\\ProgramData\\Anaconda3\\lib\\site-packages\\sklearn\\tree\\_classes.py\", line 898, in fit\n",
      "    super().fit(\n",
      "  File \"C:\\ProgramData\\Anaconda3\\lib\\site-packages\\sklearn\\tree\\_classes.py\", line 237, in fit\n",
      "    raise ValueError(\"min_samples_split must be an integer \"\n",
      "ValueError: min_samples_split must be an integer greater than 1 or a float in (0.0, 1.0]; got the integer 1\n",
      "\n",
      "  warnings.warn(\"Estimator fit failed. The score on this train-test\"\n"
     ]
    },
    {
     "name": "stdout",
     "output_type": "stream",
     "text": [
      "[CV 2/3] END criterion=gini, max_depth=4, max_features=log2, min_samples_leaf=5, min_samples_split=1, splitter=best; total time=   2.8s\n"
     ]
    },
    {
     "name": "stderr",
     "output_type": "stream",
     "text": [
      "C:\\ProgramData\\Anaconda3\\lib\\site-packages\\sklearn\\model_selection\\_validation.py:610: FitFailedWarning: Estimator fit failed. The score on this train-test partition for these parameters will be set to nan. Details: \n",
      "Traceback (most recent call last):\n",
      "  File \"C:\\ProgramData\\Anaconda3\\lib\\site-packages\\sklearn\\model_selection\\_validation.py\", line 593, in _fit_and_score\n",
      "    estimator.fit(X_train, y_train, **fit_params)\n",
      "  File \"C:\\ProgramData\\Anaconda3\\lib\\site-packages\\sklearn\\tree\\_classes.py\", line 898, in fit\n",
      "    super().fit(\n",
      "  File \"C:\\ProgramData\\Anaconda3\\lib\\site-packages\\sklearn\\tree\\_classes.py\", line 237, in fit\n",
      "    raise ValueError(\"min_samples_split must be an integer \"\n",
      "ValueError: min_samples_split must be an integer greater than 1 or a float in (0.0, 1.0]; got the integer 1\n",
      "\n",
      "  warnings.warn(\"Estimator fit failed. The score on this train-test\"\n"
     ]
    },
    {
     "name": "stdout",
     "output_type": "stream",
     "text": [
      "[CV 3/3] END criterion=gini, max_depth=4, max_features=log2, min_samples_leaf=5, min_samples_split=1, splitter=best; total time=   3.9s\n",
      "[CV 1/3] END criterion=gini, max_depth=2, max_features=auto, min_samples_leaf=3, min_samples_split=2, splitter=random; total time=   2.6s\n",
      "[CV 2/3] END criterion=gini, max_depth=2, max_features=auto, min_samples_leaf=3, min_samples_split=2, splitter=random; total time=   3.0s\n",
      "[CV 3/3] END criterion=gini, max_depth=2, max_features=auto, min_samples_leaf=3, min_samples_split=2, splitter=random; total time=   3.1s\n",
      "[CV 1/3] END criterion=gini, max_depth=6, max_features=None, min_samples_leaf=7, min_samples_split=4, splitter=best; total time=  10.4s\n",
      "[CV 2/3] END criterion=gini, max_depth=6, max_features=None, min_samples_leaf=7, min_samples_split=4, splitter=best; total time=  10.5s\n",
      "[CV 3/3] END criterion=gini, max_depth=6, max_features=None, min_samples_leaf=7, min_samples_split=4, splitter=best; total time=  10.1s\n"
     ]
    },
    {
     "name": "stderr",
     "output_type": "stream",
     "text": [
      "C:\\ProgramData\\Anaconda3\\lib\\site-packages\\sklearn\\model_selection\\_validation.py:610: FitFailedWarning: Estimator fit failed. The score on this train-test partition for these parameters will be set to nan. Details: \n",
      "Traceback (most recent call last):\n",
      "  File \"C:\\ProgramData\\Anaconda3\\lib\\site-packages\\sklearn\\model_selection\\_validation.py\", line 593, in _fit_and_score\n",
      "    estimator.fit(X_train, y_train, **fit_params)\n",
      "  File \"C:\\ProgramData\\Anaconda3\\lib\\site-packages\\sklearn\\tree\\_classes.py\", line 898, in fit\n",
      "    super().fit(\n",
      "  File \"C:\\ProgramData\\Anaconda3\\lib\\site-packages\\sklearn\\tree\\_classes.py\", line 237, in fit\n",
      "    raise ValueError(\"min_samples_split must be an integer \"\n",
      "ValueError: min_samples_split must be an integer greater than 1 or a float in (0.0, 1.0]; got the integer 1\n",
      "\n",
      "  warnings.warn(\"Estimator fit failed. The score on this train-test\"\n"
     ]
    },
    {
     "name": "stdout",
     "output_type": "stream",
     "text": [
      "[CV 1/3] END criterion=gini, max_depth=8, max_features=log2, min_samples_leaf=5, min_samples_split=1, splitter=random; total time=   3.7s\n"
     ]
    },
    {
     "name": "stderr",
     "output_type": "stream",
     "text": [
      "C:\\ProgramData\\Anaconda3\\lib\\site-packages\\sklearn\\model_selection\\_validation.py:610: FitFailedWarning: Estimator fit failed. The score on this train-test partition for these parameters will be set to nan. Details: \n",
      "Traceback (most recent call last):\n",
      "  File \"C:\\ProgramData\\Anaconda3\\lib\\site-packages\\sklearn\\model_selection\\_validation.py\", line 593, in _fit_and_score\n",
      "    estimator.fit(X_train, y_train, **fit_params)\n",
      "  File \"C:\\ProgramData\\Anaconda3\\lib\\site-packages\\sklearn\\tree\\_classes.py\", line 898, in fit\n",
      "    super().fit(\n",
      "  File \"C:\\ProgramData\\Anaconda3\\lib\\site-packages\\sklearn\\tree\\_classes.py\", line 237, in fit\n",
      "    raise ValueError(\"min_samples_split must be an integer \"\n",
      "ValueError: min_samples_split must be an integer greater than 1 or a float in (0.0, 1.0]; got the integer 1\n",
      "\n",
      "  warnings.warn(\"Estimator fit failed. The score on this train-test\"\n"
     ]
    },
    {
     "name": "stdout",
     "output_type": "stream",
     "text": [
      "[CV 2/3] END criterion=gini, max_depth=8, max_features=log2, min_samples_leaf=5, min_samples_split=1, splitter=random; total time=   4.8s\n"
     ]
    },
    {
     "name": "stderr",
     "output_type": "stream",
     "text": [
      "C:\\ProgramData\\Anaconda3\\lib\\site-packages\\sklearn\\model_selection\\_validation.py:610: FitFailedWarning: Estimator fit failed. The score on this train-test partition for these parameters will be set to nan. Details: \n",
      "Traceback (most recent call last):\n",
      "  File \"C:\\ProgramData\\Anaconda3\\lib\\site-packages\\sklearn\\model_selection\\_validation.py\", line 593, in _fit_and_score\n",
      "    estimator.fit(X_train, y_train, **fit_params)\n",
      "  File \"C:\\ProgramData\\Anaconda3\\lib\\site-packages\\sklearn\\tree\\_classes.py\", line 898, in fit\n",
      "    super().fit(\n",
      "  File \"C:\\ProgramData\\Anaconda3\\lib\\site-packages\\sklearn\\tree\\_classes.py\", line 237, in fit\n",
      "    raise ValueError(\"min_samples_split must be an integer \"\n",
      "ValueError: min_samples_split must be an integer greater than 1 or a float in (0.0, 1.0]; got the integer 1\n",
      "\n",
      "  warnings.warn(\"Estimator fit failed. The score on this train-test\"\n"
     ]
    },
    {
     "name": "stdout",
     "output_type": "stream",
     "text": [
      "[CV 3/3] END criterion=gini, max_depth=8, max_features=log2, min_samples_leaf=5, min_samples_split=1, splitter=random; total time=   1.8s\n"
     ]
    },
    {
     "name": "stderr",
     "output_type": "stream",
     "text": [
      "C:\\ProgramData\\Anaconda3\\lib\\site-packages\\sklearn\\model_selection\\_validation.py:610: FitFailedWarning: Estimator fit failed. The score on this train-test partition for these parameters will be set to nan. Details: \n",
      "Traceback (most recent call last):\n",
      "  File \"C:\\ProgramData\\Anaconda3\\lib\\site-packages\\sklearn\\model_selection\\_validation.py\", line 593, in _fit_and_score\n",
      "    estimator.fit(X_train, y_train, **fit_params)\n",
      "  File \"C:\\ProgramData\\Anaconda3\\lib\\site-packages\\sklearn\\tree\\_classes.py\", line 898, in fit\n",
      "    super().fit(\n",
      "  File \"C:\\ProgramData\\Anaconda3\\lib\\site-packages\\sklearn\\tree\\_classes.py\", line 237, in fit\n",
      "    raise ValueError(\"min_samples_split must be an integer \"\n",
      "ValueError: min_samples_split must be an integer greater than 1 or a float in (0.0, 1.0]; got the integer 1\n",
      "\n",
      "  warnings.warn(\"Estimator fit failed. The score on this train-test\"\n"
     ]
    },
    {
     "name": "stdout",
     "output_type": "stream",
     "text": [
      "[CV 1/3] END criterion=entropy, max_depth=8, max_features=sqrt, min_samples_leaf=1, min_samples_split=1, splitter=random; total time=   2.8s\n"
     ]
    },
    {
     "name": "stderr",
     "output_type": "stream",
     "text": [
      "C:\\ProgramData\\Anaconda3\\lib\\site-packages\\sklearn\\model_selection\\_validation.py:610: FitFailedWarning: Estimator fit failed. The score on this train-test partition for these parameters will be set to nan. Details: \n",
      "Traceback (most recent call last):\n",
      "  File \"C:\\ProgramData\\Anaconda3\\lib\\site-packages\\sklearn\\model_selection\\_validation.py\", line 593, in _fit_and_score\n",
      "    estimator.fit(X_train, y_train, **fit_params)\n",
      "  File \"C:\\ProgramData\\Anaconda3\\lib\\site-packages\\sklearn\\tree\\_classes.py\", line 898, in fit\n",
      "    super().fit(\n",
      "  File \"C:\\ProgramData\\Anaconda3\\lib\\site-packages\\sklearn\\tree\\_classes.py\", line 237, in fit\n",
      "    raise ValueError(\"min_samples_split must be an integer \"\n",
      "ValueError: min_samples_split must be an integer greater than 1 or a float in (0.0, 1.0]; got the integer 1\n",
      "\n",
      "  warnings.warn(\"Estimator fit failed. The score on this train-test\"\n"
     ]
    },
    {
     "name": "stdout",
     "output_type": "stream",
     "text": [
      "[CV 2/3] END criterion=entropy, max_depth=8, max_features=sqrt, min_samples_leaf=1, min_samples_split=1, splitter=random; total time=   1.3s\n"
     ]
    },
    {
     "name": "stderr",
     "output_type": "stream",
     "text": [
      "C:\\ProgramData\\Anaconda3\\lib\\site-packages\\sklearn\\model_selection\\_validation.py:610: FitFailedWarning: Estimator fit failed. The score on this train-test partition for these parameters will be set to nan. Details: \n",
      "Traceback (most recent call last):\n",
      "  File \"C:\\ProgramData\\Anaconda3\\lib\\site-packages\\sklearn\\model_selection\\_validation.py\", line 593, in _fit_and_score\n",
      "    estimator.fit(X_train, y_train, **fit_params)\n",
      "  File \"C:\\ProgramData\\Anaconda3\\lib\\site-packages\\sklearn\\tree\\_classes.py\", line 898, in fit\n",
      "    super().fit(\n",
      "  File \"C:\\ProgramData\\Anaconda3\\lib\\site-packages\\sklearn\\tree\\_classes.py\", line 237, in fit\n",
      "    raise ValueError(\"min_samples_split must be an integer \"\n",
      "ValueError: min_samples_split must be an integer greater than 1 or a float in (0.0, 1.0]; got the integer 1\n",
      "\n",
      "  warnings.warn(\"Estimator fit failed. The score on this train-test\"\n"
     ]
    },
    {
     "name": "stdout",
     "output_type": "stream",
     "text": [
      "[CV 3/3] END criterion=entropy, max_depth=8, max_features=sqrt, min_samples_leaf=1, min_samples_split=1, splitter=random; total time=   0.8s\n",
      "[CV 1/3] END criterion=gini, max_depth=1, max_features=auto, min_samples_leaf=5, min_samples_split=2, splitter=random; total time=   1.0s\n",
      "[CV 2/3] END criterion=gini, max_depth=1, max_features=auto, min_samples_leaf=5, min_samples_split=2, splitter=random; total time=   1.3s\n",
      "[CV 3/3] END criterion=gini, max_depth=1, max_features=auto, min_samples_leaf=5, min_samples_split=2, splitter=random; total time=   1.8s\n",
      "[CV 1/3] END criterion=entropy, max_depth=8, max_features=sqrt, min_samples_leaf=1, min_samples_split=2, splitter=random; total time=   2.1s\n",
      "[CV 2/3] END criterion=entropy, max_depth=8, max_features=sqrt, min_samples_leaf=1, min_samples_split=2, splitter=random; total time=   1.8s\n",
      "[CV 3/3] END criterion=entropy, max_depth=8, max_features=sqrt, min_samples_leaf=1, min_samples_split=2, splitter=random; total time=   1.6s\n",
      "[CV 1/3] END criterion=gini, max_depth=1, max_features=auto, min_samples_leaf=7, min_samples_split=2, splitter=best; total time=   1.2s\n",
      "[CV 2/3] END criterion=gini, max_depth=1, max_features=auto, min_samples_leaf=7, min_samples_split=2, splitter=best; total time=   3.0s\n",
      "[CV 3/3] END criterion=gini, max_depth=1, max_features=auto, min_samples_leaf=7, min_samples_split=2, splitter=best; total time=   2.4s\n",
      "[CV 1/3] END criterion=gini, max_depth=6, max_features=sqrt, min_samples_leaf=1, min_samples_split=6, splitter=best; total time=   2.3s\n",
      "[CV 2/3] END criterion=gini, max_depth=6, max_features=sqrt, min_samples_leaf=1, min_samples_split=6, splitter=best; total time=   2.5s\n",
      "[CV 3/3] END criterion=gini, max_depth=6, max_features=sqrt, min_samples_leaf=1, min_samples_split=6, splitter=best; total time=   2.4s\n",
      "[CV 1/3] END criterion=gini, max_depth=1, max_features=sqrt, min_samples_leaf=3, min_samples_split=8, splitter=random; total time=   2.4s\n",
      "[CV 2/3] END criterion=gini, max_depth=1, max_features=sqrt, min_samples_leaf=3, min_samples_split=8, splitter=random; total time=   1.5s\n",
      "[CV 3/3] END criterion=gini, max_depth=1, max_features=sqrt, min_samples_leaf=3, min_samples_split=8, splitter=random; total time=   0.9s\n",
      "[CV 1/3] END criterion=gini, max_depth=6, max_features=auto, min_samples_leaf=7, min_samples_split=8, splitter=best; total time=   2.4s\n",
      "[CV 2/3] END criterion=gini, max_depth=6, max_features=auto, min_samples_leaf=7, min_samples_split=8, splitter=best; total time=   3.0s\n",
      "[CV 3/3] END criterion=gini, max_depth=6, max_features=auto, min_samples_leaf=7, min_samples_split=8, splitter=best; total time=   2.1s\n",
      "[CV 1/3] END criterion=entropy, max_depth=4, max_features=log2, min_samples_leaf=5, min_samples_split=6, splitter=random; total time=   1.2s\n",
      "[CV 2/3] END criterion=entropy, max_depth=4, max_features=log2, min_samples_leaf=5, min_samples_split=6, splitter=random; total time=   1.0s\n",
      "[CV 3/3] END criterion=entropy, max_depth=4, max_features=log2, min_samples_leaf=5, min_samples_split=6, splitter=random; total time=   1.7s\n",
      "[CV 1/3] END criterion=entropy, max_depth=6, max_features=log2, min_samples_leaf=7, min_samples_split=2, splitter=best; total time=   4.0s\n",
      "[CV 2/3] END criterion=entropy, max_depth=6, max_features=log2, min_samples_leaf=7, min_samples_split=2, splitter=best; total time=   2.5s\n",
      "[CV 3/3] END criterion=entropy, max_depth=6, max_features=log2, min_samples_leaf=7, min_samples_split=2, splitter=best; total time=   2.1s\n",
      "[CV 1/3] END criterion=entropy, max_depth=4, max_features=log2, min_samples_leaf=3, min_samples_split=4, splitter=random; total time=   1.8s\n",
      "[CV 2/3] END criterion=entropy, max_depth=4, max_features=log2, min_samples_leaf=3, min_samples_split=4, splitter=random; total time=   2.8s\n",
      "[CV 3/3] END criterion=entropy, max_depth=4, max_features=log2, min_samples_leaf=3, min_samples_split=4, splitter=random; total time=   2.4s\n",
      "[CV 1/3] END criterion=entropy, max_depth=1, max_features=auto, min_samples_leaf=1, min_samples_split=6, splitter=random; total time=   1.6s\n",
      "[CV 2/3] END criterion=entropy, max_depth=1, max_features=auto, min_samples_leaf=1, min_samples_split=6, splitter=random; total time=   2.0s\n",
      "[CV 3/3] END criterion=entropy, max_depth=1, max_features=auto, min_samples_leaf=1, min_samples_split=6, splitter=random; total time=   2.2s\n",
      "[CV 1/3] END criterion=gini, max_depth=4, max_features=log2, min_samples_leaf=7, min_samples_split=4, splitter=best; total time=   2.6s\n",
      "[CV 2/3] END criterion=gini, max_depth=4, max_features=log2, min_samples_leaf=7, min_samples_split=4, splitter=best; total time=   2.6s\n",
      "[CV 3/3] END criterion=gini, max_depth=4, max_features=log2, min_samples_leaf=7, min_samples_split=4, splitter=best; total time=   1.9s\n",
      "[CV 1/3] END criterion=entropy, max_depth=6, max_features=sqrt, min_samples_leaf=7, min_samples_split=4, splitter=random; total time=   2.4s\n",
      "[CV 2/3] END criterion=entropy, max_depth=6, max_features=sqrt, min_samples_leaf=7, min_samples_split=4, splitter=random; total time=   2.0s\n",
      "[CV 3/3] END criterion=entropy, max_depth=6, max_features=sqrt, min_samples_leaf=7, min_samples_split=4, splitter=random; total time=   2.2s\n",
      "[CV 1/3] END criterion=entropy, max_depth=8, max_features=auto, min_samples_leaf=3, min_samples_split=2, splitter=best; total time=   3.4s\n",
      "[CV 2/3] END criterion=entropy, max_depth=8, max_features=auto, min_samples_leaf=3, min_samples_split=2, splitter=best; total time=   3.2s\n",
      "[CV 3/3] END criterion=entropy, max_depth=8, max_features=auto, min_samples_leaf=3, min_samples_split=2, splitter=best; total time=   3.2s\n",
      "[CV 1/3] END criterion=gini, max_depth=4, max_features=auto, min_samples_leaf=7, min_samples_split=2, splitter=best; total time=   2.2s\n",
      "[CV 2/3] END criterion=gini, max_depth=4, max_features=auto, min_samples_leaf=7, min_samples_split=2, splitter=best; total time=   4.1s\n",
      "[CV 3/3] END criterion=gini, max_depth=4, max_features=auto, min_samples_leaf=7, min_samples_split=2, splitter=best; total time=   2.4s\n"
     ]
    },
    {
     "name": "stderr",
     "output_type": "stream",
     "text": [
      "C:\\ProgramData\\Anaconda3\\lib\\site-packages\\sklearn\\model_selection\\_validation.py:610: FitFailedWarning: Estimator fit failed. The score on this train-test partition for these parameters will be set to nan. Details: \n",
      "Traceback (most recent call last):\n",
      "  File \"C:\\ProgramData\\Anaconda3\\lib\\site-packages\\sklearn\\model_selection\\_validation.py\", line 593, in _fit_and_score\n",
      "    estimator.fit(X_train, y_train, **fit_params)\n",
      "  File \"C:\\ProgramData\\Anaconda3\\lib\\site-packages\\sklearn\\tree\\_classes.py\", line 898, in fit\n",
      "    super().fit(\n",
      "  File \"C:\\ProgramData\\Anaconda3\\lib\\site-packages\\sklearn\\tree\\_classes.py\", line 237, in fit\n",
      "    raise ValueError(\"min_samples_split must be an integer \"\n",
      "ValueError: min_samples_split must be an integer greater than 1 or a float in (0.0, 1.0]; got the integer 1\n",
      "\n",
      "  warnings.warn(\"Estimator fit failed. The score on this train-test\"\n"
     ]
    },
    {
     "name": "stdout",
     "output_type": "stream",
     "text": [
      "[CV 1/3] END criterion=gini, max_depth=6, max_features=sqrt, min_samples_leaf=3, min_samples_split=1, splitter=best; total time=   1.4s\n"
     ]
    },
    {
     "name": "stderr",
     "output_type": "stream",
     "text": [
      "C:\\ProgramData\\Anaconda3\\lib\\site-packages\\sklearn\\model_selection\\_validation.py:610: FitFailedWarning: Estimator fit failed. The score on this train-test partition for these parameters will be set to nan. Details: \n",
      "Traceback (most recent call last):\n",
      "  File \"C:\\ProgramData\\Anaconda3\\lib\\site-packages\\sklearn\\model_selection\\_validation.py\", line 593, in _fit_and_score\n",
      "    estimator.fit(X_train, y_train, **fit_params)\n",
      "  File \"C:\\ProgramData\\Anaconda3\\lib\\site-packages\\sklearn\\tree\\_classes.py\", line 898, in fit\n",
      "    super().fit(\n",
      "  File \"C:\\ProgramData\\Anaconda3\\lib\\site-packages\\sklearn\\tree\\_classes.py\", line 237, in fit\n",
      "    raise ValueError(\"min_samples_split must be an integer \"\n",
      "ValueError: min_samples_split must be an integer greater than 1 or a float in (0.0, 1.0]; got the integer 1\n",
      "\n",
      "  warnings.warn(\"Estimator fit failed. The score on this train-test\"\n"
     ]
    },
    {
     "name": "stdout",
     "output_type": "stream",
     "text": [
      "[CV 2/3] END criterion=gini, max_depth=6, max_features=sqrt, min_samples_leaf=3, min_samples_split=1, splitter=best; total time=   1.0s\n"
     ]
    },
    {
     "name": "stderr",
     "output_type": "stream",
     "text": [
      "C:\\ProgramData\\Anaconda3\\lib\\site-packages\\sklearn\\model_selection\\_validation.py:610: FitFailedWarning: Estimator fit failed. The score on this train-test partition for these parameters will be set to nan. Details: \n",
      "Traceback (most recent call last):\n",
      "  File \"C:\\ProgramData\\Anaconda3\\lib\\site-packages\\sklearn\\model_selection\\_validation.py\", line 593, in _fit_and_score\n",
      "    estimator.fit(X_train, y_train, **fit_params)\n",
      "  File \"C:\\ProgramData\\Anaconda3\\lib\\site-packages\\sklearn\\tree\\_classes.py\", line 898, in fit\n",
      "    super().fit(\n",
      "  File \"C:\\ProgramData\\Anaconda3\\lib\\site-packages\\sklearn\\tree\\_classes.py\", line 237, in fit\n",
      "    raise ValueError(\"min_samples_split must be an integer \"\n",
      "ValueError: min_samples_split must be an integer greater than 1 or a float in (0.0, 1.0]; got the integer 1\n",
      "\n",
      "  warnings.warn(\"Estimator fit failed. The score on this train-test\"\n"
     ]
    },
    {
     "name": "stdout",
     "output_type": "stream",
     "text": [
      "[CV 3/3] END criterion=gini, max_depth=6, max_features=sqrt, min_samples_leaf=3, min_samples_split=1, splitter=best; total time=   0.9s\n",
      "[CV 1/3] END criterion=gini, max_depth=4, max_features=sqrt, min_samples_leaf=3, min_samples_split=4, splitter=random; total time=   1.7s\n",
      "[CV 2/3] END criterion=gini, max_depth=4, max_features=sqrt, min_samples_leaf=3, min_samples_split=4, splitter=random; total time=   2.6s\n",
      "[CV 3/3] END criterion=gini, max_depth=4, max_features=sqrt, min_samples_leaf=3, min_samples_split=4, splitter=random; total time=   1.6s\n"
     ]
    },
    {
     "name": "stderr",
     "output_type": "stream",
     "text": [
      "C:\\ProgramData\\Anaconda3\\lib\\site-packages\\sklearn\\model_selection\\_validation.py:610: FitFailedWarning: Estimator fit failed. The score on this train-test partition for these parameters will be set to nan. Details: \n",
      "Traceback (most recent call last):\n",
      "  File \"C:\\ProgramData\\Anaconda3\\lib\\site-packages\\sklearn\\model_selection\\_validation.py\", line 593, in _fit_and_score\n",
      "    estimator.fit(X_train, y_train, **fit_params)\n",
      "  File \"C:\\ProgramData\\Anaconda3\\lib\\site-packages\\sklearn\\tree\\_classes.py\", line 898, in fit\n",
      "    super().fit(\n",
      "  File \"C:\\ProgramData\\Anaconda3\\lib\\site-packages\\sklearn\\tree\\_classes.py\", line 237, in fit\n",
      "    raise ValueError(\"min_samples_split must be an integer \"\n",
      "ValueError: min_samples_split must be an integer greater than 1 or a float in (0.0, 1.0]; got the integer 1\n",
      "\n",
      "  warnings.warn(\"Estimator fit failed. The score on this train-test\"\n"
     ]
    },
    {
     "name": "stdout",
     "output_type": "stream",
     "text": [
      "[CV 1/3] END criterion=gini, max_depth=6, max_features=None, min_samples_leaf=3, min_samples_split=1, splitter=random; total time=   1.1s\n"
     ]
    },
    {
     "name": "stderr",
     "output_type": "stream",
     "text": [
      "C:\\ProgramData\\Anaconda3\\lib\\site-packages\\sklearn\\model_selection\\_validation.py:610: FitFailedWarning: Estimator fit failed. The score on this train-test partition for these parameters will be set to nan. Details: \n",
      "Traceback (most recent call last):\n",
      "  File \"C:\\ProgramData\\Anaconda3\\lib\\site-packages\\sklearn\\model_selection\\_validation.py\", line 593, in _fit_and_score\n",
      "    estimator.fit(X_train, y_train, **fit_params)\n",
      "  File \"C:\\ProgramData\\Anaconda3\\lib\\site-packages\\sklearn\\tree\\_classes.py\", line 898, in fit\n",
      "    super().fit(\n",
      "  File \"C:\\ProgramData\\Anaconda3\\lib\\site-packages\\sklearn\\tree\\_classes.py\", line 237, in fit\n",
      "    raise ValueError(\"min_samples_split must be an integer \"\n",
      "ValueError: min_samples_split must be an integer greater than 1 or a float in (0.0, 1.0]; got the integer 1\n",
      "\n",
      "  warnings.warn(\"Estimator fit failed. The score on this train-test\"\n"
     ]
    },
    {
     "name": "stdout",
     "output_type": "stream",
     "text": [
      "[CV 2/3] END criterion=gini, max_depth=6, max_features=None, min_samples_leaf=3, min_samples_split=1, splitter=random; total time=   1.0s\n"
     ]
    },
    {
     "name": "stderr",
     "output_type": "stream",
     "text": [
      "C:\\ProgramData\\Anaconda3\\lib\\site-packages\\sklearn\\model_selection\\_validation.py:610: FitFailedWarning: Estimator fit failed. The score on this train-test partition for these parameters will be set to nan. Details: \n",
      "Traceback (most recent call last):\n",
      "  File \"C:\\ProgramData\\Anaconda3\\lib\\site-packages\\sklearn\\model_selection\\_validation.py\", line 593, in _fit_and_score\n",
      "    estimator.fit(X_train, y_train, **fit_params)\n",
      "  File \"C:\\ProgramData\\Anaconda3\\lib\\site-packages\\sklearn\\tree\\_classes.py\", line 898, in fit\n",
      "    super().fit(\n",
      "  File \"C:\\ProgramData\\Anaconda3\\lib\\site-packages\\sklearn\\tree\\_classes.py\", line 237, in fit\n",
      "    raise ValueError(\"min_samples_split must be an integer \"\n",
      "ValueError: min_samples_split must be an integer greater than 1 or a float in (0.0, 1.0]; got the integer 1\n",
      "\n",
      "  warnings.warn(\"Estimator fit failed. The score on this train-test\"\n"
     ]
    },
    {
     "name": "stdout",
     "output_type": "stream",
     "text": [
      "[CV 3/3] END criterion=gini, max_depth=6, max_features=None, min_samples_leaf=3, min_samples_split=1, splitter=random; total time=   0.6s\n"
     ]
    },
    {
     "name": "stderr",
     "output_type": "stream",
     "text": [
      "C:\\ProgramData\\Anaconda3\\lib\\site-packages\\sklearn\\model_selection\\_validation.py:610: FitFailedWarning: Estimator fit failed. The score on this train-test partition for these parameters will be set to nan. Details: \n",
      "Traceback (most recent call last):\n",
      "  File \"C:\\ProgramData\\Anaconda3\\lib\\site-packages\\sklearn\\model_selection\\_validation.py\", line 593, in _fit_and_score\n",
      "    estimator.fit(X_train, y_train, **fit_params)\n",
      "  File \"C:\\ProgramData\\Anaconda3\\lib\\site-packages\\sklearn\\tree\\_classes.py\", line 898, in fit\n",
      "    super().fit(\n",
      "  File \"C:\\ProgramData\\Anaconda3\\lib\\site-packages\\sklearn\\tree\\_classes.py\", line 237, in fit\n",
      "    raise ValueError(\"min_samples_split must be an integer \"\n",
      "ValueError: min_samples_split must be an integer greater than 1 or a float in (0.0, 1.0]; got the integer 1\n",
      "\n",
      "  warnings.warn(\"Estimator fit failed. The score on this train-test\"\n"
     ]
    },
    {
     "name": "stdout",
     "output_type": "stream",
     "text": [
      "[CV 1/3] END criterion=gini, max_depth=2, max_features=None, min_samples_leaf=5, min_samples_split=1, splitter=best; total time=   0.7s\n"
     ]
    },
    {
     "name": "stderr",
     "output_type": "stream",
     "text": [
      "C:\\ProgramData\\Anaconda3\\lib\\site-packages\\sklearn\\model_selection\\_validation.py:610: FitFailedWarning: Estimator fit failed. The score on this train-test partition for these parameters will be set to nan. Details: \n",
      "Traceback (most recent call last):\n",
      "  File \"C:\\ProgramData\\Anaconda3\\lib\\site-packages\\sklearn\\model_selection\\_validation.py\", line 593, in _fit_and_score\n",
      "    estimator.fit(X_train, y_train, **fit_params)\n",
      "  File \"C:\\ProgramData\\Anaconda3\\lib\\site-packages\\sklearn\\tree\\_classes.py\", line 898, in fit\n",
      "    super().fit(\n",
      "  File \"C:\\ProgramData\\Anaconda3\\lib\\site-packages\\sklearn\\tree\\_classes.py\", line 237, in fit\n",
      "    raise ValueError(\"min_samples_split must be an integer \"\n",
      "ValueError: min_samples_split must be an integer greater than 1 or a float in (0.0, 1.0]; got the integer 1\n",
      "\n",
      "  warnings.warn(\"Estimator fit failed. The score on this train-test\"\n"
     ]
    },
    {
     "name": "stdout",
     "output_type": "stream",
     "text": [
      "[CV 2/3] END criterion=gini, max_depth=2, max_features=None, min_samples_leaf=5, min_samples_split=1, splitter=best; total time=   1.9s\n"
     ]
    },
    {
     "name": "stderr",
     "output_type": "stream",
     "text": [
      "C:\\ProgramData\\Anaconda3\\lib\\site-packages\\sklearn\\model_selection\\_validation.py:610: FitFailedWarning: Estimator fit failed. The score on this train-test partition for these parameters will be set to nan. Details: \n",
      "Traceback (most recent call last):\n",
      "  File \"C:\\ProgramData\\Anaconda3\\lib\\site-packages\\sklearn\\model_selection\\_validation.py\", line 593, in _fit_and_score\n",
      "    estimator.fit(X_train, y_train, **fit_params)\n",
      "  File \"C:\\ProgramData\\Anaconda3\\lib\\site-packages\\sklearn\\tree\\_classes.py\", line 898, in fit\n",
      "    super().fit(\n",
      "  File \"C:\\ProgramData\\Anaconda3\\lib\\site-packages\\sklearn\\tree\\_classes.py\", line 237, in fit\n",
      "    raise ValueError(\"min_samples_split must be an integer \"\n",
      "ValueError: min_samples_split must be an integer greater than 1 or a float in (0.0, 1.0]; got the integer 1\n",
      "\n",
      "  warnings.warn(\"Estimator fit failed. The score on this train-test\"\n"
     ]
    },
    {
     "name": "stdout",
     "output_type": "stream",
     "text": [
      "[CV 3/3] END criterion=gini, max_depth=2, max_features=None, min_samples_leaf=5, min_samples_split=1, splitter=best; total time=   1.2s\n",
      "[CV 1/3] END criterion=gini, max_depth=1, max_features=log2, min_samples_leaf=5, min_samples_split=8, splitter=random; total time=   1.6s\n",
      "[CV 2/3] END criterion=gini, max_depth=1, max_features=log2, min_samples_leaf=5, min_samples_split=8, splitter=random; total time=   1.3s\n",
      "[CV 3/3] END criterion=gini, max_depth=1, max_features=log2, min_samples_leaf=5, min_samples_split=8, splitter=random; total time=   1.4s\n",
      "[CV 1/3] END criterion=entropy, max_depth=8, max_features=log2, min_samples_leaf=3, min_samples_split=2, splitter=random; total time=   1.6s\n",
      "[CV 2/3] END criterion=entropy, max_depth=8, max_features=log2, min_samples_leaf=3, min_samples_split=2, splitter=random; total time=   1.5s\n",
      "[CV 3/3] END criterion=entropy, max_depth=8, max_features=log2, min_samples_leaf=3, min_samples_split=2, splitter=random; total time=   3.0s\n",
      "[CV 1/3] END criterion=entropy, max_depth=2, max_features=log2, min_samples_leaf=7, min_samples_split=6, splitter=best; total time=   1.9s\n",
      "[CV 2/3] END criterion=entropy, max_depth=2, max_features=log2, min_samples_leaf=7, min_samples_split=6, splitter=best; total time=   1.5s\n",
      "[CV 3/3] END criterion=entropy, max_depth=2, max_features=log2, min_samples_leaf=7, min_samples_split=6, splitter=best; total time=   1.0s\n",
      "[CV 1/3] END criterion=gini, max_depth=8, max_features=None, min_samples_leaf=5, min_samples_split=2, splitter=best; total time=  10.6s\n",
      "[CV 2/3] END criterion=gini, max_depth=8, max_features=None, min_samples_leaf=5, min_samples_split=2, splitter=best; total time=  12.6s\n",
      "[CV 3/3] END criterion=gini, max_depth=8, max_features=None, min_samples_leaf=5, min_samples_split=2, splitter=best; total time=  11.6s\n",
      "[CV 1/3] END criterion=gini, max_depth=1, max_features=log2, min_samples_leaf=3, min_samples_split=8, splitter=random; total time=   3.4s\n",
      "[CV 2/3] END criterion=gini, max_depth=1, max_features=log2, min_samples_leaf=3, min_samples_split=8, splitter=random; total time=   3.1s\n",
      "[CV 3/3] END criterion=gini, max_depth=1, max_features=log2, min_samples_leaf=3, min_samples_split=8, splitter=random; total time=   3.6s\n",
      "[CV 1/3] END criterion=gini, max_depth=6, max_features=None, min_samples_leaf=7, min_samples_split=6, splitter=best; total time=  10.2s\n",
      "[CV 2/3] END criterion=gini, max_depth=6, max_features=None, min_samples_leaf=7, min_samples_split=6, splitter=best; total time=  10.5s\n",
      "[CV 3/3] END criterion=gini, max_depth=6, max_features=None, min_samples_leaf=7, min_samples_split=6, splitter=best; total time=  10.1s\n",
      "[CV 1/3] END criterion=entropy, max_depth=2, max_features=log2, min_samples_leaf=3, min_samples_split=8, splitter=best; total time=   2.6s\n",
      "[CV 2/3] END criterion=entropy, max_depth=2, max_features=log2, min_samples_leaf=3, min_samples_split=8, splitter=best; total time=   3.3s\n",
      "[CV 3/3] END criterion=entropy, max_depth=2, max_features=log2, min_samples_leaf=3, min_samples_split=8, splitter=best; total time=   2.7s\n",
      "[CV 1/3] END criterion=gini, max_depth=8, max_features=sqrt, min_samples_leaf=7, min_samples_split=8, splitter=random; total time=   3.1s\n",
      "[CV 2/3] END criterion=gini, max_depth=8, max_features=sqrt, min_samples_leaf=7, min_samples_split=8, splitter=random; total time=   5.3s\n",
      "[CV 3/3] END criterion=gini, max_depth=8, max_features=sqrt, min_samples_leaf=7, min_samples_split=8, splitter=random; total time=   3.5s\n",
      "[CV 1/3] END criterion=gini, max_depth=8, max_features=auto, min_samples_leaf=7, min_samples_split=6, splitter=random; total time=   3.0s\n",
      "[CV 2/3] END criterion=gini, max_depth=8, max_features=auto, min_samples_leaf=7, min_samples_split=6, splitter=random; total time=   3.7s\n",
      "[CV 3/3] END criterion=gini, max_depth=8, max_features=auto, min_samples_leaf=7, min_samples_split=6, splitter=random; total time=   2.3s\n",
      "[CV 1/3] END criterion=entropy, max_depth=6, max_features=auto, min_samples_leaf=3, min_samples_split=2, splitter=best; total time=   2.3s\n",
      "[CV 2/3] END criterion=entropy, max_depth=6, max_features=auto, min_samples_leaf=3, min_samples_split=2, splitter=best; total time=   1.5s\n",
      "[CV 3/3] END criterion=entropy, max_depth=6, max_features=auto, min_samples_leaf=3, min_samples_split=2, splitter=best; total time=   1.8s\n",
      "[CV 1/3] END criterion=gini, max_depth=6, max_features=log2, min_samples_leaf=1, min_samples_split=6, splitter=random; total time=   2.5s\n",
      "[CV 2/3] END criterion=gini, max_depth=6, max_features=log2, min_samples_leaf=1, min_samples_split=6, splitter=random; total time=   2.3s\n",
      "[CV 3/3] END criterion=gini, max_depth=6, max_features=log2, min_samples_leaf=1, min_samples_split=6, splitter=random; total time=   2.0s\n",
      "[CV 1/3] END criterion=entropy, max_depth=8, max_features=sqrt, min_samples_leaf=7, min_samples_split=2, splitter=random; total time=   2.1s\n",
      "[CV 2/3] END criterion=entropy, max_depth=8, max_features=sqrt, min_samples_leaf=7, min_samples_split=2, splitter=random; total time=   3.1s\n",
      "[CV 3/3] END criterion=entropy, max_depth=8, max_features=sqrt, min_samples_leaf=7, min_samples_split=2, splitter=random; total time=   3.0s\n",
      "[CV 1/3] END criterion=entropy, max_depth=1, max_features=auto, min_samples_leaf=3, min_samples_split=6, splitter=random; total time=   1.0s\n",
      "[CV 2/3] END criterion=entropy, max_depth=1, max_features=auto, min_samples_leaf=3, min_samples_split=6, splitter=random; total time=   0.9s\n",
      "[CV 3/3] END criterion=entropy, max_depth=1, max_features=auto, min_samples_leaf=3, min_samples_split=6, splitter=random; total time=   0.9s\n",
      "[CV 1/3] END criterion=gini, max_depth=2, max_features=sqrt, min_samples_leaf=1, min_samples_split=4, splitter=best; total time=   1.8s\n",
      "[CV 2/3] END criterion=gini, max_depth=2, max_features=sqrt, min_samples_leaf=1, min_samples_split=4, splitter=best; total time=   2.1s\n",
      "[CV 3/3] END criterion=gini, max_depth=2, max_features=sqrt, min_samples_leaf=1, min_samples_split=4, splitter=best; total time=   2.1s\n",
      "[CV 1/3] END criterion=entropy, max_depth=2, max_features=sqrt, min_samples_leaf=1, min_samples_split=2, splitter=random; total time=   1.7s\n",
      "[CV 2/3] END criterion=entropy, max_depth=2, max_features=sqrt, min_samples_leaf=1, min_samples_split=2, splitter=random; total time=   1.3s\n",
      "[CV 3/3] END criterion=entropy, max_depth=2, max_features=sqrt, min_samples_leaf=1, min_samples_split=2, splitter=random; total time=   3.0s\n"
     ]
    },
    {
     "name": "stderr",
     "output_type": "stream",
     "text": [
      "C:\\ProgramData\\Anaconda3\\lib\\site-packages\\sklearn\\model_selection\\_validation.py:610: FitFailedWarning: Estimator fit failed. The score on this train-test partition for these parameters will be set to nan. Details: \n",
      "Traceback (most recent call last):\n",
      "  File \"C:\\ProgramData\\Anaconda3\\lib\\site-packages\\sklearn\\model_selection\\_validation.py\", line 593, in _fit_and_score\n",
      "    estimator.fit(X_train, y_train, **fit_params)\n",
      "  File \"C:\\ProgramData\\Anaconda3\\lib\\site-packages\\sklearn\\tree\\_classes.py\", line 898, in fit\n",
      "    super().fit(\n",
      "  File \"C:\\ProgramData\\Anaconda3\\lib\\site-packages\\sklearn\\tree\\_classes.py\", line 237, in fit\n",
      "    raise ValueError(\"min_samples_split must be an integer \"\n",
      "ValueError: min_samples_split must be an integer greater than 1 or a float in (0.0, 1.0]; got the integer 1\n",
      "\n",
      "  warnings.warn(\"Estimator fit failed. The score on this train-test\"\n"
     ]
    },
    {
     "name": "stdout",
     "output_type": "stream",
     "text": [
      "[CV 1/3] END criterion=entropy, max_depth=6, max_features=None, min_samples_leaf=3, min_samples_split=1, splitter=best; total time=   1.9s\n"
     ]
    },
    {
     "name": "stderr",
     "output_type": "stream",
     "text": [
      "C:\\ProgramData\\Anaconda3\\lib\\site-packages\\sklearn\\model_selection\\_validation.py:610: FitFailedWarning: Estimator fit failed. The score on this train-test partition for these parameters will be set to nan. Details: \n",
      "Traceback (most recent call last):\n",
      "  File \"C:\\ProgramData\\Anaconda3\\lib\\site-packages\\sklearn\\model_selection\\_validation.py\", line 593, in _fit_and_score\n",
      "    estimator.fit(X_train, y_train, **fit_params)\n",
      "  File \"C:\\ProgramData\\Anaconda3\\lib\\site-packages\\sklearn\\tree\\_classes.py\", line 898, in fit\n",
      "    super().fit(\n",
      "  File \"C:\\ProgramData\\Anaconda3\\lib\\site-packages\\sklearn\\tree\\_classes.py\", line 237, in fit\n",
      "    raise ValueError(\"min_samples_split must be an integer \"\n",
      "ValueError: min_samples_split must be an integer greater than 1 or a float in (0.0, 1.0]; got the integer 1\n",
      "\n",
      "  warnings.warn(\"Estimator fit failed. The score on this train-test\"\n"
     ]
    },
    {
     "name": "stdout",
     "output_type": "stream",
     "text": [
      "[CV 2/3] END criterion=entropy, max_depth=6, max_features=None, min_samples_leaf=3, min_samples_split=1, splitter=best; total time=   2.2s\n"
     ]
    },
    {
     "name": "stderr",
     "output_type": "stream",
     "text": [
      "C:\\ProgramData\\Anaconda3\\lib\\site-packages\\sklearn\\model_selection\\_validation.py:610: FitFailedWarning: Estimator fit failed. The score on this train-test partition for these parameters will be set to nan. Details: \n",
      "Traceback (most recent call last):\n",
      "  File \"C:\\ProgramData\\Anaconda3\\lib\\site-packages\\sklearn\\model_selection\\_validation.py\", line 593, in _fit_and_score\n",
      "    estimator.fit(X_train, y_train, **fit_params)\n",
      "  File \"C:\\ProgramData\\Anaconda3\\lib\\site-packages\\sklearn\\tree\\_classes.py\", line 898, in fit\n",
      "    super().fit(\n",
      "  File \"C:\\ProgramData\\Anaconda3\\lib\\site-packages\\sklearn\\tree\\_classes.py\", line 237, in fit\n",
      "    raise ValueError(\"min_samples_split must be an integer \"\n",
      "ValueError: min_samples_split must be an integer greater than 1 or a float in (0.0, 1.0]; got the integer 1\n",
      "\n",
      "  warnings.warn(\"Estimator fit failed. The score on this train-test\"\n"
     ]
    },
    {
     "name": "stdout",
     "output_type": "stream",
     "text": [
      "[CV 3/3] END criterion=entropy, max_depth=6, max_features=None, min_samples_leaf=3, min_samples_split=1, splitter=best; total time=   2.0s\n",
      "[CV 1/3] END criterion=entropy, max_depth=2, max_features=sqrt, min_samples_leaf=7, min_samples_split=2, splitter=random; total time=   2.7s\n",
      "[CV 2/3] END criterion=entropy, max_depth=2, max_features=sqrt, min_samples_leaf=7, min_samples_split=2, splitter=random; total time=   2.7s\n",
      "[CV 3/3] END criterion=entropy, max_depth=2, max_features=sqrt, min_samples_leaf=7, min_samples_split=2, splitter=random; total time=   2.6s\n",
      "[CV 1/3] END criterion=entropy, max_depth=8, max_features=auto, min_samples_leaf=5, min_samples_split=2, splitter=best; total time=   3.9s\n",
      "[CV 2/3] END criterion=entropy, max_depth=8, max_features=auto, min_samples_leaf=5, min_samples_split=2, splitter=best; total time=   4.6s\n",
      "[CV 3/3] END criterion=entropy, max_depth=8, max_features=auto, min_samples_leaf=5, min_samples_split=2, splitter=best; total time=   3.2s\n",
      "[CV 1/3] END criterion=entropy, max_depth=6, max_features=None, min_samples_leaf=5, min_samples_split=8, splitter=random; total time=   6.9s\n",
      "[CV 2/3] END criterion=entropy, max_depth=6, max_features=None, min_samples_leaf=5, min_samples_split=8, splitter=random; total time=   5.4s\n",
      "[CV 3/3] END criterion=entropy, max_depth=6, max_features=None, min_samples_leaf=5, min_samples_split=8, splitter=random; total time=   7.1s\n",
      "[CV 1/3] END criterion=entropy, max_depth=4, max_features=sqrt, min_samples_leaf=1, min_samples_split=4, splitter=random; total time=   3.4s\n",
      "[CV 2/3] END criterion=entropy, max_depth=4, max_features=sqrt, min_samples_leaf=1, min_samples_split=4, splitter=random; total time=   3.0s\n",
      "[CV 3/3] END criterion=entropy, max_depth=4, max_features=sqrt, min_samples_leaf=1, min_samples_split=4, splitter=random; total time=   2.4s\n",
      "[CV 1/3] END criterion=entropy, max_depth=2, max_features=None, min_samples_leaf=5, min_samples_split=6, splitter=random; total time=   2.6s\n",
      "[CV 2/3] END criterion=entropy, max_depth=2, max_features=None, min_samples_leaf=5, min_samples_split=6, splitter=random; total time=   5.3s\n",
      "[CV 3/3] END criterion=entropy, max_depth=2, max_features=None, min_samples_leaf=5, min_samples_split=6, splitter=random; total time=   5.1s\n",
      "[CV 1/3] END criterion=entropy, max_depth=6, max_features=sqrt, min_samples_leaf=7, min_samples_split=8, splitter=best; total time=   5.8s\n",
      "[CV 2/3] END criterion=entropy, max_depth=6, max_features=sqrt, min_samples_leaf=7, min_samples_split=8, splitter=best; total time=   4.2s\n",
      "[CV 3/3] END criterion=entropy, max_depth=6, max_features=sqrt, min_samples_leaf=7, min_samples_split=8, splitter=best; total time=   4.8s\n",
      "[CV 1/3] END criterion=gini, max_depth=6, max_features=log2, min_samples_leaf=3, min_samples_split=4, splitter=random; total time=   2.4s\n",
      "[CV 2/3] END criterion=gini, max_depth=6, max_features=log2, min_samples_leaf=3, min_samples_split=4, splitter=random; total time=   2.3s\n",
      "[CV 3/3] END criterion=gini, max_depth=6, max_features=log2, min_samples_leaf=3, min_samples_split=4, splitter=random; total time=   2.0s\n",
      "[CV 1/3] END criterion=entropy, max_depth=8, max_features=None, min_samples_leaf=1, min_samples_split=6, splitter=random; total time=   8.1s\n",
      "[CV 2/3] END criterion=entropy, max_depth=8, max_features=None, min_samples_leaf=1, min_samples_split=6, splitter=random; total time=   8.4s\n",
      "[CV 3/3] END criterion=entropy, max_depth=8, max_features=None, min_samples_leaf=1, min_samples_split=6, splitter=random; total time=   9.3s\n",
      "[CV 1/3] END criterion=entropy, max_depth=6, max_features=auto, min_samples_leaf=5, min_samples_split=2, splitter=random; total time=   3.4s\n",
      "[CV 2/3] END criterion=entropy, max_depth=6, max_features=auto, min_samples_leaf=5, min_samples_split=2, splitter=random; total time=   3.2s\n",
      "[CV 3/3] END criterion=entropy, max_depth=6, max_features=auto, min_samples_leaf=5, min_samples_split=2, splitter=random; total time=   2.8s\n",
      "[CV 1/3] END criterion=gini, max_depth=2, max_features=None, min_samples_leaf=3, min_samples_split=8, splitter=best; total time=   4.7s\n",
      "[CV 2/3] END criterion=gini, max_depth=2, max_features=None, min_samples_leaf=3, min_samples_split=8, splitter=best; total time=   5.3s\n",
      "[CV 3/3] END criterion=gini, max_depth=2, max_features=None, min_samples_leaf=3, min_samples_split=8, splitter=best; total time=   5.1s\n",
      "[CV 1/3] END criterion=gini, max_depth=8, max_features=None, min_samples_leaf=1, min_samples_split=4, splitter=best; total time=  13.3s\n",
      "[CV 2/3] END criterion=gini, max_depth=8, max_features=None, min_samples_leaf=1, min_samples_split=4, splitter=best; total time=  13.4s\n",
      "[CV 3/3] END criterion=gini, max_depth=8, max_features=None, min_samples_leaf=1, min_samples_split=4, splitter=best; total time=  11.7s\n",
      "[CV 1/3] END criterion=gini, max_depth=4, max_features=auto, min_samples_leaf=5, min_samples_split=4, splitter=best; total time=   3.3s\n",
      "[CV 2/3] END criterion=gini, max_depth=4, max_features=auto, min_samples_leaf=5, min_samples_split=4, splitter=best; total time=   3.6s\n",
      "[CV 3/3] END criterion=gini, max_depth=4, max_features=auto, min_samples_leaf=5, min_samples_split=4, splitter=best; total time=   2.8s\n"
     ]
    },
    {
     "name": "stderr",
     "output_type": "stream",
     "text": [
      "C:\\ProgramData\\Anaconda3\\lib\\site-packages\\sklearn\\model_selection\\_validation.py:610: FitFailedWarning: Estimator fit failed. The score on this train-test partition for these parameters will be set to nan. Details: \n",
      "Traceback (most recent call last):\n",
      "  File \"C:\\ProgramData\\Anaconda3\\lib\\site-packages\\sklearn\\model_selection\\_validation.py\", line 593, in _fit_and_score\n",
      "    estimator.fit(X_train, y_train, **fit_params)\n",
      "  File \"C:\\ProgramData\\Anaconda3\\lib\\site-packages\\sklearn\\tree\\_classes.py\", line 898, in fit\n",
      "    super().fit(\n",
      "  File \"C:\\ProgramData\\Anaconda3\\lib\\site-packages\\sklearn\\tree\\_classes.py\", line 237, in fit\n",
      "    raise ValueError(\"min_samples_split must be an integer \"\n",
      "ValueError: min_samples_split must be an integer greater than 1 or a float in (0.0, 1.0]; got the integer 1\n",
      "\n",
      "  warnings.warn(\"Estimator fit failed. The score on this train-test\"\n"
     ]
    },
    {
     "name": "stdout",
     "output_type": "stream",
     "text": [
      "[CV 1/3] END criterion=gini, max_depth=6, max_features=log2, min_samples_leaf=3, min_samples_split=1, splitter=best; total time=   2.2s\n"
     ]
    },
    {
     "name": "stderr",
     "output_type": "stream",
     "text": [
      "C:\\ProgramData\\Anaconda3\\lib\\site-packages\\sklearn\\model_selection\\_validation.py:610: FitFailedWarning: Estimator fit failed. The score on this train-test partition for these parameters will be set to nan. Details: \n",
      "Traceback (most recent call last):\n",
      "  File \"C:\\ProgramData\\Anaconda3\\lib\\site-packages\\sklearn\\model_selection\\_validation.py\", line 593, in _fit_and_score\n",
      "    estimator.fit(X_train, y_train, **fit_params)\n",
      "  File \"C:\\ProgramData\\Anaconda3\\lib\\site-packages\\sklearn\\tree\\_classes.py\", line 898, in fit\n",
      "    super().fit(\n",
      "  File \"C:\\ProgramData\\Anaconda3\\lib\\site-packages\\sklearn\\tree\\_classes.py\", line 237, in fit\n",
      "    raise ValueError(\"min_samples_split must be an integer \"\n",
      "ValueError: min_samples_split must be an integer greater than 1 or a float in (0.0, 1.0]; got the integer 1\n",
      "\n",
      "  warnings.warn(\"Estimator fit failed. The score on this train-test\"\n"
     ]
    },
    {
     "name": "stdout",
     "output_type": "stream",
     "text": [
      "[CV 2/3] END criterion=gini, max_depth=6, max_features=log2, min_samples_leaf=3, min_samples_split=1, splitter=best; total time=   2.5s\n"
     ]
    },
    {
     "name": "stderr",
     "output_type": "stream",
     "text": [
      "C:\\ProgramData\\Anaconda3\\lib\\site-packages\\sklearn\\model_selection\\_validation.py:610: FitFailedWarning: Estimator fit failed. The score on this train-test partition for these parameters will be set to nan. Details: \n",
      "Traceback (most recent call last):\n",
      "  File \"C:\\ProgramData\\Anaconda3\\lib\\site-packages\\sklearn\\model_selection\\_validation.py\", line 593, in _fit_and_score\n",
      "    estimator.fit(X_train, y_train, **fit_params)\n",
      "  File \"C:\\ProgramData\\Anaconda3\\lib\\site-packages\\sklearn\\tree\\_classes.py\", line 898, in fit\n",
      "    super().fit(\n",
      "  File \"C:\\ProgramData\\Anaconda3\\lib\\site-packages\\sklearn\\tree\\_classes.py\", line 237, in fit\n",
      "    raise ValueError(\"min_samples_split must be an integer \"\n",
      "ValueError: min_samples_split must be an integer greater than 1 or a float in (0.0, 1.0]; got the integer 1\n",
      "\n",
      "  warnings.warn(\"Estimator fit failed. The score on this train-test\"\n"
     ]
    },
    {
     "name": "stdout",
     "output_type": "stream",
     "text": [
      "[CV 3/3] END criterion=gini, max_depth=6, max_features=log2, min_samples_leaf=3, min_samples_split=1, splitter=best; total time=   2.3s\n",
      "[CV 1/3] END criterion=entropy, max_depth=2, max_features=None, min_samples_leaf=1, min_samples_split=4, splitter=best; total time=   5.0s\n",
      "[CV 2/3] END criterion=entropy, max_depth=2, max_features=None, min_samples_leaf=1, min_samples_split=4, splitter=best; total time=   5.7s\n",
      "[CV 3/3] END criterion=entropy, max_depth=2, max_features=None, min_samples_leaf=1, min_samples_split=4, splitter=best; total time=   4.4s\n",
      "[CV 1/3] END criterion=gini, max_depth=6, max_features=log2, min_samples_leaf=3, min_samples_split=4, splitter=best; total time=   6.6s\n",
      "[CV 2/3] END criterion=gini, max_depth=6, max_features=log2, min_samples_leaf=3, min_samples_split=4, splitter=best; total time=   3.9s\n",
      "[CV 3/3] END criterion=gini, max_depth=6, max_features=log2, min_samples_leaf=3, min_samples_split=4, splitter=best; total time=   5.3s\n",
      "[CV 1/3] END criterion=entropy, max_depth=6, max_features=auto, min_samples_leaf=1, min_samples_split=4, splitter=random; total time=   4.0s\n",
      "[CV 2/3] END criterion=entropy, max_depth=6, max_features=auto, min_samples_leaf=1, min_samples_split=4, splitter=random; total time=   4.8s\n",
      "[CV 3/3] END criterion=entropy, max_depth=6, max_features=auto, min_samples_leaf=1, min_samples_split=4, splitter=random; total time=   3.2s\n"
     ]
    },
    {
     "name": "stderr",
     "output_type": "stream",
     "text": [
      "C:\\ProgramData\\Anaconda3\\lib\\site-packages\\sklearn\\model_selection\\_validation.py:610: FitFailedWarning: Estimator fit failed. The score on this train-test partition for these parameters will be set to nan. Details: \n",
      "Traceback (most recent call last):\n",
      "  File \"C:\\ProgramData\\Anaconda3\\lib\\site-packages\\sklearn\\model_selection\\_validation.py\", line 593, in _fit_and_score\n",
      "    estimator.fit(X_train, y_train, **fit_params)\n",
      "  File \"C:\\ProgramData\\Anaconda3\\lib\\site-packages\\sklearn\\tree\\_classes.py\", line 898, in fit\n",
      "    super().fit(\n",
      "  File \"C:\\ProgramData\\Anaconda3\\lib\\site-packages\\sklearn\\tree\\_classes.py\", line 237, in fit\n",
      "    raise ValueError(\"min_samples_split must be an integer \"\n",
      "ValueError: min_samples_split must be an integer greater than 1 or a float in (0.0, 1.0]; got the integer 1\n",
      "\n",
      "  warnings.warn(\"Estimator fit failed. The score on this train-test\"\n"
     ]
    },
    {
     "name": "stdout",
     "output_type": "stream",
     "text": [
      "[CV 1/3] END criterion=gini, max_depth=4, max_features=None, min_samples_leaf=7, min_samples_split=1, splitter=random; total time=   2.6s\n"
     ]
    },
    {
     "name": "stderr",
     "output_type": "stream",
     "text": [
      "C:\\ProgramData\\Anaconda3\\lib\\site-packages\\sklearn\\model_selection\\_validation.py:610: FitFailedWarning: Estimator fit failed. The score on this train-test partition for these parameters will be set to nan. Details: \n",
      "Traceback (most recent call last):\n",
      "  File \"C:\\ProgramData\\Anaconda3\\lib\\site-packages\\sklearn\\model_selection\\_validation.py\", line 593, in _fit_and_score\n",
      "    estimator.fit(X_train, y_train, **fit_params)\n",
      "  File \"C:\\ProgramData\\Anaconda3\\lib\\site-packages\\sklearn\\tree\\_classes.py\", line 898, in fit\n",
      "    super().fit(\n",
      "  File \"C:\\ProgramData\\Anaconda3\\lib\\site-packages\\sklearn\\tree\\_classes.py\", line 237, in fit\n",
      "    raise ValueError(\"min_samples_split must be an integer \"\n",
      "ValueError: min_samples_split must be an integer greater than 1 or a float in (0.0, 1.0]; got the integer 1\n",
      "\n",
      "  warnings.warn(\"Estimator fit failed. The score on this train-test\"\n"
     ]
    },
    {
     "name": "stdout",
     "output_type": "stream",
     "text": [
      "[CV 2/3] END criterion=gini, max_depth=4, max_features=None, min_samples_leaf=7, min_samples_split=1, splitter=random; total time=   1.2s\n"
     ]
    },
    {
     "name": "stderr",
     "output_type": "stream",
     "text": [
      "C:\\ProgramData\\Anaconda3\\lib\\site-packages\\sklearn\\model_selection\\_validation.py:610: FitFailedWarning: Estimator fit failed. The score on this train-test partition for these parameters will be set to nan. Details: \n",
      "Traceback (most recent call last):\n",
      "  File \"C:\\ProgramData\\Anaconda3\\lib\\site-packages\\sklearn\\model_selection\\_validation.py\", line 593, in _fit_and_score\n",
      "    estimator.fit(X_train, y_train, **fit_params)\n",
      "  File \"C:\\ProgramData\\Anaconda3\\lib\\site-packages\\sklearn\\tree\\_classes.py\", line 898, in fit\n",
      "    super().fit(\n",
      "  File \"C:\\ProgramData\\Anaconda3\\lib\\site-packages\\sklearn\\tree\\_classes.py\", line 237, in fit\n",
      "    raise ValueError(\"min_samples_split must be an integer \"\n",
      "ValueError: min_samples_split must be an integer greater than 1 or a float in (0.0, 1.0]; got the integer 1\n",
      "\n",
      "  warnings.warn(\"Estimator fit failed. The score on this train-test\"\n"
     ]
    },
    {
     "name": "stdout",
     "output_type": "stream",
     "text": [
      "[CV 3/3] END criterion=gini, max_depth=4, max_features=None, min_samples_leaf=7, min_samples_split=1, splitter=random; total time=   2.2s\n"
     ]
    },
    {
     "name": "stderr",
     "output_type": "stream",
     "text": [
      "C:\\ProgramData\\Anaconda3\\lib\\site-packages\\sklearn\\model_selection\\_validation.py:610: FitFailedWarning: Estimator fit failed. The score on this train-test partition for these parameters will be set to nan. Details: \n",
      "Traceback (most recent call last):\n",
      "  File \"C:\\ProgramData\\Anaconda3\\lib\\site-packages\\sklearn\\model_selection\\_validation.py\", line 593, in _fit_and_score\n",
      "    estimator.fit(X_train, y_train, **fit_params)\n",
      "  File \"C:\\ProgramData\\Anaconda3\\lib\\site-packages\\sklearn\\tree\\_classes.py\", line 898, in fit\n",
      "    super().fit(\n",
      "  File \"C:\\ProgramData\\Anaconda3\\lib\\site-packages\\sklearn\\tree\\_classes.py\", line 237, in fit\n",
      "    raise ValueError(\"min_samples_split must be an integer \"\n",
      "ValueError: min_samples_split must be an integer greater than 1 or a float in (0.0, 1.0]; got the integer 1\n",
      "\n",
      "  warnings.warn(\"Estimator fit failed. The score on this train-test\"\n"
     ]
    },
    {
     "name": "stdout",
     "output_type": "stream",
     "text": [
      "[CV 1/3] END criterion=gini, max_depth=6, max_features=None, min_samples_leaf=3, min_samples_split=1, splitter=best; total time=   2.3s\n"
     ]
    },
    {
     "name": "stderr",
     "output_type": "stream",
     "text": [
      "C:\\ProgramData\\Anaconda3\\lib\\site-packages\\sklearn\\model_selection\\_validation.py:610: FitFailedWarning: Estimator fit failed. The score on this train-test partition for these parameters will be set to nan. Details: \n",
      "Traceback (most recent call last):\n",
      "  File \"C:\\ProgramData\\Anaconda3\\lib\\site-packages\\sklearn\\model_selection\\_validation.py\", line 593, in _fit_and_score\n",
      "    estimator.fit(X_train, y_train, **fit_params)\n",
      "  File \"C:\\ProgramData\\Anaconda3\\lib\\site-packages\\sklearn\\tree\\_classes.py\", line 898, in fit\n",
      "    super().fit(\n",
      "  File \"C:\\ProgramData\\Anaconda3\\lib\\site-packages\\sklearn\\tree\\_classes.py\", line 237, in fit\n",
      "    raise ValueError(\"min_samples_split must be an integer \"\n",
      "ValueError: min_samples_split must be an integer greater than 1 or a float in (0.0, 1.0]; got the integer 1\n",
      "\n",
      "  warnings.warn(\"Estimator fit failed. The score on this train-test\"\n"
     ]
    },
    {
     "name": "stdout",
     "output_type": "stream",
     "text": [
      "[CV 2/3] END criterion=gini, max_depth=6, max_features=None, min_samples_leaf=3, min_samples_split=1, splitter=best; total time=   2.5s\n"
     ]
    },
    {
     "name": "stderr",
     "output_type": "stream",
     "text": [
      "C:\\ProgramData\\Anaconda3\\lib\\site-packages\\sklearn\\model_selection\\_validation.py:610: FitFailedWarning: Estimator fit failed. The score on this train-test partition for these parameters will be set to nan. Details: \n",
      "Traceback (most recent call last):\n",
      "  File \"C:\\ProgramData\\Anaconda3\\lib\\site-packages\\sklearn\\model_selection\\_validation.py\", line 593, in _fit_and_score\n",
      "    estimator.fit(X_train, y_train, **fit_params)\n",
      "  File \"C:\\ProgramData\\Anaconda3\\lib\\site-packages\\sklearn\\tree\\_classes.py\", line 898, in fit\n",
      "    super().fit(\n",
      "  File \"C:\\ProgramData\\Anaconda3\\lib\\site-packages\\sklearn\\tree\\_classes.py\", line 237, in fit\n",
      "    raise ValueError(\"min_samples_split must be an integer \"\n",
      "ValueError: min_samples_split must be an integer greater than 1 or a float in (0.0, 1.0]; got the integer 1\n",
      "\n",
      "  warnings.warn(\"Estimator fit failed. The score on this train-test\"\n"
     ]
    },
    {
     "name": "stdout",
     "output_type": "stream",
     "text": [
      "[CV 3/3] END criterion=gini, max_depth=6, max_features=None, min_samples_leaf=3, min_samples_split=1, splitter=best; total time=   1.7s\n",
      "[CV 1/3] END criterion=gini, max_depth=2, max_features=auto, min_samples_leaf=5, min_samples_split=4, splitter=random; total time=   3.6s\n",
      "[CV 2/3] END criterion=gini, max_depth=2, max_features=auto, min_samples_leaf=5, min_samples_split=4, splitter=random; total time=   1.8s\n",
      "[CV 3/3] END criterion=gini, max_depth=2, max_features=auto, min_samples_leaf=5, min_samples_split=4, splitter=random; total time=   1.8s\n",
      "[CV 1/3] END criterion=gini, max_depth=8, max_features=log2, min_samples_leaf=5, min_samples_split=6, splitter=random; total time=   2.7s\n",
      "[CV 2/3] END criterion=gini, max_depth=8, max_features=log2, min_samples_leaf=5, min_samples_split=6, splitter=random; total time=   3.1s\n",
      "[CV 3/3] END criterion=gini, max_depth=8, max_features=log2, min_samples_leaf=5, min_samples_split=6, splitter=random; total time=   3.7s\n",
      "[CV 1/3] END criterion=gini, max_depth=1, max_features=log2, min_samples_leaf=1, min_samples_split=8, splitter=random; total time=   2.2s\n",
      "[CV 2/3] END criterion=gini, max_depth=1, max_features=log2, min_samples_leaf=1, min_samples_split=8, splitter=random; total time=   1.0s\n",
      "[CV 3/3] END criterion=gini, max_depth=1, max_features=log2, min_samples_leaf=1, min_samples_split=8, splitter=random; total time=   0.9s\n",
      "[CV 1/3] END criterion=entropy, max_depth=2, max_features=None, min_samples_leaf=7, min_samples_split=4, splitter=best; total time=   4.5s\n",
      "[CV 2/3] END criterion=entropy, max_depth=2, max_features=None, min_samples_leaf=7, min_samples_split=4, splitter=best; total time=   3.9s\n",
      "[CV 3/3] END criterion=entropy, max_depth=2, max_features=None, min_samples_leaf=7, min_samples_split=4, splitter=best; total time=   3.0s\n",
      "[CV 1/3] END criterion=entropy, max_depth=1, max_features=auto, min_samples_leaf=3, min_samples_split=8, splitter=best; total time=   2.0s\n",
      "[CV 2/3] END criterion=entropy, max_depth=1, max_features=auto, min_samples_leaf=3, min_samples_split=8, splitter=best; total time=   1.2s\n",
      "[CV 3/3] END criterion=entropy, max_depth=1, max_features=auto, min_samples_leaf=3, min_samples_split=8, splitter=best; total time=   1.3s\n"
     ]
    },
    {
     "name": "stderr",
     "output_type": "stream",
     "text": [
      "C:\\ProgramData\\Anaconda3\\lib\\site-packages\\sklearn\\model_selection\\_search.py:918: UserWarning: One or more of the test scores are non-finite: [0.77717893 0.75918065 0.75647225 0.75290545 0.76275246 0.7437252\n",
      " 0.81240353 0.75290545 0.89046421        nan 0.62371643 0.76392043\n",
      " 0.77508451 0.86242802 0.78679666 0.75290545        nan 0.75290545\n",
      " 0.75465992 0.77260353 0.77033659 0.76474743 0.71222554 0.59129622\n",
      " 0.75290545 0.78081378 0.76001875 0.66726382 0.76176825 0.79209355\n",
      "        nan 0.78183867 0.75705065 0.8116415  0.7908414  0.82043012\n",
      " 0.78564292 0.85734119        nan 0.76061845 0.89884695        nan\n",
      "        nan 0.75290545 0.76563939 0.75641035 0.77213481 0.75290545\n",
      " 0.80388785 0.76348815 0.68862482 0.75547882 0.7558695  0.62876291\n",
      " 0.78520758 0.84085983 0.75193735        nan 0.76469569        nan\n",
      "        nan 0.75290545 0.7754052  0.75679494 0.81647585 0.75290545\n",
      " 0.89884695 0.65471871 0.78264333 0.76314921 0.82898333 0.7584662\n",
      " 0.78710611 0.75290545 0.7595124  0.75427839        nan 0.75290545\n",
      " 0.67445221 0.84528307 0.76693927 0.78787529 0.6122379  0.75709935\n",
      " 0.87692559 0.76490776 0.87717725 0.81187301 0.73974935        nan\n",
      " 0.87717725 0.76439025 0.76221059        nan        nan 0.75312869\n",
      " 0.77618958 0.75290545 0.87717725 0.76005224]\n",
      "  warnings.warn(\n"
     ]
    }
   ],
   "source": [
    "model = DecisionTreeClassifier()\n",
    "\n",
    "parameters = {\n",
    "    'criterion'         : ['gini', 'entropy'],\n",
    "    'splitter'          : ['best', 'random'],\n",
    "    'max_depth'         : [1, 2, 4, 6, 8],\n",
    "    'min_samples_leaf'  : [1, 3, 5, 7],\n",
    "    'min_samples_split' : [1, 2, 4, 6, 8],\n",
    "    'max_features'      : ['auto', 'log2', 'sqrt', None],\n",
    "}\n",
    "\n",
    "tuning_model = RandomizedSearchCV(\n",
    "    model, parameters, n_iter=100,\n",
    "    cv=3, verbose=3, random_state=42\n",
    ")\n",
    "\n",
    "start_time = timer(None)\n",
    "tuning_model.fit(X0, y0)\n",
    "timer(start_time)"
   ]
  },
  {
   "cell_type": "code",
   "execution_count": 98,
   "id": "9afa61b4",
   "metadata": {},
   "outputs": [
    {
     "data": {
      "text/plain": [
       "{'splitter': 'best',\n",
       " 'min_samples_split': 4,\n",
       " 'min_samples_leaf': 7,\n",
       " 'max_features': None,\n",
       " 'max_depth': 6,\n",
       " 'criterion': 'gini'}"
      ]
     },
     "execution_count": 98,
     "metadata": {},
     "output_type": "execute_result"
    }
   ],
   "source": [
    "tuning_model.best_params_"
   ]
  },
  {
   "cell_type": "code",
   "execution_count": 99,
   "id": "62cd40ba",
   "metadata": {},
   "outputs": [
    {
     "data": {
      "text/plain": [
       "0.8988469539528352"
      ]
     },
     "execution_count": 99,
     "metadata": {},
     "output_type": "execute_result"
    }
   ],
   "source": [
    "tuning_model.best_score_"
   ]
  },
  {
   "cell_type": "code",
   "execution_count": 100,
   "id": "ed7723ba",
   "metadata": {},
   "outputs": [],
   "source": [
    "dtc0 = DecisionTreeClassifier(\n",
    "    splitter = 'best',\n",
    "    min_samples_split = 4,\n",
    "    min_samples_leaf = 7,\n",
    "    max_features = None,\n",
    "    max_depth = 6,\n",
    "    criterion = 'gini'\n",
    ")\n",
    "dtc0 = dtc0.fit(X0_train, y0_train)\n",
    "\n",
    "y0_train_pred = dtc0.predict(X0_train)\n",
    "y0_test_pred = dtc0.predict(X0_test)\n",
    "\n",
    "probs0_test = dtc0.predict_proba(X0_test)\n",
    "probs0_train = dtc0.predict_proba(X0_train)\n",
    "\n",
    "preds_test_dtc0 = probs0_test[:, 1]\n",
    "preds_train_dtc0 = probs0_train[:, 1]"
   ]
  },
  {
   "cell_type": "code",
   "execution_count": 101,
   "id": "8dbe8f97",
   "metadata": {},
   "outputs": [
    {
     "name": "stdout",
     "output_type": "stream",
     "text": [
      "Decision tree\n",
      "f1 test          0.764572\n",
      "f1 train         0.763685\n",
      "AUC-ROC test     0.924629\n",
      "AUC-ROC train    0.924593\n",
      "Name: Decision tree, dtype: object\n"
     ]
    },
    {
     "data": {
      "image/png": "[encoded data removed]",
      "text/plain": [
       "<Figure size 576x360 with 1 Axes>"
      ]
     },
     "metadata": {
      "needs_background": "light"
     },
     "output_type": "display_data"
    }
   ],
   "source": [
    "print('Decision tree')\n",
    "\n",
    "results.loc[('Target1', 'f1 test'), 'Decision tree'] = f1_score(y0_test, y0_test_pred)\n",
    "results.loc[('Target1', 'f1 train'), 'Decision tree'] = f1_score(y0_train, y0_train_pred)\n",
    "results.loc[('Target1', 'AUC-ROC test'), 'Decision tree'] = roc_auc_score(y0_test, preds_test_dtc0)\n",
    "results.loc[('Target1', 'AUC-ROC train'), 'Decision tree'] = roc_auc_score(y0_train, preds_train_dtc0)\n",
    "\n",
    "print(results.loc['Target1', 'Decision tree'])\n",
    "\n",
    "fpr0, tpr0, _ = roc_curve(y0_test, preds_test_dtc0, drop_intermediate=False)\n",
    "\n",
    "plt.figure(figsize=(8, 5))\n",
    "plt.clf()\n",
    "plt.plot(fpr0, tpr0)\n",
    "plt.xlabel('FPR')\n",
    "plt.ylabel('TPR')\n",
    "plt.title('ROC curve Target1 decision tree')\n",
    "plt.show()"
   ]
  },
  {
   "cell_type": "markdown",
   "id": "14b5e616",
   "metadata": {},
   "source": [
    "# Случайный лес"
   ]
  },
  {
   "cell_type": "code",
   "execution_count": 102,
   "id": "c36f3253",
   "metadata": {},
   "outputs": [
    {
     "name": "stdout",
     "output_type": "stream",
     "text": [
      "Fitting 3 folds for each of 10 candidates, totalling 30 fits\n"
     ]
    },
    {
     "name": "stderr",
     "output_type": "stream",
     "text": [
      "C:\\ProgramData\\Anaconda3\\lib\\site-packages\\sklearn\\model_selection\\_validation.py:593: DataConversionWarning: A column-vector y was passed when a 1d array was expected. Please change the shape of y to (n_samples,), for example using ravel().\n",
      "  estimator.fit(X_train, y_train, **fit_params)\n"
     ]
    },
    {
     "name": "stdout",
     "output_type": "stream",
     "text": [
      "[CV 1/3] END ...................max_depth=3, n_estimators=50; total time=  26.0s\n"
     ]
    },
    {
     "name": "stderr",
     "output_type": "stream",
     "text": [
      "C:\\ProgramData\\Anaconda3\\lib\\site-packages\\sklearn\\model_selection\\_validation.py:593: DataConversionWarning: A column-vector y was passed when a 1d array was expected. Please change the shape of y to (n_samples,), for example using ravel().\n",
      "  estimator.fit(X_train, y_train, **fit_params)\n"
     ]
    },
    {
     "name": "stdout",
     "output_type": "stream",
     "text": [
      "[CV 2/3] END ...................max_depth=3, n_estimators=50; total time=  26.6s\n"
     ]
    },
    {
     "name": "stderr",
     "output_type": "stream",
     "text": [
      "C:\\ProgramData\\Anaconda3\\lib\\site-packages\\sklearn\\model_selection\\_validation.py:593: DataConversionWarning: A column-vector y was passed when a 1d array was expected. Please change the shape of y to (n_samples,), for example using ravel().\n",
      "  estimator.fit(X_train, y_train, **fit_params)\n"
     ]
    },
    {
     "name": "stdout",
     "output_type": "stream",
     "text": [
      "[CV 3/3] END ...................max_depth=3, n_estimators=50; total time=  24.1s\n"
     ]
    },
    {
     "name": "stderr",
     "output_type": "stream",
     "text": [
      "C:\\ProgramData\\Anaconda3\\lib\\site-packages\\sklearn\\model_selection\\_validation.py:593: DataConversionWarning: A column-vector y was passed when a 1d array was expected. Please change the shape of y to (n_samples,), for example using ravel().\n",
      "  estimator.fit(X_train, y_train, **fit_params)\n"
     ]
    },
    {
     "name": "stdout",
     "output_type": "stream",
     "text": [
      "[CV 1/3] END ..................max_depth=3, n_estimators=100; total time=  46.0s\n"
     ]
    },
    {
     "name": "stderr",
     "output_type": "stream",
     "text": [
      "C:\\ProgramData\\Anaconda3\\lib\\site-packages\\sklearn\\model_selection\\_validation.py:593: DataConversionWarning: A column-vector y was passed when a 1d array was expected. Please change the shape of y to (n_samples,), for example using ravel().\n",
      "  estimator.fit(X_train, y_train, **fit_params)\n"
     ]
    },
    {
     "name": "stdout",
     "output_type": "stream",
     "text": [
      "[CV 2/3] END ..................max_depth=3, n_estimators=100; total time=  52.3s\n"
     ]
    },
    {
     "name": "stderr",
     "output_type": "stream",
     "text": [
      "C:\\ProgramData\\Anaconda3\\lib\\site-packages\\sklearn\\model_selection\\_validation.py:593: DataConversionWarning: A column-vector y was passed when a 1d array was expected. Please change the shape of y to (n_samples,), for example using ravel().\n",
      "  estimator.fit(X_train, y_train, **fit_params)\n"
     ]
    },
    {
     "name": "stdout",
     "output_type": "stream",
     "text": [
      "[CV 3/3] END ..................max_depth=3, n_estimators=100; total time=  52.7s\n"
     ]
    },
    {
     "name": "stderr",
     "output_type": "stream",
     "text": [
      "C:\\ProgramData\\Anaconda3\\lib\\site-packages\\sklearn\\model_selection\\_validation.py:593: DataConversionWarning: A column-vector y was passed when a 1d array was expected. Please change the shape of y to (n_samples,), for example using ravel().\n",
      "  estimator.fit(X_train, y_train, **fit_params)\n"
     ]
    },
    {
     "name": "stdout",
     "output_type": "stream",
     "text": [
      "[CV 1/3] END ..................max_depth=5, n_estimators=100; total time= 1.4min\n"
     ]
    },
    {
     "name": "stderr",
     "output_type": "stream",
     "text": [
      "C:\\ProgramData\\Anaconda3\\lib\\site-packages\\sklearn\\model_selection\\_validation.py:593: DataConversionWarning: A column-vector y was passed when a 1d array was expected. Please change the shape of y to (n_samples,), for example using ravel().\n",
      "  estimator.fit(X_train, y_train, **fit_params)\n"
     ]
    },
    {
     "name": "stdout",
     "output_type": "stream",
     "text": [
      "[CV 2/3] END ..................max_depth=5, n_estimators=100; total time= 1.5min\n"
     ]
    },
    {
     "name": "stderr",
     "output_type": "stream",
     "text": [
      "C:\\ProgramData\\Anaconda3\\lib\\site-packages\\sklearn\\model_selection\\_validation.py:593: DataConversionWarning: A column-vector y was passed when a 1d array was expected. Please change the shape of y to (n_samples,), for example using ravel().\n",
      "  estimator.fit(X_train, y_train, **fit_params)\n"
     ]
    },
    {
     "name": "stdout",
     "output_type": "stream",
     "text": [
      "[CV 3/3] END ..................max_depth=5, n_estimators=100; total time= 1.4min\n"
     ]
    },
    {
     "name": "stderr",
     "output_type": "stream",
     "text": [
      "C:\\ProgramData\\Anaconda3\\lib\\site-packages\\sklearn\\model_selection\\_validation.py:593: DataConversionWarning: A column-vector y was passed when a 1d array was expected. Please change the shape of y to (n_samples,), for example using ravel().\n",
      "  estimator.fit(X_train, y_train, **fit_params)\n"
     ]
    },
    {
     "name": "stdout",
     "output_type": "stream",
     "text": [
      "[CV 1/3] END ...............max_depth=None, n_estimators=200; total time=17.4min\n"
     ]
    },
    {
     "name": "stderr",
     "output_type": "stream",
     "text": [
      "C:\\ProgramData\\Anaconda3\\lib\\site-packages\\sklearn\\model_selection\\_validation.py:593: DataConversionWarning: A column-vector y was passed when a 1d array was expected. Please change the shape of y to (n_samples,), for example using ravel().\n",
      "  estimator.fit(X_train, y_train, **fit_params)\n"
     ]
    },
    {
     "name": "stdout",
     "output_type": "stream",
     "text": [
      "[CV 2/3] END ...............max_depth=None, n_estimators=200; total time=15.1min\n"
     ]
    },
    {
     "name": "stderr",
     "output_type": "stream",
     "text": [
      "C:\\ProgramData\\Anaconda3\\lib\\site-packages\\sklearn\\model_selection\\_validation.py:593: DataConversionWarning: A column-vector y was passed when a 1d array was expected. Please change the shape of y to (n_samples,), for example using ravel().\n",
      "  estimator.fit(X_train, y_train, **fit_params)\n"
     ]
    },
    {
     "name": "stdout",
     "output_type": "stream",
     "text": [
      "[CV 3/3] END ...............max_depth=None, n_estimators=200; total time=12.2min\n"
     ]
    },
    {
     "name": "stderr",
     "output_type": "stream",
     "text": [
      "C:\\ProgramData\\Anaconda3\\lib\\site-packages\\sklearn\\model_selection\\_validation.py:593: DataConversionWarning: A column-vector y was passed when a 1d array was expected. Please change the shape of y to (n_samples,), for example using ravel().\n",
      "  estimator.fit(X_train, y_train, **fit_params)\n"
     ]
    },
    {
     "name": "stdout",
     "output_type": "stream",
     "text": [
      "[CV 1/3] END ...............max_depth=None, n_estimators=100; total time= 5.7min\n"
     ]
    },
    {
     "name": "stderr",
     "output_type": "stream",
     "text": [
      "C:\\ProgramData\\Anaconda3\\lib\\site-packages\\sklearn\\model_selection\\_validation.py:593: DataConversionWarning: A column-vector y was passed when a 1d array was expected. Please change the shape of y to (n_samples,), for example using ravel().\n",
      "  estimator.fit(X_train, y_train, **fit_params)\n"
     ]
    },
    {
     "name": "stdout",
     "output_type": "stream",
     "text": [
      "[CV 2/3] END ...............max_depth=None, n_estimators=100; total time= 5.7min\n"
     ]
    },
    {
     "name": "stderr",
     "output_type": "stream",
     "text": [
      "C:\\ProgramData\\Anaconda3\\lib\\site-packages\\sklearn\\model_selection\\_validation.py:593: DataConversionWarning: A column-vector y was passed when a 1d array was expected. Please change the shape of y to (n_samples,), for example using ravel().\n",
      "  estimator.fit(X_train, y_train, **fit_params)\n"
     ]
    },
    {
     "name": "stdout",
     "output_type": "stream",
     "text": [
      "[CV 3/3] END ...............max_depth=None, n_estimators=100; total time= 5.6min\n"
     ]
    },
    {
     "name": "stderr",
     "output_type": "stream",
     "text": [
      "C:\\ProgramData\\Anaconda3\\lib\\site-packages\\sklearn\\model_selection\\_validation.py:593: DataConversionWarning: A column-vector y was passed when a 1d array was expected. Please change the shape of y to (n_samples,), for example using ravel().\n",
      "  estimator.fit(X_train, y_train, **fit_params)\n"
     ]
    },
    {
     "name": "stdout",
     "output_type": "stream",
     "text": [
      "[CV 1/3] END .................max_depth=10, n_estimators=500; total time=10.0min\n"
     ]
    },
    {
     "name": "stderr",
     "output_type": "stream",
     "text": [
      "C:\\ProgramData\\Anaconda3\\lib\\site-packages\\sklearn\\model_selection\\_validation.py:593: DataConversionWarning: A column-vector y was passed when a 1d array was expected. Please change the shape of y to (n_samples,), for example using ravel().\n",
      "  estimator.fit(X_train, y_train, **fit_params)\n"
     ]
    },
    {
     "name": "stdout",
     "output_type": "stream",
     "text": [
      "[CV 2/3] END .................max_depth=10, n_estimators=500; total time=10.1min\n"
     ]
    },
    {
     "name": "stderr",
     "output_type": "stream",
     "text": [
      "C:\\ProgramData\\Anaconda3\\lib\\site-packages\\sklearn\\model_selection\\_validation.py:593: DataConversionWarning: A column-vector y was passed when a 1d array was expected. Please change the shape of y to (n_samples,), for example using ravel().\n",
      "  estimator.fit(X_train, y_train, **fit_params)\n"
     ]
    },
    {
     "name": "stdout",
     "output_type": "stream",
     "text": [
      "[CV 3/3] END .................max_depth=10, n_estimators=500; total time=10.1min\n"
     ]
    },
    {
     "name": "stderr",
     "output_type": "stream",
     "text": [
      "C:\\ProgramData\\Anaconda3\\lib\\site-packages\\sklearn\\model_selection\\_validation.py:593: DataConversionWarning: A column-vector y was passed when a 1d array was expected. Please change the shape of y to (n_samples,), for example using ravel().\n",
      "  estimator.fit(X_train, y_train, **fit_params)\n"
     ]
    },
    {
     "name": "stdout",
     "output_type": "stream",
     "text": [
      "[CV 1/3] END ..................max_depth=10, n_estimators=50; total time= 1.1min\n"
     ]
    },
    {
     "name": "stderr",
     "output_type": "stream",
     "text": [
      "C:\\ProgramData\\Anaconda3\\lib\\site-packages\\sklearn\\model_selection\\_validation.py:593: DataConversionWarning: A column-vector y was passed when a 1d array was expected. Please change the shape of y to (n_samples,), for example using ravel().\n",
      "  estimator.fit(X_train, y_train, **fit_params)\n"
     ]
    },
    {
     "name": "stdout",
     "output_type": "stream",
     "text": [
      "[CV 2/3] END ..................max_depth=10, n_estimators=50; total time= 1.1min\n"
     ]
    },
    {
     "name": "stderr",
     "output_type": "stream",
     "text": [
      "C:\\ProgramData\\Anaconda3\\lib\\site-packages\\sklearn\\model_selection\\_validation.py:593: DataConversionWarning: A column-vector y was passed when a 1d array was expected. Please change the shape of y to (n_samples,), for example using ravel().\n",
      "  estimator.fit(X_train, y_train, **fit_params)\n"
     ]
    },
    {
     "name": "stdout",
     "output_type": "stream",
     "text": [
      "[CV 3/3] END ..................max_depth=10, n_estimators=50; total time= 1.1min\n"
     ]
    },
    {
     "name": "stderr",
     "output_type": "stream",
     "text": [
      "C:\\ProgramData\\Anaconda3\\lib\\site-packages\\sklearn\\model_selection\\_validation.py:593: DataConversionWarning: A column-vector y was passed when a 1d array was expected. Please change the shape of y to (n_samples,), for example using ravel().\n",
      "  estimator.fit(X_train, y_train, **fit_params)\n"
     ]
    },
    {
     "name": "stdout",
     "output_type": "stream",
     "text": [
      "[CV 1/3] END .................max_depth=10, n_estimators=100; total time= 2.2min\n"
     ]
    },
    {
     "name": "stderr",
     "output_type": "stream",
     "text": [
      "C:\\ProgramData\\Anaconda3\\lib\\site-packages\\sklearn\\model_selection\\_validation.py:593: DataConversionWarning: A column-vector y was passed when a 1d array was expected. Please change the shape of y to (n_samples,), for example using ravel().\n",
      "  estimator.fit(X_train, y_train, **fit_params)\n"
     ]
    },
    {
     "name": "stdout",
     "output_type": "stream",
     "text": [
      "[CV 2/3] END .................max_depth=10, n_estimators=100; total time= 2.2min\n"
     ]
    },
    {
     "name": "stderr",
     "output_type": "stream",
     "text": [
      "C:\\ProgramData\\Anaconda3\\lib\\site-packages\\sklearn\\model_selection\\_validation.py:593: DataConversionWarning: A column-vector y was passed when a 1d array was expected. Please change the shape of y to (n_samples,), for example using ravel().\n",
      "  estimator.fit(X_train, y_train, **fit_params)\n"
     ]
    },
    {
     "name": "stdout",
     "output_type": "stream",
     "text": [
      "[CV 3/3] END .................max_depth=10, n_estimators=100; total time= 2.1min\n"
     ]
    },
    {
     "name": "stderr",
     "output_type": "stream",
     "text": [
      "C:\\ProgramData\\Anaconda3\\lib\\site-packages\\sklearn\\model_selection\\_validation.py:593: DataConversionWarning: A column-vector y was passed when a 1d array was expected. Please change the shape of y to (n_samples,), for example using ravel().\n",
      "  estimator.fit(X_train, y_train, **fit_params)\n"
     ]
    },
    {
     "name": "stdout",
     "output_type": "stream",
     "text": [
      "[CV 1/3] END ..................max_depth=3, n_estimators=200; total time= 1.4min\n"
     ]
    },
    {
     "name": "stderr",
     "output_type": "stream",
     "text": [
      "C:\\ProgramData\\Anaconda3\\lib\\site-packages\\sklearn\\model_selection\\_validation.py:593: DataConversionWarning: A column-vector y was passed when a 1d array was expected. Please change the shape of y to (n_samples,), for example using ravel().\n",
      "  estimator.fit(X_train, y_train, **fit_params)\n"
     ]
    },
    {
     "name": "stdout",
     "output_type": "stream",
     "text": [
      "[CV 2/3] END ..................max_depth=3, n_estimators=200; total time= 1.4min\n"
     ]
    },
    {
     "name": "stderr",
     "output_type": "stream",
     "text": [
      "C:\\ProgramData\\Anaconda3\\lib\\site-packages\\sklearn\\model_selection\\_validation.py:593: DataConversionWarning: A column-vector y was passed when a 1d array was expected. Please change the shape of y to (n_samples,), for example using ravel().\n",
      "  estimator.fit(X_train, y_train, **fit_params)\n"
     ]
    },
    {
     "name": "stdout",
     "output_type": "stream",
     "text": [
      "[CV 3/3] END ..................max_depth=3, n_estimators=200; total time= 1.5min\n"
     ]
    },
    {
     "name": "stderr",
     "output_type": "stream",
     "text": [
      "C:\\ProgramData\\Anaconda3\\lib\\site-packages\\sklearn\\model_selection\\_validation.py:593: DataConversionWarning: A column-vector y was passed when a 1d array was expected. Please change the shape of y to (n_samples,), for example using ravel().\n",
      "  estimator.fit(X_train, y_train, **fit_params)\n",
      "C:\\ProgramData\\Anaconda3\\lib\\site-packages\\sklearn\\model_selection\\_validation.py:610: FitFailedWarning: Estimator fit failed. The score on this train-test partition for these parameters will be set to nan. Details: \n",
      "Traceback (most recent call last):\n",
      "  File \"C:\\ProgramData\\Anaconda3\\lib\\site-packages\\sklearn\\model_selection\\_validation.py\", line 593, in _fit_and_score\n",
      "    estimator.fit(X_train, y_train, **fit_params)\n",
      "  File \"C:\\ProgramData\\Anaconda3\\lib\\site-packages\\sklearn\\ensemble\\_forest.py\", line 387, in fit\n",
      "    trees = Parallel(n_jobs=self.n_jobs, verbose=self.verbose,\n",
      "  File \"C:\\ProgramData\\Anaconda3\\lib\\site-packages\\joblib\\parallel.py\", line 1044, in __call__\n",
      "    while self.dispatch_one_batch(iterator):\n",
      "  File \"C:\\ProgramData\\Anaconda3\\lib\\site-packages\\joblib\\parallel.py\", line 859, in dispatch_one_batch\n",
      "    self._dispatch(tasks)\n",
      "  File \"C:\\ProgramData\\Anaconda3\\lib\\site-packages\\joblib\\parallel.py\", line 777, in _dispatch\n",
      "    job = self._backend.apply_async(batch, callback=cb)\n",
      "  File \"C:\\ProgramData\\Anaconda3\\lib\\site-packages\\joblib\\_parallel_backends.py\", line 208, in apply_async\n",
      "    result = ImmediateResult(func)\n",
      "  File \"C:\\ProgramData\\Anaconda3\\lib\\site-packages\\joblib\\_parallel_backends.py\", line 572, in __init__\n",
      "    self.results = batch()\n",
      "  File \"C:\\ProgramData\\Anaconda3\\lib\\site-packages\\joblib\\parallel.py\", line 262, in __call__\n",
      "    return [func(*args, **kwargs)\n",
      "  File \"C:\\ProgramData\\Anaconda3\\lib\\site-packages\\joblib\\parallel.py\", line 262, in <listcomp>\n",
      "    return [func(*args, **kwargs)\n",
      "  File \"C:\\ProgramData\\Anaconda3\\lib\\site-packages\\sklearn\\utils\\fixes.py\", line 222, in __call__\n",
      "    return self.function(*args, **kwargs)\n",
      "  File \"C:\\ProgramData\\Anaconda3\\lib\\site-packages\\sklearn\\ensemble\\_forest.py\", line 169, in _parallel_build_trees\n",
      "    tree.fit(X, y, sample_weight=curr_sample_weight, check_input=False)\n",
      "  File \"C:\\ProgramData\\Anaconda3\\lib\\site-packages\\sklearn\\tree\\_classes.py\", line 898, in fit\n",
      "    super().fit(\n",
      "  File \"C:\\ProgramData\\Anaconda3\\lib\\site-packages\\sklearn\\tree\\_classes.py\", line 389, in fit\n",
      "    builder.build(self.tree_, X, y, sample_weight)\n",
      "  File \"sklearn\\tree\\_tree.pyx\", line 136, in sklearn.tree._tree.DepthFirstTreeBuilder.build\n",
      "  File \"sklearn\\tree\\_tree.pyx\", line 233, in sklearn.tree._tree.DepthFirstTreeBuilder.build\n",
      "  File \"sklearn\\tree\\_tree.pyx\", line 734, in sklearn.tree._tree.Tree._add_node\n",
      "  File \"sklearn\\tree\\_tree.pyx\", line 705, in sklearn.tree._tree.Tree._resize_c\n",
      "  File \"sklearn\\tree\\_utils.pyx\", line 41, in sklearn.tree._utils.safe_realloc\n",
      "MemoryError: could not allocate 14680064 bytes\n",
      "\n",
      "  warnings.warn(\"Estimator fit failed. The score on this train-test\"\n"
     ]
    },
    {
     "name": "stdout",
     "output_type": "stream",
     "text": [
      "[CV 1/3] END ...............max_depth=None, n_estimators=500; total time=19.5min\n"
     ]
    },
    {
     "name": "stderr",
     "output_type": "stream",
     "text": [
      "C:\\ProgramData\\Anaconda3\\lib\\site-packages\\sklearn\\model_selection\\_validation.py:593: DataConversionWarning: A column-vector y was passed when a 1d array was expected. Please change the shape of y to (n_samples,), for example using ravel().\n",
      "  estimator.fit(X_train, y_train, **fit_params)\n",
      "C:\\ProgramData\\Anaconda3\\lib\\site-packages\\sklearn\\model_selection\\_validation.py:610: FitFailedWarning: Estimator fit failed. The score on this train-test partition for these parameters will be set to nan. Details: \n",
      "Traceback (most recent call last):\n",
      "  File \"C:\\ProgramData\\Anaconda3\\lib\\site-packages\\sklearn\\model_selection\\_validation.py\", line 593, in _fit_and_score\n",
      "    estimator.fit(X_train, y_train, **fit_params)\n",
      "  File \"C:\\ProgramData\\Anaconda3\\lib\\site-packages\\sklearn\\ensemble\\_forest.py\", line 387, in fit\n",
      "    trees = Parallel(n_jobs=self.n_jobs, verbose=self.verbose,\n",
      "  File \"C:\\ProgramData\\Anaconda3\\lib\\site-packages\\joblib\\parallel.py\", line 1044, in __call__\n",
      "    while self.dispatch_one_batch(iterator):\n",
      "  File \"C:\\ProgramData\\Anaconda3\\lib\\site-packages\\joblib\\parallel.py\", line 859, in dispatch_one_batch\n",
      "    self._dispatch(tasks)\n",
      "  File \"C:\\ProgramData\\Anaconda3\\lib\\site-packages\\joblib\\parallel.py\", line 777, in _dispatch\n",
      "    job = self._backend.apply_async(batch, callback=cb)\n",
      "  File \"C:\\ProgramData\\Anaconda3\\lib\\site-packages\\joblib\\_parallel_backends.py\", line 208, in apply_async\n",
      "    result = ImmediateResult(func)\n",
      "  File \"C:\\ProgramData\\Anaconda3\\lib\\site-packages\\joblib\\_parallel_backends.py\", line 572, in __init__\n",
      "    self.results = batch()\n",
      "  File \"C:\\ProgramData\\Anaconda3\\lib\\site-packages\\joblib\\parallel.py\", line 262, in __call__\n",
      "    return [func(*args, **kwargs)\n",
      "  File \"C:\\ProgramData\\Anaconda3\\lib\\site-packages\\joblib\\parallel.py\", line 262, in <listcomp>\n",
      "    return [func(*args, **kwargs)\n",
      "  File \"C:\\ProgramData\\Anaconda3\\lib\\site-packages\\sklearn\\utils\\fixes.py\", line 222, in __call__\n",
      "    return self.function(*args, **kwargs)\n",
      "  File \"C:\\ProgramData\\Anaconda3\\lib\\site-packages\\sklearn\\ensemble\\_forest.py\", line 169, in _parallel_build_trees\n",
      "    tree.fit(X, y, sample_weight=curr_sample_weight, check_input=False)\n",
      "  File \"C:\\ProgramData\\Anaconda3\\lib\\site-packages\\sklearn\\tree\\_classes.py\", line 898, in fit\n",
      "    super().fit(\n",
      "  File \"C:\\ProgramData\\Anaconda3\\lib\\site-packages\\sklearn\\tree\\_classes.py\", line 389, in fit\n",
      "    builder.build(self.tree_, X, y, sample_weight)\n",
      "  File \"sklearn\\tree\\_tree.pyx\", line 136, in sklearn.tree._tree.DepthFirstTreeBuilder.build\n",
      "  File \"sklearn\\tree\\_tree.pyx\", line 233, in sklearn.tree._tree.DepthFirstTreeBuilder.build\n",
      "  File \"sklearn\\tree\\_tree.pyx\", line 734, in sklearn.tree._tree.Tree._add_node\n",
      "  File \"sklearn\\tree\\_tree.pyx\", line 705, in sklearn.tree._tree.Tree._resize_c\n",
      "  File \"sklearn\\tree\\_utils.pyx\", line 41, in sklearn.tree._utils.safe_realloc\n",
      "MemoryError: could not allocate 1835008 bytes\n",
      "\n",
      "  warnings.warn(\"Estimator fit failed. The score on this train-test\"\n"
     ]
    },
    {
     "name": "stdout",
     "output_type": "stream",
     "text": [
      "[CV 2/3] END ...............max_depth=None, n_estimators=500; total time=19.0min\n"
     ]
    },
    {
     "name": "stderr",
     "output_type": "stream",
     "text": [
      "C:\\ProgramData\\Anaconda3\\lib\\site-packages\\sklearn\\model_selection\\_validation.py:593: DataConversionWarning: A column-vector y was passed when a 1d array was expected. Please change the shape of y to (n_samples,), for example using ravel().\n",
      "  estimator.fit(X_train, y_train, **fit_params)\n",
      "C:\\ProgramData\\Anaconda3\\lib\\site-packages\\sklearn\\model_selection\\_validation.py:610: FitFailedWarning: Estimator fit failed. The score on this train-test partition for these parameters will be set to nan. Details: \n",
      "Traceback (most recent call last):\n",
      "  File \"C:\\ProgramData\\Anaconda3\\lib\\site-packages\\sklearn\\model_selection\\_validation.py\", line 593, in _fit_and_score\n",
      "    estimator.fit(X_train, y_train, **fit_params)\n",
      "  File \"C:\\ProgramData\\Anaconda3\\lib\\site-packages\\sklearn\\ensemble\\_forest.py\", line 387, in fit\n",
      "    trees = Parallel(n_jobs=self.n_jobs, verbose=self.verbose,\n",
      "  File \"C:\\ProgramData\\Anaconda3\\lib\\site-packages\\joblib\\parallel.py\", line 1044, in __call__\n",
      "    while self.dispatch_one_batch(iterator):\n",
      "  File \"C:\\ProgramData\\Anaconda3\\lib\\site-packages\\joblib\\parallel.py\", line 859, in dispatch_one_batch\n",
      "    self._dispatch(tasks)\n",
      "  File \"C:\\ProgramData\\Anaconda3\\lib\\site-packages\\joblib\\parallel.py\", line 777, in _dispatch\n",
      "    job = self._backend.apply_async(batch, callback=cb)\n",
      "  File \"C:\\ProgramData\\Anaconda3\\lib\\site-packages\\joblib\\_parallel_backends.py\", line 208, in apply_async\n",
      "    result = ImmediateResult(func)\n",
      "  File \"C:\\ProgramData\\Anaconda3\\lib\\site-packages\\joblib\\_parallel_backends.py\", line 572, in __init__\n",
      "    self.results = batch()\n",
      "  File \"C:\\ProgramData\\Anaconda3\\lib\\site-packages\\joblib\\parallel.py\", line 262, in __call__\n",
      "    return [func(*args, **kwargs)\n",
      "  File \"C:\\ProgramData\\Anaconda3\\lib\\site-packages\\joblib\\parallel.py\", line 262, in <listcomp>\n",
      "    return [func(*args, **kwargs)\n",
      "  File \"C:\\ProgramData\\Anaconda3\\lib\\site-packages\\sklearn\\utils\\fixes.py\", line 222, in __call__\n",
      "    return self.function(*args, **kwargs)\n",
      "  File \"C:\\ProgramData\\Anaconda3\\lib\\site-packages\\sklearn\\ensemble\\_forest.py\", line 169, in _parallel_build_trees\n",
      "    tree.fit(X, y, sample_weight=curr_sample_weight, check_input=False)\n",
      "  File \"C:\\ProgramData\\Anaconda3\\lib\\site-packages\\sklearn\\tree\\_classes.py\", line 898, in fit\n",
      "    super().fit(\n",
      "  File \"C:\\ProgramData\\Anaconda3\\lib\\site-packages\\sklearn\\tree\\_classes.py\", line 389, in fit\n",
      "    builder.build(self.tree_, X, y, sample_weight)\n",
      "  File \"sklearn\\tree\\_tree.pyx\", line 136, in sklearn.tree._tree.DepthFirstTreeBuilder.build\n",
      "  File \"sklearn\\tree\\_tree.pyx\", line 233, in sklearn.tree._tree.DepthFirstTreeBuilder.build\n",
      "  File \"sklearn\\tree\\_tree.pyx\", line 734, in sklearn.tree._tree.Tree._add_node\n",
      "  File \"sklearn\\tree\\_tree.pyx\", line 705, in sklearn.tree._tree.Tree._resize_c\n",
      "  File \"sklearn\\tree\\_utils.pyx\", line 41, in sklearn.tree._utils.safe_realloc\n",
      "MemoryError: could not allocate 14680064 bytes\n",
      "\n",
      "  warnings.warn(\"Estimator fit failed. The score on this train-test\"\n",
      "C:\\ProgramData\\Anaconda3\\lib\\site-packages\\sklearn\\model_selection\\_search.py:918: UserWarning: One or more of the test scores are non-finite: [0.77858234 0.77422812 0.84608061 0.63521951 0.67244918 0.86650935\n",
      " 0.84529225 0.82463217 0.79422653        nan]\n",
      "  warnings.warn(\n"
     ]
    },
    {
     "name": "stdout",
     "output_type": "stream",
     "text": [
      "[CV 3/3] END ...............max_depth=None, n_estimators=500; total time=17.2min\n"
     ]
    },
    {
     "name": "stderr",
     "output_type": "stream",
     "text": [
      "C:\\ProgramData\\Anaconda3\\lib\\site-packages\\sklearn\\model_selection\\_search.py:880: DataConversionWarning: A column-vector y was passed when a 1d array was expected. Please change the shape of y to (n_samples,), for example using ravel().\n",
      "  self.best_estimator_.fit(X, y, **fit_params)\n"
     ]
    }
   ],
   "source": [
    "model = RandomForestClassifier()\n",
    "\n",
    "parameters = {\n",
    "    #'bootstrap'         : [True, False],\n",
    "    'max_depth'         : [3, 5, 10, None],\n",
    "    #'criterion'         : ['gini', 'entropy'],\n",
    "    #'min_samples_leaf'  : [1, 2, 4],\n",
    "    #'max_features'      : ['auto', 'log2', None],\n",
    "    'n_estimators'      : [50, 100, 200, 500]\n",
    "}\n",
    "\n",
    "tuning_model = RandomizedSearchCV(\n",
    "    model, parameters, n_iter=10,\n",
    "    cv=3, verbose=3, random_state=42\n",
    ")\n",
    "\n",
    "start_time = timer(None)\n",
    "tuning_model.fit(X0, y0)\n",
    "timer(start_time)"
   ]
  },
  {
   "cell_type": "code",
   "execution_count": 103,
   "id": "e6b643a0",
   "metadata": {},
   "outputs": [
    {
     "name": "stderr",
     "output_type": "stream",
     "text": [
      "<ipython-input-103-e360418ca2a9>:12: DataConversionWarning: A column-vector y was passed when a 1d array was expected. Please change the shape of y to (n_samples,), for example using ravel().\n",
      "  rfc0 = rfc0.fit(X0_train, y0_train)\n"
     ]
    }
   ],
   "source": [
    "rfc0 = RandomForestClassifier(\n",
    "    bootstrap=True,\n",
    "    max_depth=10,\n",
    "    criterion='gini',\n",
    "    n_estimators=100,\n",
    "    min_samples_leaf=4,\n",
    "    min_samples_split=10,\n",
    "    max_features='auto',\n",
    "    random_state=42,\n",
    ")\n",
    "\n",
    "rfc0 = rfc0.fit(X0_train, y0_train)\n",
    "\n",
    "y0_train_pred = rfc0.predict(X0_train)\n",
    "y0_test_pred = rfc0.predict(X0_test)\n",
    "\n",
    "probs0_test = rfc0.predict_proba(X0_test)\n",
    "probs0_train = rfc0.predict_proba(X0_train)\n",
    "\n",
    "preds_test_rfc0 = probs0_test[:, 1]\n",
    "preds_train_rfc0 = probs0_train[:, 1]"
   ]
  },
  {
   "cell_type": "code",
   "execution_count": 107,
   "id": "841ba3cd",
   "metadata": {},
   "outputs": [
    {
     "name": "stdout",
     "output_type": "stream",
     "text": [
      "Random forest\n",
      "f1 test          0.714025\n",
      "f1 train         0.712395\n",
      "AUC-ROC test     0.924185\n",
      "AUC-ROC train    0.925471\n",
      "Name: Random forest, dtype: object\n"
     ]
    },
    {
     "data": {
      "image/png": "[encoded data removed]",
      "text/plain": [
       "<Figure size 576x360 with 1 Axes>"
      ]
     },
     "metadata": {
      "needs_background": "light"
     },
     "output_type": "display_data"
    }
   ],
   "source": [
    "print('Random forest')\n",
    "\n",
    "results.loc[('Target1', 'f1 test'), 'Random forest'] = f1_score(y0_test, y0_test_pred)\n",
    "results.loc[('Target1', 'f1 train'), 'Random forest'] = f1_score(y0_train, y0_train_pred)\n",
    "results.loc[('Target1', 'AUC-ROC test'), 'Random forest'] = roc_auc_score(y0_test, preds_test_rfc0)\n",
    "results.loc[('Target1', 'AUC-ROC train'), 'Random forest'] = roc_auc_score(y0_train, preds_train_rfc0)\n",
    "\n",
    "print(results.loc['Target1', 'Random forest'])\n",
    "\n",
    "fpr0, tpr0, _ = roc_curve(y0_test, preds_test_rfc0, drop_intermediate=False)\n",
    "\n",
    "plt.figure(figsize=(8, 5))\n",
    "plt.clf()\n",
    "plt.plot(fpr0, tpr0)\n",
    "plt.xlabel('FPR')\n",
    "plt.ylabel('TPR')\n",
    "plt.title('ROC curve Target1 random forest')\n",
    "plt.show()"
   ]
  },
  {
   "cell_type": "markdown",
   "id": "30a28d26",
   "metadata": {},
   "source": [
    "# Logistic regression"
   ]
  },
  {
   "cell_type": "code",
   "execution_count": 116,
   "id": "c24b321c",
   "metadata": {},
   "outputs": [],
   "source": [
    "from sklearn.pipeline import Pipeline\n",
    "from datetime import datetime\n",
    "from matplotlib import pyplot as plt\n",
    "\n",
    "from sklearn.metrics import roc_curve, roc_auc_score, f1_score\n",
    "from sklearn.tree import DecisionTreeClassifier\n",
    "from sklearn.ensemble import RandomForestClassifier\n",
    "from sklearn.linear_model import LogisticRegression\n",
    "import xgboost\n",
    "\n",
    "from sklearn.model_selection import RandomizedSearchCV\n",
    "from sklearn.model_selection import GridSearchCV\n",
    "from hyperopt import hp, Trials, fmin, tpe, STATUS_OK\n",
    "from sklearn.preprocessing import StandardScaler"
   ]
  },
  {
   "cell_type": "code",
   "execution_count": 117,
   "id": "2de837dd",
   "metadata": {},
   "outputs": [
    {
     "name": "stderr",
     "output_type": "stream",
     "text": [
      "C:\\ProgramData\\Anaconda3\\lib\\site-packages\\sklearn\\utils\\validation.py:63: DataConversionWarning: A column-vector y was passed when a 1d array was expected. Please change the shape of y to (n_samples, ), for example using ravel().\n",
      "  return f(*args, **kwargs)\n"
     ]
    }
   ],
   "source": [
    "pipeline = Pipeline([\n",
    "    ('scaler', StandardScaler()),\n",
    "    ('model', LogisticRegression(max_iter=10000)),\n",
    "])\n",
    "\n",
    "lr0 = pipeline.fit(X0_train, y0_train)\n",
    "\n",
    "y0_train_pred = lr0.predict(X0_train)\n",
    "y0_test_pred = lr0.predict(X0_test)\n",
    "\n",
    "probs0_test = lr0.predict_proba(X0_test)\n",
    "probs0_train = lr0.predict_proba(X0_train)\n",
    "\n",
    "preds_test_lr0 = probs0_test[:, 1]\n",
    "preds_train_lr0 = probs0_train[:, 1]"
   ]
  },
  {
   "cell_type": "code",
   "execution_count": 118,
   "id": "d4348acc",
   "metadata": {},
   "outputs": [
    {
     "name": "stdout",
     "output_type": "stream",
     "text": [
      "Logistic regression\n",
      "f1 test          0.548718\n",
      "f1 train         0.544586\n",
      "AUC-ROC test     0.829914\n",
      "AUC-ROC train    0.827963\n",
      "Name: Logistic regression, dtype: object\n"
     ]
    },
    {
     "data": {
      "image/png": "[encoded data removed]",
      "text/plain": [
       "<Figure size 576x360 with 1 Axes>"
      ]
     },
     "metadata": {
      "needs_background": "light"
     },
     "output_type": "display_data"
    }
   ],
   "source": [
    "print('Logistic regression')\n",
    "\n",
    "results.loc[('Target1', 'f1 test'), 'Logistic regression'] = f1_score(y0_test, y0_test_pred)\n",
    "results.loc[('Target1', 'f1 train'), 'Logistic regression'] = f1_score(y0_train, y0_train_pred)\n",
    "results.loc[('Target1', 'AUC-ROC test'), 'Logistic regression'] = roc_auc_score(y0_test, preds_test_lr0)\n",
    "results.loc[('Target1', 'AUC-ROC train'), 'Logistic regression'] = roc_auc_score(y0_train, preds_train_lr0)\n",
    "\n",
    "print(results.loc['Target1', 'Logistic regression'])\n",
    "\n",
    "fpr0, tpr0, _ = roc_curve(y0_test, preds_test_lr0, drop_intermediate=False)\n",
    "\n",
    "plt.figure(figsize=(8, 5))\n",
    "plt.clf()\n",
    "plt.plot(fpr0, tpr0)\n",
    "plt.xlabel('FPR')\n",
    "plt.ylabel('TPR')\n",
    "plt.title('ROC curve Target1 logistic regression')\n",
    "plt.show()"
   ]
  },
  {
   "cell_type": "markdown",
   "id": "5e479129",
   "metadata": {},
   "source": [
    "# XGboost"
   ]
  },
  {
   "cell_type": "code",
   "execution_count": 119,
   "id": "ca71b4dc",
   "metadata": {},
   "outputs": [],
   "source": [
    "params = {\n",
    "    \"learning_rate\":    hp.choice('learning_rate', np.arange(0.05, 0.21, 0.05)),\n",
    "    \"max_depth\":        hp.choice('max_depth', np.arange(1, 5, 1, dtype=int)),\n",
    "    \"min_child_weight\": hp.choice('min_child_weight', np.arange(1, 8, 1, dtype=int)),\n",
    "    \"gamma\":            hp.choice('gamma', np.arange(0.0, 0.5, 0.1)),\n",
    "    \"colsample_bytree\": hp.choice('colsample_bytree', np.arange(0.3, 0.8, 0.1)),\n",
    "    \"subsample\":        hp.choice('subsample', np.arange(0.8, 1.01, 0.05)),\n",
    "    \"n_estimators\":     1000,\n",
    "}\n",
    "\n",
    "fit_params = {\n",
    "    'eval_metric':           'auc',\n",
    "    'eval_set':              [(X0_train, y0_train), (X0_test, y0_test)],\n",
    "    'early_stopping_rounds': 10,\n",
    "    'verbose':               False,\n",
    "}\n",
    "\n",
    "def objective(space):\n",
    "    clf = xgboost.XGBClassifier(\n",
    "        verbosity         = 0,\n",
    "        use_label_encoder = False,\n",
    "        learning_rate     = space['learning_rate'],\n",
    "        max_depth         = space['max_depth'],\n",
    "        min_child_weight  = space['min_child_weight'],\n",
    "        gamma             = space['gamma'],\n",
    "        colsample_bytree  = space['colsample_bytree'],\n",
    "        subsample         = space['subsample'],\n",
    "        n_estimators      = space['n_estimators'], \n",
    "    )\n",
    "    print(f'''\n",
    "------------------------\n",
    "learning_rate    = {space['learning_rate']},\n",
    "max_depth        = {space['max_depth']},\n",
    "min_child_weight = {space['min_child_weight']},\n",
    "gamma            = {space['gamma']},\n",
    "colsample_bytree = {space['colsample_bytree']},\n",
    "subsample        = {space['subsample']},\n",
    "n_estimators     = {space['n_estimators']},\n",
    "------------------------\n",
    "''')\n",
    "    \n",
    "    clf.fit(X0_train, y0_train, **fit_params)\n",
    "    \n",
    "    y0_pred = clf.predict(X0_test)\n",
    "    preds = clf.predict_proba(X0_test)[:,1]\n",
    "    \n",
    "    accuracy = accuracy_score(y0_test, y0_pred)\n",
    "    roc_auc = roc_auc_score(y_test, preds)\n",
    "\n",
    "    print(f\"accuracy = {accuracy}, roc_auc = {roc_auc}\")\n",
    "    \n",
    "    return {'loss': -roc_auc, 'status': STATUS_OK}"
   ]
  },
  {
   "cell_type": "code",
   "execution_count": 120,
   "id": "c4af4ac2",
   "metadata": {},
   "outputs": [
    {
     "name": "stderr",
     "output_type": "stream",
     "text": [
      "C:\\ProgramData\\Anaconda3\\lib\\site-packages\\xgboost\\sklearn.py:793: UserWarning: `eval_metric` in `fit` method is deprecated for better compatibility with scikit-learn, use `eval_metric` in constructor or`set_params` instead.\n",
      "  warnings.warn(\n",
      "C:\\ProgramData\\Anaconda3\\lib\\site-packages\\xgboost\\sklearn.py:793: UserWarning: `early_stopping_rounds` in `fit` method is deprecated for better compatibility with scikit-learn, use `early_stopping_rounds` in constructor or`set_params` instead.\n",
      "  warnings.warn(\n"
     ]
    },
    {
     "name": "stdout",
     "output_type": "stream",
     "text": [
      "[0]\tvalidation_0-auc:0.89988\n",
      "[1]\tvalidation_0-auc:0.90335\n",
      "[2]\tvalidation_0-auc:0.90365\n",
      "[3]\tvalidation_0-auc:0.90452\n",
      "[4]\tvalidation_0-auc:0.90460\n",
      "[5]\tvalidation_0-auc:0.91157\n",
      "[6]\tvalidation_0-auc:0.91404\n",
      "[7]\tvalidation_0-auc:0.91317\n",
      "[8]\tvalidation_0-auc:0.91280\n",
      "[9]\tvalidation_0-auc:0.91289\n",
      "[10]\tvalidation_0-auc:0.91375\n",
      "[11]\tvalidation_0-auc:0.91286\n",
      "[12]\tvalidation_0-auc:0.91519\n",
      "[13]\tvalidation_0-auc:0.91487\n",
      "[14]\tvalidation_0-auc:0.91883\n",
      "[15]\tvalidation_0-auc:0.91917\n",
      "[16]\tvalidation_0-auc:0.91936\n",
      "[17]\tvalidation_0-auc:0.92025\n",
      "[18]\tvalidation_0-auc:0.92102\n",
      "[19]\tvalidation_0-auc:0.92126\n",
      "[20]\tvalidation_0-auc:0.92160\n",
      "[21]\tvalidation_0-auc:0.92207\n",
      "[22]\tvalidation_0-auc:0.92205\n",
      "[23]\tvalidation_0-auc:0.92259\n",
      "[24]\tvalidation_0-auc:0.92301\n",
      "[25]\tvalidation_0-auc:0.92333\n",
      "[26]\tvalidation_0-auc:0.92411\n",
      "[27]\tvalidation_0-auc:0.92443\n",
      "[28]\tvalidation_0-auc:0.92460\n",
      "[29]\tvalidation_0-auc:0.92481\n",
      "[30]\tvalidation_0-auc:0.92508\n",
      "[31]\tvalidation_0-auc:0.92515\n",
      "[32]\tvalidation_0-auc:0.92520\n",
      "[33]\tvalidation_0-auc:0.92526\n",
      "[34]\tvalidation_0-auc:0.92539\n",
      "[35]\tvalidation_0-auc:0.92544\n",
      "[36]\tvalidation_0-auc:0.92555\n",
      "[37]\tvalidation_0-auc:0.92607\n",
      "[38]\tvalidation_0-auc:0.92628\n",
      "[39]\tvalidation_0-auc:0.92647\n",
      "[40]\tvalidation_0-auc:0.92650\n",
      "[41]\tvalidation_0-auc:0.92659\n",
      "[42]\tvalidation_0-auc:0.92658\n",
      "[43]\tvalidation_0-auc:0.92666\n",
      "[44]\tvalidation_0-auc:0.92678\n",
      "[45]\tvalidation_0-auc:0.92686\n",
      "[46]\tvalidation_0-auc:0.92691\n",
      "[47]\tvalidation_0-auc:0.92695\n",
      "[48]\tvalidation_0-auc:0.92700\n",
      "[49]\tvalidation_0-auc:0.92704\n",
      "[50]\tvalidation_0-auc:0.92713\n",
      "[51]\tvalidation_0-auc:0.92735\n",
      "[52]\tvalidation_0-auc:0.92747\n",
      "[53]\tvalidation_0-auc:0.92756\n",
      "[54]\tvalidation_0-auc:0.92758\n",
      "[55]\tvalidation_0-auc:0.92771\n",
      "[56]\tvalidation_0-auc:0.92790\n",
      "[57]\tvalidation_0-auc:0.92798\n",
      "[58]\tvalidation_0-auc:0.92800\n",
      "[59]\tvalidation_0-auc:0.92813\n",
      "[60]\tvalidation_0-auc:0.92818\n",
      "[61]\tvalidation_0-auc:0.92833\n",
      "[62]\tvalidation_0-auc:0.92843\n",
      "[63]\tvalidation_0-auc:0.92854\n",
      "[64]\tvalidation_0-auc:0.92861\n",
      "[65]\tvalidation_0-auc:0.92878\n",
      "[66]\tvalidation_0-auc:0.92884\n",
      "[67]\tvalidation_0-auc:0.92888\n",
      "[68]\tvalidation_0-auc:0.92904\n",
      "[69]\tvalidation_0-auc:0.92915\n",
      "[70]\tvalidation_0-auc:0.92928\n",
      "[71]\tvalidation_0-auc:0.92936\n",
      "[72]\tvalidation_0-auc:0.92937\n",
      "[73]\tvalidation_0-auc:0.92945\n",
      "[74]\tvalidation_0-auc:0.92944\n",
      "[75]\tvalidation_0-auc:0.92957\n",
      "[76]\tvalidation_0-auc:0.92964\n",
      "[77]\tvalidation_0-auc:0.92971\n",
      "[78]\tvalidation_0-auc:0.92988\n",
      "[79]\tvalidation_0-auc:0.92998\n",
      "[80]\tvalidation_0-auc:0.93001\n",
      "[81]\tvalidation_0-auc:0.93011\n",
      "[82]\tvalidation_0-auc:0.93027\n",
      "[83]\tvalidation_0-auc:0.93039\n",
      "[84]\tvalidation_0-auc:0.93048\n",
      "[85]\tvalidation_0-auc:0.93050\n",
      "[86]\tvalidation_0-auc:0.93056\n",
      "[87]\tvalidation_0-auc:0.93058\n",
      "[88]\tvalidation_0-auc:0.93062\n",
      "[89]\tvalidation_0-auc:0.93064\n",
      "[90]\tvalidation_0-auc:0.93073\n",
      "[91]\tvalidation_0-auc:0.93081\n",
      "[92]\tvalidation_0-auc:0.93082\n",
      "[93]\tvalidation_0-auc:0.93086\n",
      "[94]\tvalidation_0-auc:0.93088\n",
      "[95]\tvalidation_0-auc:0.93098\n",
      "[96]\tvalidation_0-auc:0.93107\n",
      "[97]\tvalidation_0-auc:0.93118\n",
      "[98]\tvalidation_0-auc:0.93123\n",
      "[99]\tvalidation_0-auc:0.93126\n"
     ]
    }
   ],
   "source": [
    "xgbc0 = xgboost.XGBClassifier(\n",
    "    use_label_encoder=False,\n",
    "    n_estimators=100,\n",
    "    objective='binary:logistic',\n",
    "    max_depth=3,\n",
    "    eta=0.1,\n",
    ")\n",
    "\n",
    "xgbc0.fit(\n",
    "    X0_train, y0_train,\n",
    "    early_stopping_rounds=10,\n",
    "    eval_metric='auc',\n",
    "    eval_set=[(X0_test, y0_test)],\n",
    "    verbose=True,\n",
    ")\n",
    "\n",
    "y0_train_pred = xgbc0.predict(X0_train)\n",
    "y0_test_pred = xgbc0.predict(X0_test)\n",
    "\n",
    "probs0_test = xgbc0.predict_proba(X0_test)\n",
    "probs0_train = xgbc0.predict_proba(X0_train)\n",
    "\n",
    "preds_test_xgbc0 = probs0_test[:, 1]\n",
    "preds_train_xgbc0 = probs0_train[:, 1]"
   ]
  },
  {
   "cell_type": "code",
   "execution_count": 121,
   "id": "6f107495",
   "metadata": {},
   "outputs": [
    {
     "name": "stdout",
     "output_type": "stream",
     "text": [
      "XGBoost\n",
      "f1 test          0.773504\n",
      "f1 train          0.77284\n",
      "AUC-ROC test     0.931258\n",
      "AUC-ROC train    0.931107\n",
      "Name: XGBoost, dtype: object\n"
     ]
    },
    {
     "data": {
      "image/png": "[encoded data removed]",
      "text/plain": [
       "<Figure size 576x360 with 1 Axes>"
      ]
     },
     "metadata": {
      "needs_background": "light"
     },
     "output_type": "display_data"
    }
   ],
   "source": [
    "print('XGBoost')\n",
    "\n",
    "results.loc[('Target1', 'f1 test'), 'XGBoost'] = f1_score(y0_test, y0_test_pred)\n",
    "results.loc[('Target1', 'f1 train'), 'XGBoost'] = f1_score(y0_train, y0_train_pred)\n",
    "results.loc[('Target1', 'AUC-ROC test'), 'XGBoost'] = roc_auc_score(y0_test, preds_test_xgbc0)\n",
    "results.loc[('Target1', 'AUC-ROC train'), 'XGBoost'] = roc_auc_score(y0_train, preds_train_xgbc0)\n",
    "\n",
    "print(results.loc['Target1', 'XGBoost'])\n",
    "\n",
    "fpr0, tpr0, _ = roc_curve(y0_test, preds_test_xgbc0, drop_intermediate=False)\n",
    "\n",
    "plt.figure(figsize=(8, 5))\n",
    "plt.clf()\n",
    "plt.plot(fpr0, tpr0)\n",
    "plt.xlabel('FPR')\n",
    "plt.ylabel('TPR')\n",
    "plt.title('ROC curve Target1 XGBoost')\n",
    "plt.show()"
   ]
  },
  {
   "cell_type": "markdown",
   "id": "b145ebe7",
   "metadata": {},
   "source": [
    "# Tar 2 ДР (Дерево решений)"
   ]
  },
  {
   "cell_type": "code",
   "execution_count": 122,
   "id": "5ed628ca",
   "metadata": {},
   "outputs": [
    {
     "name": "stdout",
     "output_type": "stream",
     "text": [
      "Fitting 3 folds for each of 100 candidates, totalling 300 fits\n",
      "[CV 1/3] END criterion=entropy, max_depth=2, max_features=auto, min_samples_leaf=7, min_samples_split=8, splitter=best; total time=   2.5s\n",
      "[CV 2/3] END criterion=entropy, max_depth=2, max_features=auto, min_samples_leaf=7, min_samples_split=8, splitter=best; total time=   2.3s\n",
      "[CV 3/3] END criterion=entropy, max_depth=2, max_features=auto, min_samples_leaf=7, min_samples_split=8, splitter=best; total time=   2.0s\n"
     ]
    },
    {
     "name": "stderr",
     "output_type": "stream",
     "text": [
      "C:\\ProgramData\\Anaconda3\\lib\\site-packages\\sklearn\\model_selection\\_validation.py:610: FitFailedWarning: Estimator fit failed. The score on this train-test partition for these parameters will be set to nan. Details: \n",
      "Traceback (most recent call last):\n",
      "  File \"C:\\ProgramData\\Anaconda3\\lib\\site-packages\\sklearn\\model_selection\\_validation.py\", line 593, in _fit_and_score\n",
      "    estimator.fit(X_train, y_train, **fit_params)\n",
      "  File \"C:\\ProgramData\\Anaconda3\\lib\\site-packages\\sklearn\\tree\\_classes.py\", line 898, in fit\n",
      "    super().fit(\n",
      "  File \"C:\\ProgramData\\Anaconda3\\lib\\site-packages\\sklearn\\tree\\_classes.py\", line 237, in fit\n",
      "    raise ValueError(\"min_samples_split must be an integer \"\n",
      "ValueError: min_samples_split must be an integer greater than 1 or a float in (0.0, 1.0]; got the integer 1\n",
      "\n",
      "  warnings.warn(\"Estimator fit failed. The score on this train-test\"\n"
     ]
    },
    {
     "name": "stdout",
     "output_type": "stream",
     "text": [
      "[CV 1/3] END criterion=entropy, max_depth=7, max_features=auto, min_samples_leaf=5, min_samples_split=1, splitter=random; total time=   0.8s\n"
     ]
    },
    {
     "name": "stderr",
     "output_type": "stream",
     "text": [
      "C:\\ProgramData\\Anaconda3\\lib\\site-packages\\sklearn\\model_selection\\_validation.py:610: FitFailedWarning: Estimator fit failed. The score on this train-test partition for these parameters will be set to nan. Details: \n",
      "Traceback (most recent call last):\n",
      "  File \"C:\\ProgramData\\Anaconda3\\lib\\site-packages\\sklearn\\model_selection\\_validation.py\", line 593, in _fit_and_score\n",
      "    estimator.fit(X_train, y_train, **fit_params)\n",
      "  File \"C:\\ProgramData\\Anaconda3\\lib\\site-packages\\sklearn\\tree\\_classes.py\", line 898, in fit\n",
      "    super().fit(\n",
      "  File \"C:\\ProgramData\\Anaconda3\\lib\\site-packages\\sklearn\\tree\\_classes.py\", line 237, in fit\n",
      "    raise ValueError(\"min_samples_split must be an integer \"\n",
      "ValueError: min_samples_split must be an integer greater than 1 or a float in (0.0, 1.0]; got the integer 1\n",
      "\n",
      "  warnings.warn(\"Estimator fit failed. The score on this train-test\"\n"
     ]
    },
    {
     "name": "stdout",
     "output_type": "stream",
     "text": [
      "[CV 2/3] END criterion=entropy, max_depth=7, max_features=auto, min_samples_leaf=5, min_samples_split=1, splitter=random; total time=   0.8s\n"
     ]
    },
    {
     "name": "stderr",
     "output_type": "stream",
     "text": [
      "C:\\ProgramData\\Anaconda3\\lib\\site-packages\\sklearn\\model_selection\\_validation.py:610: FitFailedWarning: Estimator fit failed. The score on this train-test partition for these parameters will be set to nan. Details: \n",
      "Traceback (most recent call last):\n",
      "  File \"C:\\ProgramData\\Anaconda3\\lib\\site-packages\\sklearn\\model_selection\\_validation.py\", line 593, in _fit_and_score\n",
      "    estimator.fit(X_train, y_train, **fit_params)\n",
      "  File \"C:\\ProgramData\\Anaconda3\\lib\\site-packages\\sklearn\\tree\\_classes.py\", line 898, in fit\n",
      "    super().fit(\n",
      "  File \"C:\\ProgramData\\Anaconda3\\lib\\site-packages\\sklearn\\tree\\_classes.py\", line 237, in fit\n",
      "    raise ValueError(\"min_samples_split must be an integer \"\n",
      "ValueError: min_samples_split must be an integer greater than 1 or a float in (0.0, 1.0]; got the integer 1\n",
      "\n",
      "  warnings.warn(\"Estimator fit failed. The score on this train-test\"\n"
     ]
    },
    {
     "name": "stdout",
     "output_type": "stream",
     "text": [
      "[CV 3/3] END criterion=entropy, max_depth=7, max_features=auto, min_samples_leaf=5, min_samples_split=1, splitter=random; total time=   0.8s\n"
     ]
    },
    {
     "name": "stderr",
     "output_type": "stream",
     "text": [
      "C:\\ProgramData\\Anaconda3\\lib\\site-packages\\sklearn\\model_selection\\_validation.py:610: FitFailedWarning: Estimator fit failed. The score on this train-test partition for these parameters will be set to nan. Details: \n",
      "Traceback (most recent call last):\n",
      "  File \"C:\\ProgramData\\Anaconda3\\lib\\site-packages\\sklearn\\model_selection\\_validation.py\", line 593, in _fit_and_score\n",
      "    estimator.fit(X_train, y_train, **fit_params)\n",
      "  File \"C:\\ProgramData\\Anaconda3\\lib\\site-packages\\sklearn\\tree\\_classes.py\", line 898, in fit\n",
      "    super().fit(\n",
      "  File \"C:\\ProgramData\\Anaconda3\\lib\\site-packages\\sklearn\\tree\\_classes.py\", line 237, in fit\n",
      "    raise ValueError(\"min_samples_split must be an integer \"\n",
      "ValueError: min_samples_split must be an integer greater than 1 or a float in (0.0, 1.0]; got the integer 1\n",
      "\n",
      "  warnings.warn(\"Estimator fit failed. The score on this train-test\"\n"
     ]
    },
    {
     "name": "stdout",
     "output_type": "stream",
     "text": [
      "[CV 1/3] END criterion=gini, max_depth=6, max_features=None, min_samples_leaf=3, min_samples_split=1, splitter=random; total time=   1.0s\n"
     ]
    },
    {
     "name": "stderr",
     "output_type": "stream",
     "text": [
      "C:\\ProgramData\\Anaconda3\\lib\\site-packages\\sklearn\\model_selection\\_validation.py:610: FitFailedWarning: Estimator fit failed. The score on this train-test partition for these parameters will be set to nan. Details: \n",
      "Traceback (most recent call last):\n",
      "  File \"C:\\ProgramData\\Anaconda3\\lib\\site-packages\\sklearn\\model_selection\\_validation.py\", line 593, in _fit_and_score\n",
      "    estimator.fit(X_train, y_train, **fit_params)\n",
      "  File \"C:\\ProgramData\\Anaconda3\\lib\\site-packages\\sklearn\\tree\\_classes.py\", line 898, in fit\n",
      "    super().fit(\n",
      "  File \"C:\\ProgramData\\Anaconda3\\lib\\site-packages\\sklearn\\tree\\_classes.py\", line 237, in fit\n",
      "    raise ValueError(\"min_samples_split must be an integer \"\n",
      "ValueError: min_samples_split must be an integer greater than 1 or a float in (0.0, 1.0]; got the integer 1\n",
      "\n",
      "  warnings.warn(\"Estimator fit failed. The score on this train-test\"\n"
     ]
    },
    {
     "name": "stdout",
     "output_type": "stream",
     "text": [
      "[CV 2/3] END criterion=gini, max_depth=6, max_features=None, min_samples_leaf=3, min_samples_split=1, splitter=random; total time=   0.7s\n"
     ]
    },
    {
     "name": "stderr",
     "output_type": "stream",
     "text": [
      "C:\\ProgramData\\Anaconda3\\lib\\site-packages\\sklearn\\model_selection\\_validation.py:610: FitFailedWarning: Estimator fit failed. The score on this train-test partition for these parameters will be set to nan. Details: \n",
      "Traceback (most recent call last):\n",
      "  File \"C:\\ProgramData\\Anaconda3\\lib\\site-packages\\sklearn\\model_selection\\_validation.py\", line 593, in _fit_and_score\n",
      "    estimator.fit(X_train, y_train, **fit_params)\n",
      "  File \"C:\\ProgramData\\Anaconda3\\lib\\site-packages\\sklearn\\tree\\_classes.py\", line 898, in fit\n",
      "    super().fit(\n",
      "  File \"C:\\ProgramData\\Anaconda3\\lib\\site-packages\\sklearn\\tree\\_classes.py\", line 237, in fit\n",
      "    raise ValueError(\"min_samples_split must be an integer \"\n",
      "ValueError: min_samples_split must be an integer greater than 1 or a float in (0.0, 1.0]; got the integer 1\n",
      "\n",
      "  warnings.warn(\"Estimator fit failed. The score on this train-test\"\n"
     ]
    },
    {
     "name": "stdout",
     "output_type": "stream",
     "text": [
      "[CV 3/3] END criterion=gini, max_depth=6, max_features=None, min_samples_leaf=3, min_samples_split=1, splitter=random; total time=   0.8s\n",
      "[CV 1/3] END criterion=gini, max_depth=6, max_features=auto, min_samples_leaf=7, min_samples_split=4, splitter=best; total time=   1.5s\n",
      "[CV 2/3] END criterion=gini, max_depth=6, max_features=auto, min_samples_leaf=7, min_samples_split=4, splitter=best; total time=   1.9s\n",
      "[CV 3/3] END criterion=gini, max_depth=6, max_features=auto, min_samples_leaf=7, min_samples_split=4, splitter=best; total time=   2.0s\n",
      "[CV 1/3] END criterion=gini, max_depth=5, max_features=sqrt, min_samples_leaf=3, min_samples_split=2, splitter=random; total time=   2.2s\n",
      "[CV 2/3] END criterion=gini, max_depth=5, max_features=sqrt, min_samples_leaf=3, min_samples_split=2, splitter=random; total time=   1.5s\n",
      "[CV 3/3] END criterion=gini, max_depth=5, max_features=sqrt, min_samples_leaf=3, min_samples_split=2, splitter=random; total time=   1.4s\n",
      "[CV 1/3] END criterion=entropy, max_depth=2, max_features=sqrt, min_samples_leaf=7, min_samples_split=4, splitter=best; total time=   3.9s\n",
      "[CV 2/3] END criterion=entropy, max_depth=2, max_features=sqrt, min_samples_leaf=7, min_samples_split=4, splitter=best; total time=   1.1s\n",
      "[CV 3/3] END criterion=entropy, max_depth=2, max_features=sqrt, min_samples_leaf=7, min_samples_split=4, splitter=best; total time=   1.2s\n",
      "[CV 1/3] END criterion=gini, max_depth=6, max_features=log2, min_samples_leaf=3, min_samples_split=8, splitter=best; total time=   1.3s\n",
      "[CV 2/3] END criterion=gini, max_depth=6, max_features=log2, min_samples_leaf=3, min_samples_split=8, splitter=best; total time=   1.4s\n",
      "[CV 3/3] END criterion=gini, max_depth=6, max_features=log2, min_samples_leaf=3, min_samples_split=8, splitter=best; total time=   1.3s\n",
      "[CV 1/3] END criterion=gini, max_depth=6, max_features=auto, min_samples_leaf=1, min_samples_split=2, splitter=best; total time=   1.6s\n",
      "[CV 2/3] END criterion=gini, max_depth=6, max_features=auto, min_samples_leaf=1, min_samples_split=2, splitter=best; total time=   1.7s\n",
      "[CV 3/3] END criterion=gini, max_depth=6, max_features=auto, min_samples_leaf=1, min_samples_split=2, splitter=best; total time=   1.6s\n",
      "[CV 1/3] END criterion=gini, max_depth=5, max_features=log2, min_samples_leaf=7, min_samples_split=8, splitter=best; total time=   1.7s\n",
      "[CV 2/3] END criterion=gini, max_depth=5, max_features=log2, min_samples_leaf=7, min_samples_split=8, splitter=best; total time=   1.5s\n",
      "[CV 3/3] END criterion=gini, max_depth=5, max_features=log2, min_samples_leaf=7, min_samples_split=8, splitter=best; total time=   1.4s\n",
      "[CV 1/3] END criterion=entropy, max_depth=7, max_features=log2, min_samples_leaf=7, min_samples_split=2, splitter=random; total time=   1.6s\n",
      "[CV 2/3] END criterion=entropy, max_depth=7, max_features=log2, min_samples_leaf=7, min_samples_split=2, splitter=random; total time=   1.6s\n",
      "[CV 3/3] END criterion=entropy, max_depth=7, max_features=log2, min_samples_leaf=7, min_samples_split=2, splitter=random; total time=   1.6s\n",
      "[CV 1/3] END criterion=entropy, max_depth=5, max_features=log2, min_samples_leaf=3, min_samples_split=8, splitter=random; total time=   1.0s\n",
      "[CV 2/3] END criterion=entropy, max_depth=5, max_features=log2, min_samples_leaf=3, min_samples_split=8, splitter=random; total time=   1.0s\n",
      "[CV 3/3] END criterion=entropy, max_depth=5, max_features=log2, min_samples_leaf=3, min_samples_split=8, splitter=random; total time=   1.0s\n",
      "[CV 1/3] END criterion=entropy, max_depth=2, max_features=auto, min_samples_leaf=5, min_samples_split=8, splitter=best; total time=   1.1s\n",
      "[CV 2/3] END criterion=entropy, max_depth=2, max_features=auto, min_samples_leaf=5, min_samples_split=8, splitter=best; total time=   1.0s\n",
      "[CV 3/3] END criterion=entropy, max_depth=2, max_features=auto, min_samples_leaf=5, min_samples_split=8, splitter=best; total time=   1.0s\n"
     ]
    },
    {
     "name": "stderr",
     "output_type": "stream",
     "text": [
      "C:\\ProgramData\\Anaconda3\\lib\\site-packages\\sklearn\\model_selection\\_validation.py:610: FitFailedWarning: Estimator fit failed. The score on this train-test partition for these parameters will be set to nan. Details: \n",
      "Traceback (most recent call last):\n",
      "  File \"C:\\ProgramData\\Anaconda3\\lib\\site-packages\\sklearn\\model_selection\\_validation.py\", line 593, in _fit_and_score\n",
      "    estimator.fit(X_train, y_train, **fit_params)\n",
      "  File \"C:\\ProgramData\\Anaconda3\\lib\\site-packages\\sklearn\\tree\\_classes.py\", line 898, in fit\n",
      "    super().fit(\n",
      "  File \"C:\\ProgramData\\Anaconda3\\lib\\site-packages\\sklearn\\tree\\_classes.py\", line 237, in fit\n",
      "    raise ValueError(\"min_samples_split must be an integer \"\n",
      "ValueError: min_samples_split must be an integer greater than 1 or a float in (0.0, 1.0]; got the integer 1\n",
      "\n",
      "  warnings.warn(\"Estimator fit failed. The score on this train-test\"\n"
     ]
    },
    {
     "name": "stdout",
     "output_type": "stream",
     "text": [
      "[CV 1/3] END criterion=entropy, max_depth=5, max_features=sqrt, min_samples_leaf=1, min_samples_split=1, splitter=best; total time=   0.7s\n"
     ]
    },
    {
     "name": "stderr",
     "output_type": "stream",
     "text": [
      "C:\\ProgramData\\Anaconda3\\lib\\site-packages\\sklearn\\model_selection\\_validation.py:610: FitFailedWarning: Estimator fit failed. The score on this train-test partition for these parameters will be set to nan. Details: \n",
      "Traceback (most recent call last):\n",
      "  File \"C:\\ProgramData\\Anaconda3\\lib\\site-packages\\sklearn\\model_selection\\_validation.py\", line 593, in _fit_and_score\n",
      "    estimator.fit(X_train, y_train, **fit_params)\n",
      "  File \"C:\\ProgramData\\Anaconda3\\lib\\site-packages\\sklearn\\tree\\_classes.py\", line 898, in fit\n",
      "    super().fit(\n",
      "  File \"C:\\ProgramData\\Anaconda3\\lib\\site-packages\\sklearn\\tree\\_classes.py\", line 237, in fit\n",
      "    raise ValueError(\"min_samples_split must be an integer \"\n",
      "ValueError: min_samples_split must be an integer greater than 1 or a float in (0.0, 1.0]; got the integer 1\n",
      "\n",
      "  warnings.warn(\"Estimator fit failed. The score on this train-test\"\n"
     ]
    },
    {
     "name": "stdout",
     "output_type": "stream",
     "text": [
      "[CV 2/3] END criterion=entropy, max_depth=5, max_features=sqrt, min_samples_leaf=1, min_samples_split=1, splitter=best; total time=   0.7s\n"
     ]
    },
    {
     "name": "stderr",
     "output_type": "stream",
     "text": [
      "C:\\ProgramData\\Anaconda3\\lib\\site-packages\\sklearn\\model_selection\\_validation.py:610: FitFailedWarning: Estimator fit failed. The score on this train-test partition for these parameters will be set to nan. Details: \n",
      "Traceback (most recent call last):\n",
      "  File \"C:\\ProgramData\\Anaconda3\\lib\\site-packages\\sklearn\\model_selection\\_validation.py\", line 593, in _fit_and_score\n",
      "    estimator.fit(X_train, y_train, **fit_params)\n",
      "  File \"C:\\ProgramData\\Anaconda3\\lib\\site-packages\\sklearn\\tree\\_classes.py\", line 898, in fit\n",
      "    super().fit(\n",
      "  File \"C:\\ProgramData\\Anaconda3\\lib\\site-packages\\sklearn\\tree\\_classes.py\", line 237, in fit\n",
      "    raise ValueError(\"min_samples_split must be an integer \"\n",
      "ValueError: min_samples_split must be an integer greater than 1 or a float in (0.0, 1.0]; got the integer 1\n",
      "\n",
      "  warnings.warn(\"Estimator fit failed. The score on this train-test\"\n"
     ]
    },
    {
     "name": "stdout",
     "output_type": "stream",
     "text": [
      "[CV 3/3] END criterion=entropy, max_depth=5, max_features=sqrt, min_samples_leaf=1, min_samples_split=1, splitter=best; total time=   0.6s\n"
     ]
    },
    {
     "name": "stderr",
     "output_type": "stream",
     "text": [
      "C:\\ProgramData\\Anaconda3\\lib\\site-packages\\sklearn\\model_selection\\_validation.py:610: FitFailedWarning: Estimator fit failed. The score on this train-test partition for these parameters will be set to nan. Details: \n",
      "Traceback (most recent call last):\n",
      "  File \"C:\\ProgramData\\Anaconda3\\lib\\site-packages\\sklearn\\model_selection\\_validation.py\", line 593, in _fit_and_score\n",
      "    estimator.fit(X_train, y_train, **fit_params)\n",
      "  File \"C:\\ProgramData\\Anaconda3\\lib\\site-packages\\sklearn\\tree\\_classes.py\", line 898, in fit\n",
      "    super().fit(\n",
      "  File \"C:\\ProgramData\\Anaconda3\\lib\\site-packages\\sklearn\\tree\\_classes.py\", line 237, in fit\n",
      "    raise ValueError(\"min_samples_split must be an integer \"\n",
      "ValueError: min_samples_split must be an integer greater than 1 or a float in (0.0, 1.0]; got the integer 1\n",
      "\n",
      "  warnings.warn(\"Estimator fit failed. The score on this train-test\"\n"
     ]
    },
    {
     "name": "stdout",
     "output_type": "stream",
     "text": [
      "[CV 1/3] END criterion=gini, max_depth=6, max_features=sqrt, min_samples_leaf=7, min_samples_split=1, splitter=random; total time=   0.7s\n"
     ]
    },
    {
     "name": "stderr",
     "output_type": "stream",
     "text": [
      "C:\\ProgramData\\Anaconda3\\lib\\site-packages\\sklearn\\model_selection\\_validation.py:610: FitFailedWarning: Estimator fit failed. The score on this train-test partition for these parameters will be set to nan. Details: \n",
      "Traceback (most recent call last):\n",
      "  File \"C:\\ProgramData\\Anaconda3\\lib\\site-packages\\sklearn\\model_selection\\_validation.py\", line 593, in _fit_and_score\n",
      "    estimator.fit(X_train, y_train, **fit_params)\n",
      "  File \"C:\\ProgramData\\Anaconda3\\lib\\site-packages\\sklearn\\tree\\_classes.py\", line 898, in fit\n",
      "    super().fit(\n",
      "  File \"C:\\ProgramData\\Anaconda3\\lib\\site-packages\\sklearn\\tree\\_classes.py\", line 237, in fit\n",
      "    raise ValueError(\"min_samples_split must be an integer \"\n",
      "ValueError: min_samples_split must be an integer greater than 1 or a float in (0.0, 1.0]; got the integer 1\n",
      "\n",
      "  warnings.warn(\"Estimator fit failed. The score on this train-test\"\n"
     ]
    },
    {
     "name": "stdout",
     "output_type": "stream",
     "text": [
      "[CV 2/3] END criterion=gini, max_depth=6, max_features=sqrt, min_samples_leaf=7, min_samples_split=1, splitter=random; total time=   0.8s\n"
     ]
    },
    {
     "name": "stderr",
     "output_type": "stream",
     "text": [
      "C:\\ProgramData\\Anaconda3\\lib\\site-packages\\sklearn\\model_selection\\_validation.py:610: FitFailedWarning: Estimator fit failed. The score on this train-test partition for these parameters will be set to nan. Details: \n",
      "Traceback (most recent call last):\n",
      "  File \"C:\\ProgramData\\Anaconda3\\lib\\site-packages\\sklearn\\model_selection\\_validation.py\", line 593, in _fit_and_score\n",
      "    estimator.fit(X_train, y_train, **fit_params)\n",
      "  File \"C:\\ProgramData\\Anaconda3\\lib\\site-packages\\sklearn\\tree\\_classes.py\", line 898, in fit\n",
      "    super().fit(\n",
      "  File \"C:\\ProgramData\\Anaconda3\\lib\\site-packages\\sklearn\\tree\\_classes.py\", line 237, in fit\n",
      "    raise ValueError(\"min_samples_split must be an integer \"\n",
      "ValueError: min_samples_split must be an integer greater than 1 or a float in (0.0, 1.0]; got the integer 1\n",
      "\n",
      "  warnings.warn(\"Estimator fit failed. The score on this train-test\"\n"
     ]
    },
    {
     "name": "stdout",
     "output_type": "stream",
     "text": [
      "[CV 3/3] END criterion=gini, max_depth=6, max_features=sqrt, min_samples_leaf=7, min_samples_split=1, splitter=random; total time=   0.7s\n",
      "[CV 1/3] END criterion=entropy, max_depth=6, max_features=sqrt, min_samples_leaf=7, min_samples_split=6, splitter=best; total time=   1.8s\n",
      "[CV 2/3] END criterion=entropy, max_depth=6, max_features=sqrt, min_samples_leaf=7, min_samples_split=6, splitter=best; total time=   1.5s\n",
      "[CV 3/3] END criterion=entropy, max_depth=6, max_features=sqrt, min_samples_leaf=7, min_samples_split=6, splitter=best; total time=   1.5s\n"
     ]
    },
    {
     "name": "stderr",
     "output_type": "stream",
     "text": [
      "C:\\ProgramData\\Anaconda3\\lib\\site-packages\\sklearn\\model_selection\\_validation.py:610: FitFailedWarning: Estimator fit failed. The score on this train-test partition for these parameters will be set to nan. Details: \n",
      "Traceback (most recent call last):\n",
      "  File \"C:\\ProgramData\\Anaconda3\\lib\\site-packages\\sklearn\\model_selection\\_validation.py\", line 593, in _fit_and_score\n",
      "    estimator.fit(X_train, y_train, **fit_params)\n",
      "  File \"C:\\ProgramData\\Anaconda3\\lib\\site-packages\\sklearn\\tree\\_classes.py\", line 898, in fit\n",
      "    super().fit(\n",
      "  File \"C:\\ProgramData\\Anaconda3\\lib\\site-packages\\sklearn\\tree\\_classes.py\", line 237, in fit\n",
      "    raise ValueError(\"min_samples_split must be an integer \"\n",
      "ValueError: min_samples_split must be an integer greater than 1 or a float in (0.0, 1.0]; got the integer 1\n",
      "\n",
      "  warnings.warn(\"Estimator fit failed. The score on this train-test\"\n"
     ]
    },
    {
     "name": "stdout",
     "output_type": "stream",
     "text": [
      "[CV 1/3] END criterion=entropy, max_depth=4, max_features=log2, min_samples_leaf=7, min_samples_split=1, splitter=best; total time=   0.7s\n"
     ]
    },
    {
     "name": "stderr",
     "output_type": "stream",
     "text": [
      "C:\\ProgramData\\Anaconda3\\lib\\site-packages\\sklearn\\model_selection\\_validation.py:610: FitFailedWarning: Estimator fit failed. The score on this train-test partition for these parameters will be set to nan. Details: \n",
      "Traceback (most recent call last):\n",
      "  File \"C:\\ProgramData\\Anaconda3\\lib\\site-packages\\sklearn\\model_selection\\_validation.py\", line 593, in _fit_and_score\n",
      "    estimator.fit(X_train, y_train, **fit_params)\n",
      "  File \"C:\\ProgramData\\Anaconda3\\lib\\site-packages\\sklearn\\tree\\_classes.py\", line 898, in fit\n",
      "    super().fit(\n",
      "  File \"C:\\ProgramData\\Anaconda3\\lib\\site-packages\\sklearn\\tree\\_classes.py\", line 237, in fit\n",
      "    raise ValueError(\"min_samples_split must be an integer \"\n",
      "ValueError: min_samples_split must be an integer greater than 1 or a float in (0.0, 1.0]; got the integer 1\n",
      "\n",
      "  warnings.warn(\"Estimator fit failed. The score on this train-test\"\n"
     ]
    },
    {
     "name": "stdout",
     "output_type": "stream",
     "text": [
      "[CV 2/3] END criterion=entropy, max_depth=4, max_features=log2, min_samples_leaf=7, min_samples_split=1, splitter=best; total time=   0.6s\n"
     ]
    },
    {
     "name": "stderr",
     "output_type": "stream",
     "text": [
      "C:\\ProgramData\\Anaconda3\\lib\\site-packages\\sklearn\\model_selection\\_validation.py:610: FitFailedWarning: Estimator fit failed. The score on this train-test partition for these parameters will be set to nan. Details: \n",
      "Traceback (most recent call last):\n",
      "  File \"C:\\ProgramData\\Anaconda3\\lib\\site-packages\\sklearn\\model_selection\\_validation.py\", line 593, in _fit_and_score\n",
      "    estimator.fit(X_train, y_train, **fit_params)\n",
      "  File \"C:\\ProgramData\\Anaconda3\\lib\\site-packages\\sklearn\\tree\\_classes.py\", line 898, in fit\n",
      "    super().fit(\n",
      "  File \"C:\\ProgramData\\Anaconda3\\lib\\site-packages\\sklearn\\tree\\_classes.py\", line 237, in fit\n",
      "    raise ValueError(\"min_samples_split must be an integer \"\n",
      "ValueError: min_samples_split must be an integer greater than 1 or a float in (0.0, 1.0]; got the integer 1\n",
      "\n",
      "  warnings.warn(\"Estimator fit failed. The score on this train-test\"\n"
     ]
    },
    {
     "name": "stdout",
     "output_type": "stream",
     "text": [
      "[CV 3/3] END criterion=entropy, max_depth=4, max_features=log2, min_samples_leaf=7, min_samples_split=1, splitter=best; total time=   0.6s\n"
     ]
    },
    {
     "name": "stderr",
     "output_type": "stream",
     "text": [
      "C:\\ProgramData\\Anaconda3\\lib\\site-packages\\sklearn\\model_selection\\_validation.py:610: FitFailedWarning: Estimator fit failed. The score on this train-test partition for these parameters will be set to nan. Details: \n",
      "Traceback (most recent call last):\n",
      "  File \"C:\\ProgramData\\Anaconda3\\lib\\site-packages\\sklearn\\model_selection\\_validation.py\", line 593, in _fit_and_score\n",
      "    estimator.fit(X_train, y_train, **fit_params)\n",
      "  File \"C:\\ProgramData\\Anaconda3\\lib\\site-packages\\sklearn\\tree\\_classes.py\", line 898, in fit\n",
      "    super().fit(\n",
      "  File \"C:\\ProgramData\\Anaconda3\\lib\\site-packages\\sklearn\\tree\\_classes.py\", line 237, in fit\n",
      "    raise ValueError(\"min_samples_split must be an integer \"\n",
      "ValueError: min_samples_split must be an integer greater than 1 or a float in (0.0, 1.0]; got the integer 1\n",
      "\n",
      "  warnings.warn(\"Estimator fit failed. The score on this train-test\"\n"
     ]
    },
    {
     "name": "stdout",
     "output_type": "stream",
     "text": [
      "[CV 1/3] END criterion=entropy, max_depth=8, max_features=sqrt, min_samples_leaf=5, min_samples_split=1, splitter=best; total time=   0.6s\n"
     ]
    },
    {
     "name": "stderr",
     "output_type": "stream",
     "text": [
      "C:\\ProgramData\\Anaconda3\\lib\\site-packages\\sklearn\\model_selection\\_validation.py:610: FitFailedWarning: Estimator fit failed. The score on this train-test partition for these parameters will be set to nan. Details: \n",
      "Traceback (most recent call last):\n",
      "  File \"C:\\ProgramData\\Anaconda3\\lib\\site-packages\\sklearn\\model_selection\\_validation.py\", line 593, in _fit_and_score\n",
      "    estimator.fit(X_train, y_train, **fit_params)\n",
      "  File \"C:\\ProgramData\\Anaconda3\\lib\\site-packages\\sklearn\\tree\\_classes.py\", line 898, in fit\n",
      "    super().fit(\n",
      "  File \"C:\\ProgramData\\Anaconda3\\lib\\site-packages\\sklearn\\tree\\_classes.py\", line 237, in fit\n",
      "    raise ValueError(\"min_samples_split must be an integer \"\n",
      "ValueError: min_samples_split must be an integer greater than 1 or a float in (0.0, 1.0]; got the integer 1\n",
      "\n",
      "  warnings.warn(\"Estimator fit failed. The score on this train-test\"\n"
     ]
    },
    {
     "name": "stdout",
     "output_type": "stream",
     "text": [
      "[CV 2/3] END criterion=entropy, max_depth=8, max_features=sqrt, min_samples_leaf=5, min_samples_split=1, splitter=best; total time=   0.6s\n"
     ]
    },
    {
     "name": "stderr",
     "output_type": "stream",
     "text": [
      "C:\\ProgramData\\Anaconda3\\lib\\site-packages\\sklearn\\model_selection\\_validation.py:610: FitFailedWarning: Estimator fit failed. The score on this train-test partition for these parameters will be set to nan. Details: \n",
      "Traceback (most recent call last):\n",
      "  File \"C:\\ProgramData\\Anaconda3\\lib\\site-packages\\sklearn\\model_selection\\_validation.py\", line 593, in _fit_and_score\n",
      "    estimator.fit(X_train, y_train, **fit_params)\n",
      "  File \"C:\\ProgramData\\Anaconda3\\lib\\site-packages\\sklearn\\tree\\_classes.py\", line 898, in fit\n",
      "    super().fit(\n",
      "  File \"C:\\ProgramData\\Anaconda3\\lib\\site-packages\\sklearn\\tree\\_classes.py\", line 237, in fit\n",
      "    raise ValueError(\"min_samples_split must be an integer \"\n",
      "ValueError: min_samples_split must be an integer greater than 1 or a float in (0.0, 1.0]; got the integer 1\n",
      "\n",
      "  warnings.warn(\"Estimator fit failed. The score on this train-test\"\n"
     ]
    },
    {
     "name": "stdout",
     "output_type": "stream",
     "text": [
      "[CV 3/3] END criterion=entropy, max_depth=8, max_features=sqrt, min_samples_leaf=5, min_samples_split=1, splitter=best; total time=   0.7s\n",
      "[CV 1/3] END criterion=gini, max_depth=2, max_features=sqrt, min_samples_leaf=3, min_samples_split=8, splitter=random; total time=   1.0s\n",
      "[CV 2/3] END criterion=gini, max_depth=2, max_features=sqrt, min_samples_leaf=3, min_samples_split=8, splitter=random; total time=   1.0s\n",
      "[CV 3/3] END criterion=gini, max_depth=2, max_features=sqrt, min_samples_leaf=3, min_samples_split=8, splitter=random; total time=   0.9s\n"
     ]
    },
    {
     "name": "stderr",
     "output_type": "stream",
     "text": [
      "C:\\ProgramData\\Anaconda3\\lib\\site-packages\\sklearn\\model_selection\\_validation.py:610: FitFailedWarning: Estimator fit failed. The score on this train-test partition for these parameters will be set to nan. Details: \n",
      "Traceback (most recent call last):\n",
      "  File \"C:\\ProgramData\\Anaconda3\\lib\\site-packages\\sklearn\\model_selection\\_validation.py\", line 593, in _fit_and_score\n",
      "    estimator.fit(X_train, y_train, **fit_params)\n",
      "  File \"C:\\ProgramData\\Anaconda3\\lib\\site-packages\\sklearn\\tree\\_classes.py\", line 898, in fit\n",
      "    super().fit(\n",
      "  File \"C:\\ProgramData\\Anaconda3\\lib\\site-packages\\sklearn\\tree\\_classes.py\", line 237, in fit\n",
      "    raise ValueError(\"min_samples_split must be an integer \"\n",
      "ValueError: min_samples_split must be an integer greater than 1 or a float in (0.0, 1.0]; got the integer 1\n",
      "\n",
      "  warnings.warn(\"Estimator fit failed. The score on this train-test\"\n"
     ]
    },
    {
     "name": "stdout",
     "output_type": "stream",
     "text": [
      "[CV 1/3] END criterion=gini, max_depth=2, max_features=None, min_samples_leaf=1, min_samples_split=1, splitter=best; total time=   0.6s\n"
     ]
    },
    {
     "name": "stderr",
     "output_type": "stream",
     "text": [
      "C:\\ProgramData\\Anaconda3\\lib\\site-packages\\sklearn\\model_selection\\_validation.py:610: FitFailedWarning: Estimator fit failed. The score on this train-test partition for these parameters will be set to nan. Details: \n",
      "Traceback (most recent call last):\n",
      "  File \"C:\\ProgramData\\Anaconda3\\lib\\site-packages\\sklearn\\model_selection\\_validation.py\", line 593, in _fit_and_score\n",
      "    estimator.fit(X_train, y_train, **fit_params)\n",
      "  File \"C:\\ProgramData\\Anaconda3\\lib\\site-packages\\sklearn\\tree\\_classes.py\", line 898, in fit\n",
      "    super().fit(\n",
      "  File \"C:\\ProgramData\\Anaconda3\\lib\\site-packages\\sklearn\\tree\\_classes.py\", line 237, in fit\n",
      "    raise ValueError(\"min_samples_split must be an integer \"\n",
      "ValueError: min_samples_split must be an integer greater than 1 or a float in (0.0, 1.0]; got the integer 1\n",
      "\n",
      "  warnings.warn(\"Estimator fit failed. The score on this train-test\"\n"
     ]
    },
    {
     "name": "stdout",
     "output_type": "stream",
     "text": [
      "[CV 2/3] END criterion=gini, max_depth=2, max_features=None, min_samples_leaf=1, min_samples_split=1, splitter=best; total time=   0.6s\n"
     ]
    },
    {
     "name": "stderr",
     "output_type": "stream",
     "text": [
      "C:\\ProgramData\\Anaconda3\\lib\\site-packages\\sklearn\\model_selection\\_validation.py:610: FitFailedWarning: Estimator fit failed. The score on this train-test partition for these parameters will be set to nan. Details: \n",
      "Traceback (most recent call last):\n",
      "  File \"C:\\ProgramData\\Anaconda3\\lib\\site-packages\\sklearn\\model_selection\\_validation.py\", line 593, in _fit_and_score\n",
      "    estimator.fit(X_train, y_train, **fit_params)\n",
      "  File \"C:\\ProgramData\\Anaconda3\\lib\\site-packages\\sklearn\\tree\\_classes.py\", line 898, in fit\n",
      "    super().fit(\n",
      "  File \"C:\\ProgramData\\Anaconda3\\lib\\site-packages\\sklearn\\tree\\_classes.py\", line 237, in fit\n",
      "    raise ValueError(\"min_samples_split must be an integer \"\n",
      "ValueError: min_samples_split must be an integer greater than 1 or a float in (0.0, 1.0]; got the integer 1\n",
      "\n",
      "  warnings.warn(\"Estimator fit failed. The score on this train-test\"\n"
     ]
    },
    {
     "name": "stdout",
     "output_type": "stream",
     "text": [
      "[CV 3/3] END criterion=gini, max_depth=2, max_features=None, min_samples_leaf=1, min_samples_split=1, splitter=best; total time=   0.6s\n",
      "[CV 1/3] END criterion=entropy, max_depth=5, max_features=sqrt, min_samples_leaf=7, min_samples_split=2, splitter=random; total time=   1.2s\n",
      "[CV 2/3] END criterion=entropy, max_depth=5, max_features=sqrt, min_samples_leaf=7, min_samples_split=2, splitter=random; total time=   1.1s\n",
      "[CV 3/3] END criterion=entropy, max_depth=5, max_features=sqrt, min_samples_leaf=7, min_samples_split=2, splitter=random; total time=   1.1s\n"
     ]
    },
    {
     "name": "stderr",
     "output_type": "stream",
     "text": [
      "C:\\ProgramData\\Anaconda3\\lib\\site-packages\\sklearn\\model_selection\\_validation.py:610: FitFailedWarning: Estimator fit failed. The score on this train-test partition for these parameters will be set to nan. Details: \n",
      "Traceback (most recent call last):\n",
      "  File \"C:\\ProgramData\\Anaconda3\\lib\\site-packages\\sklearn\\model_selection\\_validation.py\", line 593, in _fit_and_score\n",
      "    estimator.fit(X_train, y_train, **fit_params)\n",
      "  File \"C:\\ProgramData\\Anaconda3\\lib\\site-packages\\sklearn\\tree\\_classes.py\", line 898, in fit\n",
      "    super().fit(\n",
      "  File \"C:\\ProgramData\\Anaconda3\\lib\\site-packages\\sklearn\\tree\\_classes.py\", line 237, in fit\n",
      "    raise ValueError(\"min_samples_split must be an integer \"\n",
      "ValueError: min_samples_split must be an integer greater than 1 or a float in (0.0, 1.0]; got the integer 1\n",
      "\n",
      "  warnings.warn(\"Estimator fit failed. The score on this train-test\"\n"
     ]
    },
    {
     "name": "stdout",
     "output_type": "stream",
     "text": [
      "[CV 1/3] END criterion=gini, max_depth=8, max_features=sqrt, min_samples_leaf=1, min_samples_split=1, splitter=random; total time=   0.6s\n"
     ]
    },
    {
     "name": "stderr",
     "output_type": "stream",
     "text": [
      "C:\\ProgramData\\Anaconda3\\lib\\site-packages\\sklearn\\model_selection\\_validation.py:610: FitFailedWarning: Estimator fit failed. The score on this train-test partition for these parameters will be set to nan. Details: \n",
      "Traceback (most recent call last):\n",
      "  File \"C:\\ProgramData\\Anaconda3\\lib\\site-packages\\sklearn\\model_selection\\_validation.py\", line 593, in _fit_and_score\n",
      "    estimator.fit(X_train, y_train, **fit_params)\n",
      "  File \"C:\\ProgramData\\Anaconda3\\lib\\site-packages\\sklearn\\tree\\_classes.py\", line 898, in fit\n",
      "    super().fit(\n",
      "  File \"C:\\ProgramData\\Anaconda3\\lib\\site-packages\\sklearn\\tree\\_classes.py\", line 237, in fit\n",
      "    raise ValueError(\"min_samples_split must be an integer \"\n",
      "ValueError: min_samples_split must be an integer greater than 1 or a float in (0.0, 1.0]; got the integer 1\n",
      "\n",
      "  warnings.warn(\"Estimator fit failed. The score on this train-test\"\n"
     ]
    },
    {
     "name": "stdout",
     "output_type": "stream",
     "text": [
      "[CV 2/3] END criterion=gini, max_depth=8, max_features=sqrt, min_samples_leaf=1, min_samples_split=1, splitter=random; total time=   0.6s\n"
     ]
    },
    {
     "name": "stderr",
     "output_type": "stream",
     "text": [
      "C:\\ProgramData\\Anaconda3\\lib\\site-packages\\sklearn\\model_selection\\_validation.py:610: FitFailedWarning: Estimator fit failed. The score on this train-test partition for these parameters will be set to nan. Details: \n",
      "Traceback (most recent call last):\n",
      "  File \"C:\\ProgramData\\Anaconda3\\lib\\site-packages\\sklearn\\model_selection\\_validation.py\", line 593, in _fit_and_score\n",
      "    estimator.fit(X_train, y_train, **fit_params)\n",
      "  File \"C:\\ProgramData\\Anaconda3\\lib\\site-packages\\sklearn\\tree\\_classes.py\", line 898, in fit\n",
      "    super().fit(\n",
      "  File \"C:\\ProgramData\\Anaconda3\\lib\\site-packages\\sklearn\\tree\\_classes.py\", line 237, in fit\n",
      "    raise ValueError(\"min_samples_split must be an integer \"\n",
      "ValueError: min_samples_split must be an integer greater than 1 or a float in (0.0, 1.0]; got the integer 1\n",
      "\n",
      "  warnings.warn(\"Estimator fit failed. The score on this train-test\"\n"
     ]
    },
    {
     "name": "stdout",
     "output_type": "stream",
     "text": [
      "[CV 3/3] END criterion=gini, max_depth=8, max_features=sqrt, min_samples_leaf=1, min_samples_split=1, splitter=random; total time=   0.6s\n"
     ]
    },
    {
     "name": "stderr",
     "output_type": "stream",
     "text": [
      "C:\\ProgramData\\Anaconda3\\lib\\site-packages\\sklearn\\model_selection\\_validation.py:610: FitFailedWarning: Estimator fit failed. The score on this train-test partition for these parameters will be set to nan. Details: \n",
      "Traceback (most recent call last):\n",
      "  File \"C:\\ProgramData\\Anaconda3\\lib\\site-packages\\sklearn\\model_selection\\_validation.py\", line 593, in _fit_and_score\n",
      "    estimator.fit(X_train, y_train, **fit_params)\n",
      "  File \"C:\\ProgramData\\Anaconda3\\lib\\site-packages\\sklearn\\tree\\_classes.py\", line 898, in fit\n",
      "    super().fit(\n",
      "  File \"C:\\ProgramData\\Anaconda3\\lib\\site-packages\\sklearn\\tree\\_classes.py\", line 237, in fit\n",
      "    raise ValueError(\"min_samples_split must be an integer \"\n",
      "ValueError: min_samples_split must be an integer greater than 1 or a float in (0.0, 1.0]; got the integer 1\n",
      "\n",
      "  warnings.warn(\"Estimator fit failed. The score on this train-test\"\n"
     ]
    },
    {
     "name": "stdout",
     "output_type": "stream",
     "text": [
      "[CV 1/3] END criterion=entropy, max_depth=2, max_features=sqrt, min_samples_leaf=1, min_samples_split=1, splitter=best; total time=   0.6s\n"
     ]
    },
    {
     "name": "stderr",
     "output_type": "stream",
     "text": [
      "C:\\ProgramData\\Anaconda3\\lib\\site-packages\\sklearn\\model_selection\\_validation.py:610: FitFailedWarning: Estimator fit failed. The score on this train-test partition for these parameters will be set to nan. Details: \n",
      "Traceback (most recent call last):\n",
      "  File \"C:\\ProgramData\\Anaconda3\\lib\\site-packages\\sklearn\\model_selection\\_validation.py\", line 593, in _fit_and_score\n",
      "    estimator.fit(X_train, y_train, **fit_params)\n",
      "  File \"C:\\ProgramData\\Anaconda3\\lib\\site-packages\\sklearn\\tree\\_classes.py\", line 898, in fit\n",
      "    super().fit(\n",
      "  File \"C:\\ProgramData\\Anaconda3\\lib\\site-packages\\sklearn\\tree\\_classes.py\", line 237, in fit\n",
      "    raise ValueError(\"min_samples_split must be an integer \"\n",
      "ValueError: min_samples_split must be an integer greater than 1 or a float in (0.0, 1.0]; got the integer 1\n",
      "\n",
      "  warnings.warn(\"Estimator fit failed. The score on this train-test\"\n"
     ]
    },
    {
     "name": "stdout",
     "output_type": "stream",
     "text": [
      "[CV 2/3] END criterion=entropy, max_depth=2, max_features=sqrt, min_samples_leaf=1, min_samples_split=1, splitter=best; total time=   0.7s\n"
     ]
    },
    {
     "name": "stderr",
     "output_type": "stream",
     "text": [
      "C:\\ProgramData\\Anaconda3\\lib\\site-packages\\sklearn\\model_selection\\_validation.py:610: FitFailedWarning: Estimator fit failed. The score on this train-test partition for these parameters will be set to nan. Details: \n",
      "Traceback (most recent call last):\n",
      "  File \"C:\\ProgramData\\Anaconda3\\lib\\site-packages\\sklearn\\model_selection\\_validation.py\", line 593, in _fit_and_score\n",
      "    estimator.fit(X_train, y_train, **fit_params)\n",
      "  File \"C:\\ProgramData\\Anaconda3\\lib\\site-packages\\sklearn\\tree\\_classes.py\", line 898, in fit\n",
      "    super().fit(\n",
      "  File \"C:\\ProgramData\\Anaconda3\\lib\\site-packages\\sklearn\\tree\\_classes.py\", line 237, in fit\n",
      "    raise ValueError(\"min_samples_split must be an integer \"\n",
      "ValueError: min_samples_split must be an integer greater than 1 or a float in (0.0, 1.0]; got the integer 1\n",
      "\n",
      "  warnings.warn(\"Estimator fit failed. The score on this train-test\"\n"
     ]
    },
    {
     "name": "stdout",
     "output_type": "stream",
     "text": [
      "[CV 3/3] END criterion=entropy, max_depth=2, max_features=sqrt, min_samples_leaf=1, min_samples_split=1, splitter=best; total time=   0.6s\n",
      "[CV 1/3] END criterion=gini, max_depth=7, max_features=sqrt, min_samples_leaf=3, min_samples_split=2, splitter=random; total time=   1.4s\n",
      "[CV 2/3] END criterion=gini, max_depth=7, max_features=sqrt, min_samples_leaf=3, min_samples_split=2, splitter=random; total time=   1.3s\n",
      "[CV 3/3] END criterion=gini, max_depth=7, max_features=sqrt, min_samples_leaf=3, min_samples_split=2, splitter=random; total time=   1.5s\n",
      "[CV 1/3] END criterion=gini, max_depth=5, max_features=log2, min_samples_leaf=3, min_samples_split=4, splitter=best; total time=   1.3s\n",
      "[CV 2/3] END criterion=gini, max_depth=5, max_features=log2, min_samples_leaf=3, min_samples_split=4, splitter=best; total time=   1.1s\n",
      "[CV 3/3] END criterion=gini, max_depth=5, max_features=log2, min_samples_leaf=3, min_samples_split=4, splitter=best; total time=   1.2s\n",
      "[CV 1/3] END criterion=gini, max_depth=5, max_features=auto, min_samples_leaf=5, min_samples_split=2, splitter=best; total time=   1.4s\n",
      "[CV 2/3] END criterion=gini, max_depth=5, max_features=auto, min_samples_leaf=5, min_samples_split=2, splitter=best; total time=   1.4s\n",
      "[CV 3/3] END criterion=gini, max_depth=5, max_features=auto, min_samples_leaf=5, min_samples_split=2, splitter=best; total time=   1.5s\n",
      "[CV 1/3] END criterion=gini, max_depth=8, max_features=auto, min_samples_leaf=7, min_samples_split=2, splitter=best; total time=   3.1s\n",
      "[CV 2/3] END criterion=gini, max_depth=8, max_features=auto, min_samples_leaf=7, min_samples_split=2, splitter=best; total time=   2.1s\n",
      "[CV 3/3] END criterion=gini, max_depth=8, max_features=auto, min_samples_leaf=7, min_samples_split=2, splitter=best; total time=   2.2s\n",
      "[CV 1/3] END criterion=entropy, max_depth=7, max_features=sqrt, min_samples_leaf=5, min_samples_split=2, splitter=best; total time=   1.6s\n",
      "[CV 2/3] END criterion=entropy, max_depth=7, max_features=sqrt, min_samples_leaf=5, min_samples_split=2, splitter=best; total time=   1.8s\n",
      "[CV 3/3] END criterion=entropy, max_depth=7, max_features=sqrt, min_samples_leaf=5, min_samples_split=2, splitter=best; total time=   1.9s\n"
     ]
    },
    {
     "name": "stderr",
     "output_type": "stream",
     "text": [
      "C:\\ProgramData\\Anaconda3\\lib\\site-packages\\sklearn\\model_selection\\_validation.py:610: FitFailedWarning: Estimator fit failed. The score on this train-test partition for these parameters will be set to nan. Details: \n",
      "Traceback (most recent call last):\n",
      "  File \"C:\\ProgramData\\Anaconda3\\lib\\site-packages\\sklearn\\model_selection\\_validation.py\", line 593, in _fit_and_score\n",
      "    estimator.fit(X_train, y_train, **fit_params)\n",
      "  File \"C:\\ProgramData\\Anaconda3\\lib\\site-packages\\sklearn\\tree\\_classes.py\", line 898, in fit\n",
      "    super().fit(\n",
      "  File \"C:\\ProgramData\\Anaconda3\\lib\\site-packages\\sklearn\\tree\\_classes.py\", line 237, in fit\n",
      "    raise ValueError(\"min_samples_split must be an integer \"\n",
      "ValueError: min_samples_split must be an integer greater than 1 or a float in (0.0, 1.0]; got the integer 1\n",
      "\n",
      "  warnings.warn(\"Estimator fit failed. The score on this train-test\"\n"
     ]
    },
    {
     "name": "stdout",
     "output_type": "stream",
     "text": [
      "[CV 1/3] END criterion=entropy, max_depth=6, max_features=sqrt, min_samples_leaf=7, min_samples_split=1, splitter=random; total time=   0.6s\n"
     ]
    },
    {
     "name": "stderr",
     "output_type": "stream",
     "text": [
      "C:\\ProgramData\\Anaconda3\\lib\\site-packages\\sklearn\\model_selection\\_validation.py:610: FitFailedWarning: Estimator fit failed. The score on this train-test partition for these parameters will be set to nan. Details: \n",
      "Traceback (most recent call last):\n",
      "  File \"C:\\ProgramData\\Anaconda3\\lib\\site-packages\\sklearn\\model_selection\\_validation.py\", line 593, in _fit_and_score\n",
      "    estimator.fit(X_train, y_train, **fit_params)\n",
      "  File \"C:\\ProgramData\\Anaconda3\\lib\\site-packages\\sklearn\\tree\\_classes.py\", line 898, in fit\n",
      "    super().fit(\n",
      "  File \"C:\\ProgramData\\Anaconda3\\lib\\site-packages\\sklearn\\tree\\_classes.py\", line 237, in fit\n",
      "    raise ValueError(\"min_samples_split must be an integer \"\n",
      "ValueError: min_samples_split must be an integer greater than 1 or a float in (0.0, 1.0]; got the integer 1\n",
      "\n",
      "  warnings.warn(\"Estimator fit failed. The score on this train-test\"\n"
     ]
    },
    {
     "name": "stdout",
     "output_type": "stream",
     "text": [
      "[CV 2/3] END criterion=entropy, max_depth=6, max_features=sqrt, min_samples_leaf=7, min_samples_split=1, splitter=random; total time=   0.6s\n"
     ]
    },
    {
     "name": "stderr",
     "output_type": "stream",
     "text": [
      "C:\\ProgramData\\Anaconda3\\lib\\site-packages\\sklearn\\model_selection\\_validation.py:610: FitFailedWarning: Estimator fit failed. The score on this train-test partition for these parameters will be set to nan. Details: \n",
      "Traceback (most recent call last):\n",
      "  File \"C:\\ProgramData\\Anaconda3\\lib\\site-packages\\sklearn\\model_selection\\_validation.py\", line 593, in _fit_and_score\n",
      "    estimator.fit(X_train, y_train, **fit_params)\n",
      "  File \"C:\\ProgramData\\Anaconda3\\lib\\site-packages\\sklearn\\tree\\_classes.py\", line 898, in fit\n",
      "    super().fit(\n",
      "  File \"C:\\ProgramData\\Anaconda3\\lib\\site-packages\\sklearn\\tree\\_classes.py\", line 237, in fit\n",
      "    raise ValueError(\"min_samples_split must be an integer \"\n",
      "ValueError: min_samples_split must be an integer greater than 1 or a float in (0.0, 1.0]; got the integer 1\n",
      "\n",
      "  warnings.warn(\"Estimator fit failed. The score on this train-test\"\n"
     ]
    },
    {
     "name": "stdout",
     "output_type": "stream",
     "text": [
      "[CV 3/3] END criterion=entropy, max_depth=6, max_features=sqrt, min_samples_leaf=7, min_samples_split=1, splitter=random; total time=   0.6s\n",
      "[CV 1/3] END criterion=entropy, max_depth=4, max_features=sqrt, min_samples_leaf=7, min_samples_split=6, splitter=best; total time=   1.5s\n",
      "[CV 2/3] END criterion=entropy, max_depth=4, max_features=sqrt, min_samples_leaf=7, min_samples_split=6, splitter=best; total time=   1.5s\n",
      "[CV 3/3] END criterion=entropy, max_depth=4, max_features=sqrt, min_samples_leaf=7, min_samples_split=6, splitter=best; total time=   1.4s\n",
      "[CV 1/3] END criterion=entropy, max_depth=7, max_features=sqrt, min_samples_leaf=5, min_samples_split=8, splitter=best; total time=   2.1s\n",
      "[CV 2/3] END criterion=entropy, max_depth=7, max_features=sqrt, min_samples_leaf=5, min_samples_split=8, splitter=best; total time=   1.7s\n",
      "[CV 3/3] END criterion=entropy, max_depth=7, max_features=sqrt, min_samples_leaf=5, min_samples_split=8, splitter=best; total time=   2.0s\n",
      "[CV 1/3] END criterion=gini, max_depth=8, max_features=sqrt, min_samples_leaf=5, min_samples_split=6, splitter=best; total time=   1.8s\n",
      "[CV 2/3] END criterion=gini, max_depth=8, max_features=sqrt, min_samples_leaf=5, min_samples_split=6, splitter=best; total time=   1.8s\n",
      "[CV 3/3] END criterion=gini, max_depth=8, max_features=sqrt, min_samples_leaf=5, min_samples_split=6, splitter=best; total time=   1.9s\n",
      "[CV 1/3] END criterion=gini, max_depth=8, max_features=log2, min_samples_leaf=5, min_samples_split=4, splitter=random; total time=   1.4s\n",
      "[CV 2/3] END criterion=gini, max_depth=8, max_features=log2, min_samples_leaf=5, min_samples_split=4, splitter=random; total time=   1.3s\n",
      "[CV 3/3] END criterion=gini, max_depth=8, max_features=log2, min_samples_leaf=5, min_samples_split=4, splitter=random; total time=   1.2s\n",
      "[CV 1/3] END criterion=entropy, max_depth=7, max_features=log2, min_samples_leaf=1, min_samples_split=6, splitter=best; total time=   1.7s\n",
      "[CV 2/3] END criterion=entropy, max_depth=7, max_features=log2, min_samples_leaf=1, min_samples_split=6, splitter=best; total time=   1.5s\n",
      "[CV 3/3] END criterion=entropy, max_depth=7, max_features=log2, min_samples_leaf=1, min_samples_split=6, splitter=best; total time=   1.4s\n",
      "[CV 1/3] END criterion=entropy, max_depth=5, max_features=log2, min_samples_leaf=1, min_samples_split=8, splitter=random; total time=   1.1s\n",
      "[CV 2/3] END criterion=entropy, max_depth=5, max_features=log2, min_samples_leaf=1, min_samples_split=8, splitter=random; total time=   1.0s\n",
      "[CV 3/3] END criterion=entropy, max_depth=5, max_features=log2, min_samples_leaf=1, min_samples_split=8, splitter=random; total time=   1.0s\n"
     ]
    },
    {
     "name": "stderr",
     "output_type": "stream",
     "text": [
      "C:\\ProgramData\\Anaconda3\\lib\\site-packages\\sklearn\\model_selection\\_validation.py:610: FitFailedWarning: Estimator fit failed. The score on this train-test partition for these parameters will be set to nan. Details: \n",
      "Traceback (most recent call last):\n",
      "  File \"C:\\ProgramData\\Anaconda3\\lib\\site-packages\\sklearn\\model_selection\\_validation.py\", line 593, in _fit_and_score\n",
      "    estimator.fit(X_train, y_train, **fit_params)\n",
      "  File \"C:\\ProgramData\\Anaconda3\\lib\\site-packages\\sklearn\\tree\\_classes.py\", line 898, in fit\n",
      "    super().fit(\n",
      "  File \"C:\\ProgramData\\Anaconda3\\lib\\site-packages\\sklearn\\tree\\_classes.py\", line 237, in fit\n",
      "    raise ValueError(\"min_samples_split must be an integer \"\n",
      "ValueError: min_samples_split must be an integer greater than 1 or a float in (0.0, 1.0]; got the integer 1\n",
      "\n",
      "  warnings.warn(\"Estimator fit failed. The score on this train-test\"\n"
     ]
    },
    {
     "name": "stdout",
     "output_type": "stream",
     "text": [
      "[CV 1/3] END criterion=gini, max_depth=2, max_features=log2, min_samples_leaf=7, min_samples_split=1, splitter=best; total time=   0.6s\n"
     ]
    },
    {
     "name": "stderr",
     "output_type": "stream",
     "text": [
      "C:\\ProgramData\\Anaconda3\\lib\\site-packages\\sklearn\\model_selection\\_validation.py:610: FitFailedWarning: Estimator fit failed. The score on this train-test partition for these parameters will be set to nan. Details: \n",
      "Traceback (most recent call last):\n",
      "  File \"C:\\ProgramData\\Anaconda3\\lib\\site-packages\\sklearn\\model_selection\\_validation.py\", line 593, in _fit_and_score\n",
      "    estimator.fit(X_train, y_train, **fit_params)\n",
      "  File \"C:\\ProgramData\\Anaconda3\\lib\\site-packages\\sklearn\\tree\\_classes.py\", line 898, in fit\n",
      "    super().fit(\n",
      "  File \"C:\\ProgramData\\Anaconda3\\lib\\site-packages\\sklearn\\tree\\_classes.py\", line 237, in fit\n",
      "    raise ValueError(\"min_samples_split must be an integer \"\n",
      "ValueError: min_samples_split must be an integer greater than 1 or a float in (0.0, 1.0]; got the integer 1\n",
      "\n",
      "  warnings.warn(\"Estimator fit failed. The score on this train-test\"\n"
     ]
    },
    {
     "name": "stdout",
     "output_type": "stream",
     "text": [
      "[CV 2/3] END criterion=gini, max_depth=2, max_features=log2, min_samples_leaf=7, min_samples_split=1, splitter=best; total time=   0.6s\n"
     ]
    },
    {
     "name": "stderr",
     "output_type": "stream",
     "text": [
      "C:\\ProgramData\\Anaconda3\\lib\\site-packages\\sklearn\\model_selection\\_validation.py:610: FitFailedWarning: Estimator fit failed. The score on this train-test partition for these parameters will be set to nan. Details: \n",
      "Traceback (most recent call last):\n",
      "  File \"C:\\ProgramData\\Anaconda3\\lib\\site-packages\\sklearn\\model_selection\\_validation.py\", line 593, in _fit_and_score\n",
      "    estimator.fit(X_train, y_train, **fit_params)\n",
      "  File \"C:\\ProgramData\\Anaconda3\\lib\\site-packages\\sklearn\\tree\\_classes.py\", line 898, in fit\n",
      "    super().fit(\n",
      "  File \"C:\\ProgramData\\Anaconda3\\lib\\site-packages\\sklearn\\tree\\_classes.py\", line 237, in fit\n",
      "    raise ValueError(\"min_samples_split must be an integer \"\n",
      "ValueError: min_samples_split must be an integer greater than 1 or a float in (0.0, 1.0]; got the integer 1\n",
      "\n",
      "  warnings.warn(\"Estimator fit failed. The score on this train-test\"\n"
     ]
    },
    {
     "name": "stdout",
     "output_type": "stream",
     "text": [
      "[CV 3/3] END criterion=gini, max_depth=2, max_features=log2, min_samples_leaf=7, min_samples_split=1, splitter=best; total time=   0.7s\n",
      "[CV 1/3] END criterion=entropy, max_depth=6, max_features=auto, min_samples_leaf=7, min_samples_split=4, splitter=random; total time=   1.3s\n",
      "[CV 2/3] END criterion=entropy, max_depth=6, max_features=auto, min_samples_leaf=7, min_samples_split=4, splitter=random; total time=   1.3s\n",
      "[CV 3/3] END criterion=entropy, max_depth=6, max_features=auto, min_samples_leaf=7, min_samples_split=4, splitter=random; total time=   1.4s\n",
      "[CV 1/3] END criterion=entropy, max_depth=4, max_features=sqrt, min_samples_leaf=7, min_samples_split=2, splitter=best; total time=   1.4s\n",
      "[CV 2/3] END criterion=entropy, max_depth=4, max_features=sqrt, min_samples_leaf=7, min_samples_split=2, splitter=best; total time=   1.3s\n",
      "[CV 3/3] END criterion=entropy, max_depth=4, max_features=sqrt, min_samples_leaf=7, min_samples_split=2, splitter=best; total time=   1.4s\n"
     ]
    },
    {
     "name": "stderr",
     "output_type": "stream",
     "text": [
      "C:\\ProgramData\\Anaconda3\\lib\\site-packages\\sklearn\\model_selection\\_validation.py:610: FitFailedWarning: Estimator fit failed. The score on this train-test partition for these parameters will be set to nan. Details: \n",
      "Traceback (most recent call last):\n",
      "  File \"C:\\ProgramData\\Anaconda3\\lib\\site-packages\\sklearn\\model_selection\\_validation.py\", line 593, in _fit_and_score\n",
      "    estimator.fit(X_train, y_train, **fit_params)\n",
      "  File \"C:\\ProgramData\\Anaconda3\\lib\\site-packages\\sklearn\\tree\\_classes.py\", line 898, in fit\n",
      "    super().fit(\n",
      "  File \"C:\\ProgramData\\Anaconda3\\lib\\site-packages\\sklearn\\tree\\_classes.py\", line 237, in fit\n",
      "    raise ValueError(\"min_samples_split must be an integer \"\n",
      "ValueError: min_samples_split must be an integer greater than 1 or a float in (0.0, 1.0]; got the integer 1\n",
      "\n",
      "  warnings.warn(\"Estimator fit failed. The score on this train-test\"\n"
     ]
    },
    {
     "name": "stdout",
     "output_type": "stream",
     "text": [
      "[CV 1/3] END criterion=gini, max_depth=6, max_features=None, min_samples_leaf=7, min_samples_split=1, splitter=random; total time=   0.6s\n"
     ]
    },
    {
     "name": "stderr",
     "output_type": "stream",
     "text": [
      "C:\\ProgramData\\Anaconda3\\lib\\site-packages\\sklearn\\model_selection\\_validation.py:610: FitFailedWarning: Estimator fit failed. The score on this train-test partition for these parameters will be set to nan. Details: \n",
      "Traceback (most recent call last):\n",
      "  File \"C:\\ProgramData\\Anaconda3\\lib\\site-packages\\sklearn\\model_selection\\_validation.py\", line 593, in _fit_and_score\n",
      "    estimator.fit(X_train, y_train, **fit_params)\n",
      "  File \"C:\\ProgramData\\Anaconda3\\lib\\site-packages\\sklearn\\tree\\_classes.py\", line 898, in fit\n",
      "    super().fit(\n",
      "  File \"C:\\ProgramData\\Anaconda3\\lib\\site-packages\\sklearn\\tree\\_classes.py\", line 237, in fit\n",
      "    raise ValueError(\"min_samples_split must be an integer \"\n",
      "ValueError: min_samples_split must be an integer greater than 1 or a float in (0.0, 1.0]; got the integer 1\n",
      "\n",
      "  warnings.warn(\"Estimator fit failed. The score on this train-test\"\n"
     ]
    },
    {
     "name": "stdout",
     "output_type": "stream",
     "text": [
      "[CV 2/3] END criterion=gini, max_depth=6, max_features=None, min_samples_leaf=7, min_samples_split=1, splitter=random; total time=   0.7s\n"
     ]
    },
    {
     "name": "stderr",
     "output_type": "stream",
     "text": [
      "C:\\ProgramData\\Anaconda3\\lib\\site-packages\\sklearn\\model_selection\\_validation.py:610: FitFailedWarning: Estimator fit failed. The score on this train-test partition for these parameters will be set to nan. Details: \n",
      "Traceback (most recent call last):\n",
      "  File \"C:\\ProgramData\\Anaconda3\\lib\\site-packages\\sklearn\\model_selection\\_validation.py\", line 593, in _fit_and_score\n",
      "    estimator.fit(X_train, y_train, **fit_params)\n",
      "  File \"C:\\ProgramData\\Anaconda3\\lib\\site-packages\\sklearn\\tree\\_classes.py\", line 898, in fit\n",
      "    super().fit(\n",
      "  File \"C:\\ProgramData\\Anaconda3\\lib\\site-packages\\sklearn\\tree\\_classes.py\", line 237, in fit\n",
      "    raise ValueError(\"min_samples_split must be an integer \"\n",
      "ValueError: min_samples_split must be an integer greater than 1 or a float in (0.0, 1.0]; got the integer 1\n",
      "\n",
      "  warnings.warn(\"Estimator fit failed. The score on this train-test\"\n"
     ]
    },
    {
     "name": "stdout",
     "output_type": "stream",
     "text": [
      "[CV 3/3] END criterion=gini, max_depth=6, max_features=None, min_samples_leaf=7, min_samples_split=1, splitter=random; total time=   0.7s\n",
      "[CV 1/3] END criterion=gini, max_depth=4, max_features=sqrt, min_samples_leaf=3, min_samples_split=6, splitter=best; total time=   1.4s\n",
      "[CV 2/3] END criterion=gini, max_depth=4, max_features=sqrt, min_samples_leaf=3, min_samples_split=6, splitter=best; total time=   1.4s\n",
      "[CV 3/3] END criterion=gini, max_depth=4, max_features=sqrt, min_samples_leaf=3, min_samples_split=6, splitter=best; total time=   1.3s\n",
      "[CV 1/3] END criterion=entropy, max_depth=4, max_features=sqrt, min_samples_leaf=1, min_samples_split=4, splitter=best; total time=   1.4s\n",
      "[CV 2/3] END criterion=entropy, max_depth=4, max_features=sqrt, min_samples_leaf=1, min_samples_split=4, splitter=best; total time=   1.3s\n",
      "[CV 3/3] END criterion=entropy, max_depth=4, max_features=sqrt, min_samples_leaf=1, min_samples_split=4, splitter=best; total time=   1.4s\n"
     ]
    },
    {
     "name": "stderr",
     "output_type": "stream",
     "text": [
      "C:\\ProgramData\\Anaconda3\\lib\\site-packages\\sklearn\\model_selection\\_validation.py:610: FitFailedWarning: Estimator fit failed. The score on this train-test partition for these parameters will be set to nan. Details: \n",
      "Traceback (most recent call last):\n",
      "  File \"C:\\ProgramData\\Anaconda3\\lib\\site-packages\\sklearn\\model_selection\\_validation.py\", line 593, in _fit_and_score\n",
      "    estimator.fit(X_train, y_train, **fit_params)\n",
      "  File \"C:\\ProgramData\\Anaconda3\\lib\\site-packages\\sklearn\\tree\\_classes.py\", line 898, in fit\n",
      "    super().fit(\n",
      "  File \"C:\\ProgramData\\Anaconda3\\lib\\site-packages\\sklearn\\tree\\_classes.py\", line 237, in fit\n",
      "    raise ValueError(\"min_samples_split must be an integer \"\n",
      "ValueError: min_samples_split must be an integer greater than 1 or a float in (0.0, 1.0]; got the integer 1\n",
      "\n",
      "  warnings.warn(\"Estimator fit failed. The score on this train-test\"\n"
     ]
    },
    {
     "name": "stdout",
     "output_type": "stream",
     "text": [
      "[CV 1/3] END criterion=entropy, max_depth=7, max_features=sqrt, min_samples_leaf=7, min_samples_split=1, splitter=best; total time=   0.6s\n"
     ]
    },
    {
     "name": "stderr",
     "output_type": "stream",
     "text": [
      "C:\\ProgramData\\Anaconda3\\lib\\site-packages\\sklearn\\model_selection\\_validation.py:610: FitFailedWarning: Estimator fit failed. The score on this train-test partition for these parameters will be set to nan. Details: \n",
      "Traceback (most recent call last):\n",
      "  File \"C:\\ProgramData\\Anaconda3\\lib\\site-packages\\sklearn\\model_selection\\_validation.py\", line 593, in _fit_and_score\n",
      "    estimator.fit(X_train, y_train, **fit_params)\n",
      "  File \"C:\\ProgramData\\Anaconda3\\lib\\site-packages\\sklearn\\tree\\_classes.py\", line 898, in fit\n",
      "    super().fit(\n",
      "  File \"C:\\ProgramData\\Anaconda3\\lib\\site-packages\\sklearn\\tree\\_classes.py\", line 237, in fit\n",
      "    raise ValueError(\"min_samples_split must be an integer \"\n",
      "ValueError: min_samples_split must be an integer greater than 1 or a float in (0.0, 1.0]; got the integer 1\n",
      "\n",
      "  warnings.warn(\"Estimator fit failed. The score on this train-test\"\n"
     ]
    },
    {
     "name": "stdout",
     "output_type": "stream",
     "text": [
      "[CV 2/3] END criterion=entropy, max_depth=7, max_features=sqrt, min_samples_leaf=7, min_samples_split=1, splitter=best; total time=   0.6s\n"
     ]
    },
    {
     "name": "stderr",
     "output_type": "stream",
     "text": [
      "C:\\ProgramData\\Anaconda3\\lib\\site-packages\\sklearn\\model_selection\\_validation.py:610: FitFailedWarning: Estimator fit failed. The score on this train-test partition for these parameters will be set to nan. Details: \n",
      "Traceback (most recent call last):\n",
      "  File \"C:\\ProgramData\\Anaconda3\\lib\\site-packages\\sklearn\\model_selection\\_validation.py\", line 593, in _fit_and_score\n",
      "    estimator.fit(X_train, y_train, **fit_params)\n",
      "  File \"C:\\ProgramData\\Anaconda3\\lib\\site-packages\\sklearn\\tree\\_classes.py\", line 898, in fit\n",
      "    super().fit(\n",
      "  File \"C:\\ProgramData\\Anaconda3\\lib\\site-packages\\sklearn\\tree\\_classes.py\", line 237, in fit\n",
      "    raise ValueError(\"min_samples_split must be an integer \"\n",
      "ValueError: min_samples_split must be an integer greater than 1 or a float in (0.0, 1.0]; got the integer 1\n",
      "\n",
      "  warnings.warn(\"Estimator fit failed. The score on this train-test\"\n"
     ]
    },
    {
     "name": "stdout",
     "output_type": "stream",
     "text": [
      "[CV 3/3] END criterion=entropy, max_depth=7, max_features=sqrt, min_samples_leaf=7, min_samples_split=1, splitter=best; total time=   0.6s\n",
      "[CV 1/3] END criterion=entropy, max_depth=6, max_features=None, min_samples_leaf=3, min_samples_split=2, splitter=best; total time=   6.8s\n",
      "[CV 2/3] END criterion=entropy, max_depth=6, max_features=None, min_samples_leaf=3, min_samples_split=2, splitter=best; total time=   6.9s\n",
      "[CV 3/3] END criterion=entropy, max_depth=6, max_features=None, min_samples_leaf=3, min_samples_split=2, splitter=best; total time=   6.6s\n",
      "[CV 1/3] END criterion=entropy, max_depth=8, max_features=sqrt, min_samples_leaf=7, min_samples_split=6, splitter=random; total time=   1.4s\n",
      "[CV 2/3] END criterion=entropy, max_depth=8, max_features=sqrt, min_samples_leaf=7, min_samples_split=6, splitter=random; total time=   1.3s\n",
      "[CV 3/3] END criterion=entropy, max_depth=8, max_features=sqrt, min_samples_leaf=7, min_samples_split=6, splitter=random; total time=   1.5s\n",
      "[CV 1/3] END criterion=entropy, max_depth=6, max_features=sqrt, min_samples_leaf=3, min_samples_split=6, splitter=best; total time=   1.7s\n",
      "[CV 2/3] END criterion=entropy, max_depth=6, max_features=sqrt, min_samples_leaf=3, min_samples_split=6, splitter=best; total time=   1.8s\n",
      "[CV 3/3] END criterion=entropy, max_depth=6, max_features=sqrt, min_samples_leaf=3, min_samples_split=6, splitter=best; total time=   1.6s\n",
      "[CV 1/3] END criterion=entropy, max_depth=8, max_features=log2, min_samples_leaf=7, min_samples_split=4, splitter=random; total time=   1.2s\n",
      "[CV 2/3] END criterion=entropy, max_depth=8, max_features=log2, min_samples_leaf=7, min_samples_split=4, splitter=random; total time=   1.3s\n",
      "[CV 3/3] END criterion=entropy, max_depth=8, max_features=log2, min_samples_leaf=7, min_samples_split=4, splitter=random; total time=   1.3s\n",
      "[CV 1/3] END criterion=gini, max_depth=6, max_features=auto, min_samples_leaf=7, min_samples_split=8, splitter=best; total time=   1.5s\n",
      "[CV 2/3] END criterion=gini, max_depth=6, max_features=auto, min_samples_leaf=7, min_samples_split=8, splitter=best; total time=   1.6s\n",
      "[CV 3/3] END criterion=gini, max_depth=6, max_features=auto, min_samples_leaf=7, min_samples_split=8, splitter=best; total time=   1.6s\n"
     ]
    },
    {
     "name": "stderr",
     "output_type": "stream",
     "text": [
      "C:\\ProgramData\\Anaconda3\\lib\\site-packages\\sklearn\\model_selection\\_validation.py:610: FitFailedWarning: Estimator fit failed. The score on this train-test partition for these parameters will be set to nan. Details: \n",
      "Traceback (most recent call last):\n",
      "  File \"C:\\ProgramData\\Anaconda3\\lib\\site-packages\\sklearn\\model_selection\\_validation.py\", line 593, in _fit_and_score\n",
      "    estimator.fit(X_train, y_train, **fit_params)\n",
      "  File \"C:\\ProgramData\\Anaconda3\\lib\\site-packages\\sklearn\\tree\\_classes.py\", line 898, in fit\n",
      "    super().fit(\n",
      "  File \"C:\\ProgramData\\Anaconda3\\lib\\site-packages\\sklearn\\tree\\_classes.py\", line 237, in fit\n",
      "    raise ValueError(\"min_samples_split must be an integer \"\n",
      "ValueError: min_samples_split must be an integer greater than 1 or a float in (0.0, 1.0]; got the integer 1\n",
      "\n",
      "  warnings.warn(\"Estimator fit failed. The score on this train-test\"\n"
     ]
    },
    {
     "name": "stdout",
     "output_type": "stream",
     "text": [
      "[CV 1/3] END criterion=entropy, max_depth=4, max_features=log2, min_samples_leaf=3, min_samples_split=1, splitter=best; total time=   0.6s\n"
     ]
    },
    {
     "name": "stderr",
     "output_type": "stream",
     "text": [
      "C:\\ProgramData\\Anaconda3\\lib\\site-packages\\sklearn\\model_selection\\_validation.py:610: FitFailedWarning: Estimator fit failed. The score on this train-test partition for these parameters will be set to nan. Details: \n",
      "Traceback (most recent call last):\n",
      "  File \"C:\\ProgramData\\Anaconda3\\lib\\site-packages\\sklearn\\model_selection\\_validation.py\", line 593, in _fit_and_score\n",
      "    estimator.fit(X_train, y_train, **fit_params)\n",
      "  File \"C:\\ProgramData\\Anaconda3\\lib\\site-packages\\sklearn\\tree\\_classes.py\", line 898, in fit\n",
      "    super().fit(\n",
      "  File \"C:\\ProgramData\\Anaconda3\\lib\\site-packages\\sklearn\\tree\\_classes.py\", line 237, in fit\n",
      "    raise ValueError(\"min_samples_split must be an integer \"\n",
      "ValueError: min_samples_split must be an integer greater than 1 or a float in (0.0, 1.0]; got the integer 1\n",
      "\n",
      "  warnings.warn(\"Estimator fit failed. The score on this train-test\"\n"
     ]
    },
    {
     "name": "stdout",
     "output_type": "stream",
     "text": [
      "[CV 2/3] END criterion=entropy, max_depth=4, max_features=log2, min_samples_leaf=3, min_samples_split=1, splitter=best; total time=   0.6s\n"
     ]
    },
    {
     "name": "stderr",
     "output_type": "stream",
     "text": [
      "C:\\ProgramData\\Anaconda3\\lib\\site-packages\\sklearn\\model_selection\\_validation.py:610: FitFailedWarning: Estimator fit failed. The score on this train-test partition for these parameters will be set to nan. Details: \n",
      "Traceback (most recent call last):\n",
      "  File \"C:\\ProgramData\\Anaconda3\\lib\\site-packages\\sklearn\\model_selection\\_validation.py\", line 593, in _fit_and_score\n",
      "    estimator.fit(X_train, y_train, **fit_params)\n",
      "  File \"C:\\ProgramData\\Anaconda3\\lib\\site-packages\\sklearn\\tree\\_classes.py\", line 898, in fit\n",
      "    super().fit(\n",
      "  File \"C:\\ProgramData\\Anaconda3\\lib\\site-packages\\sklearn\\tree\\_classes.py\", line 237, in fit\n",
      "    raise ValueError(\"min_samples_split must be an integer \"\n",
      "ValueError: min_samples_split must be an integer greater than 1 or a float in (0.0, 1.0]; got the integer 1\n",
      "\n",
      "  warnings.warn(\"Estimator fit failed. The score on this train-test\"\n"
     ]
    },
    {
     "name": "stdout",
     "output_type": "stream",
     "text": [
      "[CV 3/3] END criterion=entropy, max_depth=4, max_features=log2, min_samples_leaf=3, min_samples_split=1, splitter=best; total time=   0.6s\n",
      "[CV 1/3] END criterion=entropy, max_depth=5, max_features=sqrt, min_samples_leaf=5, min_samples_split=4, splitter=best; total time=   1.5s\n",
      "[CV 2/3] END criterion=entropy, max_depth=5, max_features=sqrt, min_samples_leaf=5, min_samples_split=4, splitter=best; total time=   1.6s\n",
      "[CV 3/3] END criterion=entropy, max_depth=5, max_features=sqrt, min_samples_leaf=5, min_samples_split=4, splitter=best; total time=   1.5s\n",
      "[CV 1/3] END criterion=gini, max_depth=6, max_features=sqrt, min_samples_leaf=7, min_samples_split=8, splitter=random; total time=   1.3s\n",
      "[CV 2/3] END criterion=gini, max_depth=6, max_features=sqrt, min_samples_leaf=7, min_samples_split=8, splitter=random; total time=   1.3s\n",
      "[CV 3/3] END criterion=gini, max_depth=6, max_features=sqrt, min_samples_leaf=7, min_samples_split=8, splitter=random; total time=   1.7s\n",
      "[CV 1/3] END criterion=gini, max_depth=8, max_features=None, min_samples_leaf=5, min_samples_split=8, splitter=best; total time=  10.4s\n",
      "[CV 2/3] END criterion=gini, max_depth=8, max_features=None, min_samples_leaf=5, min_samples_split=8, splitter=best; total time=   9.5s\n",
      "[CV 3/3] END criterion=gini, max_depth=8, max_features=None, min_samples_leaf=5, min_samples_split=8, splitter=best; total time=   9.0s\n"
     ]
    },
    {
     "name": "stderr",
     "output_type": "stream",
     "text": [
      "C:\\ProgramData\\Anaconda3\\lib\\site-packages\\sklearn\\model_selection\\_validation.py:610: FitFailedWarning: Estimator fit failed. The score on this train-test partition for these parameters will be set to nan. Details: \n",
      "Traceback (most recent call last):\n",
      "  File \"C:\\ProgramData\\Anaconda3\\lib\\site-packages\\sklearn\\model_selection\\_validation.py\", line 593, in _fit_and_score\n",
      "    estimator.fit(X_train, y_train, **fit_params)\n",
      "  File \"C:\\ProgramData\\Anaconda3\\lib\\site-packages\\sklearn\\tree\\_classes.py\", line 898, in fit\n",
      "    super().fit(\n",
      "  File \"C:\\ProgramData\\Anaconda3\\lib\\site-packages\\sklearn\\tree\\_classes.py\", line 237, in fit\n",
      "    raise ValueError(\"min_samples_split must be an integer \"\n",
      "ValueError: min_samples_split must be an integer greater than 1 or a float in (0.0, 1.0]; got the integer 1\n",
      "\n",
      "  warnings.warn(\"Estimator fit failed. The score on this train-test\"\n"
     ]
    },
    {
     "name": "stdout",
     "output_type": "stream",
     "text": [
      "[CV 1/3] END criterion=entropy, max_depth=8, max_features=sqrt, min_samples_leaf=3, min_samples_split=1, splitter=random; total time=   1.5s\n"
     ]
    },
    {
     "name": "stderr",
     "output_type": "stream",
     "text": [
      "C:\\ProgramData\\Anaconda3\\lib\\site-packages\\sklearn\\model_selection\\_validation.py:610: FitFailedWarning: Estimator fit failed. The score on this train-test partition for these parameters will be set to nan. Details: \n",
      "Traceback (most recent call last):\n",
      "  File \"C:\\ProgramData\\Anaconda3\\lib\\site-packages\\sklearn\\model_selection\\_validation.py\", line 593, in _fit_and_score\n",
      "    estimator.fit(X_train, y_train, **fit_params)\n",
      "  File \"C:\\ProgramData\\Anaconda3\\lib\\site-packages\\sklearn\\tree\\_classes.py\", line 898, in fit\n",
      "    super().fit(\n",
      "  File \"C:\\ProgramData\\Anaconda3\\lib\\site-packages\\sklearn\\tree\\_classes.py\", line 237, in fit\n",
      "    raise ValueError(\"min_samples_split must be an integer \"\n",
      "ValueError: min_samples_split must be an integer greater than 1 or a float in (0.0, 1.0]; got the integer 1\n",
      "\n",
      "  warnings.warn(\"Estimator fit failed. The score on this train-test\"\n"
     ]
    },
    {
     "name": "stdout",
     "output_type": "stream",
     "text": [
      "[CV 2/3] END criterion=entropy, max_depth=8, max_features=sqrt, min_samples_leaf=3, min_samples_split=1, splitter=random; total time=   1.3s\n"
     ]
    },
    {
     "name": "stderr",
     "output_type": "stream",
     "text": [
      "C:\\ProgramData\\Anaconda3\\lib\\site-packages\\sklearn\\model_selection\\_validation.py:610: FitFailedWarning: Estimator fit failed. The score on this train-test partition for these parameters will be set to nan. Details: \n",
      "Traceback (most recent call last):\n",
      "  File \"C:\\ProgramData\\Anaconda3\\lib\\site-packages\\sklearn\\model_selection\\_validation.py\", line 593, in _fit_and_score\n",
      "    estimator.fit(X_train, y_train, **fit_params)\n",
      "  File \"C:\\ProgramData\\Anaconda3\\lib\\site-packages\\sklearn\\tree\\_classes.py\", line 898, in fit\n",
      "    super().fit(\n",
      "  File \"C:\\ProgramData\\Anaconda3\\lib\\site-packages\\sklearn\\tree\\_classes.py\", line 237, in fit\n",
      "    raise ValueError(\"min_samples_split must be an integer \"\n",
      "ValueError: min_samples_split must be an integer greater than 1 or a float in (0.0, 1.0]; got the integer 1\n",
      "\n",
      "  warnings.warn(\"Estimator fit failed. The score on this train-test\"\n"
     ]
    },
    {
     "name": "stdout",
     "output_type": "stream",
     "text": [
      "[CV 3/3] END criterion=entropy, max_depth=8, max_features=sqrt, min_samples_leaf=3, min_samples_split=1, splitter=random; total time=   1.8s\n",
      "[CV 1/3] END criterion=gini, max_depth=4, max_features=sqrt, min_samples_leaf=1, min_samples_split=6, splitter=random; total time=   1.4s\n",
      "[CV 2/3] END criterion=gini, max_depth=4, max_features=sqrt, min_samples_leaf=1, min_samples_split=6, splitter=random; total time=   1.7s\n",
      "[CV 3/3] END criterion=gini, max_depth=4, max_features=sqrt, min_samples_leaf=1, min_samples_split=6, splitter=random; total time=   1.3s\n",
      "[CV 1/3] END criterion=entropy, max_depth=8, max_features=sqrt, min_samples_leaf=3, min_samples_split=8, splitter=best; total time=   2.8s\n",
      "[CV 2/3] END criterion=entropy, max_depth=8, max_features=sqrt, min_samples_leaf=3, min_samples_split=8, splitter=best; total time=   2.8s\n",
      "[CV 3/3] END criterion=entropy, max_depth=8, max_features=sqrt, min_samples_leaf=3, min_samples_split=8, splitter=best; total time=   2.4s\n"
     ]
    },
    {
     "name": "stderr",
     "output_type": "stream",
     "text": [
      "C:\\ProgramData\\Anaconda3\\lib\\site-packages\\sklearn\\model_selection\\_validation.py:610: FitFailedWarning: Estimator fit failed. The score on this train-test partition for these parameters will be set to nan. Details: \n",
      "Traceback (most recent call last):\n",
      "  File \"C:\\ProgramData\\Anaconda3\\lib\\site-packages\\sklearn\\model_selection\\_validation.py\", line 593, in _fit_and_score\n",
      "    estimator.fit(X_train, y_train, **fit_params)\n",
      "  File \"C:\\ProgramData\\Anaconda3\\lib\\site-packages\\sklearn\\tree\\_classes.py\", line 898, in fit\n",
      "    super().fit(\n",
      "  File \"C:\\ProgramData\\Anaconda3\\lib\\site-packages\\sklearn\\tree\\_classes.py\", line 237, in fit\n",
      "    raise ValueError(\"min_samples_split must be an integer \"\n",
      "ValueError: min_samples_split must be an integer greater than 1 or a float in (0.0, 1.0]; got the integer 1\n",
      "\n",
      "  warnings.warn(\"Estimator fit failed. The score on this train-test\"\n"
     ]
    },
    {
     "name": "stdout",
     "output_type": "stream",
     "text": [
      "[CV 1/3] END criterion=gini, max_depth=5, max_features=sqrt, min_samples_leaf=5, min_samples_split=1, splitter=best; total time=   1.2s\n"
     ]
    },
    {
     "name": "stderr",
     "output_type": "stream",
     "text": [
      "C:\\ProgramData\\Anaconda3\\lib\\site-packages\\sklearn\\model_selection\\_validation.py:610: FitFailedWarning: Estimator fit failed. The score on this train-test partition for these parameters will be set to nan. Details: \n",
      "Traceback (most recent call last):\n",
      "  File \"C:\\ProgramData\\Anaconda3\\lib\\site-packages\\sklearn\\model_selection\\_validation.py\", line 593, in _fit_and_score\n",
      "    estimator.fit(X_train, y_train, **fit_params)\n",
      "  File \"C:\\ProgramData\\Anaconda3\\lib\\site-packages\\sklearn\\tree\\_classes.py\", line 898, in fit\n",
      "    super().fit(\n",
      "  File \"C:\\ProgramData\\Anaconda3\\lib\\site-packages\\sklearn\\tree\\_classes.py\", line 237, in fit\n",
      "    raise ValueError(\"min_samples_split must be an integer \"\n",
      "ValueError: min_samples_split must be an integer greater than 1 or a float in (0.0, 1.0]; got the integer 1\n",
      "\n",
      "  warnings.warn(\"Estimator fit failed. The score on this train-test\"\n"
     ]
    },
    {
     "name": "stdout",
     "output_type": "stream",
     "text": [
      "[CV 2/3] END criterion=gini, max_depth=5, max_features=sqrt, min_samples_leaf=5, min_samples_split=1, splitter=best; total time=   1.0s\n"
     ]
    },
    {
     "name": "stderr",
     "output_type": "stream",
     "text": [
      "C:\\ProgramData\\Anaconda3\\lib\\site-packages\\sklearn\\model_selection\\_validation.py:610: FitFailedWarning: Estimator fit failed. The score on this train-test partition for these parameters will be set to nan. Details: \n",
      "Traceback (most recent call last):\n",
      "  File \"C:\\ProgramData\\Anaconda3\\lib\\site-packages\\sklearn\\model_selection\\_validation.py\", line 593, in _fit_and_score\n",
      "    estimator.fit(X_train, y_train, **fit_params)\n",
      "  File \"C:\\ProgramData\\Anaconda3\\lib\\site-packages\\sklearn\\tree\\_classes.py\", line 898, in fit\n",
      "    super().fit(\n",
      "  File \"C:\\ProgramData\\Anaconda3\\lib\\site-packages\\sklearn\\tree\\_classes.py\", line 237, in fit\n",
      "    raise ValueError(\"min_samples_split must be an integer \"\n",
      "ValueError: min_samples_split must be an integer greater than 1 or a float in (0.0, 1.0]; got the integer 1\n",
      "\n",
      "  warnings.warn(\"Estimator fit failed. The score on this train-test\"\n"
     ]
    },
    {
     "name": "stdout",
     "output_type": "stream",
     "text": [
      "[CV 3/3] END criterion=gini, max_depth=5, max_features=sqrt, min_samples_leaf=5, min_samples_split=1, splitter=best; total time=   0.8s\n",
      "[CV 1/3] END criterion=entropy, max_depth=6, max_features=auto, min_samples_leaf=1, min_samples_split=6, splitter=random; total time=   1.5s\n",
      "[CV 2/3] END criterion=entropy, max_depth=6, max_features=auto, min_samples_leaf=1, min_samples_split=6, splitter=random; total time=   1.4s\n",
      "[CV 3/3] END criterion=entropy, max_depth=6, max_features=auto, min_samples_leaf=1, min_samples_split=6, splitter=random; total time=   1.3s\n",
      "[CV 1/3] END criterion=gini, max_depth=6, max_features=log2, min_samples_leaf=1, min_samples_split=6, splitter=random; total time=   1.0s\n",
      "[CV 2/3] END criterion=gini, max_depth=6, max_features=log2, min_samples_leaf=1, min_samples_split=6, splitter=random; total time=   1.1s\n",
      "[CV 3/3] END criterion=gini, max_depth=6, max_features=log2, min_samples_leaf=1, min_samples_split=6, splitter=random; total time=   1.1s\n",
      "[CV 1/3] END criterion=gini, max_depth=6, max_features=None, min_samples_leaf=1, min_samples_split=6, splitter=random; total time=   4.5s\n",
      "[CV 2/3] END criterion=gini, max_depth=6, max_features=None, min_samples_leaf=1, min_samples_split=6, splitter=random; total time=   5.0s\n",
      "[CV 3/3] END criterion=gini, max_depth=6, max_features=None, min_samples_leaf=1, min_samples_split=6, splitter=random; total time=   4.5s\n",
      "[CV 1/3] END criterion=gini, max_depth=6, max_features=auto, min_samples_leaf=3, min_samples_split=4, splitter=random; total time=   2.0s\n",
      "[CV 2/3] END criterion=gini, max_depth=6, max_features=auto, min_samples_leaf=3, min_samples_split=4, splitter=random; total time=   2.0s\n",
      "[CV 3/3] END criterion=gini, max_depth=6, max_features=auto, min_samples_leaf=3, min_samples_split=4, splitter=random; total time=   2.5s\n"
     ]
    },
    {
     "name": "stderr",
     "output_type": "stream",
     "text": [
      "C:\\ProgramData\\Anaconda3\\lib\\site-packages\\sklearn\\model_selection\\_validation.py:610: FitFailedWarning: Estimator fit failed. The score on this train-test partition for these parameters will be set to nan. Details: \n",
      "Traceback (most recent call last):\n",
      "  File \"C:\\ProgramData\\Anaconda3\\lib\\site-packages\\sklearn\\model_selection\\_validation.py\", line 593, in _fit_and_score\n",
      "    estimator.fit(X_train, y_train, **fit_params)\n",
      "  File \"C:\\ProgramData\\Anaconda3\\lib\\site-packages\\sklearn\\tree\\_classes.py\", line 898, in fit\n",
      "    super().fit(\n",
      "  File \"C:\\ProgramData\\Anaconda3\\lib\\site-packages\\sklearn\\tree\\_classes.py\", line 237, in fit\n",
      "    raise ValueError(\"min_samples_split must be an integer \"\n",
      "ValueError: min_samples_split must be an integer greater than 1 or a float in (0.0, 1.0]; got the integer 1\n",
      "\n",
      "  warnings.warn(\"Estimator fit failed. The score on this train-test\"\n"
     ]
    },
    {
     "name": "stdout",
     "output_type": "stream",
     "text": [
      "[CV 1/3] END criterion=entropy, max_depth=2, max_features=log2, min_samples_leaf=1, min_samples_split=1, splitter=random; total time=   1.2s\n"
     ]
    },
    {
     "name": "stderr",
     "output_type": "stream",
     "text": [
      "C:\\ProgramData\\Anaconda3\\lib\\site-packages\\sklearn\\model_selection\\_validation.py:610: FitFailedWarning: Estimator fit failed. The score on this train-test partition for these parameters will be set to nan. Details: \n",
      "Traceback (most recent call last):\n",
      "  File \"C:\\ProgramData\\Anaconda3\\lib\\site-packages\\sklearn\\model_selection\\_validation.py\", line 593, in _fit_and_score\n",
      "    estimator.fit(X_train, y_train, **fit_params)\n",
      "  File \"C:\\ProgramData\\Anaconda3\\lib\\site-packages\\sklearn\\tree\\_classes.py\", line 898, in fit\n",
      "    super().fit(\n",
      "  File \"C:\\ProgramData\\Anaconda3\\lib\\site-packages\\sklearn\\tree\\_classes.py\", line 237, in fit\n",
      "    raise ValueError(\"min_samples_split must be an integer \"\n",
      "ValueError: min_samples_split must be an integer greater than 1 or a float in (0.0, 1.0]; got the integer 1\n",
      "\n",
      "  warnings.warn(\"Estimator fit failed. The score on this train-test\"\n"
     ]
    },
    {
     "name": "stdout",
     "output_type": "stream",
     "text": [
      "[CV 2/3] END criterion=entropy, max_depth=2, max_features=log2, min_samples_leaf=1, min_samples_split=1, splitter=random; total time=   0.8s\n"
     ]
    },
    {
     "name": "stderr",
     "output_type": "stream",
     "text": [
      "C:\\ProgramData\\Anaconda3\\lib\\site-packages\\sklearn\\model_selection\\_validation.py:610: FitFailedWarning: Estimator fit failed. The score on this train-test partition for these parameters will be set to nan. Details: \n",
      "Traceback (most recent call last):\n",
      "  File \"C:\\ProgramData\\Anaconda3\\lib\\site-packages\\sklearn\\model_selection\\_validation.py\", line 593, in _fit_and_score\n",
      "    estimator.fit(X_train, y_train, **fit_params)\n",
      "  File \"C:\\ProgramData\\Anaconda3\\lib\\site-packages\\sklearn\\tree\\_classes.py\", line 898, in fit\n",
      "    super().fit(\n",
      "  File \"C:\\ProgramData\\Anaconda3\\lib\\site-packages\\sklearn\\tree\\_classes.py\", line 237, in fit\n",
      "    raise ValueError(\"min_samples_split must be an integer \"\n",
      "ValueError: min_samples_split must be an integer greater than 1 or a float in (0.0, 1.0]; got the integer 1\n",
      "\n",
      "  warnings.warn(\"Estimator fit failed. The score on this train-test\"\n"
     ]
    },
    {
     "name": "stdout",
     "output_type": "stream",
     "text": [
      "[CV 3/3] END criterion=entropy, max_depth=2, max_features=log2, min_samples_leaf=1, min_samples_split=1, splitter=random; total time=   0.7s\n",
      "[CV 1/3] END criterion=gini, max_depth=2, max_features=None, min_samples_leaf=1, min_samples_split=8, splitter=best; total time=   2.9s\n",
      "[CV 2/3] END criterion=gini, max_depth=2, max_features=None, min_samples_leaf=1, min_samples_split=8, splitter=best; total time=   4.2s\n",
      "[CV 3/3] END criterion=gini, max_depth=2, max_features=None, min_samples_leaf=1, min_samples_split=8, splitter=best; total time=   3.3s\n",
      "[CV 1/3] END criterion=entropy, max_depth=8, max_features=None, min_samples_leaf=5, min_samples_split=6, splitter=random; total time=   5.8s\n",
      "[CV 2/3] END criterion=entropy, max_depth=8, max_features=None, min_samples_leaf=5, min_samples_split=6, splitter=random; total time=   6.0s\n",
      "[CV 3/3] END criterion=entropy, max_depth=8, max_features=None, min_samples_leaf=5, min_samples_split=6, splitter=random; total time=   6.5s\n",
      "[CV 1/3] END criterion=entropy, max_depth=6, max_features=sqrt, min_samples_leaf=5, min_samples_split=6, splitter=best; total time=   2.1s\n",
      "[CV 2/3] END criterion=entropy, max_depth=6, max_features=sqrt, min_samples_leaf=5, min_samples_split=6, splitter=best; total time=   1.8s\n",
      "[CV 3/3] END criterion=entropy, max_depth=6, max_features=sqrt, min_samples_leaf=5, min_samples_split=6, splitter=best; total time=   1.6s\n",
      "[CV 1/3] END criterion=gini, max_depth=4, max_features=sqrt, min_samples_leaf=3, min_samples_split=4, splitter=best; total time=   1.2s\n",
      "[CV 2/3] END criterion=gini, max_depth=4, max_features=sqrt, min_samples_leaf=3, min_samples_split=4, splitter=best; total time=   1.1s\n",
      "[CV 3/3] END criterion=gini, max_depth=4, max_features=sqrt, min_samples_leaf=3, min_samples_split=4, splitter=best; total time=   1.3s\n",
      "[CV 1/3] END criterion=gini, max_depth=6, max_features=log2, min_samples_leaf=7, min_samples_split=4, splitter=best; total time=   1.3s\n",
      "[CV 2/3] END criterion=gini, max_depth=6, max_features=log2, min_samples_leaf=7, min_samples_split=4, splitter=best; total time=   1.4s\n",
      "[CV 3/3] END criterion=gini, max_depth=6, max_features=log2, min_samples_leaf=7, min_samples_split=4, splitter=best; total time=   1.3s\n",
      "[CV 1/3] END criterion=gini, max_depth=6, max_features=auto, min_samples_leaf=1, min_samples_split=2, splitter=random; total time=   1.3s\n",
      "[CV 2/3] END criterion=gini, max_depth=6, max_features=auto, min_samples_leaf=1, min_samples_split=2, splitter=random; total time=   1.1s\n",
      "[CV 3/3] END criterion=gini, max_depth=6, max_features=auto, min_samples_leaf=1, min_samples_split=2, splitter=random; total time=   1.1s\n",
      "[CV 1/3] END criterion=entropy, max_depth=4, max_features=sqrt, min_samples_leaf=7, min_samples_split=4, splitter=random; total time=   1.1s\n",
      "[CV 2/3] END criterion=entropy, max_depth=4, max_features=sqrt, min_samples_leaf=7, min_samples_split=4, splitter=random; total time=   1.1s\n",
      "[CV 3/3] END criterion=entropy, max_depth=4, max_features=sqrt, min_samples_leaf=7, min_samples_split=4, splitter=random; total time=   1.1s\n"
     ]
    },
    {
     "name": "stderr",
     "output_type": "stream",
     "text": [
      "C:\\ProgramData\\Anaconda3\\lib\\site-packages\\sklearn\\model_selection\\_validation.py:610: FitFailedWarning: Estimator fit failed. The score on this train-test partition for these parameters will be set to nan. Details: \n",
      "Traceback (most recent call last):\n",
      "  File \"C:\\ProgramData\\Anaconda3\\lib\\site-packages\\sklearn\\model_selection\\_validation.py\", line 593, in _fit_and_score\n",
      "    estimator.fit(X_train, y_train, **fit_params)\n",
      "  File \"C:\\ProgramData\\Anaconda3\\lib\\site-packages\\sklearn\\tree\\_classes.py\", line 898, in fit\n",
      "    super().fit(\n",
      "  File \"C:\\ProgramData\\Anaconda3\\lib\\site-packages\\sklearn\\tree\\_classes.py\", line 237, in fit\n",
      "    raise ValueError(\"min_samples_split must be an integer \"\n",
      "ValueError: min_samples_split must be an integer greater than 1 or a float in (0.0, 1.0]; got the integer 1\n",
      "\n",
      "  warnings.warn(\"Estimator fit failed. The score on this train-test\"\n"
     ]
    },
    {
     "name": "stdout",
     "output_type": "stream",
     "text": [
      "[CV 1/3] END criterion=entropy, max_depth=6, max_features=log2, min_samples_leaf=1, min_samples_split=1, splitter=random; total time=   0.6s\n"
     ]
    },
    {
     "name": "stderr",
     "output_type": "stream",
     "text": [
      "C:\\ProgramData\\Anaconda3\\lib\\site-packages\\sklearn\\model_selection\\_validation.py:610: FitFailedWarning: Estimator fit failed. The score on this train-test partition for these parameters will be set to nan. Details: \n",
      "Traceback (most recent call last):\n",
      "  File \"C:\\ProgramData\\Anaconda3\\lib\\site-packages\\sklearn\\model_selection\\_validation.py\", line 593, in _fit_and_score\n",
      "    estimator.fit(X_train, y_train, **fit_params)\n",
      "  File \"C:\\ProgramData\\Anaconda3\\lib\\site-packages\\sklearn\\tree\\_classes.py\", line 898, in fit\n",
      "    super().fit(\n",
      "  File \"C:\\ProgramData\\Anaconda3\\lib\\site-packages\\sklearn\\tree\\_classes.py\", line 237, in fit\n",
      "    raise ValueError(\"min_samples_split must be an integer \"\n",
      "ValueError: min_samples_split must be an integer greater than 1 or a float in (0.0, 1.0]; got the integer 1\n",
      "\n",
      "  warnings.warn(\"Estimator fit failed. The score on this train-test\"\n"
     ]
    },
    {
     "name": "stdout",
     "output_type": "stream",
     "text": [
      "[CV 2/3] END criterion=entropy, max_depth=6, max_features=log2, min_samples_leaf=1, min_samples_split=1, splitter=random; total time=   0.7s\n"
     ]
    },
    {
     "name": "stderr",
     "output_type": "stream",
     "text": [
      "C:\\ProgramData\\Anaconda3\\lib\\site-packages\\sklearn\\model_selection\\_validation.py:610: FitFailedWarning: Estimator fit failed. The score on this train-test partition for these parameters will be set to nan. Details: \n",
      "Traceback (most recent call last):\n",
      "  File \"C:\\ProgramData\\Anaconda3\\lib\\site-packages\\sklearn\\model_selection\\_validation.py\", line 593, in _fit_and_score\n",
      "    estimator.fit(X_train, y_train, **fit_params)\n",
      "  File \"C:\\ProgramData\\Anaconda3\\lib\\site-packages\\sklearn\\tree\\_classes.py\", line 898, in fit\n",
      "    super().fit(\n",
      "  File \"C:\\ProgramData\\Anaconda3\\lib\\site-packages\\sklearn\\tree\\_classes.py\", line 237, in fit\n",
      "    raise ValueError(\"min_samples_split must be an integer \"\n",
      "ValueError: min_samples_split must be an integer greater than 1 or a float in (0.0, 1.0]; got the integer 1\n",
      "\n",
      "  warnings.warn(\"Estimator fit failed. The score on this train-test\"\n"
     ]
    },
    {
     "name": "stdout",
     "output_type": "stream",
     "text": [
      "[CV 3/3] END criterion=entropy, max_depth=6, max_features=log2, min_samples_leaf=1, min_samples_split=1, splitter=random; total time=   0.9s\n",
      "[CV 1/3] END criterion=entropy, max_depth=8, max_features=sqrt, min_samples_leaf=3, min_samples_split=2, splitter=random; total time=   1.8s\n",
      "[CV 2/3] END criterion=entropy, max_depth=8, max_features=sqrt, min_samples_leaf=3, min_samples_split=2, splitter=random; total time=   1.7s\n",
      "[CV 3/3] END criterion=entropy, max_depth=8, max_features=sqrt, min_samples_leaf=3, min_samples_split=2, splitter=random; total time=   1.5s\n",
      "[CV 1/3] END criterion=gini, max_depth=6, max_features=None, min_samples_leaf=3, min_samples_split=6, splitter=random; total time=   4.7s\n",
      "[CV 2/3] END criterion=gini, max_depth=6, max_features=None, min_samples_leaf=3, min_samples_split=6, splitter=random; total time=   4.4s\n",
      "[CV 3/3] END criterion=gini, max_depth=6, max_features=None, min_samples_leaf=3, min_samples_split=6, splitter=random; total time=   4.4s\n",
      "[CV 1/3] END criterion=entropy, max_depth=6, max_features=None, min_samples_leaf=1, min_samples_split=2, splitter=best; total time=   6.6s\n",
      "[CV 2/3] END criterion=entropy, max_depth=6, max_features=None, min_samples_leaf=1, min_samples_split=2, splitter=best; total time=   7.1s\n",
      "[CV 3/3] END criterion=entropy, max_depth=6, max_features=None, min_samples_leaf=1, min_samples_split=2, splitter=best; total time=   6.6s\n",
      "[CV 1/3] END criterion=gini, max_depth=5, max_features=sqrt, min_samples_leaf=5, min_samples_split=8, splitter=random; total time=   1.7s\n",
      "[CV 2/3] END criterion=gini, max_depth=5, max_features=sqrt, min_samples_leaf=5, min_samples_split=8, splitter=random; total time=   1.3s\n",
      "[CV 3/3] END criterion=gini, max_depth=5, max_features=sqrt, min_samples_leaf=5, min_samples_split=8, splitter=random; total time=   1.4s\n",
      "[CV 1/3] END criterion=entropy, max_depth=6, max_features=auto, min_samples_leaf=5, min_samples_split=4, splitter=random; total time=   1.4s\n",
      "[CV 2/3] END criterion=entropy, max_depth=6, max_features=auto, min_samples_leaf=5, min_samples_split=4, splitter=random; total time=   1.9s\n",
      "[CV 3/3] END criterion=entropy, max_depth=6, max_features=auto, min_samples_leaf=5, min_samples_split=4, splitter=random; total time=   1.8s\n",
      "[CV 1/3] END criterion=gini, max_depth=8, max_features=sqrt, min_samples_leaf=7, min_samples_split=6, splitter=random; total time=   1.9s\n",
      "[CV 2/3] END criterion=gini, max_depth=8, max_features=sqrt, min_samples_leaf=7, min_samples_split=6, splitter=random; total time=   2.0s\n",
      "[CV 3/3] END criterion=gini, max_depth=8, max_features=sqrt, min_samples_leaf=7, min_samples_split=6, splitter=random; total time=   1.8s\n",
      "[CV 1/3] END criterion=entropy, max_depth=8, max_features=auto, min_samples_leaf=3, min_samples_split=4, splitter=best; total time=   2.5s\n",
      "[CV 2/3] END criterion=entropy, max_depth=8, max_features=auto, min_samples_leaf=3, min_samples_split=4, splitter=best; total time=   1.9s\n",
      "[CV 3/3] END criterion=entropy, max_depth=8, max_features=auto, min_samples_leaf=3, min_samples_split=4, splitter=best; total time=   1.9s\n",
      "[CV 1/3] END criterion=entropy, max_depth=5, max_features=auto, min_samples_leaf=1, min_samples_split=4, splitter=random; total time=   1.2s\n",
      "[CV 2/3] END criterion=entropy, max_depth=5, max_features=auto, min_samples_leaf=1, min_samples_split=4, splitter=random; total time=   1.2s\n",
      "[CV 3/3] END criterion=entropy, max_depth=5, max_features=auto, min_samples_leaf=1, min_samples_split=4, splitter=random; total time=   1.2s\n"
     ]
    },
    {
     "name": "stderr",
     "output_type": "stream",
     "text": [
      "C:\\ProgramData\\Anaconda3\\lib\\site-packages\\sklearn\\model_selection\\_validation.py:610: FitFailedWarning: Estimator fit failed. The score on this train-test partition for these parameters will be set to nan. Details: \n",
      "Traceback (most recent call last):\n",
      "  File \"C:\\ProgramData\\Anaconda3\\lib\\site-packages\\sklearn\\model_selection\\_validation.py\", line 593, in _fit_and_score\n",
      "    estimator.fit(X_train, y_train, **fit_params)\n",
      "  File \"C:\\ProgramData\\Anaconda3\\lib\\site-packages\\sklearn\\tree\\_classes.py\", line 898, in fit\n",
      "    super().fit(\n",
      "  File \"C:\\ProgramData\\Anaconda3\\lib\\site-packages\\sklearn\\tree\\_classes.py\", line 237, in fit\n",
      "    raise ValueError(\"min_samples_split must be an integer \"\n",
      "ValueError: min_samples_split must be an integer greater than 1 or a float in (0.0, 1.0]; got the integer 1\n",
      "\n",
      "  warnings.warn(\"Estimator fit failed. The score on this train-test\"\n"
     ]
    },
    {
     "name": "stdout",
     "output_type": "stream",
     "text": [
      "[CV 1/3] END criterion=gini, max_depth=2, max_features=sqrt, min_samples_leaf=7, min_samples_split=1, splitter=random; total time=   1.0s\n"
     ]
    },
    {
     "name": "stderr",
     "output_type": "stream",
     "text": [
      "C:\\ProgramData\\Anaconda3\\lib\\site-packages\\sklearn\\model_selection\\_validation.py:610: FitFailedWarning: Estimator fit failed. The score on this train-test partition for these parameters will be set to nan. Details: \n",
      "Traceback (most recent call last):\n",
      "  File \"C:\\ProgramData\\Anaconda3\\lib\\site-packages\\sklearn\\model_selection\\_validation.py\", line 593, in _fit_and_score\n",
      "    estimator.fit(X_train, y_train, **fit_params)\n",
      "  File \"C:\\ProgramData\\Anaconda3\\lib\\site-packages\\sklearn\\tree\\_classes.py\", line 898, in fit\n",
      "    super().fit(\n",
      "  File \"C:\\ProgramData\\Anaconda3\\lib\\site-packages\\sklearn\\tree\\_classes.py\", line 237, in fit\n",
      "    raise ValueError(\"min_samples_split must be an integer \"\n",
      "ValueError: min_samples_split must be an integer greater than 1 or a float in (0.0, 1.0]; got the integer 1\n",
      "\n",
      "  warnings.warn(\"Estimator fit failed. The score on this train-test\"\n"
     ]
    },
    {
     "name": "stdout",
     "output_type": "stream",
     "text": [
      "[CV 2/3] END criterion=gini, max_depth=2, max_features=sqrt, min_samples_leaf=7, min_samples_split=1, splitter=random; total time=   0.7s\n"
     ]
    },
    {
     "name": "stderr",
     "output_type": "stream",
     "text": [
      "C:\\ProgramData\\Anaconda3\\lib\\site-packages\\sklearn\\model_selection\\_validation.py:610: FitFailedWarning: Estimator fit failed. The score on this train-test partition for these parameters will be set to nan. Details: \n",
      "Traceback (most recent call last):\n",
      "  File \"C:\\ProgramData\\Anaconda3\\lib\\site-packages\\sklearn\\model_selection\\_validation.py\", line 593, in _fit_and_score\n",
      "    estimator.fit(X_train, y_train, **fit_params)\n",
      "  File \"C:\\ProgramData\\Anaconda3\\lib\\site-packages\\sklearn\\tree\\_classes.py\", line 898, in fit\n",
      "    super().fit(\n",
      "  File \"C:\\ProgramData\\Anaconda3\\lib\\site-packages\\sklearn\\tree\\_classes.py\", line 237, in fit\n",
      "    raise ValueError(\"min_samples_split must be an integer \"\n",
      "ValueError: min_samples_split must be an integer greater than 1 or a float in (0.0, 1.0]; got the integer 1\n",
      "\n",
      "  warnings.warn(\"Estimator fit failed. The score on this train-test\"\n"
     ]
    },
    {
     "name": "stdout",
     "output_type": "stream",
     "text": [
      "[CV 3/3] END criterion=gini, max_depth=2, max_features=sqrt, min_samples_leaf=7, min_samples_split=1, splitter=random; total time=   0.6s\n",
      "[CV 1/3] END criterion=gini, max_depth=2, max_features=log2, min_samples_leaf=5, min_samples_split=4, splitter=random; total time=   0.8s\n",
      "[CV 2/3] END criterion=gini, max_depth=2, max_features=log2, min_samples_leaf=5, min_samples_split=4, splitter=random; total time=   0.8s\n",
      "[CV 3/3] END criterion=gini, max_depth=2, max_features=log2, min_samples_leaf=5, min_samples_split=4, splitter=random; total time=   0.8s\n"
     ]
    },
    {
     "name": "stderr",
     "output_type": "stream",
     "text": [
      "C:\\ProgramData\\Anaconda3\\lib\\site-packages\\sklearn\\model_selection\\_validation.py:610: FitFailedWarning: Estimator fit failed. The score on this train-test partition for these parameters will be set to nan. Details: \n",
      "Traceback (most recent call last):\n",
      "  File \"C:\\ProgramData\\Anaconda3\\lib\\site-packages\\sklearn\\model_selection\\_validation.py\", line 593, in _fit_and_score\n",
      "    estimator.fit(X_train, y_train, **fit_params)\n",
      "  File \"C:\\ProgramData\\Anaconda3\\lib\\site-packages\\sklearn\\tree\\_classes.py\", line 898, in fit\n",
      "    super().fit(\n",
      "  File \"C:\\ProgramData\\Anaconda3\\lib\\site-packages\\sklearn\\tree\\_classes.py\", line 237, in fit\n",
      "    raise ValueError(\"min_samples_split must be an integer \"\n",
      "ValueError: min_samples_split must be an integer greater than 1 or a float in (0.0, 1.0]; got the integer 1\n",
      "\n",
      "  warnings.warn(\"Estimator fit failed. The score on this train-test\"\n"
     ]
    },
    {
     "name": "stdout",
     "output_type": "stream",
     "text": [
      "[CV 1/3] END criterion=entropy, max_depth=4, max_features=sqrt, min_samples_leaf=5, min_samples_split=1, splitter=best; total time=   0.7s\n"
     ]
    },
    {
     "name": "stderr",
     "output_type": "stream",
     "text": [
      "C:\\ProgramData\\Anaconda3\\lib\\site-packages\\sklearn\\model_selection\\_validation.py:610: FitFailedWarning: Estimator fit failed. The score on this train-test partition for these parameters will be set to nan. Details: \n",
      "Traceback (most recent call last):\n",
      "  File \"C:\\ProgramData\\Anaconda3\\lib\\site-packages\\sklearn\\model_selection\\_validation.py\", line 593, in _fit_and_score\n",
      "    estimator.fit(X_train, y_train, **fit_params)\n",
      "  File \"C:\\ProgramData\\Anaconda3\\lib\\site-packages\\sklearn\\tree\\_classes.py\", line 898, in fit\n",
      "    super().fit(\n",
      "  File \"C:\\ProgramData\\Anaconda3\\lib\\site-packages\\sklearn\\tree\\_classes.py\", line 237, in fit\n",
      "    raise ValueError(\"min_samples_split must be an integer \"\n",
      "ValueError: min_samples_split must be an integer greater than 1 or a float in (0.0, 1.0]; got the integer 1\n",
      "\n",
      "  warnings.warn(\"Estimator fit failed. The score on this train-test\"\n"
     ]
    },
    {
     "name": "stdout",
     "output_type": "stream",
     "text": [
      "[CV 2/3] END criterion=entropy, max_depth=4, max_features=sqrt, min_samples_leaf=5, min_samples_split=1, splitter=best; total time=   0.7s\n"
     ]
    },
    {
     "name": "stderr",
     "output_type": "stream",
     "text": [
      "C:\\ProgramData\\Anaconda3\\lib\\site-packages\\sklearn\\model_selection\\_validation.py:610: FitFailedWarning: Estimator fit failed. The score on this train-test partition for these parameters will be set to nan. Details: \n",
      "Traceback (most recent call last):\n",
      "  File \"C:\\ProgramData\\Anaconda3\\lib\\site-packages\\sklearn\\model_selection\\_validation.py\", line 593, in _fit_and_score\n",
      "    estimator.fit(X_train, y_train, **fit_params)\n",
      "  File \"C:\\ProgramData\\Anaconda3\\lib\\site-packages\\sklearn\\tree\\_classes.py\", line 898, in fit\n",
      "    super().fit(\n",
      "  File \"C:\\ProgramData\\Anaconda3\\lib\\site-packages\\sklearn\\tree\\_classes.py\", line 237, in fit\n",
      "    raise ValueError(\"min_samples_split must be an integer \"\n",
      "ValueError: min_samples_split must be an integer greater than 1 or a float in (0.0, 1.0]; got the integer 1\n",
      "\n",
      "  warnings.warn(\"Estimator fit failed. The score on this train-test\"\n"
     ]
    },
    {
     "name": "stdout",
     "output_type": "stream",
     "text": [
      "[CV 3/3] END criterion=entropy, max_depth=4, max_features=sqrt, min_samples_leaf=5, min_samples_split=1, splitter=best; total time=   0.7s\n",
      "[CV 1/3] END criterion=gini, max_depth=4, max_features=sqrt, min_samples_leaf=7, min_samples_split=4, splitter=random; total time=   1.0s\n",
      "[CV 2/3] END criterion=gini, max_depth=4, max_features=sqrt, min_samples_leaf=7, min_samples_split=4, splitter=random; total time=   1.2s\n",
      "[CV 3/3] END criterion=gini, max_depth=4, max_features=sqrt, min_samples_leaf=7, min_samples_split=4, splitter=random; total time=   1.2s\n",
      "[CV 1/3] END criterion=entropy, max_depth=4, max_features=auto, min_samples_leaf=3, min_samples_split=4, splitter=best; total time=   1.5s\n",
      "[CV 2/3] END criterion=entropy, max_depth=4, max_features=auto, min_samples_leaf=3, min_samples_split=4, splitter=best; total time=   2.3s\n",
      "[CV 3/3] END criterion=entropy, max_depth=4, max_features=auto, min_samples_leaf=3, min_samples_split=4, splitter=best; total time=   1.9s\n",
      "[CV 1/3] END criterion=entropy, max_depth=6, max_features=auto, min_samples_leaf=5, min_samples_split=2, splitter=random; total time=   1.6s\n",
      "[CV 2/3] END criterion=entropy, max_depth=6, max_features=auto, min_samples_leaf=5, min_samples_split=2, splitter=random; total time=   1.5s\n",
      "[CV 3/3] END criterion=entropy, max_depth=6, max_features=auto, min_samples_leaf=5, min_samples_split=2, splitter=random; total time=   1.3s\n",
      "[CV 1/3] END criterion=gini, max_depth=2, max_features=auto, min_samples_leaf=5, min_samples_split=8, splitter=random; total time=   1.0s\n",
      "[CV 2/3] END criterion=gini, max_depth=2, max_features=auto, min_samples_leaf=5, min_samples_split=8, splitter=random; total time=   1.0s\n",
      "[CV 3/3] END criterion=gini, max_depth=2, max_features=auto, min_samples_leaf=5, min_samples_split=8, splitter=random; total time=   1.0s\n",
      "[CV 1/3] END criterion=gini, max_depth=8, max_features=None, min_samples_leaf=5, min_samples_split=4, splitter=best; total time=   8.1s\n",
      "[CV 2/3] END criterion=gini, max_depth=8, max_features=None, min_samples_leaf=5, min_samples_split=4, splitter=best; total time=   8.4s\n",
      "[CV 3/3] END criterion=gini, max_depth=8, max_features=None, min_samples_leaf=5, min_samples_split=4, splitter=best; total time=   8.6s\n",
      "[CV 1/3] END criterion=entropy, max_depth=6, max_features=sqrt, min_samples_leaf=5, min_samples_split=4, splitter=best; total time=   2.7s\n",
      "[CV 2/3] END criterion=entropy, max_depth=6, max_features=sqrt, min_samples_leaf=5, min_samples_split=4, splitter=best; total time=   2.6s\n",
      "[CV 3/3] END criterion=entropy, max_depth=6, max_features=sqrt, min_samples_leaf=5, min_samples_split=4, splitter=best; total time=   2.5s\n",
      "[CV 1/3] END criterion=entropy, max_depth=6, max_features=auto, min_samples_leaf=3, min_samples_split=4, splitter=best; total time=   2.4s\n",
      "[CV 2/3] END criterion=entropy, max_depth=6, max_features=auto, min_samples_leaf=3, min_samples_split=4, splitter=best; total time=   2.6s\n",
      "[CV 3/3] END criterion=entropy, max_depth=6, max_features=auto, min_samples_leaf=3, min_samples_split=4, splitter=best; total time=   3.1s\n",
      "[CV 1/3] END criterion=gini, max_depth=7, max_features=sqrt, min_samples_leaf=7, min_samples_split=8, splitter=random; total time=   2.7s\n",
      "[CV 2/3] END criterion=gini, max_depth=7, max_features=sqrt, min_samples_leaf=7, min_samples_split=8, splitter=random; total time=   2.0s\n",
      "[CV 3/3] END criterion=gini, max_depth=7, max_features=sqrt, min_samples_leaf=7, min_samples_split=8, splitter=random; total time=   1.8s\n"
     ]
    },
    {
     "name": "stderr",
     "output_type": "stream",
     "text": [
      "C:\\ProgramData\\Anaconda3\\lib\\site-packages\\sklearn\\model_selection\\_validation.py:610: FitFailedWarning: Estimator fit failed. The score on this train-test partition for these parameters will be set to nan. Details: \n",
      "Traceback (most recent call last):\n",
      "  File \"C:\\ProgramData\\Anaconda3\\lib\\site-packages\\sklearn\\model_selection\\_validation.py\", line 593, in _fit_and_score\n",
      "    estimator.fit(X_train, y_train, **fit_params)\n",
      "  File \"C:\\ProgramData\\Anaconda3\\lib\\site-packages\\sklearn\\tree\\_classes.py\", line 898, in fit\n",
      "    super().fit(\n",
      "  File \"C:\\ProgramData\\Anaconda3\\lib\\site-packages\\sklearn\\tree\\_classes.py\", line 237, in fit\n",
      "    raise ValueError(\"min_samples_split must be an integer \"\n",
      "ValueError: min_samples_split must be an integer greater than 1 or a float in (0.0, 1.0]; got the integer 1\n",
      "\n",
      "  warnings.warn(\"Estimator fit failed. The score on this train-test\"\n"
     ]
    },
    {
     "name": "stdout",
     "output_type": "stream",
     "text": [
      "[CV 1/3] END criterion=gini, max_depth=8, max_features=log2, min_samples_leaf=1, min_samples_split=1, splitter=random; total time=   0.8s\n"
     ]
    },
    {
     "name": "stderr",
     "output_type": "stream",
     "text": [
      "C:\\ProgramData\\Anaconda3\\lib\\site-packages\\sklearn\\model_selection\\_validation.py:610: FitFailedWarning: Estimator fit failed. The score on this train-test partition for these parameters will be set to nan. Details: \n",
      "Traceback (most recent call last):\n",
      "  File \"C:\\ProgramData\\Anaconda3\\lib\\site-packages\\sklearn\\model_selection\\_validation.py\", line 593, in _fit_and_score\n",
      "    estimator.fit(X_train, y_train, **fit_params)\n",
      "  File \"C:\\ProgramData\\Anaconda3\\lib\\site-packages\\sklearn\\tree\\_classes.py\", line 898, in fit\n",
      "    super().fit(\n",
      "  File \"C:\\ProgramData\\Anaconda3\\lib\\site-packages\\sklearn\\tree\\_classes.py\", line 237, in fit\n",
      "    raise ValueError(\"min_samples_split must be an integer \"\n",
      "ValueError: min_samples_split must be an integer greater than 1 or a float in (0.0, 1.0]; got the integer 1\n",
      "\n",
      "  warnings.warn(\"Estimator fit failed. The score on this train-test\"\n"
     ]
    },
    {
     "name": "stdout",
     "output_type": "stream",
     "text": [
      "[CV 2/3] END criterion=gini, max_depth=8, max_features=log2, min_samples_leaf=1, min_samples_split=1, splitter=random; total time=   0.8s\n"
     ]
    },
    {
     "name": "stderr",
     "output_type": "stream",
     "text": [
      "C:\\ProgramData\\Anaconda3\\lib\\site-packages\\sklearn\\model_selection\\_validation.py:610: FitFailedWarning: Estimator fit failed. The score on this train-test partition for these parameters will be set to nan. Details: \n",
      "Traceback (most recent call last):\n",
      "  File \"C:\\ProgramData\\Anaconda3\\lib\\site-packages\\sklearn\\model_selection\\_validation.py\", line 593, in _fit_and_score\n",
      "    estimator.fit(X_train, y_train, **fit_params)\n",
      "  File \"C:\\ProgramData\\Anaconda3\\lib\\site-packages\\sklearn\\tree\\_classes.py\", line 898, in fit\n",
      "    super().fit(\n",
      "  File \"C:\\ProgramData\\Anaconda3\\lib\\site-packages\\sklearn\\tree\\_classes.py\", line 237, in fit\n",
      "    raise ValueError(\"min_samples_split must be an integer \"\n",
      "ValueError: min_samples_split must be an integer greater than 1 or a float in (0.0, 1.0]; got the integer 1\n",
      "\n",
      "  warnings.warn(\"Estimator fit failed. The score on this train-test\"\n"
     ]
    },
    {
     "name": "stdout",
     "output_type": "stream",
     "text": [
      "[CV 3/3] END criterion=gini, max_depth=8, max_features=log2, min_samples_leaf=1, min_samples_split=1, splitter=random; total time=   0.8s\n",
      "[CV 1/3] END criterion=gini, max_depth=4, max_features=log2, min_samples_leaf=7, min_samples_split=6, splitter=random; total time=   1.5s\n",
      "[CV 2/3] END criterion=gini, max_depth=4, max_features=log2, min_samples_leaf=7, min_samples_split=6, splitter=random; total time=   1.2s\n",
      "[CV 3/3] END criterion=gini, max_depth=4, max_features=log2, min_samples_leaf=7, min_samples_split=6, splitter=random; total time=   1.0s\n",
      "[CV 1/3] END criterion=gini, max_depth=8, max_features=None, min_samples_leaf=5, min_samples_split=2, splitter=best; total time=   8.2s\n",
      "[CV 2/3] END criterion=gini, max_depth=8, max_features=None, min_samples_leaf=5, min_samples_split=2, splitter=best; total time=   8.5s\n",
      "[CV 3/3] END criterion=gini, max_depth=8, max_features=None, min_samples_leaf=5, min_samples_split=2, splitter=best; total time=   8.3s\n",
      "[CV 1/3] END criterion=gini, max_depth=8, max_features=log2, min_samples_leaf=3, min_samples_split=6, splitter=random; total time=   1.2s\n",
      "[CV 2/3] END criterion=gini, max_depth=8, max_features=log2, min_samples_leaf=3, min_samples_split=6, splitter=random; total time=   1.2s\n",
      "[CV 3/3] END criterion=gini, max_depth=8, max_features=log2, min_samples_leaf=3, min_samples_split=6, splitter=random; total time=   1.2s\n",
      "[CV 1/3] END criterion=entropy, max_depth=5, max_features=auto, min_samples_leaf=7, min_samples_split=2, splitter=random; total time=   1.2s\n",
      "[CV 2/3] END criterion=entropy, max_depth=5, max_features=auto, min_samples_leaf=7, min_samples_split=2, splitter=random; total time=   1.2s\n",
      "[CV 3/3] END criterion=entropy, max_depth=5, max_features=auto, min_samples_leaf=7, min_samples_split=2, splitter=random; total time=   1.1s\n",
      "[CV 1/3] END criterion=entropy, max_depth=5, max_features=sqrt, min_samples_leaf=3, min_samples_split=8, splitter=best; total time=   1.5s\n",
      "[CV 2/3] END criterion=entropy, max_depth=5, max_features=sqrt, min_samples_leaf=3, min_samples_split=8, splitter=best; total time=   1.5s\n",
      "[CV 3/3] END criterion=entropy, max_depth=5, max_features=sqrt, min_samples_leaf=3, min_samples_split=8, splitter=best; total time=   1.4s\n",
      "[CV 1/3] END criterion=entropy, max_depth=8, max_features=auto, min_samples_leaf=7, min_samples_split=8, splitter=best; total time=   1.9s\n",
      "[CV 2/3] END criterion=entropy, max_depth=8, max_features=auto, min_samples_leaf=7, min_samples_split=8, splitter=best; total time=   2.1s\n",
      "[CV 3/3] END criterion=entropy, max_depth=8, max_features=auto, min_samples_leaf=7, min_samples_split=8, splitter=best; total time=   2.1s\n",
      "[CV 1/3] END criterion=entropy, max_depth=4, max_features=auto, min_samples_leaf=1, min_samples_split=4, splitter=best; total time=   1.7s\n",
      "[CV 2/3] END criterion=entropy, max_depth=4, max_features=auto, min_samples_leaf=1, min_samples_split=4, splitter=best; total time=   1.6s\n",
      "[CV 3/3] END criterion=entropy, max_depth=4, max_features=auto, min_samples_leaf=1, min_samples_split=4, splitter=best; total time=   1.5s\n",
      "[CV 1/3] END criterion=gini, max_depth=4, max_features=None, min_samples_leaf=3, min_samples_split=6, splitter=random; total time=   3.1s\n",
      "[CV 2/3] END criterion=gini, max_depth=4, max_features=None, min_samples_leaf=3, min_samples_split=6, splitter=random; total time=   3.3s\n",
      "[CV 3/3] END criterion=gini, max_depth=4, max_features=None, min_samples_leaf=3, min_samples_split=6, splitter=random; total time=   3.1s\n",
      "[CV 1/3] END criterion=gini, max_depth=2, max_features=None, min_samples_leaf=3, min_samples_split=4, splitter=random; total time=   1.9s\n",
      "[CV 2/3] END criterion=gini, max_depth=2, max_features=None, min_samples_leaf=3, min_samples_split=4, splitter=random; total time=   1.8s\n",
      "[CV 3/3] END criterion=gini, max_depth=2, max_features=None, min_samples_leaf=3, min_samples_split=4, splitter=random; total time=   1.9s\n",
      "[CV 1/3] END criterion=entropy, max_depth=5, max_features=auto, min_samples_leaf=3, min_samples_split=2, splitter=random; total time=   1.3s\n",
      "[CV 2/3] END criterion=entropy, max_depth=5, max_features=auto, min_samples_leaf=3, min_samples_split=2, splitter=random; total time=   1.5s\n",
      "[CV 3/3] END criterion=entropy, max_depth=5, max_features=auto, min_samples_leaf=3, min_samples_split=2, splitter=random; total time=   1.3s\n",
      "[CV 1/3] END criterion=gini, max_depth=4, max_features=auto, min_samples_leaf=7, min_samples_split=6, splitter=best; total time=   1.4s\n",
      "[CV 2/3] END criterion=gini, max_depth=4, max_features=auto, min_samples_leaf=7, min_samples_split=6, splitter=best; total time=   1.5s\n",
      "[CV 3/3] END criterion=gini, max_depth=4, max_features=auto, min_samples_leaf=7, min_samples_split=6, splitter=best; total time=   1.4s\n",
      "[CV 1/3] END criterion=entropy, max_depth=7, max_features=sqrt, min_samples_leaf=3, min_samples_split=6, splitter=random; total time=   1.4s\n",
      "[CV 2/3] END criterion=entropy, max_depth=7, max_features=sqrt, min_samples_leaf=3, min_samples_split=6, splitter=random; total time=   1.4s\n",
      "[CV 3/3] END criterion=entropy, max_depth=7, max_features=sqrt, min_samples_leaf=3, min_samples_split=6, splitter=random; total time=   1.3s\n",
      "[CV 1/3] END criterion=entropy, max_depth=8, max_features=auto, min_samples_leaf=7, min_samples_split=6, splitter=best; total time=   1.9s\n",
      "[CV 2/3] END criterion=entropy, max_depth=8, max_features=auto, min_samples_leaf=7, min_samples_split=6, splitter=best; total time=   1.8s\n",
      "[CV 3/3] END criterion=entropy, max_depth=8, max_features=auto, min_samples_leaf=7, min_samples_split=6, splitter=best; total time=   1.9s\n"
     ]
    },
    {
     "name": "stderr",
     "output_type": "stream",
     "text": [
      "C:\\ProgramData\\Anaconda3\\lib\\site-packages\\sklearn\\model_selection\\_search.py:918: UserWarning: One or more of the test scores are non-finite: [0.91437243        nan        nan 0.64011511 0.91437243 0.91437243\n",
      " 0.64559978 0.85861257 0.78236719 0.91436533 0.91437142 0.91437243\n",
      "        nan        nan 0.90867569        nan        nan 0.91437243\n",
      "        nan 0.91437243        nan        nan 0.91436025 0.91603457\n",
      " 0.91594122 0.85053627 0.63821553        nan 0.91437243 0.91589352\n",
      " 0.81523963 0.91437243 0.8363411  0.91437243        nan 0.91437243\n",
      " 0.91437243        nan 0.63821654 0.91442723        nan 0.93416488\n",
      " 0.91433286 0.65390541 0.91436837 0.89616194        nan 0.91445462\n",
      " 0.91437243 0.91323082        nan 0.91437142 0.83303001        nan\n",
      " 0.91436736 0.91436939 0.9195892  0.91436228        nan 0.91437243\n",
      " 0.92238479 0.91239978 0.91466772 0.83709607 0.9143704  0.91437243\n",
      "        nan 0.91439476 0.922192   0.93416488 0.91438867 0.91437243\n",
      " 0.91435924 0.88966254 0.91435417        nan 0.91437243        nan\n",
      " 0.91437243 0.91437243 0.91436837 0.91437243 0.91322777 0.91449623\n",
      " 0.9015431  0.91437243        nan 0.91437243 0.9132298  0.91436127\n",
      " 0.91436634 0.91131807 0.86517793 0.901812   0.91673981 0.91437243\n",
      " 0.91437243 0.91410251 0.91437548 0.83467592]\n",
      "  warnings.warn(\n"
     ]
    }
   ],
   "source": [
    "model = DecisionTreeClassifier()\n",
    "\n",
    "parameters = {\n",
    "    'criterion'         : ['gini', 'entropy'],\n",
    "    'splitter'          : ['best', 'random'],\n",
    "    'max_depth'         : [2, 4, 5, 6, 7, 8],\n",
    "    'min_samples_leaf'  : [1, 3, 5, 7],\n",
    "    'min_samples_split' : [1, 2, 4, 6, 8],\n",
    "    'max_features'      : ['auto', 'log2', 'sqrt', None],\n",
    "}\n",
    "\n",
    "tuning_model = RandomizedSearchCV(\n",
    "    model, parameters, n_iter=100,\n",
    "    cv=3, verbose=3, random_state=42\n",
    ")\n",
    "\n",
    "start_time = timer(None)\n",
    "tuning_model.fit(X1, y1)\n",
    "timer(start_time)"
   ]
  },
  {
   "cell_type": "code",
   "execution_count": 123,
   "id": "8da03c16",
   "metadata": {},
   "outputs": [
    {
     "data": {
      "text/plain": [
       "{'splitter': 'best',\n",
       " 'min_samples_split': 2,\n",
       " 'min_samples_leaf': 3,\n",
       " 'max_features': None,\n",
       " 'max_depth': 6,\n",
       " 'criterion': 'entropy'}"
      ]
     },
     "execution_count": 123,
     "metadata": {},
     "output_type": "execute_result"
    }
   ],
   "source": [
    "tuning_model.best_params_\n"
   ]
  },
  {
   "cell_type": "code",
   "execution_count": 124,
   "id": "ea0f3426",
   "metadata": {},
   "outputs": [
    {
     "data": {
      "text/plain": [
       "0.9341648766547185"
      ]
     },
     "execution_count": 124,
     "metadata": {},
     "output_type": "execute_result"
    }
   ],
   "source": [
    "tuning_model.best_score_"
   ]
  },
  {
   "cell_type": "code",
   "execution_count": 125,
   "id": "5d1cfa54",
   "metadata": {},
   "outputs": [],
   "source": [
    "dtc1 = DecisionTreeClassifier(\n",
    "    splitter = 'best',\n",
    "    min_samples_split = 4,\n",
    "    min_samples_leaf = 7,\n",
    "    max_features = None,\n",
    "    max_depth = 6,\n",
    "    criterion = 'gini'\n",
    ")\n",
    "dtc1 = dtc1.fit(X1_train, y1_train)\n",
    "\n",
    "y1_train_pred = dtc1.predict(X1_train)\n",
    "y1_test_pred = dtc1.predict(X1_test)\n",
    "\n",
    "probs1_test = dtc1.predict_proba(X1_test)\n",
    "probs1_train = dtc1.predict_proba(X1_train)\n",
    "\n",
    "preds_test_dtc1 = probs1_test[:, 1]\n",
    "preds_train_dtc1 = probs1_train[:, 1]"
   ]
  },
  {
   "cell_type": "code",
   "execution_count": 126,
   "id": "41df5b78",
   "metadata": {},
   "outputs": [
    {
     "name": "stdout",
     "output_type": "stream",
     "text": [
      "Decision tree\n",
      "f1 test          0.441479\n",
      "f1 train         0.439915\n",
      "AUC-ROC test      0.92256\n",
      "AUC-ROC train    0.922415\n",
      "Name: Decision tree, dtype: object\n"
     ]
    },
    {
     "data": {
      "image/png": "[encoded data removed]",
      "text/plain": [
       "<Figure size 576x360 with 1 Axes>"
      ]
     },
     "metadata": {
      "needs_background": "light"
     },
     "output_type": "display_data"
    }
   ],
   "source": [
    "print('Decision tree')\n",
    "\n",
    "results.loc[('Target2', 'f1 test'), 'Decision tree'] = f1_score(y1_test, y1_test_pred)\n",
    "results.loc[('Target2', 'f1 train'), 'Decision tree'] = f1_score(y1_train, y1_train_pred)\n",
    "results.loc[('Target2', 'AUC-ROC test'), 'Decision tree'] = roc_auc_score(y1_test, preds_test_dtc1)\n",
    "results.loc[('Target2', 'AUC-ROC train'), 'Decision tree'] = roc_auc_score(y1_train, preds_train_dtc1)\n",
    "\n",
    "print(results.loc['Target2', 'Decision tree'])\n",
    "\n",
    "fpr1, tpr1, _ = roc_curve(y1_test, preds_test_dtc1, drop_intermediate=False)\n",
    "\n",
    "plt.figure(figsize=(8, 5))\n",
    "plt.clf()\n",
    "plt.plot(fpr1, tpr1)\n",
    "plt.xlabel('FPR')\n",
    "plt.ylabel('TPR')\n",
    "plt.title('ROC curve Target2 decision tree')\n",
    "plt.show()"
   ]
  },
  {
   "cell_type": "markdown",
   "id": "46111ece",
   "metadata": {},
   "source": [
    "# Случайный лес"
   ]
  },
  {
   "cell_type": "code",
   "execution_count": 127,
   "id": "7e716ba2",
   "metadata": {},
   "outputs": [
    {
     "name": "stdout",
     "output_type": "stream",
     "text": [
      "Fitting 3 folds for each of 10 candidates, totalling 30 fits\n"
     ]
    },
    {
     "name": "stderr",
     "output_type": "stream",
     "text": [
      "C:\\ProgramData\\Anaconda3\\lib\\site-packages\\sklearn\\model_selection\\_validation.py:593: DataConversionWarning: A column-vector y was passed when a 1d array was expected. Please change the shape of y to (n_samples,), for example using ravel().\n",
      "  estimator.fit(X_train, y_train, **fit_params)\n"
     ]
    },
    {
     "name": "stdout",
     "output_type": "stream",
     "text": [
      "[CV 1/3] END ...................max_depth=3, n_estimators=50; total time=  22.1s\n"
     ]
    },
    {
     "name": "stderr",
     "output_type": "stream",
     "text": [
      "C:\\ProgramData\\Anaconda3\\lib\\site-packages\\sklearn\\model_selection\\_validation.py:593: DataConversionWarning: A column-vector y was passed when a 1d array was expected. Please change the shape of y to (n_samples,), for example using ravel().\n",
      "  estimator.fit(X_train, y_train, **fit_params)\n"
     ]
    },
    {
     "name": "stdout",
     "output_type": "stream",
     "text": [
      "[CV 2/3] END ...................max_depth=3, n_estimators=50; total time=  21.7s\n"
     ]
    },
    {
     "name": "stderr",
     "output_type": "stream",
     "text": [
      "C:\\ProgramData\\Anaconda3\\lib\\site-packages\\sklearn\\model_selection\\_validation.py:593: DataConversionWarning: A column-vector y was passed when a 1d array was expected. Please change the shape of y to (n_samples,), for example using ravel().\n",
      "  estimator.fit(X_train, y_train, **fit_params)\n"
     ]
    },
    {
     "name": "stdout",
     "output_type": "stream",
     "text": [
      "[CV 3/3] END ...................max_depth=3, n_estimators=50; total time=  19.5s\n"
     ]
    },
    {
     "name": "stderr",
     "output_type": "stream",
     "text": [
      "C:\\ProgramData\\Anaconda3\\lib\\site-packages\\sklearn\\model_selection\\_validation.py:593: DataConversionWarning: A column-vector y was passed when a 1d array was expected. Please change the shape of y to (n_samples,), for example using ravel().\n",
      "  estimator.fit(X_train, y_train, **fit_params)\n"
     ]
    },
    {
     "name": "stdout",
     "output_type": "stream",
     "text": [
      "[CV 1/3] END ..................max_depth=3, n_estimators=100; total time=  37.6s\n"
     ]
    },
    {
     "name": "stderr",
     "output_type": "stream",
     "text": [
      "C:\\ProgramData\\Anaconda3\\lib\\site-packages\\sklearn\\model_selection\\_validation.py:593: DataConversionWarning: A column-vector y was passed when a 1d array was expected. Please change the shape of y to (n_samples,), for example using ravel().\n",
      "  estimator.fit(X_train, y_train, **fit_params)\n"
     ]
    },
    {
     "name": "stdout",
     "output_type": "stream",
     "text": [
      "[CV 2/3] END ..................max_depth=3, n_estimators=100; total time=  38.1s\n"
     ]
    },
    {
     "name": "stderr",
     "output_type": "stream",
     "text": [
      "C:\\ProgramData\\Anaconda3\\lib\\site-packages\\sklearn\\model_selection\\_validation.py:593: DataConversionWarning: A column-vector y was passed when a 1d array was expected. Please change the shape of y to (n_samples,), for example using ravel().\n",
      "  estimator.fit(X_train, y_train, **fit_params)\n"
     ]
    },
    {
     "name": "stdout",
     "output_type": "stream",
     "text": [
      "[CV 3/3] END ..................max_depth=3, n_estimators=100; total time=  46.6s\n"
     ]
    },
    {
     "name": "stderr",
     "output_type": "stream",
     "text": [
      "C:\\ProgramData\\Anaconda3\\lib\\site-packages\\sklearn\\model_selection\\_validation.py:593: DataConversionWarning: A column-vector y was passed when a 1d array was expected. Please change the shape of y to (n_samples,), for example using ravel().\n",
      "  estimator.fit(X_train, y_train, **fit_params)\n"
     ]
    },
    {
     "name": "stdout",
     "output_type": "stream",
     "text": [
      "[CV 1/3] END ..................max_depth=5, n_estimators=100; total time= 1.4min\n"
     ]
    },
    {
     "name": "stderr",
     "output_type": "stream",
     "text": [
      "C:\\ProgramData\\Anaconda3\\lib\\site-packages\\sklearn\\model_selection\\_validation.py:593: DataConversionWarning: A column-vector y was passed when a 1d array was expected. Please change the shape of y to (n_samples,), for example using ravel().\n",
      "  estimator.fit(X_train, y_train, **fit_params)\n"
     ]
    },
    {
     "name": "stdout",
     "output_type": "stream",
     "text": [
      "[CV 2/3] END ..................max_depth=5, n_estimators=100; total time= 1.3min\n"
     ]
    },
    {
     "name": "stderr",
     "output_type": "stream",
     "text": [
      "C:\\ProgramData\\Anaconda3\\lib\\site-packages\\sklearn\\model_selection\\_validation.py:593: DataConversionWarning: A column-vector y was passed when a 1d array was expected. Please change the shape of y to (n_samples,), for example using ravel().\n",
      "  estimator.fit(X_train, y_train, **fit_params)\n"
     ]
    },
    {
     "name": "stdout",
     "output_type": "stream",
     "text": [
      "[CV 3/3] END ..................max_depth=5, n_estimators=100; total time= 1.1min\n"
     ]
    },
    {
     "name": "stderr",
     "output_type": "stream",
     "text": [
      "C:\\ProgramData\\Anaconda3\\lib\\site-packages\\sklearn\\model_selection\\_validation.py:593: DataConversionWarning: A column-vector y was passed when a 1d array was expected. Please change the shape of y to (n_samples,), for example using ravel().\n",
      "  estimator.fit(X_train, y_train, **fit_params)\n"
     ]
    },
    {
     "name": "stdout",
     "output_type": "stream",
     "text": [
      "[CV 1/3] END ...............max_depth=None, n_estimators=200; total time= 9.1min\n"
     ]
    },
    {
     "name": "stderr",
     "output_type": "stream",
     "text": [
      "C:\\ProgramData\\Anaconda3\\lib\\site-packages\\sklearn\\model_selection\\_validation.py:593: DataConversionWarning: A column-vector y was passed when a 1d array was expected. Please change the shape of y to (n_samples,), for example using ravel().\n",
      "  estimator.fit(X_train, y_train, **fit_params)\n"
     ]
    },
    {
     "name": "stdout",
     "output_type": "stream",
     "text": [
      "[CV 2/3] END ...............max_depth=None, n_estimators=200; total time= 9.5min\n"
     ]
    },
    {
     "name": "stderr",
     "output_type": "stream",
     "text": [
      "C:\\ProgramData\\Anaconda3\\lib\\site-packages\\sklearn\\model_selection\\_validation.py:593: DataConversionWarning: A column-vector y was passed when a 1d array was expected. Please change the shape of y to (n_samples,), for example using ravel().\n",
      "  estimator.fit(X_train, y_train, **fit_params)\n"
     ]
    },
    {
     "name": "stdout",
     "output_type": "stream",
     "text": [
      "[CV 3/3] END ...............max_depth=None, n_estimators=200; total time= 9.6min\n"
     ]
    },
    {
     "name": "stderr",
     "output_type": "stream",
     "text": [
      "C:\\ProgramData\\Anaconda3\\lib\\site-packages\\sklearn\\model_selection\\_validation.py:593: DataConversionWarning: A column-vector y was passed when a 1d array was expected. Please change the shape of y to (n_samples,), for example using ravel().\n",
      "  estimator.fit(X_train, y_train, **fit_params)\n"
     ]
    },
    {
     "name": "stdout",
     "output_type": "stream",
     "text": [
      "[CV 1/3] END ...............max_depth=None, n_estimators=100; total time= 4.6min\n"
     ]
    },
    {
     "name": "stderr",
     "output_type": "stream",
     "text": [
      "C:\\ProgramData\\Anaconda3\\lib\\site-packages\\sklearn\\model_selection\\_validation.py:593: DataConversionWarning: A column-vector y was passed when a 1d array was expected. Please change the shape of y to (n_samples,), for example using ravel().\n",
      "  estimator.fit(X_train, y_train, **fit_params)\n"
     ]
    },
    {
     "name": "stdout",
     "output_type": "stream",
     "text": [
      "[CV 2/3] END ...............max_depth=None, n_estimators=100; total time= 4.7min\n"
     ]
    },
    {
     "name": "stderr",
     "output_type": "stream",
     "text": [
      "C:\\ProgramData\\Anaconda3\\lib\\site-packages\\sklearn\\model_selection\\_validation.py:593: DataConversionWarning: A column-vector y was passed when a 1d array was expected. Please change the shape of y to (n_samples,), for example using ravel().\n",
      "  estimator.fit(X_train, y_train, **fit_params)\n"
     ]
    },
    {
     "name": "stdout",
     "output_type": "stream",
     "text": [
      "[CV 3/3] END ...............max_depth=None, n_estimators=100; total time= 4.9min\n"
     ]
    },
    {
     "name": "stderr",
     "output_type": "stream",
     "text": [
      "C:\\ProgramData\\Anaconda3\\lib\\site-packages\\sklearn\\model_selection\\_validation.py:593: DataConversionWarning: A column-vector y was passed when a 1d array was expected. Please change the shape of y to (n_samples,), for example using ravel().\n",
      "  estimator.fit(X_train, y_train, **fit_params)\n"
     ]
    },
    {
     "name": "stdout",
     "output_type": "stream",
     "text": [
      "[CV 1/3] END .................max_depth=10, n_estimators=500; total time= 9.9min\n"
     ]
    },
    {
     "name": "stderr",
     "output_type": "stream",
     "text": [
      "C:\\ProgramData\\Anaconda3\\lib\\site-packages\\sklearn\\model_selection\\_validation.py:593: DataConversionWarning: A column-vector y was passed when a 1d array was expected. Please change the shape of y to (n_samples,), for example using ravel().\n",
      "  estimator.fit(X_train, y_train, **fit_params)\n"
     ]
    },
    {
     "name": "stdout",
     "output_type": "stream",
     "text": [
      "[CV 2/3] END .................max_depth=10, n_estimators=500; total time=10.1min\n"
     ]
    },
    {
     "name": "stderr",
     "output_type": "stream",
     "text": [
      "C:\\ProgramData\\Anaconda3\\lib\\site-packages\\sklearn\\model_selection\\_validation.py:593: DataConversionWarning: A column-vector y was passed when a 1d array was expected. Please change the shape of y to (n_samples,), for example using ravel().\n",
      "  estimator.fit(X_train, y_train, **fit_params)\n"
     ]
    },
    {
     "name": "stdout",
     "output_type": "stream",
     "text": [
      "[CV 3/3] END .................max_depth=10, n_estimators=500; total time= 9.8min\n"
     ]
    },
    {
     "name": "stderr",
     "output_type": "stream",
     "text": [
      "C:\\ProgramData\\Anaconda3\\lib\\site-packages\\sklearn\\model_selection\\_validation.py:593: DataConversionWarning: A column-vector y was passed when a 1d array was expected. Please change the shape of y to (n_samples,), for example using ravel().\n",
      "  estimator.fit(X_train, y_train, **fit_params)\n"
     ]
    },
    {
     "name": "stdout",
     "output_type": "stream",
     "text": [
      "[CV 1/3] END ..................max_depth=10, n_estimators=50; total time= 1.1min\n"
     ]
    },
    {
     "name": "stderr",
     "output_type": "stream",
     "text": [
      "C:\\ProgramData\\Anaconda3\\lib\\site-packages\\sklearn\\model_selection\\_validation.py:593: DataConversionWarning: A column-vector y was passed when a 1d array was expected. Please change the shape of y to (n_samples,), for example using ravel().\n",
      "  estimator.fit(X_train, y_train, **fit_params)\n"
     ]
    },
    {
     "name": "stdout",
     "output_type": "stream",
     "text": [
      "[CV 2/3] END ..................max_depth=10, n_estimators=50; total time=  58.6s\n"
     ]
    },
    {
     "name": "stderr",
     "output_type": "stream",
     "text": [
      "C:\\ProgramData\\Anaconda3\\lib\\site-packages\\sklearn\\model_selection\\_validation.py:593: DataConversionWarning: A column-vector y was passed when a 1d array was expected. Please change the shape of y to (n_samples,), for example using ravel().\n",
      "  estimator.fit(X_train, y_train, **fit_params)\n"
     ]
    },
    {
     "name": "stdout",
     "output_type": "stream",
     "text": [
      "[CV 3/3] END ..................max_depth=10, n_estimators=50; total time= 1.2min\n"
     ]
    },
    {
     "name": "stderr",
     "output_type": "stream",
     "text": [
      "C:\\ProgramData\\Anaconda3\\lib\\site-packages\\sklearn\\model_selection\\_validation.py:593: DataConversionWarning: A column-vector y was passed when a 1d array was expected. Please change the shape of y to (n_samples,), for example using ravel().\n",
      "  estimator.fit(X_train, y_train, **fit_params)\n"
     ]
    },
    {
     "name": "stdout",
     "output_type": "stream",
     "text": [
      "[CV 1/3] END .................max_depth=10, n_estimators=100; total time= 1.8min\n"
     ]
    },
    {
     "name": "stderr",
     "output_type": "stream",
     "text": [
      "C:\\ProgramData\\Anaconda3\\lib\\site-packages\\sklearn\\model_selection\\_validation.py:593: DataConversionWarning: A column-vector y was passed when a 1d array was expected. Please change the shape of y to (n_samples,), for example using ravel().\n",
      "  estimator.fit(X_train, y_train, **fit_params)\n"
     ]
    },
    {
     "name": "stdout",
     "output_type": "stream",
     "text": [
      "[CV 2/3] END .................max_depth=10, n_estimators=100; total time= 1.8min\n"
     ]
    },
    {
     "name": "stderr",
     "output_type": "stream",
     "text": [
      "C:\\ProgramData\\Anaconda3\\lib\\site-packages\\sklearn\\model_selection\\_validation.py:593: DataConversionWarning: A column-vector y was passed when a 1d array was expected. Please change the shape of y to (n_samples,), for example using ravel().\n",
      "  estimator.fit(X_train, y_train, **fit_params)\n"
     ]
    },
    {
     "name": "stdout",
     "output_type": "stream",
     "text": [
      "[CV 3/3] END .................max_depth=10, n_estimators=100; total time= 1.8min\n"
     ]
    },
    {
     "name": "stderr",
     "output_type": "stream",
     "text": [
      "C:\\ProgramData\\Anaconda3\\lib\\site-packages\\sklearn\\model_selection\\_validation.py:593: DataConversionWarning: A column-vector y was passed when a 1d array was expected. Please change the shape of y to (n_samples,), for example using ravel().\n",
      "  estimator.fit(X_train, y_train, **fit_params)\n"
     ]
    },
    {
     "name": "stdout",
     "output_type": "stream",
     "text": [
      "[CV 1/3] END ..................max_depth=3, n_estimators=200; total time= 1.3min\n"
     ]
    },
    {
     "name": "stderr",
     "output_type": "stream",
     "text": [
      "C:\\ProgramData\\Anaconda3\\lib\\site-packages\\sklearn\\model_selection\\_validation.py:593: DataConversionWarning: A column-vector y was passed when a 1d array was expected. Please change the shape of y to (n_samples,), for example using ravel().\n",
      "  estimator.fit(X_train, y_train, **fit_params)\n"
     ]
    },
    {
     "name": "stdout",
     "output_type": "stream",
     "text": [
      "[CV 2/3] END ..................max_depth=3, n_estimators=200; total time= 1.2min\n"
     ]
    },
    {
     "name": "stderr",
     "output_type": "stream",
     "text": [
      "C:\\ProgramData\\Anaconda3\\lib\\site-packages\\sklearn\\model_selection\\_validation.py:593: DataConversionWarning: A column-vector y was passed when a 1d array was expected. Please change the shape of y to (n_samples,), for example using ravel().\n",
      "  estimator.fit(X_train, y_train, **fit_params)\n"
     ]
    },
    {
     "name": "stdout",
     "output_type": "stream",
     "text": [
      "[CV 3/3] END ..................max_depth=3, n_estimators=200; total time= 1.2min\n"
     ]
    },
    {
     "name": "stderr",
     "output_type": "stream",
     "text": [
      "C:\\ProgramData\\Anaconda3\\lib\\site-packages\\sklearn\\model_selection\\_validation.py:593: DataConversionWarning: A column-vector y was passed when a 1d array was expected. Please change the shape of y to (n_samples,), for example using ravel().\n",
      "  estimator.fit(X_train, y_train, **fit_params)\n",
      "C:\\ProgramData\\Anaconda3\\lib\\site-packages\\sklearn\\model_selection\\_validation.py:610: FitFailedWarning: Estimator fit failed. The score on this train-test partition for these parameters will be set to nan. Details: \n",
      "Traceback (most recent call last):\n",
      "  File \"C:\\ProgramData\\Anaconda3\\lib\\site-packages\\sklearn\\model_selection\\_validation.py\", line 593, in _fit_and_score\n",
      "    estimator.fit(X_train, y_train, **fit_params)\n",
      "  File \"C:\\ProgramData\\Anaconda3\\lib\\site-packages\\sklearn\\ensemble\\_forest.py\", line 387, in fit\n",
      "    trees = Parallel(n_jobs=self.n_jobs, verbose=self.verbose,\n",
      "  File \"C:\\ProgramData\\Anaconda3\\lib\\site-packages\\joblib\\parallel.py\", line 1044, in __call__\n",
      "    while self.dispatch_one_batch(iterator):\n",
      "  File \"C:\\ProgramData\\Anaconda3\\lib\\site-packages\\joblib\\parallel.py\", line 859, in dispatch_one_batch\n",
      "    self._dispatch(tasks)\n",
      "  File \"C:\\ProgramData\\Anaconda3\\lib\\site-packages\\joblib\\parallel.py\", line 777, in _dispatch\n",
      "    job = self._backend.apply_async(batch, callback=cb)\n",
      "  File \"C:\\ProgramData\\Anaconda3\\lib\\site-packages\\joblib\\_parallel_backends.py\", line 208, in apply_async\n",
      "    result = ImmediateResult(func)\n",
      "  File \"C:\\ProgramData\\Anaconda3\\lib\\site-packages\\joblib\\_parallel_backends.py\", line 572, in __init__\n",
      "    self.results = batch()\n",
      "  File \"C:\\ProgramData\\Anaconda3\\lib\\site-packages\\joblib\\parallel.py\", line 262, in __call__\n",
      "    return [func(*args, **kwargs)\n",
      "  File \"C:\\ProgramData\\Anaconda3\\lib\\site-packages\\joblib\\parallel.py\", line 262, in <listcomp>\n",
      "    return [func(*args, **kwargs)\n",
      "  File \"C:\\ProgramData\\Anaconda3\\lib\\site-packages\\sklearn\\utils\\fixes.py\", line 222, in __call__\n",
      "    return self.function(*args, **kwargs)\n",
      "  File \"C:\\ProgramData\\Anaconda3\\lib\\site-packages\\sklearn\\ensemble\\_forest.py\", line 169, in _parallel_build_trees\n",
      "    tree.fit(X, y, sample_weight=curr_sample_weight, check_input=False)\n",
      "  File \"C:\\ProgramData\\Anaconda3\\lib\\site-packages\\sklearn\\tree\\_classes.py\", line 898, in fit\n",
      "    super().fit(\n",
      "  File \"C:\\ProgramData\\Anaconda3\\lib\\site-packages\\sklearn\\tree\\_classes.py\", line 201, in fit\n",
      "    classes_k, y_encoded[:, k] = np.unique(y[:, k],\n",
      "  File \"<__array_function__ internals>\", line 5, in unique\n",
      "  File \"C:\\ProgramData\\Anaconda3\\lib\\site-packages\\numpy\\lib\\arraysetops.py\", line 262, in unique\n",
      "    ret = _unique1d(ar, return_index, return_inverse, return_counts)\n",
      "  File \"C:\\ProgramData\\Anaconda3\\lib\\site-packages\\numpy\\lib\\arraysetops.py\", line 333, in _unique1d\n",
      "    imask = np.cumsum(mask) - 1\n",
      "  File \"<__array_function__ internals>\", line 5, in cumsum\n",
      "  File \"C:\\ProgramData\\Anaconda3\\lib\\site-packages\\numpy\\core\\fromnumeric.py\", line 2511, in cumsum\n",
      "    return _wrapfunc(a, 'cumsum', axis=axis, dtype=dtype, out=out)\n",
      "  File \"C:\\ProgramData\\Anaconda3\\lib\\site-packages\\numpy\\core\\fromnumeric.py\", line 58, in _wrapfunc\n",
      "    return bound(*args, **kwds)\n",
      "numpy.core._exceptions._ArrayMemoryError: Unable to allocate 2.51 MiB for an array with shape (656984,) and data type int32\n",
      "\n",
      "  warnings.warn(\"Estimator fit failed. The score on this train-test\"\n"
     ]
    },
    {
     "name": "stdout",
     "output_type": "stream",
     "text": [
      "[CV 1/3] END ...............max_depth=None, n_estimators=500; total time=15.0min\n"
     ]
    },
    {
     "name": "stderr",
     "output_type": "stream",
     "text": [
      "C:\\ProgramData\\Anaconda3\\lib\\site-packages\\sklearn\\model_selection\\_validation.py:593: DataConversionWarning: A column-vector y was passed when a 1d array was expected. Please change the shape of y to (n_samples,), for example using ravel().\n",
      "  estimator.fit(X_train, y_train, **fit_params)\n",
      "C:\\ProgramData\\Anaconda3\\lib\\site-packages\\sklearn\\model_selection\\_validation.py:610: FitFailedWarning: Estimator fit failed. The score on this train-test partition for these parameters will be set to nan. Details: \n",
      "Traceback (most recent call last):\n",
      "  File \"C:\\ProgramData\\Anaconda3\\lib\\site-packages\\sklearn\\model_selection\\_validation.py\", line 593, in _fit_and_score\n",
      "    estimator.fit(X_train, y_train, **fit_params)\n",
      "  File \"C:\\ProgramData\\Anaconda3\\lib\\site-packages\\sklearn\\ensemble\\_forest.py\", line 387, in fit\n",
      "    trees = Parallel(n_jobs=self.n_jobs, verbose=self.verbose,\n",
      "  File \"C:\\ProgramData\\Anaconda3\\lib\\site-packages\\joblib\\parallel.py\", line 1044, in __call__\n",
      "    while self.dispatch_one_batch(iterator):\n",
      "  File \"C:\\ProgramData\\Anaconda3\\lib\\site-packages\\joblib\\parallel.py\", line 859, in dispatch_one_batch\n",
      "    self._dispatch(tasks)\n",
      "  File \"C:\\ProgramData\\Anaconda3\\lib\\site-packages\\joblib\\parallel.py\", line 777, in _dispatch\n",
      "    job = self._backend.apply_async(batch, callback=cb)\n",
      "  File \"C:\\ProgramData\\Anaconda3\\lib\\site-packages\\joblib\\_parallel_backends.py\", line 208, in apply_async\n",
      "    result = ImmediateResult(func)\n",
      "  File \"C:\\ProgramData\\Anaconda3\\lib\\site-packages\\joblib\\_parallel_backends.py\", line 572, in __init__\n",
      "    self.results = batch()\n",
      "  File \"C:\\ProgramData\\Anaconda3\\lib\\site-packages\\joblib\\parallel.py\", line 262, in __call__\n",
      "    return [func(*args, **kwargs)\n",
      "  File \"C:\\ProgramData\\Anaconda3\\lib\\site-packages\\joblib\\parallel.py\", line 262, in <listcomp>\n",
      "    return [func(*args, **kwargs)\n",
      "  File \"C:\\ProgramData\\Anaconda3\\lib\\site-packages\\sklearn\\utils\\fixes.py\", line 222, in __call__\n",
      "    return self.function(*args, **kwargs)\n",
      "  File \"C:\\ProgramData\\Anaconda3\\lib\\site-packages\\sklearn\\ensemble\\_forest.py\", line 169, in _parallel_build_trees\n",
      "    tree.fit(X, y, sample_weight=curr_sample_weight, check_input=False)\n",
      "  File \"C:\\ProgramData\\Anaconda3\\lib\\site-packages\\sklearn\\tree\\_classes.py\", line 898, in fit\n",
      "    super().fit(\n",
      "  File \"C:\\ProgramData\\Anaconda3\\lib\\site-packages\\sklearn\\tree\\_classes.py\", line 201, in fit\n",
      "    classes_k, y_encoded[:, k] = np.unique(y[:, k],\n",
      "  File \"<__array_function__ internals>\", line 5, in unique\n",
      "  File \"C:\\ProgramData\\Anaconda3\\lib\\site-packages\\numpy\\lib\\arraysetops.py\", line 262, in unique\n",
      "    ret = _unique1d(ar, return_index, return_inverse, return_counts)\n",
      "  File \"C:\\ProgramData\\Anaconda3\\lib\\site-packages\\numpy\\lib\\arraysetops.py\", line 333, in _unique1d\n",
      "    imask = np.cumsum(mask) - 1\n",
      "  File \"<__array_function__ internals>\", line 5, in cumsum\n",
      "  File \"C:\\ProgramData\\Anaconda3\\lib\\site-packages\\numpy\\core\\fromnumeric.py\", line 2511, in cumsum\n",
      "    return _wrapfunc(a, 'cumsum', axis=axis, dtype=dtype, out=out)\n",
      "  File \"C:\\ProgramData\\Anaconda3\\lib\\site-packages\\numpy\\core\\fromnumeric.py\", line 58, in _wrapfunc\n",
      "    return bound(*args, **kwds)\n",
      "numpy.core._exceptions._ArrayMemoryError: Unable to allocate 2.51 MiB for an array with shape (656985,) and data type int32\n",
      "\n",
      "  warnings.warn(\"Estimator fit failed. The score on this train-test\"\n"
     ]
    },
    {
     "name": "stdout",
     "output_type": "stream",
     "text": [
      "[CV 2/3] END ...............max_depth=None, n_estimators=500; total time=16.4min\n"
     ]
    },
    {
     "name": "stderr",
     "output_type": "stream",
     "text": [
      "C:\\ProgramData\\Anaconda3\\lib\\site-packages\\sklearn\\model_selection\\_validation.py:593: DataConversionWarning: A column-vector y was passed when a 1d array was expected. Please change the shape of y to (n_samples,), for example using ravel().\n",
      "  estimator.fit(X_train, y_train, **fit_params)\n",
      "C:\\ProgramData\\Anaconda3\\lib\\site-packages\\sklearn\\model_selection\\_validation.py:610: FitFailedWarning: Estimator fit failed. The score on this train-test partition for these parameters will be set to nan. Details: \n",
      "Traceback (most recent call last):\n",
      "  File \"C:\\ProgramData\\Anaconda3\\lib\\site-packages\\sklearn\\model_selection\\_validation.py\", line 593, in _fit_and_score\n",
      "    estimator.fit(X_train, y_train, **fit_params)\n",
      "  File \"C:\\ProgramData\\Anaconda3\\lib\\site-packages\\sklearn\\ensemble\\_forest.py\", line 387, in fit\n",
      "    trees = Parallel(n_jobs=self.n_jobs, verbose=self.verbose,\n",
      "  File \"C:\\ProgramData\\Anaconda3\\lib\\site-packages\\joblib\\parallel.py\", line 1044, in __call__\n",
      "    while self.dispatch_one_batch(iterator):\n",
      "  File \"C:\\ProgramData\\Anaconda3\\lib\\site-packages\\joblib\\parallel.py\", line 859, in dispatch_one_batch\n",
      "    self._dispatch(tasks)\n",
      "  File \"C:\\ProgramData\\Anaconda3\\lib\\site-packages\\joblib\\parallel.py\", line 777, in _dispatch\n",
      "    job = self._backend.apply_async(batch, callback=cb)\n",
      "  File \"C:\\ProgramData\\Anaconda3\\lib\\site-packages\\joblib\\_parallel_backends.py\", line 208, in apply_async\n",
      "    result = ImmediateResult(func)\n",
      "  File \"C:\\ProgramData\\Anaconda3\\lib\\site-packages\\joblib\\_parallel_backends.py\", line 572, in __init__\n",
      "    self.results = batch()\n",
      "  File \"C:\\ProgramData\\Anaconda3\\lib\\site-packages\\joblib\\parallel.py\", line 262, in __call__\n",
      "    return [func(*args, **kwargs)\n",
      "  File \"C:\\ProgramData\\Anaconda3\\lib\\site-packages\\joblib\\parallel.py\", line 262, in <listcomp>\n",
      "    return [func(*args, **kwargs)\n",
      "  File \"C:\\ProgramData\\Anaconda3\\lib\\site-packages\\sklearn\\utils\\fixes.py\", line 222, in __call__\n",
      "    return self.function(*args, **kwargs)\n",
      "  File \"C:\\ProgramData\\Anaconda3\\lib\\site-packages\\sklearn\\ensemble\\_forest.py\", line 169, in _parallel_build_trees\n",
      "    tree.fit(X, y, sample_weight=curr_sample_weight, check_input=False)\n",
      "  File \"C:\\ProgramData\\Anaconda3\\lib\\site-packages\\sklearn\\tree\\_classes.py\", line 898, in fit\n",
      "    super().fit(\n",
      "  File \"C:\\ProgramData\\Anaconda3\\lib\\site-packages\\sklearn\\tree\\_classes.py\", line 201, in fit\n",
      "    classes_k, y_encoded[:, k] = np.unique(y[:, k],\n",
      "  File \"<__array_function__ internals>\", line 5, in unique\n",
      "  File \"C:\\ProgramData\\Anaconda3\\lib\\site-packages\\numpy\\lib\\arraysetops.py\", line 262, in unique\n",
      "    ret = _unique1d(ar, return_index, return_inverse, return_counts)\n",
      "  File \"C:\\ProgramData\\Anaconda3\\lib\\site-packages\\numpy\\lib\\arraysetops.py\", line 334, in _unique1d\n",
      "    inv_idx = np.empty(mask.shape, dtype=np.intp)\n",
      "numpy.core._exceptions._ArrayMemoryError: Unable to allocate 5.01 MiB for an array with shape (656985,) and data type int64\n",
      "\n",
      "  warnings.warn(\"Estimator fit failed. The score on this train-test\"\n",
      "C:\\ProgramData\\Anaconda3\\lib\\site-packages\\sklearn\\model_selection\\_search.py:918: UserWarning: One or more of the test scores are non-finite: [0.91437243 0.91437243 0.91437243 0.69784153 0.72733895 0.89077876\n",
      " 0.76029257 0.89136933 0.91437243        nan]\n",
      "  warnings.warn(\n"
     ]
    },
    {
     "name": "stdout",
     "output_type": "stream",
     "text": [
      "[CV 3/3] END ...............max_depth=None, n_estimators=500; total time=17.1min\n"
     ]
    },
    {
     "name": "stderr",
     "output_type": "stream",
     "text": [
      "C:\\ProgramData\\Anaconda3\\lib\\site-packages\\sklearn\\model_selection\\_search.py:880: DataConversionWarning: A column-vector y was passed when a 1d array was expected. Please change the shape of y to (n_samples,), for example using ravel().\n",
      "  self.best_estimator_.fit(X, y, **fit_params)\n"
     ]
    }
   ],
   "source": [
    "model = RandomForestClassifier()\n",
    "\n",
    "parameters = {\n",
    "    #'bootstrap'         : [True, False],\n",
    "    'max_depth'         : [3, 5, 10, None],\n",
    "    #'criterion'         : ['gini', 'entropy'],\n",
    "    #'min_samples_leaf'  : [1, 2, 4],\n",
    "    #'max_features'      : ['auto', 'log2', None],\n",
    "    'n_estimators'      : [50, 100, 200, 500]\n",
    "}\n",
    "\n",
    "tuning_model = RandomizedSearchCV(\n",
    "    model, parameters, n_iter=10,\n",
    "    cv=3, verbose=3, random_state=42\n",
    ")\n",
    "\n",
    "start_time = timer(None)\n",
    "tuning_model.fit(X1, y1)\n",
    "timer(start_time)"
   ]
  },
  {
   "cell_type": "code",
   "execution_count": 128,
   "id": "f9ec2897",
   "metadata": {},
   "outputs": [
    {
     "name": "stderr",
     "output_type": "stream",
     "text": [
      "<ipython-input-128-8cbb45d3fe60>:12: DataConversionWarning: A column-vector y was passed when a 1d array was expected. Please change the shape of y to (n_samples,), for example using ravel().\n",
      "  rfc1 = rfc1.fit(X1_train, y1_train)\n"
     ]
    }
   ],
   "source": [
    "rfc1 = RandomForestClassifier(\n",
    "    bootstrap=True,\n",
    "    max_depth=10,\n",
    "    criterion='gini',\n",
    "    n_estimators=100,\n",
    "    min_samples_leaf=4,\n",
    "    min_samples_split=10,\n",
    "    max_features='auto',\n",
    "    random_state=42,\n",
    ")\n",
    "\n",
    "rfc1 = rfc1.fit(X1_train, y1_train)\n",
    "\n",
    "y1_train_pred = rfc1.predict(X1_train)\n",
    "y1_test_pred = rfc1.predict(X1_test)\n",
    "\n",
    "probs1_test = rfc1.predict_proba(X1_test)\n",
    "probs1_train = rfc1.predict_proba(X1_train)\n",
    "\n",
    "preds_test_rfc1 = probs1_test[:, 1]\n",
    "preds_train_rfc1 = probs1_train[:, 1]"
   ]
  },
  {
   "cell_type": "code",
   "execution_count": 129,
   "id": "d7323e5f",
   "metadata": {},
   "outputs": [
    {
     "name": "stdout",
     "output_type": "stream",
     "text": [
      "Random forest\n",
      "f1 test               0.0\n",
      "f1 train         0.000067\n",
      "AUC-ROC test     0.873042\n",
      "AUC-ROC train    0.879054\n",
      "Name: Random forest, dtype: object\n"
     ]
    },
    {
     "data": {
      "image/png": "[encoded data removed]",
      "text/plain": [
       "<Figure size 576x360 with 1 Axes>"
      ]
     },
     "metadata": {
      "needs_background": "light"
     },
     "output_type": "display_data"
    }
   ],
   "source": [
    "print('Random forest')\n",
    "\n",
    "results.loc[('Target2', 'f1 test'), 'Random forest'] = f1_score(y1_test, y1_test_pred)\n",
    "results.loc[('Target2', 'f1 train'), 'Random forest'] = f1_score(y1_train, y1_train_pred)\n",
    "results.loc[('Target2', 'AUC-ROC test'), 'Random forest'] = roc_auc_score(y1_test, preds_test_rfc1)\n",
    "results.loc[('Target2', 'AUC-ROC train'), 'Random forest'] = roc_auc_score(y1_train, preds_train_rfc1)\n",
    "\n",
    "print(results.loc['Target2', 'Random forest'])\n",
    "\n",
    "fpr1, tpr1, _ = roc_curve(y1_test, preds_test_rfc1, drop_intermediate=False)\n",
    "\n",
    "plt.figure(figsize=(8, 5))\n",
    "plt.clf()\n",
    "plt.plot(fpr1, tpr1)\n",
    "plt.xlabel('FPR')\n",
    "plt.ylabel('TPR')\n",
    "plt.title('ROC curve Target2 random forest')\n",
    "plt.show()"
   ]
  },
  {
   "cell_type": "markdown",
   "id": "ada82b68",
   "metadata": {},
   "source": [
    "# Лог. регрессия"
   ]
  },
  {
   "cell_type": "code",
   "execution_count": 130,
   "id": "ce7b5e7a",
   "metadata": {},
   "outputs": [
    {
     "name": "stderr",
     "output_type": "stream",
     "text": [
      "C:\\ProgramData\\Anaconda3\\lib\\site-packages\\sklearn\\utils\\validation.py:63: DataConversionWarning: A column-vector y was passed when a 1d array was expected. Please change the shape of y to (n_samples, ), for example using ravel().\n",
      "  return f(*args, **kwargs)\n"
     ]
    }
   ],
   "source": [
    "pipeline = Pipeline([\n",
    "    ('scaler', StandardScaler()),\n",
    "    ('model', LogisticRegression()),\n",
    "])\n",
    "\n",
    "lr1 = pipeline.fit(X1_train, y1_train)\n",
    "\n",
    "y1_train_pred = lr1.predict(X1_train)\n",
    "y1_test_pred = lr1.predict(X1_test)\n",
    "\n",
    "probs1_test = lr1.predict_proba(X1_test)\n",
    "probs1_train = lr1.predict_proba(X1_train)\n",
    "\n",
    "preds_test_lr1 = probs1_test[:, 1]\n",
    "preds_train_lr1 = probs1_train[:, 1]"
   ]
  },
  {
   "cell_type": "code",
   "execution_count": 131,
   "id": "1201f944",
   "metadata": {},
   "outputs": [
    {
     "name": "stdout",
     "output_type": "stream",
     "text": [
      "Logistic regression\n",
      "f1 test          0.005767\n",
      "f1 train         0.006167\n",
      "AUC-ROC test     0.755483\n",
      "AUC-ROC train    0.754065\n",
      "Name: Logistic regression, dtype: object\n"
     ]
    },
    {
     "data": {
      "image/png": "[encoded data removed]",
      "text/plain": [
       "<Figure size 576x360 with 1 Axes>"
      ]
     },
     "metadata": {
      "needs_background": "light"
     },
     "output_type": "display_data"
    }
   ],
   "source": [
    "print('Logistic regression')\n",
    "\n",
    "results.loc[('Target2', 'f1 test'), 'Logistic regression'] = f1_score(y1_test, y1_test_pred)\n",
    "results.loc[('Target2', 'f1 train'), 'Logistic regression'] = f1_score(y1_train, y1_train_pred)\n",
    "results.loc[('Target2', 'AUC-ROC test'), 'Logistic regression'] = roc_auc_score(y1_test, preds_test_lr1)\n",
    "results.loc[('Target2', 'AUC-ROC train'), 'Logistic regression'] = roc_auc_score(y1_train, preds_train_lr1)\n",
    "\n",
    "print(results.loc['Target2', 'Logistic regression'])\n",
    "\n",
    "fpr1, tpr1, _ = roc_curve(y1_test, preds_test_lr1, drop_intermediate=False)\n",
    "\n",
    "plt.figure(figsize=(8, 5))\n",
    "plt.clf()\n",
    "plt.plot(fpr1, tpr1)\n",
    "plt.xlabel('FPR')\n",
    "plt.ylabel('TPR')\n",
    "plt.title('ROC curve Target2 logistic regression')\n",
    "plt.show()"
   ]
  },
  {
   "cell_type": "markdown",
   "id": "6627173c",
   "metadata": {},
   "source": [
    "# XGbust"
   ]
  },
  {
   "cell_type": "code",
   "execution_count": 132,
   "id": "63b42444",
   "metadata": {},
   "outputs": [
    {
     "name": "stderr",
     "output_type": "stream",
     "text": [
      "C:\\ProgramData\\Anaconda3\\lib\\site-packages\\xgboost\\sklearn.py:793: UserWarning: `eval_metric` in `fit` method is deprecated for better compatibility with scikit-learn, use `eval_metric` in constructor or`set_params` instead.\n",
      "  warnings.warn(\n",
      "C:\\ProgramData\\Anaconda3\\lib\\site-packages\\xgboost\\sklearn.py:793: UserWarning: `early_stopping_rounds` in `fit` method is deprecated for better compatibility with scikit-learn, use `early_stopping_rounds` in constructor or`set_params` instead.\n",
      "  warnings.warn(\n"
     ]
    },
    {
     "name": "stdout",
     "output_type": "stream",
     "text": [
      "[0]\tvalidation_0-auc:0.84303\n",
      "[1]\tvalidation_0-auc:0.84587\n",
      "[2]\tvalidation_0-auc:0.84663\n",
      "[3]\tvalidation_0-auc:0.84611\n",
      "[4]\tvalidation_0-auc:0.85198\n",
      "[5]\tvalidation_0-auc:0.84906\n",
      "[6]\tvalidation_0-auc:0.85067\n",
      "[7]\tvalidation_0-auc:0.84993\n",
      "[8]\tvalidation_0-auc:0.85294\n",
      "[9]\tvalidation_0-auc:0.85238\n",
      "[10]\tvalidation_0-auc:0.85544\n",
      "[11]\tvalidation_0-auc:0.85565\n",
      "[12]\tvalidation_0-auc:0.85644\n",
      "[13]\tvalidation_0-auc:0.87401\n",
      "[14]\tvalidation_0-auc:0.88259\n",
      "[15]\tvalidation_0-auc:0.88184\n",
      "[16]\tvalidation_0-auc:0.88865\n",
      "[17]\tvalidation_0-auc:0.88967\n",
      "[18]\tvalidation_0-auc:0.89421\n",
      "[19]\tvalidation_0-auc:0.89748\n",
      "[20]\tvalidation_0-auc:0.89916\n",
      "[21]\tvalidation_0-auc:0.90256\n",
      "[22]\tvalidation_0-auc:0.90649\n",
      "[23]\tvalidation_0-auc:0.90739\n",
      "[24]\tvalidation_0-auc:0.90889\n",
      "[25]\tvalidation_0-auc:0.91005\n",
      "[26]\tvalidation_0-auc:0.91243\n",
      "[27]\tvalidation_0-auc:0.91434\n",
      "[28]\tvalidation_0-auc:0.91621\n",
      "[29]\tvalidation_0-auc:0.91623\n",
      "[30]\tvalidation_0-auc:0.91619\n",
      "[31]\tvalidation_0-auc:0.91703\n",
      "[32]\tvalidation_0-auc:0.91827\n",
      "[33]\tvalidation_0-auc:0.91896\n",
      "[34]\tvalidation_0-auc:0.92118\n",
      "[35]\tvalidation_0-auc:0.92193\n",
      "[36]\tvalidation_0-auc:0.92253\n",
      "[37]\tvalidation_0-auc:0.92537\n",
      "[38]\tvalidation_0-auc:0.92635\n",
      "[39]\tvalidation_0-auc:0.92784\n",
      "[40]\tvalidation_0-auc:0.92828\n",
      "[41]\tvalidation_0-auc:0.92936\n",
      "[42]\tvalidation_0-auc:0.92941\n",
      "[43]\tvalidation_0-auc:0.93089\n",
      "[44]\tvalidation_0-auc:0.93182\n",
      "[45]\tvalidation_0-auc:0.93323\n",
      "[46]\tvalidation_0-auc:0.93563\n",
      "[47]\tvalidation_0-auc:0.93714\n",
      "[48]\tvalidation_0-auc:0.93764\n",
      "[49]\tvalidation_0-auc:0.93848\n",
      "[50]\tvalidation_0-auc:0.94118\n",
      "[51]\tvalidation_0-auc:0.94082\n",
      "[52]\tvalidation_0-auc:0.94227\n",
      "[53]\tvalidation_0-auc:0.94510\n",
      "[54]\tvalidation_0-auc:0.94457\n",
      "[55]\tvalidation_0-auc:0.94537\n",
      "[56]\tvalidation_0-auc:0.94688\n",
      "[57]\tvalidation_0-auc:0.94751\n",
      "[58]\tvalidation_0-auc:0.94809\n",
      "[59]\tvalidation_0-auc:0.94863\n",
      "[60]\tvalidation_0-auc:0.94969\n",
      "[61]\tvalidation_0-auc:0.94958\n",
      "[62]\tvalidation_0-auc:0.94997\n",
      "[63]\tvalidation_0-auc:0.95020\n",
      "[64]\tvalidation_0-auc:0.95085\n",
      "[65]\tvalidation_0-auc:0.95139\n",
      "[66]\tvalidation_0-auc:0.95165\n",
      "[67]\tvalidation_0-auc:0.95272\n",
      "[68]\tvalidation_0-auc:0.95287\n",
      "[69]\tvalidation_0-auc:0.95325\n",
      "[70]\tvalidation_0-auc:0.95402\n",
      "[71]\tvalidation_0-auc:0.95444\n",
      "[72]\tvalidation_0-auc:0.95420\n",
      "[73]\tvalidation_0-auc:0.95534\n",
      "[74]\tvalidation_0-auc:0.95544\n",
      "[75]\tvalidation_0-auc:0.95727\n",
      "[76]\tvalidation_0-auc:0.95824\n",
      "[77]\tvalidation_0-auc:0.95880\n",
      "[78]\tvalidation_0-auc:0.95938\n",
      "[79]\tvalidation_0-auc:0.95919\n",
      "[80]\tvalidation_0-auc:0.96021\n",
      "[81]\tvalidation_0-auc:0.96063\n",
      "[82]\tvalidation_0-auc:0.96071\n",
      "[83]\tvalidation_0-auc:0.96130\n",
      "[84]\tvalidation_0-auc:0.96165\n",
      "[85]\tvalidation_0-auc:0.96300\n",
      "[86]\tvalidation_0-auc:0.96325\n",
      "[87]\tvalidation_0-auc:0.96301\n",
      "[88]\tvalidation_0-auc:0.96345\n",
      "[89]\tvalidation_0-auc:0.96382\n",
      "[90]\tvalidation_0-auc:0.96418\n",
      "[91]\tvalidation_0-auc:0.96460\n",
      "[92]\tvalidation_0-auc:0.96455\n",
      "[93]\tvalidation_0-auc:0.96484\n",
      "[94]\tvalidation_0-auc:0.96509\n",
      "[95]\tvalidation_0-auc:0.96558\n",
      "[96]\tvalidation_0-auc:0.96571\n",
      "[97]\tvalidation_0-auc:0.96577\n",
      "[98]\tvalidation_0-auc:0.96623\n",
      "[99]\tvalidation_0-auc:0.96624\n"
     ]
    }
   ],
   "source": [
    "xgbc1 = xgboost.XGBClassifier(\n",
    "    use_label_encoder=False,\n",
    "    n_estimators=100,\n",
    "    objective='binary:logistic',\n",
    "    max_depth=3,\n",
    "    eta=0.1,\n",
    ")\n",
    "\n",
    "xgbc1.fit(\n",
    "    X1_train, y1_train,\n",
    "    early_stopping_rounds=10,\n",
    "    eval_metric='auc',\n",
    "    eval_set=[(X1_test, y1_test)],\n",
    "    verbose=True,\n",
    ")\n",
    "\n",
    "y1_train_pred = xgbc1.predict(X1_train)\n",
    "y1_test_pred = xgbc1.predict(X1_test)\n",
    "\n",
    "probs1_test = xgbc1.predict_proba(X1_test)\n",
    "probs1_train = xgbc1.predict_proba(X1_train)\n",
    "\n",
    "preds_test_xgbc1 = probs1_test[:, 1]\n",
    "preds_train_xgbc1 = probs1_train[:, 1]"
   ]
  },
  {
   "cell_type": "code",
   "execution_count": 133,
   "id": "0f7ae518",
   "metadata": {},
   "outputs": [
    {
     "name": "stdout",
     "output_type": "stream",
     "text": [
      "XGBoost\n",
      "f1 test          0.744886\n",
      "f1 train         0.746809\n",
      "AUC-ROC test     0.966241\n",
      "AUC-ROC train    0.966604\n",
      "Name: XGBoost, dtype: object\n"
     ]
    },
    {
     "data": {
      "image/png": "[encoded data removed]",
      "text/plain": [
       "<Figure size 576x360 with 1 Axes>"
      ]
     },
     "metadata": {
      "needs_background": "light"
     },
     "output_type": "display_data"
    }
   ],
   "source": [
    "print('XGBoost')\n",
    "\n",
    "results.loc[('Target2', 'f1 test'), 'XGBoost'] = f1_score(y1_test, y1_test_pred)\n",
    "results.loc[('Target2', 'f1 train'), 'XGBoost'] = f1_score(y1_train, y1_train_pred)\n",
    "results.loc[('Target2', 'AUC-ROC test'), 'XGBoost'] = roc_auc_score(y1_test, preds_test_xgbc1)\n",
    "results.loc[('Target2', 'AUC-ROC train'), 'XGBoost'] = roc_auc_score(y1_train, preds_train_xgbc1)\n",
    "\n",
    "print(results.loc['Target2', 'XGBoost'])\n",
    "\n",
    "fpr1, tpr1, _ = roc_curve(y1_test, preds_test_xgbc1, drop_intermediate=False)\n",
    "\n",
    "plt.figure(figsize=(8, 5))\n",
    "plt.clf()\n",
    "plt.plot(fpr1, tpr1)\n",
    "plt.xlabel('FPR')\n",
    "plt.ylabel('TPR')\n",
    "plt.title('ROC curve Target2 XGBoost')\n",
    "plt.show()"
   ]
  },
  {
   "cell_type": "code",
   "execution_count": 134,
   "id": "84946b32",
   "metadata": {},
   "outputs": [
    {
     "data": {
      "text/html": [
       "<div>\n",
       "<style scoped>\n",
       "    .dataframe tbody tr th:only-of-type {\n",
       "        vertical-align: middle;\n",
       "    }\n",
       "\n",
       "    .dataframe tbody tr th {\n",
       "        vertical-align: top;\n",
       "    }\n",
       "\n",
       "    .dataframe thead th {\n",
       "        text-align: right;\n",
       "    }\n",
       "</style>\n",
       "<table border=\"1\" class=\"dataframe\">\n",
       "  <thead>\n",
       "    <tr style=\"text-align: right;\">\n",
       "      <th></th>\n",
       "      <th></th>\n",
       "      <th>Decision tree</th>\n",
       "      <th>Random forest</th>\n",
       "      <th>Logistic regression</th>\n",
       "      <th>XGBoost</th>\n",
       "    </tr>\n",
       "  </thead>\n",
       "  <tbody>\n",
       "    <tr>\n",
       "      <th rowspan=\"4\" valign=\"top\">Target1</th>\n",
       "      <th>f1 test</th>\n",
       "      <td>0.764572</td>\n",
       "      <td>0.714025</td>\n",
       "      <td>0.548718</td>\n",
       "      <td>0.773504</td>\n",
       "    </tr>\n",
       "    <tr>\n",
       "      <th>f1 train</th>\n",
       "      <td>0.763685</td>\n",
       "      <td>0.712395</td>\n",
       "      <td>0.544586</td>\n",
       "      <td>0.77284</td>\n",
       "    </tr>\n",
       "    <tr>\n",
       "      <th>AUC-ROC test</th>\n",
       "      <td>0.924629</td>\n",
       "      <td>0.924185</td>\n",
       "      <td>0.829914</td>\n",
       "      <td>0.931258</td>\n",
       "    </tr>\n",
       "    <tr>\n",
       "      <th>AUC-ROC train</th>\n",
       "      <td>0.924593</td>\n",
       "      <td>0.925471</td>\n",
       "      <td>0.827963</td>\n",
       "      <td>0.931107</td>\n",
       "    </tr>\n",
       "    <tr>\n",
       "      <th rowspan=\"4\" valign=\"top\">Target2</th>\n",
       "      <th>f1 test</th>\n",
       "      <td>0.441479</td>\n",
       "      <td>0.0</td>\n",
       "      <td>0.005767</td>\n",
       "      <td>0.744886</td>\n",
       "    </tr>\n",
       "    <tr>\n",
       "      <th>f1 train</th>\n",
       "      <td>0.439915</td>\n",
       "      <td>0.000067</td>\n",
       "      <td>0.006167</td>\n",
       "      <td>0.746809</td>\n",
       "    </tr>\n",
       "    <tr>\n",
       "      <th>AUC-ROC test</th>\n",
       "      <td>0.92256</td>\n",
       "      <td>0.873042</td>\n",
       "      <td>0.755483</td>\n",
       "      <td>0.966241</td>\n",
       "    </tr>\n",
       "    <tr>\n",
       "      <th>AUC-ROC train</th>\n",
       "      <td>0.922415</td>\n",
       "      <td>0.879054</td>\n",
       "      <td>0.754065</td>\n",
       "      <td>0.966604</td>\n",
       "    </tr>\n",
       "  </tbody>\n",
       "</table>\n",
       "</div>"
      ],
      "text/plain": [
       "                      Decision tree Random forest Logistic regression  \\\n",
       "Target1 f1 test            0.764572      0.714025            0.548718   \n",
       "        f1 train           0.763685      0.712395            0.544586   \n",
       "        AUC-ROC test       0.924629      0.924185            0.829914   \n",
       "        AUC-ROC train      0.924593      0.925471            0.827963   \n",
       "Target2 f1 test            0.441479           0.0            0.005767   \n",
       "        f1 train           0.439915      0.000067            0.006167   \n",
       "        AUC-ROC test        0.92256      0.873042            0.755483   \n",
       "        AUC-ROC train      0.922415      0.879054            0.754065   \n",
       "\n",
       "                        XGBoost  \n",
       "Target1 f1 test        0.773504  \n",
       "        f1 train        0.77284  \n",
       "        AUC-ROC test   0.931258  \n",
       "        AUC-ROC train  0.931107  \n",
       "Target2 f1 test        0.744886  \n",
       "        f1 train       0.746809  \n",
       "        AUC-ROC test   0.966241  \n",
       "        AUC-ROC train  0.966604  "
      ]
     },
     "execution_count": 134,
     "metadata": {},
     "output_type": "execute_result"
    }
   ],
   "source": [
    "results"
   ]
  },
  {
   "cell_type": "code",
   "execution_count": null,
   "id": "977ed1a6",
   "metadata": {},
   "outputs": [],
   "source": []
  },
  {
   "cell_type": "code",
   "execution_count": null,
   "id": "90a7e217",
   "metadata": {},
   "outputs": [],
   "source": []
  }
 ],
 "metadata": {
  "kernelspec": {
   "display_name": "Python 3",
   "language": "python",
   "name": "python3"
  },
  "language_info": {
   "codemirror_mode": {
    "name": "ipython",
    "version": 3
   },
   "file_extension": ".py",
   "mimetype": "text/x-python",
   "name": "python",
   "nbconvert_exporter": "python",
   "pygments_lexer": "ipython3",
   "version": "3.8.8"
  }
 },
 "nbformat": 4,
 "nbformat_minor": 5
}
